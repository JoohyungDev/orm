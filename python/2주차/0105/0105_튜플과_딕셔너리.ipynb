{
  "nbformat": 4,
  "nbformat_minor": 0,
  "metadata": {
    "colab": {
      "provenance": []
    },
    "kernelspec": {
      "name": "python3",
      "display_name": "Python 3"
    },
    "language_info": {
      "name": "python"
    }
  },
  "cells": [
    {
      "cell_type": "markdown",
      "source": [
        "# 튜플\n",
        "* 순서가 있는 자료형입니다.(인덱싱, 슬라이싱)\n",
        "* 참조 변경 불가입니다.(값이 변경이 불가하다는 틀린 얘기)"
      ],
      "metadata": {
        "id": "iwvwFCBtATqT"
      }
    },
    {
      "cell_type": "code",
      "source": [
        "t = (10, 20, 30)"
      ],
      "metadata": {
        "id": "UEofApfWAi20"
      },
      "execution_count": null,
      "outputs": []
    },
    {
      "cell_type": "code",
      "source": [
        "t[0]"
      ],
      "metadata": {
        "colab": {
          "base_uri": "https://localhost:8080/"
        },
        "id": "uGZIBvXDDAv7",
        "outputId": "18b488d6-0c78-4830-cd7d-dc65258a9677"
      },
      "execution_count": null,
      "outputs": [
        {
          "output_type": "execute_result",
          "data": {
            "text/plain": [
              "10"
            ]
          },
          "metadata": {},
          "execution_count": 2
        }
      ]
    },
    {
      "cell_type": "code",
      "source": [
        "t[1:]"
      ],
      "metadata": {
        "colab": {
          "base_uri": "https://localhost:8080/"
        },
        "id": "C_PXzFVRDBte",
        "outputId": "550f8fc2-0a10-46e2-ec37-4f0674fcb886"
      },
      "execution_count": null,
      "outputs": [
        {
          "output_type": "execute_result",
          "data": {
            "text/plain": [
              "(20, 30)"
            ]
          },
          "metadata": {},
          "execution_count": 3
        }
      ]
    },
    {
      "cell_type": "code",
      "source": [
        "t[0] = 1000 # error"
      ],
      "metadata": {
        "id": "fmb8lK4jDDBr"
      },
      "execution_count": null,
      "outputs": []
    },
    {
      "cell_type": "code",
      "source": [
        "# 왜 이런 자료형이 필요할까요?\n",
        "# 권한과 변경불가(시큐어 코딩), 형태 고정인 자료형\n",
        "\n",
        "# 2번째 변경이 불가능한데 '값이 변경이 불가하다는 틀린 얘기' 라고 얘기했나요?\n",
        "a = [10, 20, 30]\n",
        "b = (a, 100, 200)\n",
        "b"
      ],
      "metadata": {
        "colab": {
          "base_uri": "https://localhost:8080/"
        },
        "id": "WPqAsvFjDERL",
        "outputId": "86cd64b2-f33c-4385-b568-c3c0f19804c5"
      },
      "execution_count": null,
      "outputs": [
        {
          "output_type": "execute_result",
          "data": {
            "text/plain": [
              "([10, 20, 30], 100, 200)"
            ]
          },
          "metadata": {},
          "execution_count": 6
        }
      ]
    },
    {
      "cell_type": "code",
      "source": [
        "a[0] = 1000\n",
        "b"
      ],
      "metadata": {
        "colab": {
          "base_uri": "https://localhost:8080/"
        },
        "id": "DKPnchipDSnL",
        "outputId": "f4e354d3-16ea-49ea-b714-892ce1c0fa42"
      },
      "execution_count": null,
      "outputs": [
        {
          "output_type": "execute_result",
          "data": {
            "text/plain": [
              "([1000, 20, 30], 100, 200)"
            ]
          },
          "metadata": {},
          "execution_count": 7
        }
      ]
    },
    {
      "cell_type": "code",
      "source": [
        "t = (10, 20, 30)\n",
        "dir(t)"
      ],
      "metadata": {
        "id": "CeQqIVYwFunM"
      },
      "execution_count": null,
      "outputs": []
    },
    {
      "cell_type": "code",
      "source": [
        "t.count(10) # 10의 갯수를 반환\n",
        "t.index(10) # 10의 위치를 반환"
      ],
      "metadata": {
        "colab": {
          "base_uri": "https://localhost:8080/"
        },
        "id": "iKbyByT0FyGB",
        "outputId": "70e09271-6967-4901-8e9f-75af45dae959"
      },
      "execution_count": null,
      "outputs": [
        {
          "output_type": "execute_result",
          "data": {
            "text/plain": [
              "0"
            ]
          },
          "metadata": {},
          "execution_count": 10
        }
      ]
    },
    {
      "cell_type": "code",
      "source": [
        "tuple([10, 20, 30])"
      ],
      "metadata": {
        "colab": {
          "base_uri": "https://localhost:8080/"
        },
        "id": "PkXU7H6mGHOH",
        "outputId": "40a20342-b622-48f9-e057-a9bf9a2e21bf"
      },
      "execution_count": null,
      "outputs": [
        {
          "output_type": "execute_result",
          "data": {
            "text/plain": [
              "(10, 20, 30)"
            ]
          },
          "metadata": {},
          "execution_count": 11
        }
      ]
    },
    {
      "cell_type": "code",
      "source": [
        "# tuple(순회 가능한 객체)\n",
        "# list(순회 가능한 객체)\n",
        "\n",
        "tuple('hello world')"
      ],
      "metadata": {
        "colab": {
          "base_uri": "https://localhost:8080/"
        },
        "id": "umuz2Uw1GJ5u",
        "outputId": "62d55b3c-e0ba-4750-f80e-2b9a53795e3e"
      },
      "execution_count": null,
      "outputs": [
        {
          "output_type": "execute_result",
          "data": {
            "text/plain": [
              "('h', 'e', 'l', 'l', 'o', ' ', 'w', 'o', 'r', 'l', 'd')"
            ]
          },
          "metadata": {},
          "execution_count": 12
        }
      ]
    },
    {
      "cell_type": "markdown",
      "source": [
        "# 딕셔너리\n",
        "\n",
        "* 3.6 버전 이상은 순서가 보장됩니다.\n",
        "* 실무에서 사용하는 Python 버전은 생각보다 낮다. 이점 주의\n",
        "* 'key': value 쌍으로 이루어져 있다.\n",
        "* 딕셔너리 데이터 검색은 매우 빠르다.\n",
        "* 딕셔너리 사용은 주의를 요함. 딕셔너리는 key가 없는 것을 호출하면 error"
      ],
      "metadata": {
        "id": "ixVJbmd8F-qM"
      }
    },
    {
      "cell_type": "code",
      "source": [
        "d = {'one': '하나', 'two': '둘'}\n",
        "d['one']"
      ],
      "metadata": {
        "colab": {
          "base_uri": "https://localhost:8080/",
          "height": 35
        },
        "id": "X37C2s3ZGAxy",
        "outputId": "0b77ca77-da36-4024-f1b2-7534a58d1deb"
      },
      "execution_count": null,
      "outputs": [
        {
          "output_type": "execute_result",
          "data": {
            "text/plain": [
              "'하나'"
            ],
            "application/vnd.google.colaboratory.intrinsic+json": {
              "type": "string"
            }
          },
          "metadata": {},
          "execution_count": 13
        }
      ]
    },
    {
      "cell_type": "code",
      "source": [
        "d['three']  # error"
      ],
      "metadata": {
        "id": "BfcOxWNFIIF7"
      },
      "execution_count": null,
      "outputs": []
    },
    {
      "cell_type": "code",
      "source": [
        "d.get('three') # get 메서드를 사용하길 권합니다."
      ],
      "metadata": {
        "id": "iJUfLXGpIXFR"
      },
      "execution_count": null,
      "outputs": []
    },
    {
      "cell_type": "code",
      "source": [
        "d.get('three', '없는 값입니다!') # get 메서드를 사용하길 권합니다."
      ],
      "metadata": {
        "colab": {
          "base_uri": "https://localhost:8080/",
          "height": 35
        },
        "id": "ayavTPrBIfbi",
        "outputId": "60513d7a-1269-4ab7-c9ac-145f660622be"
      },
      "execution_count": null,
      "outputs": [
        {
          "output_type": "execute_result",
          "data": {
            "text/plain": [
              "'없는 값입니다!'"
            ],
            "application/vnd.google.colaboratory.intrinsic+json": {
              "type": "string"
            }
          },
          "metadata": {},
          "execution_count": 16
        }
      ]
    },
    {
      "cell_type": "code",
      "source": [
        "def f(x):\n",
        "    return {\n",
        "            0: '일요일',\n",
        "            1: '월요일',\n",
        "            2: '화요일',\n",
        "            3: '수요일',\n",
        "            4: '목요일',\n",
        "            5: '금요일',\n",
        "            6: '토요일',\n",
        "        }.get(x, '요일없음')\n",
        "\n",
        "f(3)"
      ],
      "metadata": {
        "id": "YfSN8eBkJnS4"
      },
      "execution_count": null,
      "outputs": []
    },
    {
      "cell_type": "code",
      "source": [
        "# match 문법이 나오기 전까지 많이 사용했고, 지금도 많이 사용하는 문법\n",
        "# match 문법은 이런 문법이 있는지 모르시는 분들도 많다.\n",
        "\n",
        "x = 3\n",
        "\n",
        "y = {\n",
        "    0: '일요일',\n",
        "    1: '월요일',\n",
        "    2: '화요일',\n",
        "    3: '수요일',\n",
        "    4: '목요일',\n",
        "    5: '금요일',\n",
        "    6: '토요일',\n",
        "}\n",
        "\n",
        "y.get(x, '요일없음')"
      ],
      "metadata": {
        "id": "blSJ0oeUIkDS"
      },
      "execution_count": null,
      "outputs": []
    },
    {
      "cell_type": "code",
      "source": [
        "type(d)\n",
        "dir(d)"
      ],
      "metadata": {
        "id": "QvJIGOFbJZZC"
      },
      "execution_count": null,
      "outputs": []
    },
    {
      "cell_type": "code",
      "source": [
        "# 실제로 이와 같은 key: value의 쌍을 게시물 저장하는 형태 등으로 사용\n",
        "\n",
        "게시물1 = {\n",
        "    'title': '파이썬이 이렇게 어려울 줄이야!!?',\n",
        "    'contents': '파이썬을 깊게 알아갈 수록 너무 재미있네요',\n",
        "    'image': '/hojun/2024/1/5/python.jpg',\n",
        "}"
      ],
      "metadata": {
        "id": "bsLaWuq9J8lx"
      },
      "execution_count": null,
      "outputs": []
    },
    {
      "cell_type": "code",
      "source": [
        "d = {'one': '하나', 'two': '둘'}\n",
        "dd = d\n",
        "\n",
        "id(dd), id(d)\n",
        "dd is d\n",
        "d['one'] = 'python'\n",
        "d['two'] = 'html'\n",
        "\n",
        "dd"
      ],
      "metadata": {
        "colab": {
          "base_uri": "https://localhost:8080/"
        },
        "id": "Nsoz0Y1rK9Zc",
        "outputId": "46643bb6-c3db-4809-c335-8a85ac1455d6"
      },
      "execution_count": null,
      "outputs": [
        {
          "output_type": "execute_result",
          "data": {
            "text/plain": [
              "{'one': 'python', 'two': 'html'}"
            ]
          },
          "metadata": {},
          "execution_count": 20
        }
      ]
    },
    {
      "cell_type": "code",
      "source": [
        "d = {'one': '하나', 'two': '둘'}\n",
        "dd = d.copy()\n",
        "\n",
        "id(dd), id(d)\n",
        "dd is d\n",
        "d['one'] = 'python'\n",
        "d['two'] = 'html'\n",
        "\n",
        "dd"
      ],
      "metadata": {
        "colab": {
          "base_uri": "https://localhost:8080/"
        },
        "id": "r_B68N4pNswp",
        "outputId": "f84d0736-515e-4cbd-b406-0e6ade86eda7"
      },
      "execution_count": null,
      "outputs": [
        {
          "output_type": "execute_result",
          "data": {
            "text/plain": [
              "{'one': '하나', 'two': '둘'}"
            ]
          },
          "metadata": {},
          "execution_count": 21
        }
      ]
    },
    {
      "cell_type": "code",
      "source": [
        "# 자주 사용하지 않음\n",
        "d = ('one', 'two', 'three')\n",
        "dict.fromkeys(d)\n",
        "dict.fromkeys(d, 'hello world')"
      ],
      "metadata": {
        "colab": {
          "base_uri": "https://localhost:8080/"
        },
        "id": "8DvUlS1bOBFI",
        "outputId": "780bbfa7-e092-4c09-f435-ca3543d71774"
      },
      "execution_count": null,
      "outputs": [
        {
          "output_type": "execute_result",
          "data": {
            "text/plain": [
              "{'one': 'hello world', 'two': 'hello world', 'three': 'hello world'}"
            ]
          },
          "metadata": {},
          "execution_count": 23
        }
      ]
    },
    {
      "cell_type": "code",
      "source": [
        "# 매우 자주 사용\n",
        "d = {'one': '하나', 'two': '둘'}\n",
        "d.get('one')\n",
        "d.get('three', '값 없음!')"
      ],
      "metadata": {
        "colab": {
          "base_uri": "https://localhost:8080/",
          "height": 35
        },
        "id": "-sCdDvDzOLdT",
        "outputId": "fcbb1012-4e1b-4753-fe89-e1a52be4c76b"
      },
      "execution_count": null,
      "outputs": [
        {
          "output_type": "execute_result",
          "data": {
            "text/plain": [
              "'값 없음!'"
            ],
            "application/vnd.google.colaboratory.intrinsic+json": {
              "type": "string"
            }
          },
          "metadata": {},
          "execution_count": 75
        }
      ]
    },
    {
      "cell_type": "code",
      "source": [
        "d = {'one': '하나', 'two': '둘'}\n",
        "d.items()"
      ],
      "metadata": {
        "colab": {
          "base_uri": "https://localhost:8080/"
        },
        "id": "aB3cwk7GOknQ",
        "outputId": "e502c01b-7d51-4987-d813-adfe16f0582a"
      },
      "execution_count": null,
      "outputs": [
        {
          "output_type": "execute_result",
          "data": {
            "text/plain": [
              "dict_items([('one', '하나'), ('two', '둘')])"
            ]
          },
          "metadata": {},
          "execution_count": 26
        }
      ]
    },
    {
      "cell_type": "code",
      "source": [
        "d = {'one': '하나', 'two': '둘'}\n",
        "type(d.items())"
      ],
      "metadata": {
        "colab": {
          "base_uri": "https://localhost:8080/"
        },
        "id": "A4h65NiIOrBI",
        "outputId": "8facb391-4d94-4a83-c6e7-51dd9b288090"
      },
      "execution_count": null,
      "outputs": [
        {
          "output_type": "execute_result",
          "data": {
            "text/plain": [
              "dict_items"
            ]
          },
          "metadata": {},
          "execution_count": 33
        }
      ]
    },
    {
      "cell_type": "code",
      "source": [
        "d = {'one': '하나', 'two': '둘'}\n",
        "d.items()[0]    # error\n",
        "d.items()[1:]   # error"
      ],
      "metadata": {
        "id": "hjPJJkvnO7V4"
      },
      "execution_count": null,
      "outputs": []
    },
    {
      "cell_type": "code",
      "source": [
        "a, b = d.items()    # 언패킹\n",
        "a\n",
        "b"
      ],
      "metadata": {
        "colab": {
          "base_uri": "https://localhost:8080/"
        },
        "id": "bIL5GDuVO-Dg",
        "outputId": "d06f9ac1-c588-49db-cf34-cbea3c786969"
      },
      "execution_count": null,
      "outputs": [
        {
          "output_type": "execute_result",
          "data": {
            "text/plain": [
              "('two', '둘')"
            ]
          },
          "metadata": {},
          "execution_count": 34
        }
      ]
    },
    {
      "cell_type": "code",
      "source": [
        "a, b = [10, 20]\n",
        "a"
      ],
      "metadata": {
        "colab": {
          "base_uri": "https://localhost:8080/"
        },
        "id": "9OMeCOGCPXxo",
        "outputId": "5dc93111-f2ac-4eb4-ec77-51c122decb72"
      },
      "execution_count": null,
      "outputs": [
        {
          "output_type": "execute_result",
          "data": {
            "text/plain": [
              "10"
            ]
          },
          "metadata": {},
          "execution_count": 35
        }
      ]
    },
    {
      "cell_type": "code",
      "source": [
        "for i, j in d.items():\n",
        "    print(i, j)"
      ],
      "metadata": {
        "colab": {
          "base_uri": "https://localhost:8080/"
        },
        "id": "uuxLpt47PfSJ",
        "outputId": "2efabf41-01d8-43b0-856d-c872ce2f652f"
      },
      "execution_count": null,
      "outputs": [
        {
          "output_type": "stream",
          "name": "stdout",
          "text": [
            "one 하나\n",
            "two 둘\n"
          ]
        }
      ]
    },
    {
      "cell_type": "code",
      "source": [
        "d.keys()\n",
        "d.values()"
      ],
      "metadata": {
        "colab": {
          "base_uri": "https://localhost:8080/"
        },
        "id": "AqfnB5nmPnGg",
        "outputId": "cc8c84f2-229e-48d5-c1d1-27b610b5a578"
      },
      "execution_count": null,
      "outputs": [
        {
          "output_type": "execute_result",
          "data": {
            "text/plain": [
              "dict_values(['하나', '둘'])"
            ]
          },
          "metadata": {},
          "execution_count": 39
        }
      ]
    },
    {
      "cell_type": "code",
      "source": [
        "d = {'one': '하나', 'two': '둘'}\n",
        "d.setdefault('one')\n",
        "d.setdefault('three')\n",
        "d.setdefault('four', 4)    # 있으면 그 값을 출력하고, 없으면 그 값을 d에 삽입하고 4를 출력해줘!"
      ],
      "metadata": {
        "colab": {
          "base_uri": "https://localhost:8080/"
        },
        "id": "REYNW4CEP3tY",
        "outputId": "b9bfa8fb-78f0-4532-a6f3-aac332d5ab73"
      },
      "execution_count": null,
      "outputs": [
        {
          "output_type": "execute_result",
          "data": {
            "text/plain": [
              "4"
            ]
          },
          "metadata": {},
          "execution_count": 44
        }
      ]
    },
    {
      "cell_type": "code",
      "source": [
        "d = {'one': '하나', 'two': '둘'}\n",
        "d.pop() # error\n",
        "d.pop('three')  # error\n",
        "d"
      ],
      "metadata": {
        "colab": {
          "base_uri": "https://localhost:8080/"
        },
        "id": "x-Wb3RJpQSGI",
        "outputId": "ea8749ca-577e-415d-cc36-ba29cc2f9289"
      },
      "execution_count": null,
      "outputs": [
        {
          "output_type": "execute_result",
          "data": {
            "text/plain": [
              "{'two': '둘'}"
            ]
          },
          "metadata": {},
          "execution_count": 46
        }
      ]
    },
    {
      "cell_type": "code",
      "source": [
        "d = {'one': '하나', 'two': '둘'}\n",
        "d.popitem() # 없는 코드를 많이 보게 될것"
      ],
      "metadata": {
        "id": "llnBlHJPQvwq"
      },
      "execution_count": null,
      "outputs": []
    },
    {
      "cell_type": "code",
      "source": [
        "d = {'one': '하나', 'two': '둘'}\n",
        "d.update({'one': 'python', 'three': 'hello'})   # one은 수정이 되었고 three는 생성이 되었습니다.\n",
        "d"
      ],
      "metadata": {
        "colab": {
          "base_uri": "https://localhost:8080/"
        },
        "id": "5B8jb2E8RagP",
        "outputId": "6d3172f5-6d9e-4535-e3d0-1df3c52977c7"
      },
      "execution_count": null,
      "outputs": [
        {
          "output_type": "execute_result",
          "data": {
            "text/plain": [
              "{'one': 'python', 'two': '둘', 'three': 'hello'}"
            ]
          },
          "metadata": {},
          "execution_count": 47
        }
      ]
    },
    {
      "cell_type": "code",
      "source": [
        "# 신규문법!!(3.9)\n",
        "d = {'one': '하나', 'two': '둘'}\n",
        "dd = {'three': '셋'}\n",
        "\n",
        "# d + dd\n",
        "d | dd  # 책 사서 보아도 잘 안나오는 문법"
      ],
      "metadata": {
        "colab": {
          "base_uri": "https://localhost:8080/"
        },
        "id": "mSKJyTHlRoKA",
        "outputId": "c4c8fb95-b9db-47e5-f3cc-fb59abb711cf"
      },
      "execution_count": null,
      "outputs": [
        {
          "output_type": "execute_result",
          "data": {
            "text/plain": [
              "{'one': '하나', 'two': '둘', 'three': '셋'}"
            ]
          },
          "metadata": {},
          "execution_count": 49
        }
      ]
    },
    {
      "cell_type": "code",
      "source": [
        "d = {'one': '하나', 'two': '둘'}\n",
        "dd = {'one': 'python', 'three': '셋'}\n",
        "d | dd"
      ],
      "metadata": {
        "colab": {
          "base_uri": "https://localhost:8080/"
        },
        "id": "P_YWPH6xR5JJ",
        "outputId": "03308259-1969-4b2f-a6e2-5eb9b79f850a"
      },
      "execution_count": null,
      "outputs": [
        {
          "output_type": "execute_result",
          "data": {
            "text/plain": [
              "{'one': 'python', 'two': '둘', 'three': '셋'}"
            ]
          },
          "metadata": {},
          "execution_count": 50
        }
      ]
    },
    {
      "cell_type": "markdown",
      "source": [
        "# 셋\n",
        "\n",
        "* 중복을 허락하지 않는 자료형입니다.\n",
        "* 순서가 없는 자료형입니다.\n",
        "* 집합(합집합, 차집합, 교집합)"
      ],
      "metadata": {
        "id": "HeJUAdDXSVoR"
      }
    },
    {
      "cell_type": "code",
      "source": [
        "s = {1, 2, 3, 4, 5}\n",
        "ss = {3, 4, 5, 6, 7}\n",
        "\n",
        "# s + ss # error\n",
        "s | ss # 합집합\n",
        "s - ss # 차집합\n",
        "s & ss # 교집합"
      ],
      "metadata": {
        "colab": {
          "base_uri": "https://localhost:8080/"
        },
        "id": "3y1u5TqdSjIO",
        "outputId": "ce5c0582-fec7-49d5-bff4-1e7862203327"
      },
      "execution_count": null,
      "outputs": [
        {
          "output_type": "execute_result",
          "data": {
            "text/plain": [
              "{3, 4, 5}"
            ]
          },
          "metadata": {},
          "execution_count": 51
        }
      ]
    },
    {
      "cell_type": "code",
      "source": [
        "s.add(10)\n",
        "s"
      ],
      "metadata": {
        "colab": {
          "base_uri": "https://localhost:8080/"
        },
        "id": "apruDwobTtda",
        "outputId": "ae2fb73b-8af1-4d30-82e8-87aec3aa8dce"
      },
      "execution_count": null,
      "outputs": [
        {
          "output_type": "execute_result",
          "data": {
            "text/plain": [
              "{1, 2, 3, 4, 5, 10}"
            ]
          },
          "metadata": {},
          "execution_count": 53
        }
      ]
    },
    {
      "cell_type": "code",
      "source": [
        "type(s), dir(s)"
      ],
      "metadata": {
        "id": "5Y33epIVTcFX"
      },
      "execution_count": null,
      "outputs": []
    },
    {
      "cell_type": "code",
      "source": [
        "s.difference(ss)   # 차집합"
      ],
      "metadata": {
        "colab": {
          "base_uri": "https://localhost:8080/"
        },
        "id": "40U2q3TGTh9n",
        "outputId": "25f7ebc7-2956-4436-9776-c5e08a32a27a"
      },
      "execution_count": null,
      "outputs": [
        {
          "output_type": "execute_result",
          "data": {
            "text/plain": [
              "{1, 2, 10}"
            ]
          },
          "metadata": {},
          "execution_count": 57
        }
      ]
    },
    {
      "cell_type": "code",
      "source": [
        "s.intersection(ss)  # 교집합"
      ],
      "metadata": {
        "colab": {
          "base_uri": "https://localhost:8080/"
        },
        "id": "9FYUPO80Ubl5",
        "outputId": "1d669236-d2c3-4719-873e-a3f4ad98fc8f"
      },
      "execution_count": null,
      "outputs": [
        {
          "output_type": "execute_result",
          "data": {
            "text/plain": [
              "{3, 4, 5}"
            ]
          },
          "metadata": {},
          "execution_count": 55
        }
      ]
    },
    {
      "cell_type": "code",
      "source": [
        "s.union(ss) # 합집합"
      ],
      "metadata": {
        "colab": {
          "base_uri": "https://localhost:8080/"
        },
        "id": "MfcojJeVUeUL",
        "outputId": "3307b135-f396-4dfc-c67a-26b645ed79bc"
      },
      "execution_count": null,
      "outputs": [
        {
          "output_type": "execute_result",
          "data": {
            "text/plain": [
              "{1, 2, 3, 4, 5, 6, 7, 10}"
            ]
          },
          "metadata": {},
          "execution_count": 56
        }
      ]
    },
    {
      "cell_type": "code",
      "source": [
        "set('123123123')"
      ],
      "metadata": {
        "colab": {
          "base_uri": "https://localhost:8080/"
        },
        "id": "s4q2THTVUgCh",
        "outputId": "af599091-f830-4184-e3dc-2b4366922748"
      },
      "execution_count": null,
      "outputs": [
        {
          "output_type": "execute_result",
          "data": {
            "text/plain": [
              "{'1', '2', '3'}"
            ]
          },
          "metadata": {},
          "execution_count": 58
        }
      ]
    },
    {
      "cell_type": "markdown",
      "source": [
        "# sum"
      ],
      "metadata": {
        "id": "reU6ZkJ7XPqO"
      }
    },
    {
      "cell_type": "code",
      "source": [
        "sum([1, 2, 3])"
      ],
      "metadata": {
        "colab": {
          "base_uri": "https://localhost:8080/"
        },
        "id": "2KWq9pg3VIxI",
        "outputId": "d1fad07c-74a7-495e-9e2c-a081a06c10db"
      },
      "execution_count": null,
      "outputs": [
        {
          "output_type": "execute_result",
          "data": {
            "text/plain": [
              "6"
            ]
          },
          "metadata": {},
          "execution_count": 60
        }
      ]
    },
    {
      "cell_type": "code",
      "source": [
        "sum({10, 20, 30})"
      ],
      "metadata": {
        "colab": {
          "base_uri": "https://localhost:8080/"
        },
        "id": "koLVQFklVNqQ",
        "outputId": "b57561a5-4780-4389-f32f-b6f6f357a9e5"
      },
      "execution_count": null,
      "outputs": [
        {
          "output_type": "execute_result",
          "data": {
            "text/plain": [
              "60"
            ]
          },
          "metadata": {},
          "execution_count": 61
        }
      ]
    },
    {
      "cell_type": "code",
      "source": [
        "# map은 너무나 중요해서 반복해서 할 것\n",
        "# 중복 제거한 값을 더하는 용도로 아래와 같이 사용\n",
        "sum(map(int,set('123123123')))"
      ],
      "metadata": {
        "colab": {
          "base_uri": "https://localhost:8080/"
        },
        "id": "e7pFJe6-U6If",
        "outputId": "30658ba9-fd28-4089-fa48-789092ab4541"
      },
      "execution_count": null,
      "outputs": [
        {
          "output_type": "execute_result",
          "data": {
            "text/plain": [
              "6"
            ]
          },
          "metadata": {},
          "execution_count": 59
        }
      ]
    },
    {
      "cell_type": "code",
      "source": [
        "sum(10, 20, 30) # error"
      ],
      "metadata": {
        "id": "WDMwAzZKVGsA"
      },
      "execution_count": null,
      "outputs": []
    },
    {
      "cell_type": "code",
      "source": [
        "sum([[10, 20], [10, 20], [10, 20]]) # error"
      ],
      "metadata": {
        "id": "tSn1_KYcWGL2"
      },
      "execution_count": null,
      "outputs": []
    },
    {
      "cell_type": "code",
      "source": [
        "# sum(순회가능한객체, 초깃값)\n",
        "sum([10, 20, 30], 100)"
      ],
      "metadata": {
        "colab": {
          "base_uri": "https://localhost:8080/"
        },
        "id": "Pp7S9n6-WPXf",
        "outputId": "cf2ee291-857b-4ef6-e4ab-fb55fa90e852"
      },
      "execution_count": null,
      "outputs": [
        {
          "output_type": "execute_result",
          "data": {
            "text/plain": [
              "160"
            ]
          },
          "metadata": {},
          "execution_count": 64
        }
      ]
    },
    {
      "cell_type": "code",
      "source": [
        "sum([[10, 20], [30, 40], [50, 60]], []) # 평탄화 작업\n",
        "# [] + [10, 20] == [10, 20]\n",
        "# [10, 20] + [30, 40] == [10, 20, 30, 40]"
      ],
      "metadata": {
        "id": "TsTNwCH8WVcP"
      },
      "execution_count": null,
      "outputs": []
    },
    {
      "cell_type": "code",
      "source": [
        "sum(sum([[10, 20], [30, 40], [50, 60]], []))"
      ],
      "metadata": {
        "colab": {
          "base_uri": "https://localhost:8080/"
        },
        "id": "OITtw9IkXDu4",
        "outputId": "25aa5fca-45c8-4fa8-986b-6dbc500e4006"
      },
      "execution_count": null,
      "outputs": [
        {
          "output_type": "execute_result",
          "data": {
            "text/plain": [
              "210"
            ]
          },
          "metadata": {},
          "execution_count": 65
        }
      ]
    },
    {
      "cell_type": "markdown",
      "source": [
        "# in"
      ],
      "metadata": {
        "id": "8qQFYuLMXSg0"
      }
    },
    {
      "cell_type": "code",
      "source": [
        "'h' in 'hello'"
      ],
      "metadata": {
        "colab": {
          "base_uri": "https://localhost:8080/"
        },
        "id": "qAUSFQ8gXTIf",
        "outputId": "12373d2c-1ddc-4ef3-c35d-70091190a31a"
      },
      "execution_count": null,
      "outputs": [
        {
          "output_type": "execute_result",
          "data": {
            "text/plain": [
              "True"
            ]
          },
          "metadata": {},
          "execution_count": 66
        }
      ]
    },
    {
      "cell_type": "code",
      "source": [
        "x = 10\n",
        "x in [10, 20, 30, 40, 50]"
      ],
      "metadata": {
        "colab": {
          "base_uri": "https://localhost:8080/"
        },
        "id": "GH2wwXbZXVjG",
        "outputId": "639e5738-9830-4933-b410-0e9f94ea9b4a"
      },
      "execution_count": null,
      "outputs": [
        {
          "output_type": "execute_result",
          "data": {
            "text/plain": [
              "True"
            ]
          },
          "metadata": {},
          "execution_count": 67
        }
      ]
    },
    {
      "cell_type": "code",
      "source": [
        "x = [10, 20, 30]\n",
        "x in [[10, 20, 40], [10, 20, 30], [50, 40, 20]]"
      ],
      "metadata": {
        "colab": {
          "base_uri": "https://localhost:8080/"
        },
        "id": "R4oNeFw4XmgH",
        "outputId": "56f7de2c-479e-45ee-c030-028277dc6d4b"
      },
      "execution_count": null,
      "outputs": [
        {
          "output_type": "execute_result",
          "data": {
            "text/plain": [
              "True"
            ]
          },
          "metadata": {},
          "execution_count": 68
        }
      ]
    },
    {
      "cell_type": "code",
      "source": [
        "s = {1, 2, 3}\n",
        "1 in s"
      ],
      "metadata": {
        "colab": {
          "base_uri": "https://localhost:8080/"
        },
        "id": "FwdpAAS0Xt_3",
        "outputId": "12372081-4d1f-4376-e798-d34ddaf7855c"
      },
      "execution_count": null,
      "outputs": [
        {
          "output_type": "execute_result",
          "data": {
            "text/plain": [
              "True"
            ]
          },
          "metadata": {},
          "execution_count": 69
        }
      ]
    },
    {
      "cell_type": "markdown",
      "source": [
        "# and, or, not 단락평가"
      ],
      "metadata": {
        "id": "ZqWkO2jdX5w_"
      }
    },
    {
      "cell_type": "code",
      "source": [
        "1 and 100"
      ],
      "metadata": {
        "colab": {
          "base_uri": "https://localhost:8080/"
        },
        "id": "3qXBwvAQYUyo",
        "outputId": "ac9b82b8-461b-4e64-b53a-7e5039114d8b"
      },
      "execution_count": null,
      "outputs": [
        {
          "output_type": "execute_result",
          "data": {
            "text/plain": [
              "100"
            ]
          },
          "metadata": {},
          "execution_count": 70
        }
      ]
    },
    {
      "cell_type": "code",
      "source": [
        "user_id = ''\n",
        "\n",
        "user_id = user_id or '아이디 없음'\n",
        "user_id"
      ],
      "metadata": {
        "colab": {
          "base_uri": "https://localhost:8080/",
          "height": 35
        },
        "id": "c0krRfQGYVcm",
        "outputId": "3f04cb2f-49a0-49c2-fc3d-05e127104394"
      },
      "execution_count": null,
      "outputs": [
        {
          "output_type": "execute_result",
          "data": {
            "text/plain": [
              "'아이디 없음'"
            ],
            "application/vnd.google.colaboratory.intrinsic+json": {
              "type": "string"
            }
          },
          "metadata": {},
          "execution_count": 71
        }
      ]
    },
    {
      "cell_type": "code",
      "source": [
        "user_id = 'lee'\n",
        "\n",
        "user_id = user_id or '아이디 없음'\n",
        "user_id"
      ],
      "metadata": {
        "colab": {
          "base_uri": "https://localhost:8080/",
          "height": 35
        },
        "id": "lvzAjsfhYbxu",
        "outputId": "352d23b9-dbab-40c6-cb86-3b2470074c7f"
      },
      "execution_count": null,
      "outputs": [
        {
          "output_type": "execute_result",
          "data": {
            "text/plain": [
              "'lee'"
            ],
            "application/vnd.google.colaboratory.intrinsic+json": {
              "type": "string"
            }
          },
          "metadata": {},
          "execution_count": 72
        }
      ]
    },
    {
      "cell_type": "code",
      "source": [
        "False and 1/0"
      ],
      "metadata": {
        "colab": {
          "base_uri": "https://localhost:8080/"
        },
        "id": "3EQ9KSxzYjuQ",
        "outputId": "8c7daca7-53af-41cd-c53e-30cd98db79da"
      },
      "execution_count": null,
      "outputs": [
        {
          "output_type": "execute_result",
          "data": {
            "text/plain": [
              "False"
            ]
          },
          "metadata": {},
          "execution_count": 73
        }
      ]
    },
    {
      "cell_type": "code",
      "source": [
        "1/0"
      ],
      "metadata": {
        "id": "onSu_JxUYoc2"
      },
      "execution_count": null,
      "outputs": []
    },
    {
      "cell_type": "code",
      "source": [],
      "metadata": {
        "id": "dYaTscKOYplN"
      },
      "execution_count": null,
      "outputs": []
    }
  ]
}