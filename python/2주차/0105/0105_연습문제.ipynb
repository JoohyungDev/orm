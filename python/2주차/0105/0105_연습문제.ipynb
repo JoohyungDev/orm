{
  "nbformat": 4,
  "nbformat_minor": 0,
  "metadata": {
    "colab": {
      "provenance": []
    },
    "kernelspec": {
      "name": "python3",
      "display_name": "Python 3"
    },
    "language_info": {
      "name": "python"
    }
  },
  "cells": [
    {
      "cell_type": "markdown",
      "source": [
        "# 1. 다음 값은 어떤 값이 출력되는지 이유를 설명하세요.\n",
        "* 1.1 'hello' and 1\n",
        "* 1.2 10 or 'hello world'"
      ],
      "metadata": {
        "id": "W-XuQ7SHc58n"
      }
    },
    {
      "cell_type": "code",
      "source": [
        "# 1.1 => 1이 출력됨. and 연산자는 두 값이 참(1)인 경우 뒤의 값을 출력함\n",
        "# 1.2 => 10이 출력됨. or 연산자는 두 값중 하나라도 참인 경우 처음 참값을 반환. 둘다 거짓이면 후자"
      ],
      "metadata": {
        "id": "fx4jklBHdO5O"
      },
      "execution_count": 1,
      "outputs": []
    },
    {
      "cell_type": "markdown",
      "source": [
        "# 2. 아래 dict에 'three' key를 이용하여 '3'라는 값을 출력해주세요. 없을 경우 애러가 나는 것이 아니라 '3'이라는 값을 출력해야 합니다.\n",
        "* d = {'one': 1, 'two': 2}"
      ],
      "metadata": {
        "id": "mJxfpqMeekXc"
      }
    },
    {
      "cell_type": "code",
      "source": [
        "d = {'one': 1, 'two': 2}\n",
        "d.setdefault('three', '3')\n",
        "d"
      ],
      "metadata": {
        "colab": {
          "base_uri": "https://localhost:8080/"
        },
        "id": "HDcOmpCbezOE",
        "outputId": "f5346504-3705-4ae4-dae7-9e13b89d6126"
      },
      "execution_count": 4,
      "outputs": [
        {
          "output_type": "execute_result",
          "data": {
            "text/plain": [
              "{'one': 1, 'two': 2, 'three': '3'}"
            ]
          },
          "metadata": {},
          "execution_count": 4
        }
      ]
    },
    {
      "cell_type": "markdown",
      "source": [
        "# 3. 다음 리스트에서 100은 어떻게 꺼낼 수 있나요?\n",
        "* l = [1, [10, 20], [3, [100, 200], 5]]\n"
      ],
      "metadata": {
        "id": "FrcvtPRIfPx2"
      }
    },
    {
      "cell_type": "code",
      "source": [
        "l = [1, [10, 20], [3, [100, 200], 5]]\n",
        "result = l[2][1][0]\n",
        "# 중간 과정 : [3, [100,200] => [100,200] => 100\n",
        "result"
      ],
      "metadata": {
        "colab": {
          "base_uri": "https://localhost:8080/"
        },
        "id": "xksfYdW3fTgM",
        "outputId": "692a3c99-fe7c-47bb-ccc5-657258ebdb26"
      },
      "execution_count": 7,
      "outputs": [
        {
          "output_type": "execute_result",
          "data": {
            "text/plain": [
              "100"
            ]
          },
          "metadata": {},
          "execution_count": 7
        }
      ]
    },
    {
      "cell_type": "markdown",
      "source": [
        "# 4. 아래 숫자를 모두 더해주세요.\n",
        "* l = [[1, 2], [3, 4]]"
      ],
      "metadata": {
        "id": "sQQrFvQ4gHv8"
      }
    },
    {
      "cell_type": "code",
      "source": [
        "l = [[1, 2], [3, 4]]\n",
        "\n",
        "result = sum(sum(l,[]))\n",
        "# [[1, 2], [3, 4]] => [1, 2, 3, 4] => 10\n",
        "result"
      ],
      "metadata": {
        "colab": {
          "base_uri": "https://localhost:8080/"
        },
        "id": "6Ce0_BKPgPKy",
        "outputId": "ed83acc9-542f-4a72-d359-48c642954505"
      },
      "execution_count": 12,
      "outputs": [
        {
          "output_type": "execute_result",
          "data": {
            "text/plain": [
              "10"
            ]
          },
          "metadata": {},
          "execution_count": 12
        }
      ]
    },
    {
      "cell_type": "markdown",
      "source": [
        "# 5. (난이도 있는 문제) filter를 사용하여 아래 리스트에서 짝수를 모두 더하는 코드를 작성해주세요.\n",
        "* l = [1, 2, 3, 4, 5, 6, 7, 8, 9, 10]\n",
        "* 정답 : 30"
      ],
      "metadata": {
        "id": "lzrpwjUrgTJc"
      }
    },
    {
      "cell_type": "code",
      "source": [
        "def even_num(x):\n",
        "    return x % 2 == 0\n",
        "\n",
        "l = [1, 2, 3, 4, 5, 6, 7, 8, 9, 10]\n",
        "result = list(filter(even_num,l))\n",
        "# [2, 4, 6, 8, 10]\n",
        "sum(result)"
      ],
      "metadata": {
        "colab": {
          "base_uri": "https://localhost:8080/"
        },
        "id": "oJyVuPeug36T",
        "outputId": "a945724e-b3c3-42d2-cbc5-f1892f141957"
      },
      "execution_count": 14,
      "outputs": [
        {
          "output_type": "execute_result",
          "data": {
            "text/plain": [
              "30"
            ]
          },
          "metadata": {},
          "execution_count": 14
        }
      ]
    }
  ]
}