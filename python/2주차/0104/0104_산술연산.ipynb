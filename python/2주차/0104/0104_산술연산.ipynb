{
  "nbformat": 4,
  "nbformat_minor": 0,
  "metadata": {
    "colab": {
      "provenance": []
    },
    "kernelspec": {
      "name": "python3",
      "display_name": "Python 3"
    },
    "language_info": {
      "name": "python"
    }
  },
  "cells": [
    {
      "cell_type": "markdown",
      "source": [
        "- 문자열, 리스트, 튜플 등에서 뺄셈 연산자를 직접 사용하는 것은 지원되지 않는다.\n"
      ],
      "metadata": {
        "id": "SvVNM1jrSjI4"
      }
    },
    {
      "cell_type": "markdown",
      "source": [
        "- 나눗셈 연산자(/, //)는 두 수를 나누는 연산자입니다. 첫번째 나눗셈 연산자는 항상 float 형식으로 반환되며, 두번째 나눗셈 연산자는 항상 int형으로 반환됩니다. //는 내림입니다. 음수의 경우 헷갈릴 수 있으니 아래 예제를 통해 확인해주세요."
      ],
      "metadata": {
        "id": "-4kUNyGiS7-I"
      }
    },
    {
      "cell_type": "code",
      "source": [
        "a = 10\n",
        "b = 2\n",
        "print(a / b) # 결과 5.0\n",
        "print(a // b) # 결과 5"
      ],
      "metadata": {
        "colab": {
          "base_uri": "https://localhost:8080/"
        },
        "id": "-k8Tyh-3TCuh",
        "outputId": "9cb00fbb-e94e-4caf-98e7-ae2de210d284"
      },
      "execution_count": 1,
      "outputs": [
        {
          "output_type": "stream",
          "name": "stdout",
          "text": [
            "5.0\n",
            "5\n"
          ]
        }
      ]
    },
    {
      "cell_type": "code",
      "source": [
        "a = -5\n",
        "b = 2\n",
        "print(a / b) # 결과: -2.5\n",
        "print(a // b) # 결과: -3"
      ],
      "metadata": {
        "colab": {
          "base_uri": "https://localhost:8080/"
        },
        "id": "ijusuDXwTHoJ",
        "outputId": "0fc6e132-df04-4e20-c4e0-f63167dfc75c"
      },
      "execution_count": 2,
      "outputs": [
        {
          "output_type": "stream",
          "name": "stdout",
          "text": [
            "-2.5\n",
            "-3\n"
          ]
        }
      ]
    },
    {
      "cell_type": "code",
      "source": [
        "# 0으로 나누는 경우 주의\n",
        "z = 0\n",
        "x / z # ZeroDivisionError 발생"
      ],
      "metadata": {
        "id": "82P77vYBTRlq"
      },
      "execution_count": null,
      "outputs": []
    },
    {
      "cell_type": "code",
      "source": [
        "# 또한 float 형으로 반환되는 경우 아래처럼 소숫점 2번째 자리까지 출력하는 구문을 많이 사용하니 기억해두세요.\n",
        "a = 10\n",
        "b = 3\n",
        "divide = a / b\n",
        "print(f'{a} ÷ {b} = {divide:.2f}')  # 결과: 10 ÷ 3 = 3.33"
      ],
      "metadata": {
        "id": "Ot5duD38TYGo"
      },
      "execution_count": null,
      "outputs": []
    },
    {
      "cell_type": "code",
      "source": [
        "# - 부호는 가장 나중에 붙는다!\n",
        "-2 ** 2"
      ],
      "metadata": {
        "colab": {
          "base_uri": "https://localhost:8080/"
        },
        "id": "-MtUzJ1XTkMU",
        "outputId": "1f8496ba-65c8-4a3b-ac52-b386fb1dce4e"
      },
      "execution_count": 3,
      "outputs": [
        {
          "output_type": "execute_result",
          "data": {
            "text/plain": [
              "-4"
            ]
          },
          "metadata": {},
          "execution_count": 3
        }
      ]
    }
  ]
}