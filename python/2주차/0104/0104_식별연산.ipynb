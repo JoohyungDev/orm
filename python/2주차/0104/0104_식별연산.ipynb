{
  "nbformat": 4,
  "nbformat_minor": 0,
  "metadata": {
    "colab": {
      "provenance": []
    },
    "kernelspec": {
      "name": "python3",
      "display_name": "Python 3"
    },
    "language_info": {
      "name": "python"
    }
  },
  "cells": [
    {
      "cell_type": "markdown",
      "source": [
        "- 식별 연산자는 두 변수가 동일한 객체를 참조하고 있는지 확인하는데 사용됩니다. 파이썬에서는 is와 is not을 사용하여 이를 확인할 수 있습니다.\n",
        "- 식별 연산자는 해당 값이 들어있는 주소를 비교하는 연산자"
      ],
      "metadata": {
        "id": "ejlt7laMVopE"
      }
    },
    {
      "cell_type": "code",
      "source": [
        "coffee_employee = \"Brand\"\n",
        "orange_employee = \"Brand\"\n",
        "\n",
        "print(coffee_employee is orange_employee)\n",
        "print(coffee_employee == orange_employee)"
      ],
      "metadata": {
        "colab": {
          "base_uri": "https://localhost:8080/"
        },
        "id": "S4YkaZyWVvC5",
        "outputId": "e67b8ca5-c653-4ce8-ab01-1554e4dc0ef9"
      },
      "execution_count": 1,
      "outputs": [
        {
          "output_type": "stream",
          "name": "stdout",
          "text": [
            "True\n",
            "True\n"
          ]
        }
      ]
    },
    {
      "cell_type": "code",
      "source": [
        "a = [1, 2, 3]\n",
        "b = [1, 2, 3]\n",
        "c = a\n",
        "\n",
        "print('a == b', a == b)\n",
        "print('a == c', a == c)\n",
        "print('a is b', a is b)\n",
        "print('a is c', a is c)"
      ],
      "metadata": {
        "colab": {
          "base_uri": "https://localhost:8080/"
        },
        "id": "U1OKXhJRV_EY",
        "outputId": "c5ab53b6-b4e9-48b8-dfa9-5ba7a2df4aeb"
      },
      "execution_count": 2,
      "outputs": [
        {
          "output_type": "stream",
          "name": "stdout",
          "text": [
            "a == b True\n",
            "a == c True\n",
            "a is b False\n",
            "a is c True\n"
          ]
        }
      ]
    },
    {
      "cell_type": "markdown",
      "source": [
        "- 파이썬은 동일한 문자열이 있따면 해당 문자열이 가진 주소를 그대로 참조하므로\n",
        "동일한 문자는 동일한 주소를 가짐\n",
        "- 배열과 같은 객체는 새로 생성할 때 새로운 주소에 담음"
      ],
      "metadata": {
        "id": "HlNZTDWPWJJh"
      }
    },
    {
      "cell_type": "code",
      "source": [
        "x = [1, 2, 3]\n",
        "y = x\n",
        "z = [1, 2, 3]"
      ],
      "metadata": {
        "id": "5DFAedagWTp9"
      },
      "execution_count": 3,
      "outputs": []
    },
    {
      "cell_type": "code",
      "source": [
        "print(id(x))  # 예: 139760050602048\n",
        "print(id(y))  # 예: 139760050602048\n",
        "print(id(z))  # 예: 139760050602888"
      ],
      "metadata": {
        "colab": {
          "base_uri": "https://localhost:8080/"
        },
        "id": "43bKC_WAWbRR",
        "outputId": "2e983fc2-3406-447b-f006-1f6de68d8b30"
      },
      "execution_count": 4,
      "outputs": [
        {
          "output_type": "stream",
          "name": "stdout",
          "text": [
            "137374188486848\n",
            "137374188486848\n",
            "137374709514944\n"
          ]
        }
      ]
    }
  ]
}