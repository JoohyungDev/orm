{
  "nbformat": 4,
  "nbformat_minor": 0,
  "metadata": {
    "colab": {
      "provenance": []
    },
    "kernelspec": {
      "name": "python3",
      "display_name": "Python 3"
    },
    "language_info": {
      "name": "python"
    }
  },
  "cells": [
    {
      "cell_type": "markdown",
      "source": [
        "# 1. 논리연산자"
      ],
      "metadata": {
        "id": "zNsdxDW3wOF3"
      }
    },
    {
      "cell_type": "markdown",
      "source": [
        "파이썬에는 and, or, not 연산자가 존재함"
      ],
      "metadata": {
        "id": "dSQPTZJP6unZ"
      }
    },
    {
      "cell_type": "markdown",
      "source": [
        "- and = 둘다 True인 경우에 True(1)\n",
        "- or = 둘중 하나라도 True면 True(1)\n",
        "- not = 해당 논리의 반대값"
      ],
      "metadata": {
        "id": "xqzE5PVJ64BJ"
      }
    },
    {
      "cell_type": "markdown",
      "source": [
        "# 2. 단락평가"
      ],
      "metadata": {
        "id": "q1U6PlzaEbiA"
      }
    },
    {
      "cell_type": "markdown",
      "source": [
        "단락 평가(또는 단락 연산)는 논리 연산에서 연산의 결과가 확정된 시점에서 더 이상의 평가를 중단하는 방법을 말합니다. 파이썬에서는 and와 or 연산자에서 이러한 단락 평가가 발생합니다."
      ],
      "metadata": {
        "id": "qq67waV_UhQM"
      }
    },
    {
      "cell_type": "code",
      "source": [
        "# A and B 형태의 연산에서 A가 거짓으로 평가되면, B는 평가되지 않고 바로 False로 결정됩니다.\n",
        "a = 'hello'\n",
        "b = ''\n",
        "\n",
        "a and b # 출력: ''"
      ],
      "metadata": {
        "colab": {
          "base_uri": "https://localhost:8080/",
          "height": 35
        },
        "id": "w4F93gKIUjO5",
        "outputId": "5dc924b2-24dd-4924-8e27-109d66079707"
      },
      "execution_count": 1,
      "outputs": [
        {
          "output_type": "execute_result",
          "data": {
            "text/plain": [
              "''"
            ],
            "application/vnd.google.colaboratory.intrinsic+json": {
              "type": "string"
            }
          },
          "metadata": {},
          "execution_count": 1
        }
      ]
    },
    {
      "cell_type": "code",
      "source": [
        "a = 'hello'\n",
        "b = 'world'\n",
        "\n",
        "a and b # 출력: world"
      ],
      "metadata": {
        "colab": {
          "base_uri": "https://localhost:8080/",
          "height": 35
        },
        "id": "VmyFqRZ5UvKS",
        "outputId": "b766185e-81bd-4c81-e93c-f2962805bc57"
      },
      "execution_count": 4,
      "outputs": [
        {
          "output_type": "execute_result",
          "data": {
            "text/plain": [
              "'world'"
            ],
            "application/vnd.google.colaboratory.intrinsic+json": {
              "type": "string"
            }
          },
          "metadata": {},
          "execution_count": 4
        }
      ]
    },
    {
      "cell_type": "code",
      "source": [
        "# 이러한 단락 평가는 아래와 같이 함수 호출에서 이점을 볼 수 있습니다. 앞에서 False로 확정이 되면 뒤에 함수를 호출하지 않습니다.\n",
        "def test1():\n",
        "    print(\"test1 함수 호출!\")\n",
        "    return False\n",
        "\n",
        "def test2():\n",
        "    print(\"test2 함수 호출!\")\n",
        "    return True\n",
        "\n",
        "result = test1() and test2()\n",
        "print(result) # 결과: False"
      ],
      "metadata": {
        "id": "Pkmob8sEU-Au"
      },
      "execution_count": null,
      "outputs": []
    },
    {
      "cell_type": "code",
      "source": [
        "lst = []\n",
        "if lst and lst[0] > 3:\n",
        "    print(\"리스트의 첫 번째 원소는 3보다 큽니다.\")"
      ],
      "metadata": {
        "id": "m39UDKulVBQm"
      },
      "execution_count": null,
      "outputs": []
    },
    {
      "cell_type": "code",
      "source": [
        "# A or B 형태의 연산에서 A가 참으로 평가되면, B는 평가되지 않고 바로 True로 결정됩니다.\n",
        "username = ''\n",
        "\n",
        "username = username or '이름을 정하지 않았습니다.'\n",
        "username # 출력: '이름을 정하지 않았습니다.'"
      ],
      "metadata": {
        "id": "l47_063UVL6p"
      },
      "execution_count": null,
      "outputs": []
    }
  ]
}