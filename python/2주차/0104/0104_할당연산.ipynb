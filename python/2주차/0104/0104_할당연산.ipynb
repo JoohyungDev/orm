{
  "nbformat": 4,
  "nbformat_minor": 0,
  "metadata": {
    "colab": {
      "provenance": []
    },
    "kernelspec": {
      "name": "python3",
      "display_name": "Python 3"
    },
    "language_info": {
      "name": "python"
    }
  },
  "cells": [
    {
      "cell_type": "markdown",
      "source": [
        "할당 연산은 변수에 값을 저장하는데 사용됨\n",
        "- 기본값은 \"=\""
      ],
      "metadata": {
        "id": "sDxeGystEgyG"
      }
    },
    {
      "cell_type": "code",
      "source": [
        "# 복합할당연산자도 연산자의 우선순위가 다른 연산자보다 낮습니다. 아래와 같이 실행될 수 있습니다.\n",
        "x = 5\n",
        "y = 2\n",
        "z = 10\n",
        "\n",
        "x += y * z  # y * z 연산 후 x에 값을 할당합니다.\n",
        "print(x)  # 결과: 25"
      ],
      "metadata": {
        "id": "-L5km_IfEttX"
      },
      "execution_count": null,
      "outputs": []
    }
  ]
}