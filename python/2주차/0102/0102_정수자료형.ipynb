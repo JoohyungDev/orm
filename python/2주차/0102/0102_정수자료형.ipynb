{
  "nbformat": 4,
  "nbformat_minor": 0,
  "metadata": {
    "colab": {
      "provenance": []
    },
    "kernelspec": {
      "name": "python3",
      "display_name": "Python 3"
    },
    "language_info": {
      "name": "python"
    }
  },
  "cells": [
    {
      "cell_type": "markdown",
      "source": [
        "1. 0과 양의 정수, 음의 정수를 통틀어 정수(integer)라고 한다."
      ],
      "metadata": {
        "id": "lA0ba7x9D7lp"
      }
    },
    {
      "cell_type": "markdown",
      "source": [
        "# 2. 진수"
      ],
      "metadata": {
        "id": "5W9WOAL2DzuQ"
      }
    },
    {
      "cell_type": "markdown",
      "source": [
        "2진수는 알고리즘 문제로 자주 출제가 됩니다. 16진수는 컴퓨터에서 색 표현으로 많이 사용합니다. 000000은 흰색이고, ffffff는 검은색입니다."
      ],
      "metadata": {
        "id": "QjQLYc8FEWRk"
      }
    },
    {
      "cell_type": "markdown",
      "source": [
        "# 2.1 2진수 (Binary)"
      ],
      "metadata": {
        "id": "euOqnbVHEZIn"
      }
    },
    {
      "cell_type": "markdown",
      "source": [
        "2진수는 0과 1로만 구성되며, Python에서는 숫자 앞에 0b를 붙여서 2진수로 표현합니다."
      ],
      "metadata": {
        "id": "u-RuEVyLEfJA"
      }
    },
    {
      "cell_type": "code",
      "source": [
        "x = 0b110\n",
        "print(x)\n",
        "print(type(x))"
      ],
      "metadata": {
        "id": "FHprvkHmETdY"
      },
      "execution_count": null,
      "outputs": []
    },
    {
      "cell_type": "markdown",
      "source": [
        "이 예제에서 x는 2진수 110을 10진수로 변환하여 6이 출력됩니다. type(x)는 <class 'int'>로, x의 데이터 타입이 정수임을 확인할 수 있습니다."
      ],
      "metadata": {
        "id": "NM-vkjZDEkEX"
      }
    },
    {
      "cell_type": "markdown",
      "source": [
        "# 2.2 8진수 (Octal)"
      ],
      "metadata": {
        "id": "iM9y5alVElRH"
      }
    },
    {
      "cell_type": "markdown",
      "source": [
        "8진수는 0부터 7까지의 숫자로 구성되며, Python에서는 숫자 앞에 0o를 붙여서 8진수로 표현합니다."
      ],
      "metadata": {
        "id": "skHhOKI_ErDG"
      }
    },
    {
      "cell_type": "code",
      "source": [
        "x = 0o15\n",
        "print(x)\n",
        "print(type(x))"
      ],
      "metadata": {
        "id": "7-oMXAyMEtaH"
      },
      "execution_count": null,
      "outputs": []
    },
    {
      "cell_type": "markdown",
      "source": [
        "이 예제에서 x는 8진수 15를 10진수로 변환하여 13이 출력됩니다. type(x)는 <class 'int'>로, x의 데이터 타입이 정수임을 확인할 수 있습니다."
      ],
      "metadata": {
        "id": "_WAfLMyXEuxV"
      }
    },
    {
      "cell_type": "markdown",
      "source": [
        "# 2.3 16진수 (Hexadecimal)"
      ],
      "metadata": {
        "id": "NrDDoi7rEwID"
      }
    },
    {
      "cell_type": "markdown",
      "source": [
        "16진수는 0부터 9까지의 숫자와 A(10)부터 F(15)까지의 알파벳으로 구성되며, Python에서는 숫자 앞에 0x를 붙여서 16진수로 표현합니다."
      ],
      "metadata": {
        "id": "8fDH4hVSE3_v"
      }
    },
    {
      "cell_type": "code",
      "source": [
        "x = 0x1a\n",
        "print(x)\n",
        "print(type(x))"
      ],
      "metadata": {
        "id": "6g8f99e4E6jV"
      },
      "execution_count": null,
      "outputs": []
    },
    {
      "cell_type": "markdown",
      "source": [
        "이 예제에서 x는 16진수 1a를 10진수로 변환하여 26이 출력됩니다. type(x)는 <class 'int'>로, x의 데이터 타입이 정수임을 확인할 수 있습니다."
      ],
      "metadata": {
        "id": "nz05crCgE8vZ"
      }
    },
    {
      "cell_type": "code",
      "source": [],
      "metadata": {
        "id": "ExaEPzV-E9mI"
      },
      "execution_count": null,
      "outputs": []
    },
    {
      "cell_type": "markdown",
      "source": [
        "# 2.4 진수 변환 함수"
      ],
      "metadata": {
        "id": "T0DlreOeE_02"
      }
    },
    {
      "cell_type": "markdown",
      "source": [
        "Python에서는 bin(), oct(), hex() 함수를 사용하여 10진수를 각각 2진수, 8진수, 16진수로 변환할 수 있습니다."
      ],
      "metadata": {
        "id": "Y5Jokb2DFB0Y"
      }
    },
    {
      "cell_type": "code",
      "source": [
        "x = 26\n",
        "print(bin(x))\n",
        "print(oct(x))\n",
        "print(hex(x))"
      ],
      "metadata": {
        "id": "xo8n1JqaFJSY"
      },
      "execution_count": null,
      "outputs": []
    },
    {
      "cell_type": "code",
      "source": [
        "# 출력\n",
        "0b11010\n",
        "0o32\n",
        "0x1a"
      ],
      "metadata": {
        "id": "20vEMh3pFJqi"
      },
      "execution_count": null,
      "outputs": []
    },
    {
      "cell_type": "markdown",
      "source": [
        "이 예제에서 x는 26이고, bin(x)는 '0b11010', oct(x)는 '0o32', hex(x)는 '0x1a'를 출력합니다. 이렇게 변환된 값은 int built-in-function을 사용하여 10진수로 다시 변환할 수 있습니다."
      ],
      "metadata": {
        "id": "_vYLrvQGFK2s"
      }
    },
    {
      "cell_type": "code",
      "source": [
        "b = int('0b11010', 2)\n",
        "o = int('0o32', 8)\n",
        "h = int('0x1a', 16)\n",
        "print(b, o, h)"
      ],
      "metadata": {
        "id": "HRBQ-UlYFLbn"
      },
      "execution_count": null,
      "outputs": []
    },
    {
      "cell_type": "code",
      "source": [
        "# 출력\n",
        "26\n",
        "26\n",
        "26"
      ],
      "metadata": {
        "id": "7OJa_nEjFNhz"
      },
      "execution_count": null,
      "outputs": []
    },
    {
      "cell_type": "markdown",
      "source": [
        "# 3. 메서드"
      ],
      "metadata": {
        "id": "baTHnSeJFPIe"
      }
    },
    {
      "cell_type": "markdown",
      "source": [
        "메서드는 자료형(정수, 실수, 문자열, 리스트 등)이 할 수 있는 일(함수)입니다. 예를 들어, 문자열 객체는 문자열을 대문자로 바꾸는 일을 할 수 있습니다. 이러한 일을 하는 함수를 '메서드'라고 부릅니다.\n",
        "\n",
        "예를 들어, 'hello'라는 문자열이 있다면, 'HELLO'로 바꾸는 일을 하는 함수가 있습니다. 이 함수를 사용하려면 'hello'.upper()라고 씁니다. 여기서 'upper'는 'hello'라는 문자열 객체가 할 수 있는 일 중 하나인 메서드입니다.\n",
        "\n",
        "다만 숫자에서 사용할 수 있는 메서드는 몇 개 되지 않으며, 그마저도 사용할 일이 거의 없습니다. 이와 같은 이유로 뒤에서 다룰 자료형인 float와 complex에서는 메서드를 다루지 않겠습니다.\n",
        "\n",
        "여기서는 메서드를 어떻게 확인하고, 어떻게 활용하는지 살펴보도록 하겠습니다."
      ],
      "metadata": {
        "id": "igApJ6Y8FQMB"
      }
    },
    {
      "cell_type": "code",
      "source": [
        "x = 5\n",
        "print(dir(5))"
      ],
      "metadata": {
        "id": "UeXamAD2FWC_"
      },
      "execution_count": null,
      "outputs": []
    },
    {
      "cell_type": "markdown",
      "source": [
        "위처럼 dir이라는 함수를 통해 자료형이 가진 메서드를 확인할 수 있습니다. 여기서 언더스코어(_) 2개가 붙어있는 것들을 메직 메서드라고 하고, 언더스코어가 없는 것들을 메서드라고 합니다."
      ],
      "metadata": {
        "id": "xOJRGRuXFg81"
      }
    },
    {
      "cell_type": "code",
      "source": [
        "# 출력\n",
        "['__abs__',\n",
        " '__add__',\n",
        " ... 생략 ...\n",
        " '__xor__',\n",
        " 'as_integer_ratio',\n",
        " 'bit_count',\n",
        " 'bit_length',\n",
        " 'conjugate',\n",
        " 'denominator',\n",
        " 'from_bytes',\n",
        " 'imag',\n",
        " 'numerator',\n",
        " 'real',\n",
        " 'to_bytes']"
      ],
      "metadata": {
        "id": "_LcI8TIAFi5w"
      },
      "execution_count": null,
      "outputs": []
    },
    {
      "cell_type": "markdown",
      "source": [
        "정수 자료형에 메서드 중에서는 일반적으로 사용되는 메서드는 없는데요. 그래도 메서드가 어떤 일을 하는지 알기 위해 bit_count메서드를 살펴보도록 하겠습니다."
      ],
      "metadata": {
        "id": "nYlq49gxFxkW"
      }
    },
    {
      "cell_type": "code",
      "source": [
        "x = 5\n",
        "x.bit_count() # 출력 : 2 101 -> 1이 두개 2"
      ],
      "metadata": {
        "id": "KAyvZ9WUFz9C"
      },
      "execution_count": null,
      "outputs": []
    },
    {
      "cell_type": "markdown",
      "source": [
        "5는 2진수로 표현했을 때 `101`이고, 4는 2진수로 표현하면 `100`입니다. 여기서 1의 갯수를 카운팅한 것입니다.\n",
        "\n",
        "여기서 주의깊게 봐야 할 점은 x뒤에 있는 점(Dot)입니다. **점 표기법(Dot Notation)**이라고 하는데요. 이렇게 점을 찍으면 해당 자료형이 가진 메서드에 접근할 수 있습니다."
      ],
      "metadata": {
        "id": "4y2ZePGZF0yY"
      }
    },
    {
      "cell_type": "markdown",
      "source": [
        "# 4. 추가 설명"
      ],
      "metadata": {
        "id": "sSEp8nvNF2CY"
      }
    },
    {
      "cell_type": "markdown",
      "source": [
        "파이썬은 다른 언어에 비해 느린 속도를 극복하기 위한 여러가지 노력을 버전업이 될 때마다 해왔습니다. 파이썬은 메모리 효율을 위해 자주 사용되는 정수를 미리 메모리에 저장(integer interning)해두었는데요. 이렇게 저장된 정수가 나중에 여러분에게 혼란을 줄 수 있기에 여기서 설명하고 가려 합니다.\n"
      ],
      "metadata": {
        "id": "B8gsWf_QGEh4"
      }
    },
    {
      "cell_type": "code",
      "source": [
        "# -5 ~ 256\n",
        "x = 256\n",
        "y = 256\n",
        "\n",
        "print(id(x), id(y)) # 출력 : 138041748299984 138041748299984"
      ],
      "metadata": {
        "id": "Zrw1Jqh_GGqe"
      },
      "execution_count": null,
      "outputs": []
    },
    {
      "cell_type": "markdown",
      "source": [
        "두 변수의 id는 같음"
      ],
      "metadata": {
        "id": "dNBglPUOHAQA"
      }
    },
    {
      "cell_type": "markdown",
      "source": [
        "이렇듯 메모리에 적재된 숫자는 -5부터 256까지 입니다. 따라서 위처럼 출력하면 같은 주소를 가리키죠."
      ],
      "metadata": {
        "id": "KtJwZ5p8HEYR"
      }
    },
    {
      "cell_type": "markdown",
      "source": [
        "그러나 이 숫자를 벗어나면 id(주소)가 달라짐"
      ],
      "metadata": {
        "id": "HOYZwT_YHGo2"
      }
    },
    {
      "cell_type": "markdown",
      "source": [
        "변수에 값을 할당하면 예외가 있지만 기본적으로는 다른 주소를 가짐"
      ],
      "metadata": {
        "id": "S615U8j2HNIQ"
      }
    },
    {
      "cell_type": "code",
      "source": [],
      "metadata": {
        "id": "fzwu8ERAHagw"
      },
      "execution_count": null,
      "outputs": []
    }
  ]
}