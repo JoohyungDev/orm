{
  "nbformat": 4,
  "nbformat_minor": 0,
  "metadata": {
    "colab": {
      "provenance": []
    },
    "kernelspec": {
      "name": "python3",
      "display_name": "Python 3"
    },
    "language_info": {
      "name": "python"
    }
  },
  "cells": [
    {
      "cell_type": "markdown",
      "source": [
        "# 1. 복소수란?\n",
        "\n",
        "복소수는 실수와 허수의 합으로 표현되는 수입니다. 실수는 우리가 일상에서 흔히 사용하는 숫자, 예를 들어, 1, 2.5, -3 등입니다. 허수는 실수의 제곱이 -1인 수로, 보통 수학에서는 'i'로 표현되지만 전자공학과 파이썬에서는 'j'로 표현()됩니다. 예를 들어, 복소수 3 + 4j는 3이 실수 부분이고, 4j가 허수 부분입니다."
      ],
      "metadata": {
        "id": "kAwZYDMyJm-y"
      }
    },
    {
      "cell_type": "markdown",
      "source": [
        "# 1.1 복소수 타입의 변수 생성"
      ],
      "metadata": {
        "id": "ruXacQfnMa8u"
      }
    },
    {
      "cell_type": "code",
      "source": [
        "x = 3 + 4j"
      ],
      "metadata": {
        "id": "EjnXJEVaMgGo"
      },
      "execution_count": null,
      "outputs": []
    },
    {
      "cell_type": "code",
      "source": [
        "x = complex(3, 4)"
      ],
      "metadata": {
        "id": "wbTExDfuMg5Q"
      },
      "execution_count": null,
      "outputs": []
    },
    {
      "cell_type": "markdown",
      "source": [
        "# 2. 메서드"
      ],
      "metadata": {
        "id": "o-kJMUafMkIj"
      }
    },
    {
      "cell_type": "markdown",
      "source": [
        "# 2.1 real()"
      ],
      "metadata": {
        "id": "jgZpC0p_MlIt"
      }
    },
    {
      "cell_type": "markdown",
      "source": [
        "복소수의 실수 부분 반환"
      ],
      "metadata": {
        "id": "E6tC2_V1MoS8"
      }
    },
    {
      "cell_type": "code",
      "source": [
        "x = 3 + 4j\n",
        "print(x.real) # 출력 : 3.0"
      ],
      "metadata": {
        "id": "Pr9wBoVSMrh2"
      },
      "execution_count": null,
      "outputs": []
    },
    {
      "cell_type": "markdown",
      "source": [
        "허수 부분 반환"
      ],
      "metadata": {
        "id": "gpjHTgFwMtcm"
      }
    },
    {
      "cell_type": "code",
      "source": [
        "x = 3 + 4j\n",
        "print(x.imag) # 출력 : 4.0"
      ],
      "metadata": {
        "id": "K6vISJM2Murd"
      },
      "execution_count": null,
      "outputs": []
    }
  ]
}