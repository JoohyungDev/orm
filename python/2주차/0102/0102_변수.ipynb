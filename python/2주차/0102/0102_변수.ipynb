{
  "nbformat": 4,
  "nbformat_minor": 0,
  "metadata": {
    "colab": {
      "provenance": []
    },
    "kernelspec": {
      "name": "python3",
      "display_name": "Python 3"
    },
    "language_info": {
      "name": "python"
    }
  },
  "cells": [
    {
      "cell_type": "markdown",
      "source": [
        "1. 변수는 가리키는 것이며 담겨져 있는 실체는 변하지 않음\n"
      ],
      "metadata": {
        "id": "vXe0Ll8CBgg9"
      }
    },
    {
      "cell_type": "code",
      "source": [
        "# 다음과 같은 경우, x의 값은 변하지만 y와 z의 값은 초기 대입한 그대로이다.\n",
        "x = 10\n",
        "y = x\n",
        "z = y\n",
        "x = 20\n",
        "print(y, z) # 결과 값은 10입니다."
      ],
      "metadata": {
        "id": "_y128cU5Btay"
      },
      "execution_count": null,
      "outputs": []
    },
    {
      "cell_type": "markdown",
      "source": [
        "2. C나 java언어와 다르게 파이썬에서는 가리키는 것.. 변수의 개념이 언어마다 다르다."
      ],
      "metadata": {
        "id": "MKwttOUmB_g_"
      }
    },
    {
      "cell_type": "markdown",
      "source": [
        "3. 변수의 이름은 숫자로 시작 불가\n"
      ],
      "metadata": {
        "id": "Bkv0DplECiah"
      }
    },
    {
      "cell_type": "markdown",
      "source": [
        "4. 타입을 확인하는 것은 type 함수를 사용하고, 어떤 기능이 있는지는 dir을 통해 확인한다."
      ],
      "metadata": {
        "id": "zRM_DPanCyIX"
      }
    },
    {
      "cell_type": "code",
      "source": [
        "x = 10\n",
        "print(type(x))\n",
        "print(dir(x))"
      ],
      "metadata": {
        "id": "mOhEAJbiC36x"
      },
      "execution_count": null,
      "outputs": []
    },
    {
      "cell_type": "code",
      "source": [
        "# 출력\n",
        "<class 'int'> # int라는 이름을 가지고 있군요!\n",
        "['__abs__', # 메직 메서드: 절대값이 되는군요!\n",
        "'__add__', # 메직 메서드: 더하기가 되는군요!\n",
        "'__and__', # 메직 메서드: 논리 연산이 되는군요!\n",
        "# ...생략...\n",
        "'__mul__', # 메직 메서드: 곱하기가 되는군요!\n",
        "# ...생략...\n",
        "'real', # 메서드: 실수부를 출력하는 메서드\n",
        "'to_bytes' # 메서드: 바이트로 변환하는 메서드\n",
        "]"
      ],
      "metadata": {
        "id": "xSnDQZ0KC5ho"
      },
      "execution_count": null,
      "outputs": []
    },
    {
      "cell_type": "markdown",
      "source": [
        "5. 변수 값 변경은 새로 할당하면 끝\n",
        "\n",
        "\n",
        "6. 변수 삭제는 del 키워드를 사용"
      ],
      "metadata": {
        "id": "ChhCfKSgDFp4"
      }
    },
    {
      "cell_type": "markdown",
      "source": [
        "7. 튜플 자료형은 변경 불가능한 자료형"
      ],
      "metadata": {
        "id": "7rzsSfIGDLKg"
      }
    }
  ]
}