{
  "nbformat": 4,
  "nbformat_minor": 0,
  "metadata": {
    "colab": {
      "provenance": []
    },
    "kernelspec": {
      "name": "python3",
      "display_name": "Python 3"
    },
    "language_info": {
      "name": "python"
    }
  },
  "cells": [
    {
      "cell_type": "markdown",
      "source": [
        "# 1. 2024년 새해 계획 프로그램\n",
        "\n",
        "2024년도 계획을 10문장으로 적고, 그에 따른 2024년도 계획에서 중요 부분을 변수로 받아서 Input으로 받는 프로그램 만들기!\n",
        "\n",
        "1. 이번 해에는 깃허브 _을 꾸준히 한다.\n",
        "2. 2024년의 목표는 _ 언어를 배우고 _ 경험을 하는 것이다.\n",
        "3. 이번 해에는 _을 할 것이다.\n",
        "\n",
        "---\n",
        "\n"
      ],
      "metadata": {
        "id": "3fEr1SYVKiZc"
      }
    },
    {
      "cell_type": "code",
      "source": [
        "sentence_1 = input(\"1. 이번 해에는 깃허브 _을 꾸준히 한다:\")"
      ],
      "metadata": {
        "colab": {
          "base_uri": "https://localhost:8080/"
        },
        "id": "Ly5bjGrElVWM",
        "outputId": "0ed4463e-a7ac-4941-bbad-66ae0990d99b"
      },
      "execution_count": null,
      "outputs": [
        {
          "name": "stdout",
          "output_type": "stream",
          "text": [
            "1. 이번 해에는 깃허브 _을 꾸준히 한다:커밋\n"
          ]
        }
      ]
    },
    {
      "cell_type": "code",
      "source": [
        "print(f\"1. 이번 해에는 깃허브 {sentence_1}을 꾸준히 한다.\")"
      ],
      "metadata": {
        "colab": {
          "base_uri": "https://localhost:8080/"
        },
        "id": "o-qFrzYvlnUj",
        "outputId": "43bff7c2-8323-4e46-c06f-63ff1ec2592c"
      },
      "execution_count": null,
      "outputs": [
        {
          "output_type": "stream",
          "name": "stdout",
          "text": [
            "1. 이번 해에는 깃허브 커밋을 꾸준히 한다.\n"
          ]
        }
      ]
    },
    {
      "cell_type": "markdown",
      "source": [
        "---"
      ],
      "metadata": {
        "id": "sd3X5nnVqJp7"
      }
    },
    {
      "cell_type": "code",
      "source": [
        "sentence_2 = input(\"2. 2024년의 목표는 _언어를 배우고 _ 경험을 하는 것이다:\")"
      ],
      "metadata": {
        "colab": {
          "base_uri": "https://localhost:8080/"
        },
        "id": "G72yKWr1mT-I",
        "outputId": "03c8a6d8-e37e-417a-f0a0-f79445281773"
      },
      "execution_count": null,
      "outputs": [
        {
          "name": "stdout",
          "output_type": "stream",
          "text": [
            "2. 2024년의 목표는 _언어를 배우고 _ 경험을 하는 것이다:다양한\n"
          ]
        }
      ]
    },
    {
      "cell_type": "code",
      "source": [
        "print(f\"2. 이번 해에는 {sentence_2} 언어를 배우고 {sentence_2} 경험을 하는 것이다\")"
      ],
      "metadata": {
        "colab": {
          "base_uri": "https://localhost:8080/"
        },
        "id": "sMiDVXilmUob",
        "outputId": "ddb1711c-4585-49ad-943a-8b1c9521ecee"
      },
      "execution_count": null,
      "outputs": [
        {
          "output_type": "stream",
          "name": "stdout",
          "text": [
            "2. 이번 해에는 다양한 언어를 배우고 다양한 경험을 하는 것이다\n"
          ]
        }
      ]
    },
    {
      "cell_type": "markdown",
      "source": [
        "---"
      ],
      "metadata": {
        "id": "SX7q55M_qLOB"
      }
    },
    {
      "cell_type": "code",
      "source": [
        "sentence_3 = input(\"3. 이번 해에는 _을 할 것이다:\")"
      ],
      "metadata": {
        "colab": {
          "base_uri": "https://localhost:8080/"
        },
        "id": "5IIxA0Y_mVUQ",
        "outputId": "f5845cc9-b49a-4f9d-c0a3-8b87218a3ac7"
      },
      "execution_count": null,
      "outputs": [
        {
          "name": "stdout",
          "output_type": "stream",
          "text": [
            "3. 이번 해에는 _을 할 것이다:취업\n"
          ]
        }
      ]
    },
    {
      "cell_type": "code",
      "source": [
        "print(f\"3. 이번 해에는 {sentence_3}을 할 것이다\")"
      ],
      "metadata": {
        "colab": {
          "base_uri": "https://localhost:8080/"
        },
        "id": "Hywa_b2MmXXw",
        "outputId": "1f1b94dc-e92d-4ae1-a216-d7c64719ec1f"
      },
      "execution_count": null,
      "outputs": [
        {
          "output_type": "stream",
          "name": "stdout",
          "text": [
            "3. 이번 해에는 취업을 할 것이다\n"
          ]
        }
      ]
    },
    {
      "cell_type": "markdown",
      "source": [
        "# 2.1 sentence_1 수행"
      ],
      "metadata": {
        "id": "4xIuY9jRs9WW"
      }
    },
    {
      "cell_type": "code",
      "source": [
        "# 변수(어떠한 값을 입력받을 값) = input(\"내가 입력받을 값에 대한 질문\")"
      ],
      "metadata": {
        "id": "OZw2fKzbs-TQ"
      },
      "execution_count": null,
      "outputs": []
    },
    {
      "cell_type": "code",
      "source": [
        "sentence_1 = input(\"이번 해에는 매일 _ 운동을 하기로 했다: \")"
      ],
      "metadata": {
        "colab": {
          "base_uri": "https://localhost:8080/"
        },
        "id": "VHsScIVwtMqD",
        "outputId": "6e480161-50fd-4d0d-83cb-22bacaab2430"
      },
      "execution_count": null,
      "outputs": [
        {
          "name": "stdout",
          "output_type": "stream",
          "text": [
            "이번 해에는 매일 _ 운동을 하기로 했다: 유산소\n"
          ]
        }
      ]
    },
    {
      "cell_type": "code",
      "source": [
        "print(f\"이번 해에는 매일 {sentence_1} 운동을 하기로 했다.\\n\")"
      ],
      "metadata": {
        "colab": {
          "base_uri": "https://localhost:8080/"
        },
        "id": "Q3EOf9P5tbW2",
        "outputId": "87031d7c-4aca-4844-df5d-fba6aacac04c"
      },
      "execution_count": null,
      "outputs": [
        {
          "output_type": "stream",
          "name": "stdout",
          "text": [
            "이번 해에는 매일 유산소 운동을 하기로 했다.\n",
            "\n"
          ]
        }
      ]
    },
    {
      "cell_type": "code",
      "source": [
        "print(sentence_1)"
      ],
      "metadata": {
        "colab": {
          "base_uri": "https://localhost:8080/"
        },
        "id": "7HSk7Jr9t_X4",
        "outputId": "daccb9bd-f0dc-4b1e-e034-2ec6cb667b5e"
      },
      "execution_count": null,
      "outputs": [
        {
          "output_type": "stream",
          "name": "stdout",
          "text": [
            "유산소\n"
          ]
        }
      ]
    },
    {
      "cell_type": "code",
      "source": [
        "print(f\"이번 해에는 매일 {sentence_1} 운동을 하기로 했다.\\n\") # \\n은 한칸 띄어쓰기"
      ],
      "metadata": {
        "colab": {
          "base_uri": "https://localhost:8080/"
        },
        "id": "QGLYVkvOuDmd",
        "outputId": "dbf4b0c9-74cd-448d-dd9f-5aa44490c863"
      },
      "execution_count": null,
      "outputs": [
        {
          "output_type": "stream",
          "name": "stdout",
          "text": [
            "이번 해에는 매일 유산소 운동을 하기로 했다.\n",
            "\n"
          ]
        }
      ]
    },
    {
      "cell_type": "code",
      "source": [
        "sentence_2 = input(\"올해는 ___과 ___에 집중하려고 한다: \") #육아와 업무"
      ],
      "metadata": {
        "colab": {
          "base_uri": "https://localhost:8080/"
        },
        "id": "jwtyCGT-uXRS",
        "outputId": "0e6dc2df-e28d-4154-f35a-20c88b4c516f"
      },
      "execution_count": null,
      "outputs": [
        {
          "name": "stdout",
          "output_type": "stream",
          "text": [
            "올해는 ___과 ___에 집중하려고 한다: 육아 업무\n"
          ]
        }
      ]
    },
    {
      "cell_type": "code",
      "source": [
        "word_1, word_2 = sentence_2.split()  # 두 단어를 입력받고, (필수) 공백을 기준으로 분리"
      ],
      "metadata": {
        "id": "ZN7Wlu8NucnF"
      },
      "execution_count": null,
      "outputs": []
    },
    {
      "cell_type": "code",
      "source": [
        "print(f\"올해는 {word_1}과 {word_2}에 집중하려고 한다.\\n\")"
      ],
      "metadata": {
        "colab": {
          "base_uri": "https://localhost:8080/"
        },
        "id": "HHLn7AzzujZY",
        "outputId": "02ab1735-db6a-40f7-a04c-8ba3f75d3f36"
      },
      "execution_count": null,
      "outputs": [
        {
          "output_type": "stream",
          "name": "stdout",
          "text": [
            "올해는 육아과 업무에 집중하려고 한다.\n",
            "\n"
          ]
        }
      ]
    },
    {
      "cell_type": "code",
      "source": [
        "word1 = input(\"올해는 __와\")\n",
        "word2 = input(\"__에 집중하려고 한다.\")\n",
        "print(f\"올해는 {word1}와\", end = \" \")\n",
        "print(f\"{word2}에 집중하려고 한다.\")"
      ],
      "metadata": {
        "colab": {
          "base_uri": "https://localhost:8080/"
        },
        "id": "Ttac11pquvXX",
        "outputId": "3f5ac03a-40e8-4e56-fc62-b0b9abb7d2f1"
      },
      "execution_count": null,
      "outputs": [
        {
          "output_type": "stream",
          "name": "stdout",
          "text": [
            "올해는 __와육아\n",
            "__에 집중하려고 한다.업무\n",
            "올해는 육아와 업무에 집중하려고 한다.\n"
          ]
        }
      ]
    },
    {
      "cell_type": "markdown",
      "source": [
        "# 2.2 두가지 단어를 한꺼번에 받기"
      ],
      "metadata": {
        "id": "XexzEuXNw3N4"
      }
    },
    {
      "cell_type": "code",
      "source": [
        "sentence_2 = input(\"올해는 _과 _에 집중하려고 한다: \")"
      ],
      "metadata": {
        "colab": {
          "base_uri": "https://localhost:8080/"
        },
        "id": "vJBsPTB6w6g2",
        "outputId": "b410567a-5701-4c2a-88d8-e31bfd637d1e"
      },
      "execution_count": null,
      "outputs": [
        {
          "name": "stdout",
          "output_type": "stream",
          "text": [
            "올해는 _과 _에 집중하려고 한다: 육아 업무\n"
          ]
        }
      ]
    },
    {
      "cell_type": "code",
      "source": [
        "print(sentence_2)"
      ],
      "metadata": {
        "colab": {
          "base_uri": "https://localhost:8080/"
        },
        "id": "U3GzemDqxB96",
        "outputId": "8a481c79-fd0a-4459-fd16-857e56af5817"
      },
      "execution_count": null,
      "outputs": [
        {
          "output_type": "stream",
          "name": "stdout",
          "text": [
            "육아 업무\n"
          ]
        }
      ]
    },
    {
      "cell_type": "code",
      "source": [
        "word_11, word_22 = sentence_2.split()"
      ],
      "metadata": {
        "id": "iwIB5yoDxjWN"
      },
      "execution_count": null,
      "outputs": []
    },
    {
      "cell_type": "code",
      "source": [
        "print(word_11)"
      ],
      "metadata": {
        "colab": {
          "base_uri": "https://localhost:8080/"
        },
        "id": "87gEAilXxoSt",
        "outputId": "accbb322-9aa7-4a8b-ab55-290e9697a025"
      },
      "execution_count": null,
      "outputs": [
        {
          "output_type": "stream",
          "name": "stdout",
          "text": [
            "육아\n"
          ]
        }
      ]
    },
    {
      "cell_type": "markdown",
      "source": [
        "# 2.3 두가지 값을 입력 받는 법"
      ],
      "metadata": {
        "id": "KXdhM640u2To"
      }
    },
    {
      "cell_type": "code",
      "source": [
        "010 #1번\n",
        "0000 #1번\n",
        "1234 #1번\n",
        "\n",
        "-> 010-0000-1234"
      ],
      "metadata": {
        "id": "bA-iCiO_u55q"
      },
      "execution_count": null,
      "outputs": []
    },
    {
      "cell_type": "code",
      "source": [
        "# 2가지 input 받아보기\n",
        "\n",
        "word1 = input(\"올해는 __와\")\n",
        "word2 = input(\"__에 집중하려고 한다.\")"
      ],
      "metadata": {
        "colab": {
          "base_uri": "https://localhost:8080/"
        },
        "id": "UlPFqswpu7fZ",
        "outputId": "443682d0-5fa4-451a-a581-8d16a3c46c62"
      },
      "execution_count": null,
      "outputs": [
        {
          "name": "stdout",
          "output_type": "stream",
          "text": [
            "올해는 __와육아\n",
            "__에 집중하려고 한다.업무\n"
          ]
        }
      ]
    },
    {
      "cell_type": "code",
      "source": [
        "# 1. 한 문장안에 word1, word2 둘 다 출력하기(가장 기본)\n",
        "print(f\"올해는 {word1}와 {word2}에 집중하려고 한다.\")"
      ],
      "metadata": {
        "colab": {
          "base_uri": "https://localhost:8080/"
        },
        "id": "iql2vzZTved_",
        "outputId": "b7a68253-b039-4b6b-e27c-63887d534941"
      },
      "execution_count": null,
      "outputs": [
        {
          "output_type": "stream",
          "name": "stdout",
          "text": [
            "올해는 육아와 업무에 집중하려고 한다.\n"
          ]
        }
      ]
    },
    {
      "cell_type": "code",
      "source": [
        "# 2. end를 사용해서 다른 두 문장 합치기"
      ],
      "metadata": {
        "id": "pJE-jrXyvvUv"
      },
      "execution_count": null,
      "outputs": []
    },
    {
      "cell_type": "code",
      "source": [
        "print(f\"올해는 {word1}와\", end = \" \")\n",
        "print(f\"{word2}에 집중하려고 한다.\")"
      ],
      "metadata": {
        "colab": {
          "base_uri": "https://localhost:8080/"
        },
        "id": "vPk9TK5Zu8bh",
        "outputId": "4c955d38-7726-4d82-a415-7729aae7fdae"
      },
      "execution_count": null,
      "outputs": [
        {
          "output_type": "stream",
          "name": "stdout",
          "text": [
            "올해는 육아와 업무에 집중하려고 한다.\n"
          ]
        }
      ]
    }
  ]
}