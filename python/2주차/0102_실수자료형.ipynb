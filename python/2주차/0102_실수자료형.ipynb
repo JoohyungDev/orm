{
  "nbformat": 4,
  "nbformat_minor": 0,
  "metadata": {
    "colab": {
      "provenance": []
    },
    "kernelspec": {
      "name": "python3",
      "display_name": "Python 3"
    },
    "language_info": {
      "name": "python"
    }
  },
  "cells": [
    {
      "cell_type": "markdown",
      "source": [
        "# 1.1 실수 타입의 변수 생성"
      ],
      "metadata": {
        "id": "fJeMmPoRH85I"
      }
    },
    {
      "cell_type": "code",
      "execution_count": null,
      "metadata": {
        "id": "S3arnzX4Hw34"
      },
      "outputs": [],
      "source": [
        "x = 10.0\n",
        "y = 10\n",
        "print(type(x), type(y)) # 출력 : <class 'float'> <class 'int'>"
      ]
    },
    {
      "cell_type": "markdown",
      "source": [
        "실수와 실수의 사칙연산, 실수와 정수의 사칙연산은 결과는 실수로 나옵니다. 다만 정수의 경우에는 정수와 정수의 사칙연산이라 하더라도 실수로 나오는 경우가 있습니다. 10/3과 같은 연산이 그러합니다."
      ],
      "metadata": {
        "id": "N87GPBoJIC_e"
      }
    },
    {
      "cell_type": "markdown",
      "source": [
        "# 2. float의 특수값"
      ],
      "metadata": {
        "id": "gH9y-TOYIEQO"
      }
    },
    {
      "cell_type": "markdown",
      "source": [
        "파이썬의 float 클래스에는 몇몇 특별한 값을 가진 상수들이 있습니다. 여기서는 자주 사용되는 양의 무한대와 음의 무한대를 알아보도록 하겠습니다."
      ],
      "metadata": {
        "id": "bConv7P2IJNm"
      }
    },
    {
      "cell_type": "code",
      "source": [
        "# 양의 무한대\n",
        "x = float(\"inf\")"
      ],
      "metadata": {
        "id": "xByaXwGDILQW"
      },
      "execution_count": 1,
      "outputs": []
    },
    {
      "cell_type": "code",
      "source": [
        "# 음의 무한\n",
        "x = float(\"-inf\")"
      ],
      "metadata": {
        "id": "18qnjbDGIN33"
      },
      "execution_count": null,
      "outputs": []
    },
    {
      "cell_type": "code",
      "source": [
        "float(\"inf\") > 10"
      ],
      "metadata": {
        "id": "CK3uknbOIS6O"
      },
      "execution_count": null,
      "outputs": []
    },
    {
      "cell_type": "markdown",
      "source": [
        "# 3. 실수의 부동소수점 문제"
      ],
      "metadata": {
        "id": "BP640fj0IT5_"
      }
    },
    {
      "cell_type": "markdown",
      "source": [
        "1. 컴퓨터의 연산이 항상 정확하진 않다.\n",
        "2. 이를 고려하여 코딩해야 한다.\n",
        "\n",
        "파이썬의 `float`는 IEEE 754 표준을 따르는 64비트 배정밀도(double precision)로 구현되어 있습니다. 갑자기 이런 어려운 단어를 꺼낸 이유는 이 표준이 10진수 숫자를 표현하는데 완벽하지 않기 때문입니다. 또한 혹시 궁금하신 분들을 위해 더 찾아볼 키워드를 드리기 위해서입니다.\n",
        "\n",
        "예를 들어 아래와 같은 연산은 컴퓨터가 정확히 연산할 수 없습니다. 대부분의 프로그래밍 언어에서 이를 정확히 처리하지 못합니다."
      ],
      "metadata": {
        "id": "hG9jxmUiIVaf"
      }
    },
    {
      "cell_type": "code",
      "source": [
        "10.1 + 10.2"
      ],
      "metadata": {
        "colab": {
          "base_uri": "https://localhost:8080/"
        },
        "id": "VzF2JNDLIap-",
        "outputId": "0834791c-86cd-4a79-9bba-a77f2695a459"
      },
      "execution_count": 2,
      "outputs": [
        {
          "output_type": "execute_result",
          "data": {
            "text/plain": [
              "20.299999999999997"
            ]
          },
          "metadata": {},
          "execution_count": 2
        }
      ]
    },
    {
      "cell_type": "code",
      "source": [
        "# 출력\n",
        "20.299999999999997"
      ],
      "metadata": {
        "id": "R5iPdCZkIex3"
      },
      "execution_count": null,
      "outputs": []
    },
    {
      "cell_type": "markdown",
      "source": [
        "어떻게 이런 현상이 일어나게 되는 것일까요?\n",
        "\n",
        "이를 이해하기 위해서는 우선 10진수를 2진수로 바꾸는 방법을 알아야 합니다. 프로그래밍 언어는 기본적으로 사람이 사용하기 편리하도록 10진수를 기반으로 수를 표현하지만 컴파일 과정에서 2진수로 전환되기 때문입니다.\n",
        "\n",
        "앞의 정수부(0)는 그대로 두고 소수부에 1이 나올 때까지 2를 곱합니다."
      ],
      "metadata": {
        "id": "Wk9p0ebXIhrY"
      }
    },
    {
      "cell_type": "markdown",
      "source": [
        ".5 * 2 === 1"
      ],
      "metadata": {
        "id": "md5Jn998IizG"
      }
    },
    {
      "cell_type": "markdown",
      "source": [
        "1이 나오면 이제 정수부와 합쳐봅니다.\n",
        "\n",
        "이것이 소수를 이진수로 바꾸는 방법입니다.\n",
        "0.5의 이진수 표현은 0.1"
      ],
      "metadata": {
        "id": "v9lqysD6InGF"
      }
    },
    {
      "cell_type": "markdown",
      "source": [
        "이번에는 0.1을 이진수로 바꿔보겠습니다.\n"
      ],
      "metadata": {
        "id": "hNzQZgqEI4Kl"
      }
    },
    {
      "cell_type": "code",
      "source": [
        ".1 * 2 === 0.2,\n",
        ".2 * 2 === 0.4,\n",
        ".4 * 2 === 0.8,\n",
        ".8 * 2 === 1.6,\n",
        ".6 * 2 === 1.2,\n",
        ".2 * 2 === 0.4, # 여기서부터 같은 결과가 반복되기 시작합니다.\n",
        ".4 * 2 === 0.8,\n",
        ".8 * 2 === 1.6,\n",
        ".6 * 2 === 1.2,\n",
        ".2 * 2 === 0.4,\n",
        ".4 * 2 === 0.8,\n",
        ".8 * 2 === 1.6,\n",
        ".6 * 2 === 1.2,\n",
        ".\n",
        ".\n",
        ".\n",
        "정부수와 합치면 결과는 0.000110011001100110011... 이 됩니다."
      ],
      "metadata": {
        "id": "l2IX_NdvIqWW"
      },
      "execution_count": null,
      "outputs": []
    },
    {
      "cell_type": "markdown",
      "source": [
        "0.5와 다르게 0.1은 무한소수가 됩니다. 컴퓨터는 메모리의 한계로 무한한 값을 저장할 수 없기 때문에 적당한 소수점 위치에서 반올림하여 계산을 종료합니다.\n"
      ],
      "metadata": {
        "id": "u95OEW0KI2N5"
      }
    },
    {
      "cell_type": "markdown",
      "source": [
        "실제로 파이썬이 표현 가능한 0.3과 가장 가까운 수는 `0.299999999999999988897769753748434595763683319091796875`\n",
        "입니다. 하지만 여기서 적당히 소수점 버림을 하면 0.1 + 0.2 의 답은 0.2 가 되어버리기 때문에 표현할 수 있는 살짝 더 큰 수인 `0.30000000000000004` 를 반환하는 것입니다.\n",
        "\n",
        "**해결하기**"
      ],
      "metadata": {
        "id": "WlgdDUoOI-Gd"
      }
    },
    {
      "cell_type": "markdown",
      "source": [
        "이를 해결하는 방법은 여러가지 방법이 있습니다. python에서는 decimal을 사용하여 좀 더 정확한 연산을 할 수 있습니다. 아래 서비스는 여러가지 언어들에서 발생하는 문제를 해결하는 방법을 담고 있습니다. 다른 언어를 하실 때에도 아래 서비스를 이용하시면 쉽게 해결책을 검색해볼 수 있습니다."
      ],
      "metadata": {
        "id": "iq2HLxmgJA4u"
      }
    },
    {
      "cell_type": "markdown",
      "source": [
        "# 4. 나아가기"
      ],
      "metadata": {
        "id": "7VpqFalMJFfP"
      }
    },
    {
      "cell_type": "markdown",
      "source": [
        "10에 승수는 e나 E로 표현할 수 있습니다. 이는 모두 float형으로 표현됩니다."
      ],
      "metadata": {
        "id": "WGfizp1QJNBf"
      }
    },
    {
      "cell_type": "code",
      "source": [
        "print(2e3) # 지수표현, float형\n",
        "print(2E3)\n",
        "\n",
        "2 * (10 ** 3) # int 형"
      ],
      "metadata": {
        "id": "PrHDGAy8JQyV"
      },
      "execution_count": null,
      "outputs": []
    },
    {
      "cell_type": "code",
      "source": [
        "# 출력\n",
        "2000.0\n",
        "2000.0\n",
        "2000"
      ],
      "metadata": {
        "id": "0hqTNWajJRjj"
      },
      "execution_count": null,
      "outputs": []
    },
    {
      "cell_type": "markdown",
      "source": [
        "float형은 표현할 수 있는 수, 부동 소수점이 표현할 수 있는 수를 넘겨버리면 무한수로 취급됩니다.\n",
        "\n",
        "항상 모든 수에서 float('inf')가 더 큰 값은 아니라는 점을 기억해주세요."
      ],
      "metadata": {
        "id": "AY9vd8rQJX_J"
      }
    }
  ]
}