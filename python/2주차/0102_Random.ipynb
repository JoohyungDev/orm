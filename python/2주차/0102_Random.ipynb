{
  "nbformat": 4,
  "nbformat_minor": 0,
  "metadata": {
    "colab": {
      "provenance": []
    },
    "kernelspec": {
      "name": "python3",
      "display_name": "Python 3"
    },
    "language_info": {
      "name": "python"
    }
  },
  "cells": [
    {
      "cell_type": "markdown",
      "source": [
        "# 1. Randrange() 함수\n"
      ],
      "metadata": {
        "id": "_oPmWvtSOlVG"
      }
    },
    {
      "cell_type": "code",
      "execution_count": null,
      "metadata": {
        "colab": {
          "base_uri": "https://localhost:8080/"
        },
        "id": "BWO4RKWa0y63",
        "outputId": "a2150835-c202-4fbe-c004-3be96a64180f"
      },
      "outputs": [
        {
          "output_type": "stream",
          "name": "stdout",
          "text": [
            "8\n"
          ]
        }
      ],
      "source": [
        "num = random.randrange(0,10)  # 시작값부터 끝값-1까지의 숫자중에서 무작위로 선택\n",
        "print(num)"
      ]
    },
    {
      "cell_type": "markdown",
      "source": [
        "# 2. 기본 사용법"
      ],
      "metadata": {
        "id": "JW1DSvSfOtJV"
      }
    },
    {
      "cell_type": "code",
      "source": [
        "import random\n",
        "\n",
        "# 0~9까지의 임의의 숫자를 선택하는 코드 작성\n",
        "\n",
        "num = random.randint(0,9)\n",
        "print(num)"
      ],
      "metadata": {
        "colab": {
          "base_uri": "https://localhost:8080/"
        },
        "id": "r5wkA1TT1Kr5",
        "outputId": "43756b0c-3e36-4944-f972-f6dd6ed53372"
      },
      "execution_count": null,
      "outputs": [
        {
          "output_type": "stream",
          "name": "stdout",
          "text": [
            "0\n"
          ]
        }
      ]
    },
    {
      "cell_type": "markdown",
      "source": [
        "# 3. 주석 입력"
      ],
      "metadata": {
        "id": "iwTvIcso_sEe"
      }
    },
    {
      "cell_type": "code",
      "source": [
        "# 이 코드는 Random 라이브러리를 사용한 예시입니다.\n",
        "import random  # random 라이브러리를 가져옵니다.\n",
        "\n",
        "# 두 개의 무작위 숫자를 생성하는 코드\n",
        "random_number1 = random.randint(1, 10)  # 1부터 9까지의 숫자 1개를 가져온다.\n",
        "random_number2 = random.randint(1, 10)  # 1부터 9까지의 숫자 1개를 가져온다.\n",
        "\n",
        "# 두 개의 무작위 숫자를 합산하는 코드 / 생성된 두 숫자의 합 계산\n",
        "sum_of_numbers = random_number1 + random_number2\n",
        "\n",
        "# 결과 출력\n",
        "print(f\"첫 번째 생성된 숫자: {random_number1}\")   # 첫번째 생성된 값\n",
        "print(f\"두 번째 생성된 숫자: {random_number2}\")   # 두번째 생성된 값\n",
        "print(f\"두 숫자의 합: {sum_of_numbers}\")    # 두 숫자의 합 출력"
      ],
      "metadata": {
        "id": "rXsUy-5K1NAM"
      },
      "execution_count": null,
      "outputs": []
    },
    {
      "cell_type": "markdown",
      "source": [
        "# 주사위 던지기 실습"
      ],
      "metadata": {
        "id": "NrC_b7kEB0Cg"
      }
    },
    {
      "cell_type": "code",
      "source": [
        "import random   # random 라이브러리 가져오기\n",
        "\n",
        "dice1 = random.randrange(1, 7)  # 첫번째 주사위 던지기\n",
        "dice2 = random.randrange(1, 7)  # 두번째 주사위 던지기"
      ],
      "metadata": {
        "id": "7ik7KzoRB2Mr"
      },
      "execution_count": null,
      "outputs": []
    },
    {
      "cell_type": "code",
      "source": [
        "total = dice1 + dice2   # 주사위 눈 합산"
      ],
      "metadata": {
        "id": "a9bhoAJPB_xG"
      },
      "execution_count": null,
      "outputs": []
    },
    {
      "cell_type": "code",
      "source": [
        "print(f\"주사위 결과: {dice1} + {dice2} = {total}\")  # f-string으로 결과 출력"
      ],
      "metadata": {
        "id": "hYCu8FJCCCGj"
      },
      "execution_count": null,
      "outputs": []
    },
    {
      "cell_type": "markdown",
      "source": [
        "# 윷놀이 프로그래밍"
      ],
      "metadata": {
        "id": "-zWTkgZNEtWf"
      }
    },
    {
      "cell_type": "code",
      "source": [
        "import random\n",
        "\n",
        "throw1 = random.choice([0, 1])\n",
        "throw2 = random.choice([0, 1])\n",
        "throw3 = random.choice([0, 1])\n",
        "throw4 = random.choice([0, 1])\n",
        "\n",
        "total_back = throw1 + throw2 + throw3 + throw4  # 뒷면 합산\n",
        "\n",
        "results = ['모', '도', '개', '걸', '윷']  # 전부 0(앞)이면 모, 1개만 1이면 도..\n",
        "\n",
        "print(results[total_back])"
      ],
      "metadata": {
        "colab": {
          "base_uri": "https://localhost:8080/"
        },
        "id": "47TWi9A8Eva6",
        "outputId": "45c430f4-8db7-4471-8412-36ae993a9581"
      },
      "execution_count": null,
      "outputs": [
        {
          "output_type": "stream",
          "name": "stdout",
          "text": [
            "걸\n"
          ]
        }
      ]
    }
  ]
}