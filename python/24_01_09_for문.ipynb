{
  "nbformat": 4,
  "nbformat_minor": 0,
  "metadata": {
    "colab": {
      "provenance": []
    },
    "kernelspec": {
      "name": "python3",
      "display_name": "Python 3"
    },
    "language_info": {
      "name": "python"
    }
  },
  "cells": [
    {
      "cell_type": "code",
      "execution_count": null,
      "metadata": {
        "id": "3QgChhT9EmK3"
      },
      "outputs": [],
      "source": [
        "for 변수명 in 순회_가능한_객체 :\n",
        "    pass # 수행할_문장"
      ]
    },
    {
      "cell_type": "code",
      "source": [
        "#반복문 기초 - 문자열\n",
        "#1. 'hello'를 순서대로 하나씩 단어를 꺼내서\n",
        "#2. x에 하나씩 넣은 다음에\n",
        "#3. 하나씩 for문 아래 코드블럭을 수행한다.\n",
        "#4. 그리고 순서가 마쳐지면 -> 다음 시퀀스(순서)로 넘어가서 똑같은 작업을 수행한다.\n",
        "\n",
        "for x in 'hello': # 순회 가능한 객체가 들어갑니다.\n",
        "    print(f'현재 값은 {x} 입니다.')"
      ],
      "metadata": {
        "colab": {
          "base_uri": "https://localhost:8080/"
        },
        "id": "ZDRFBQX8Fkwp",
        "outputId": "d3900800-3f2e-4324-bf97-81f466ce442c"
      },
      "execution_count": 2,
      "outputs": [
        {
          "output_type": "stream",
          "name": "stdout",
          "text": [
            "현재 값은 h 입니다.\n",
            "현재 값은 e 입니다.\n",
            "현재 값은 l 입니다.\n",
            "현재 값은 l 입니다.\n",
            "현재 값은 o 입니다.\n"
          ]
        }
      ]
    },
    {
      "cell_type": "code",
      "source": [
        "for x in (1, 2, 3, 4, 5):\n",
        "    print(f'현재 값은 {x} 입니다.')"
      ],
      "metadata": {
        "colab": {
          "base_uri": "https://localhost:8080/"
        },
        "id": "FVQjFTFNGnFk",
        "outputId": "10558574-8be6-4b8e-ddc2-d758820bce53"
      },
      "execution_count": 3,
      "outputs": [
        {
          "output_type": "stream",
          "name": "stdout",
          "text": [
            "현재 값은 1 입니다.\n",
            "현재 값은 2 입니다.\n",
            "현재 값은 3 입니다.\n",
            "현재 값은 4 입니다.\n",
            "현재 값은 5 입니다.\n"
          ]
        }
      ]
    },
    {
      "cell_type": "code",
      "source": [
        "s = 'hello world'\n",
        "for i in s:\n",
        "    print(i)"
      ],
      "metadata": {
        "colab": {
          "base_uri": "https://localhost:8080/"
        },
        "id": "XpsgafbEGxfM",
        "outputId": "4de54602-bca3-4762-b8f8-44d7b9431e8d"
      },
      "execution_count": 4,
      "outputs": [
        {
          "output_type": "stream",
          "name": "stdout",
          "text": [
            "h\n",
            "e\n",
            "l\n",
            "l\n",
            "o\n",
            " \n",
            "w\n",
            "o\n",
            "r\n",
            "l\n",
            "d\n"
          ]
        }
      ]
    },
    {
      "cell_type": "code",
      "source": [
        "s = '123'\n",
        "result = 0\n",
        "for i in s:\n",
        "    result += int(i)\n",
        "result"
      ],
      "metadata": {
        "colab": {
          "base_uri": "https://localhost:8080/"
        },
        "id": "QbP2IUNSHpOS",
        "outputId": "bf71dec7-e521-4a9c-ff6b-72a8e7ea1d02"
      },
      "execution_count": 6,
      "outputs": [
        {
          "output_type": "execute_result",
          "data": {
            "text/plain": [
              "6"
            ]
          },
          "metadata": {},
          "execution_count": 6
        }
      ]
    },
    {
      "cell_type": "code",
      "source": [
        "# 아무런 설정을 하지 않으면 딕셔너리에서는 key 값이 나옴\n",
        "단어_사전 = {\n",
        "    '하나' : 'one',\n",
        "    '둘' : 'two',\n",
        "    '셋' : 'three',\n",
        "}\n",
        "\n",
        "for i in 단어_사전:\n",
        "    print(i)"
      ],
      "metadata": {
        "colab": {
          "base_uri": "https://localhost:8080/"
        },
        "id": "LkIlVu9uHsAe",
        "outputId": "17bb8074-1c15-41d5-c5ac-788ba9c3a2cd"
      },
      "execution_count": 7,
      "outputs": [
        {
          "output_type": "stream",
          "name": "stdout",
          "text": [
            "하나\n",
            "둘\n",
            "셋\n"
          ]
        }
      ]
    },
    {
      "cell_type": "code",
      "source": [
        "for key, value in 단어_사전.items():\n",
        "    print(f'{key} : {value}')"
      ],
      "metadata": {
        "colab": {
          "base_uri": "https://localhost:8080/"
        },
        "id": "phWnOUZlMFud",
        "outputId": "fb24f744-21ca-49a5-ad59-9c535d061aaa"
      },
      "execution_count": 9,
      "outputs": [
        {
          "output_type": "stream",
          "name": "stdout",
          "text": [
            "하나 : one\n",
            "둘 : two\n",
            "셋 : three\n"
          ]
        }
      ]
    },
    {
      "cell_type": "code",
      "source": [
        "n = 100\n",
        "result = (n + 1) * n / 2\n",
        "result"
      ],
      "metadata": {
        "colab": {
          "base_uri": "https://localhost:8080/"
        },
        "id": "G9bmViwfLuRS",
        "outputId": "87f4cb4b-2639-4d3e-bd90-ffa1856a9b47"
      },
      "execution_count": 8,
      "outputs": [
        {
          "output_type": "execute_result",
          "data": {
            "text/plain": [
              "5050.0"
            ]
          },
          "metadata": {},
          "execution_count": 8
        }
      ]
    },
    {
      "cell_type": "code",
      "source": [
        "result = 0\n",
        "# 비어있는 자료형도 자료형임. None도 자료형\n",
        "for i in range(101):    #  0~100까지 시퀀스 자료형을 불러온다.\n",
        "    if i % 2 == 0:      # 0~100까지 중에서 짝수만 가져옴\n",
        "        result += i     # 짝수를 가져와 누적으로 더함.\n",
        "result"
      ],
      "metadata": {
        "colab": {
          "base_uri": "https://localhost:8080/"
        },
        "id": "W-ournG5MAls",
        "outputId": "b181ce81-5eb0-4595-bf45-9efa738496f1"
      },
      "execution_count": 10,
      "outputs": [
        {
          "output_type": "execute_result",
          "data": {
            "text/plain": [
              "2550"
            ]
          },
          "metadata": {},
          "execution_count": 10
        }
      ]
    },
    {
      "cell_type": "code",
      "source": [
        "result = 0\n",
        "for i in range(0, 101, 2):\n",
        "    result += i\n",
        "result"
      ],
      "metadata": {
        "colab": {
          "base_uri": "https://localhost:8080/"
        },
        "id": "KDupKGCLMOpR",
        "outputId": "a3e76dfc-945b-4f9e-80f6-bf5b309d6247"
      },
      "execution_count": 11,
      "outputs": [
        {
          "output_type": "execute_result",
          "data": {
            "text/plain": [
              "2550"
            ]
          },
          "metadata": {},
          "execution_count": 11
        }
      ]
    },
    {
      "cell_type": "markdown",
      "source": [
        "# 중첩 반복문"
      ],
      "metadata": {
        "id": "RBo34nauNTDM"
      }
    },
    {
      "cell_type": "code",
      "source": [
        "for i in [[1, 2], [10, 20], [100, 200]]:\n",
        "    for j in i:\n",
        "        print(j)"
      ],
      "metadata": {
        "colab": {
          "base_uri": "https://localhost:8080/"
        },
        "id": "XMjhn_A2Noa0",
        "outputId": "3f654d1b-0c5d-4600-a46b-89b10d4fb775"
      },
      "execution_count": 12,
      "outputs": [
        {
          "output_type": "stream",
          "name": "stdout",
          "text": [
            "1\n",
            "2\n",
            "10\n",
            "20\n",
            "100\n",
            "200\n"
          ]
        }
      ]
    },
    {
      "cell_type": "code",
      "source": [
        "# 1. 구조를 정한다.\n",
        "# 2. 최소한의 반복문만 수행\n",
        "# 3. 각 반복문을 print()해본다."
      ],
      "metadata": {
        "id": "GDKXW4SqPW2U"
      },
      "execution_count": null,
      "outputs": []
    },
    {
      "cell_type": "code",
      "source": [
        "for i in range(2, 10):\n",
        "    # i는 2부터 시작해서 9까지 반복\n",
        "    print(f'---{i}단---')   # 1,2,3...9단\n",
        "    for j in range(1, 10):  # j는 i가 실행될 때마다 반복. 1~9까지 반복\n",
        "        print(f'{i} X {j} = {i * j}')   # 2x1, 2x2 ... 2x9 ... 9x9까지 출력"
      ],
      "metadata": {
        "id": "iC3HxdzIQcOB"
      },
      "execution_count": null,
      "outputs": []
    },
    {
      "cell_type": "markdown",
      "source": [
        "# 리스트 컴프리핸션"
      ],
      "metadata": {
        "id": "WWqb4IssRcac"
      }
    },
    {
      "cell_type": "markdown",
      "source": [
        "리스트 컴프리헨션(list comprehension)은 파이썬에서 간결하게 리스트를 생성하는 기능으로, 반복문과 조건문을 결합하여 리스트를 생성합니다."
      ],
      "metadata": {
        "id": "glTR-8i7SHLI"
      }
    },
    {
      "cell_type": "code",
      "source": [
        "# 기본 반복문\n",
        "x = []\n",
        "\n",
        "for i in range(1, 10):\n",
        "  x.append(i)\n",
        "\n",
        "print(x)"
      ],
      "metadata": {
        "id": "k_X-BfZGS6v_"
      },
      "execution_count": null,
      "outputs": []
    },
    {
      "cell_type": "code",
      "source": [
        "# step1 list안에 for문을 가져옵니다.\n",
        "[for i in range(1, 10)]\n",
        "\n",
        "# step2 append 항목을 앞으로 가져옵니다.\n",
        "a = [i for i in range(1, 10)] # 출력: [1, 2, 3, 4, 5, 6, 7, 8, 9]\n",
        "b = [i*2 for i in range(1, 10)] # 출력: [1, 2, 3, 4, 5, 6, 7, 8, 9]\n",
        "print(a)\n",
        "print(b)"
      ],
      "metadata": {
        "colab": {
          "base_uri": "https://localhost:8080/"
        },
        "id": "kDtxxk0PSJUP",
        "outputId": "24ea7f9f-c84a-4ed6-d062-78b00b0e0516"
      },
      "execution_count": 17,
      "outputs": [
        {
          "output_type": "stream",
          "name": "stdout",
          "text": [
            "[1, 2, 3, 4, 5, 6, 7, 8, 9]\n",
            "[2, 4, 6, 8, 10, 12, 14, 16, 18]\n"
          ]
        }
      ]
    },
    {
      "cell_type": "code",
      "source": [
        "l = [i for i in range(1, 100) if i % 3 == 0 or i % 5 == 0]\n",
        "print(l)"
      ],
      "metadata": {
        "colab": {
          "base_uri": "https://localhost:8080/"
        },
        "id": "EkrzwddwSOAR",
        "outputId": "b411d165-5d37-404d-f65a-9519ea0f6b83"
      },
      "execution_count": 18,
      "outputs": [
        {
          "output_type": "stream",
          "name": "stdout",
          "text": [
            "[3, 5, 6, 9, 10, 12, 15, 18, 20, 21, 24, 25, 27, 30, 33, 35, 36, 39, 40, 42, 45, 48, 50, 51, 54, 55, 57, 60, 63, 65, 66, 69, 70, 72, 75, 78, 80, 81, 84, 85, 87, 90, 93, 95, 96, 99]\n"
          ]
        }
      ]
    },
    {
      "cell_type": "code",
      "source": [
        "l = []\n",
        "for i in range(1, 100):\n",
        "    if i % 3 == 0 or i % 5 == 0:\n",
        "        l.append(i)\n",
        "print(l)"
      ],
      "metadata": {
        "colab": {
          "base_uri": "https://localhost:8080/"
        },
        "id": "xhHEFqPSU7gx",
        "outputId": "ff2f4370-d214-419d-a68f-afc380effb12"
      },
      "execution_count": 19,
      "outputs": [
        {
          "output_type": "stream",
          "name": "stdout",
          "text": [
            "[3, 5, 6, 9, 10, 12, 15, 18, 20, 21, 24, 25, 27, 30, 33, 35, 36, 39, 40, 42, 45, 48, 50, 51, 54, 55, 57, 60, 63, 65, 66, 69, 70, 72, 75, 78, 80, 81, 84, 85, 87, 90, 93, 95, 96, 99]\n"
          ]
        }
      ]
    },
    {
      "cell_type": "code",
      "source": [
        "# 리스트 컴프리헨션: 중첩된 반복문\n",
        "c = [f'{i} × {j} = {i*j}' for i in range(2, 10) for j in range(1, 10)]\n",
        "\n",
        "# 리스트 컴프리헨션: 중첩된 컴프리헨션\n",
        "cc = [[f'{i} × {j} = {i*j}' for j in range(1, 10)] for i in range(2, 10)]\n",
        "\n",
        "# 전통적인 방법\n",
        "c_list = []\n",
        "for i in range(2, 10):\n",
        "    for j in range(1, 10):\n",
        "        c_list.append(f'{i} × {j} = {i*j}')"
      ],
      "metadata": {
        "id": "SwGCEdTkn-YZ"
      },
      "execution_count": 22,
      "outputs": []
    },
    {
      "cell_type": "code",
      "source": [
        "# 컴프리헨션 내 함수 사용하기\n",
        "def sumthingFunction(i):\n",
        "    if i % 100 ==0:\n",
        "        return i\n",
        "    else:\n",
        "        return 0\n",
        "\n",
        "l = [100, 200, 300, 101, 202, 303]\n",
        "l = [sumthingFunction(i) for i in l]\n",
        "l # 출력: [100, 200, 300, 0, 0, 0]"
      ],
      "metadata": {
        "colab": {
          "base_uri": "https://localhost:8080/"
        },
        "id": "BheG9YBvpNv0",
        "outputId": "0f086d7e-e079-49c7-8f34-7c8ae2631a36"
      },
      "execution_count": 23,
      "outputs": [
        {
          "output_type": "execute_result",
          "data": {
            "text/plain": [
              "[100, 200, 300, 0, 0, 0]"
            ]
          },
          "metadata": {},
          "execution_count": 23
        }
      ]
    },
    {
      "cell_type": "code",
      "source": [
        "# 전통적인 방법\n",
        "d = {}\n",
        "for i in range(5):\n",
        "    d[i] = i**2\n",
        "\n",
        "# 딕셔너리 컴프리헨션 사용\n",
        "dd = {i: i**2 for i in range(5)}\n",
        "print(d)\n",
        "print(dd)"
      ],
      "metadata": {
        "colab": {
          "base_uri": "https://localhost:8080/"
        },
        "id": "OkZ67BuJpRYf",
        "outputId": "dc47ca85-10aa-4199-b9f5-0c703e932018"
      },
      "execution_count": 28,
      "outputs": [
        {
          "output_type": "stream",
          "name": "stdout",
          "text": [
            "{0: 0, 1: 1, 2: 4, 3: 9, 4: 16}\n",
            "{0: 0, 1: 1, 2: 4, 3: 9, 4: 16}\n"
          ]
        }
      ]
    },
    {
      "cell_type": "code",
      "source": [
        "# 복합 순회형 자료 for문\n",
        "\n",
        "for i, j, k in ['abc', 'def', 'ghi']:\n",
        "    print(i, j, k)"
      ],
      "metadata": {
        "colab": {
          "base_uri": "https://localhost:8080/"
        },
        "id": "A2_8yP6_q0sE",
        "outputId": "092edbda-bc1d-4fdb-be29-6fe65e4c134b"
      },
      "execution_count": 29,
      "outputs": [
        {
          "output_type": "stream",
          "name": "stdout",
          "text": [
            "a b c\n",
            "d e f\n",
            "g h i\n"
          ]
        }
      ]
    },
    {
      "cell_type": "code",
      "source": [
        "skill = [\n",
        "        ('고기잡이', 100),\n",
        "        ('고기팔기', 120),\n",
        "        ('낚시', 5),\n",
        "        ('통발', 5),\n",
        "        ('큰그물', 5)\n",
        "]\n",
        "\n",
        "for i, j in skill:\n",
        "    print(i, j)"
      ],
      "metadata": {
        "colab": {
          "base_uri": "https://localhost:8080/"
        },
        "id": "gE-NO3YGr2hc",
        "outputId": "0fd82f49-9753-4539-eb85-234a8760c535"
      },
      "execution_count": 30,
      "outputs": [
        {
          "output_type": "stream",
          "name": "stdout",
          "text": [
            "고기잡이 100\n",
            "고기팔기 120\n",
            "낚시 5\n",
            "통발 5\n",
            "큰그물 5\n"
          ]
        }
      ]
    },
    {
      "cell_type": "code",
      "source": [
        "# 하나만 리스트여도 쌍이면 상관없이 잘 돌아감\n",
        "skill = [\n",
        "        ('고기잡이', 100, 'SS'),\n",
        "        ('고기팔기', 120, 'SSS'),\n",
        "        ('낚시', 5, 'C'),\n",
        "        ('통발', 5, 'C'),\n",
        "        ('큰그물', 5, 'C')\n",
        "]\n",
        "\n",
        "for skillName, skillLevel, skillGrade in skill:\n",
        "    print(skillName, skillLevel, skillGrade)"
      ],
      "metadata": {
        "colab": {
          "base_uri": "https://localhost:8080/"
        },
        "id": "Rn1N74hYsos-",
        "outputId": "3a778926-c931-4d79-d496-f7dd003863fb"
      },
      "execution_count": 31,
      "outputs": [
        {
          "output_type": "stream",
          "name": "stdout",
          "text": [
            "고기잡이 100 SS\n",
            "고기팔기 120 SSS\n",
            "낚시 5 C\n",
            "통발 5 C\n",
            "큰그물 5 C\n"
          ]
        }
      ]
    },
    {
      "cell_type": "code",
      "source": [
        "# enumerate\n",
        "영화누적관객수 = ['레미제라블', '뷰티인사이트', '매트릭스', '인셉션', '어거스트 러쉬']\n",
        "for i in enumerate(영화누적관객수):\n",
        "    print(i)\n",
        "\n",
        "for i, j in enumerate(영화누적관객수, 1):\n",
        "    print(f'누적관객수 {i}위! {j}!')"
      ],
      "metadata": {
        "colab": {
          "base_uri": "https://localhost:8080/"
        },
        "id": "b7sPE-4stfmv",
        "outputId": "8f17dee1-cc67-473e-a377-c6c67608d331"
      },
      "execution_count": 32,
      "outputs": [
        {
          "output_type": "stream",
          "name": "stdout",
          "text": [
            "(0, '레미제라블')\n",
            "(1, '뷰티인사이트')\n",
            "(2, '매트릭스')\n",
            "(3, '인셉션')\n",
            "(4, '어거스트 러쉬')\n",
            "누적관객수 1위! 레미제라블!\n",
            "누적관객수 2위! 뷰티인사이트!\n",
            "누적관객수 3위! 매트릭스!\n",
            "누적관객수 4위! 인셉션!\n",
            "누적관객수 5위! 어거스트 러쉬!\n"
          ]
        }
      ]
    },
    {
      "cell_type": "code",
      "source": [
        "for i, j in enumerate(영화누적관객수, 1):   # 1부터 시작. 기본값은 0\n",
        "    print(f'누적관객수 {i}위! {j}!')"
      ],
      "metadata": {
        "colab": {
          "base_uri": "https://localhost:8080/"
        },
        "id": "jqGMeUiHuHPm",
        "outputId": "f596f222-4de7-4610-a764-e1d8fd100de2"
      },
      "execution_count": 33,
      "outputs": [
        {
          "output_type": "stream",
          "name": "stdout",
          "text": [
            "누적관객수 1위! 레미제라블!\n",
            "누적관객수 2위! 뷰티인사이트!\n",
            "누적관객수 3위! 매트릭스!\n",
            "누적관객수 4위! 인셉션!\n",
            "누적관객수 5위! 어거스트 러쉬!\n"
          ]
        }
      ]
    },
    {
      "cell_type": "code",
      "source": [],
      "metadata": {
        "id": "WDAWHs6nuVLM"
      },
      "execution_count": null,
      "outputs": []
    }
  ]
}