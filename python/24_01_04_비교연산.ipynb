{
  "nbformat": 4,
  "nbformat_minor": 0,
  "metadata": {
    "colab": {
      "provenance": []
    },
    "kernelspec": {
      "name": "python3",
      "display_name": "Python 3"
    },
    "language_info": {
      "name": "python"
    }
  },
  "cells": [
    {
      "cell_type": "code",
      "execution_count": null,
      "metadata": {
        "id": "aGkRhQPuT6Er"
      },
      "outputs": [],
      "source": [
        "# 리스트의 비교는 맨 앞자리를 비교함\n",
        "[10, 20, 30] > [20, 30, 40] # False"
      ]
    },
    {
      "cell_type": "code",
      "source": [
        "# 맨 앞자리가 같으면 그 다음 자리로 넘어가며 비교를 해나갑니다.\n",
        "'abcde' > 'abcda' # True"
      ],
      "metadata": {
        "id": "JOZPH0ThUA0n"
      },
      "execution_count": null,
      "outputs": []
    },
    {
      "cell_type": "code",
      "source": [
        "# 아래처럼 자릿수가 많을 경우 자릿수가 많은 값이 더 많은 값으로 취급\n",
        "'abcd' > 'abcda'"
      ],
      "metadata": {
        "id": "Tdp2DFDLUE6a"
      },
      "execution_count": null,
      "outputs": []
    },
    {
      "cell_type": "code",
      "source": [
        "# 부동소숫점의 비교는 math.isclose()\n",
        "# 두 수가 충분히 가까운지 테스트\n",
        "import math\n",
        "\n",
        "result = 0.1 + 0.2\n",
        "print(result == 0.3)              # False\n",
        "print(math.isclose(result, 0.3))  # True\n",
        "print(math.isclose(result, 0.29)) # False\n",
        "print(math.isclose(result, 0.31)) # False\n",
        "print(math.isclose(result, 0.30000001)) # False"
      ],
      "metadata": {
        "id": "7UGuOXZiUJho"
      },
      "execution_count": null,
      "outputs": []
    }
  ]
}