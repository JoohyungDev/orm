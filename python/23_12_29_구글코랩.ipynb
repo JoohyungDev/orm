{
  "cells": [
    {
      "cell_type": "markdown",
      "metadata": {
        "id": "6KZFkJkO9G_m"
      },
      "source": [
        "# 1. 실행 관련 단축키\n",
        "맥북은 cmd 윈도우는 ctrl\n",
        "1. (필수) Ctrl + Enter : 해당 셀 실행\n",
        "\n",
        "2. (필수) Alt + Enter : 해당 셀 실행 + 코드 블록 하단 추가\n",
        "\n",
        "3. (필수) Ctrl + M A : 상단에 코드 창추가\n",
        "\n",
        "4. (필수) Ctrl + M B : 하단에 코드 창추가\n",
        "\n",
        "5. (필수) Ctrl + M D : 셀 지우기\n",
        "\n",
        "6. (필수) Ctrl + M Y : 코드 셀로 변경\n",
        "\n",
        "7. (필수) Ctrl + M M : 마크다운 셀로 변경\n",
        "\n",
        "8. (필수) Ctrl + M Z : 실행 취소\n",
        "\n",
        "\n"
      ]
    },
    {
      "cell_type": "markdown",
      "metadata": {
        "id": "5F4bLjgrgPAi"
      },
      "source": [
        "# 2. 수정 관련 단축키\n",
        "\n",
        "1. (자주) Ctrl + Alt + 화살표위아래 : 동시수정\n",
        "\n",
        "2. (자주) Ctrl + D : 같은 단어 찾아 동시 수정\n",
        "\n",
        "3. Ctrl + shift + L : 동일 단어를 전체로 찾아 동시 수정\n",
        "\n",
        "4. Alt + shift + 화살표위아래 : 해당 내용을 위, 아래에 복사해 붙여넣기\n",
        "\n",
        "5. Alt + 화살표위아래 : 해당 내용을 위나 아래로 보내기\n",
        "\n",
        "6. (자주) Home, End : 문장의 양 끝\n",
        "\n",
        "7. (필수) Ctrl + / : 주석\n",
        "\n",
        "8. (필수) Shift + Del : 한 줄 지우기\n",
        "\n",
        "9. (필수) Tab, Ctrl + ] : 들여쓰기\n",
        "\n",
        "10. (필수) Shift + Tab, Ctrl + [ : 내어쓰기"
      ]
    },
    {
      "cell_type": "code",
      "execution_count": null,
      "metadata": {
        "id": "YNoAz2JC_e_z"
      },
      "outputs": [],
      "source": [
        "#데이터셋 불러오기\n",
        "import pandas as pd\n",
        "data = pd.read_csv(\"example_dataset.csv\")\n",
        "\n",
        "#각 컬럼에 대한 평균 계산\n",
        "mean_age = data['age'].mean()\n",
        "mean_height = data['height'].mean()\n",
        "mean_weight = data['weight'].mean()\n",
        "\n",
        "print(\"Average Age:\", mean_age)\n",
        "print(\"Average Height:\", mean_height)\n",
        "print(\"Average Weight:\", mean_weight)"
      ]
    },
    {
      "cell_type": "code",
      "execution_count": null,
      "metadata": {
        "id": "BqxkeeKMBWif"
      },
      "outputs": [],
      "source": [
        "#데이터셋 불러오기\n",
        "import pandas as pd\n",
        "data = pd.read_csv(\"example_dataset.csv\")\n",
        "\n",
        "#각 컬럼에 대한 평균 계산\n",
        "mean_age_years = data['age_years'].mean()\n",
        "mean_height_cm = data['height_cm'].mean()\n",
        "mean_weight_kg = data['weight_kg'].mean()\n",
        "\n",
        "print(\"Average Age in Years:\", mean_age_years)\n",
        "print(\"Average Height in cm:\", mean_height_cm)\n",
        "print(\"Average Weight in kg:\", mean_weight_kg)"
      ]
    },
    {
      "cell_type": "markdown",
      "metadata": {
        "id": "6usIyOyLJpVZ"
      },
      "source": [
        "# 3. 마크다운\n",
        "## 3.1 헤더\n",
        "### 3.1.1 사용법\n",
        "'#'으로 헤더를 표현할 수 있다."
      ]
    },
    {
      "cell_type": "markdown",
      "metadata": {
        "id": "T67EBcrsKjdR"
      },
      "source": [
        "## 3.2 강조\n",
        "**강조**\n",
        "*강조*\n",
        "***강조***\n",
        "\n",
        "'*'로 여러가지 강조 표현을 할 수 있다."
      ]
    },
    {
      "cell_type": "markdown",
      "metadata": {
        "id": "9NWKSE2ZK7WE"
      },
      "source": [
        "## 3.3 목록\n",
        "\n",
        "1. 순서 1번\n",
        "* 순서 없는 것 1\n",
        "\n",
        "'*'을 쓰고 띄워서 글자를 쓰면 동그라미 기호를 사용할 수 있다."
      ]
    },
    {
      "cell_type": "markdown",
      "metadata": {
        "id": "_k2qfY1zLzNQ"
      },
      "source": [
        "[네이버](https://www.naver.com/)\n",
        "\n",
        "링크를 추가한다면 '[내가 원하는 주석]'(사이트이름)'"
      ]
    },
    {
      "cell_type": "markdown",
      "metadata": {
        "id": "pu6EmvM5OPxH"
      },
      "source": [
        "![이미지](https://paullab.co.kr/images/message_licat.png)\n",
        "\n",
        "이미지를 삽입한다면 url과 똑같이 하되, !를 붙여주면 된다,"
      ]
    },
    {
      "cell_type": "markdown",
      "metadata": {
        "id": "PDkmKmn9NXdV"
      },
      "source": [
        "`print(\"hello world\")`\n",
        "\n",
        "``` 기호를 통해 코드를 삽입 가능하다.\n",
        "\n",
        "````` 기호를 통해 여러줄의 코드를 삽입할 수 있다."
      ]
    },
    {
      "cell_type": "markdown",
      "metadata": {
        "id": "ny-NbMzON3rs"
      },
      "source": [
        "~~취소선~~\n",
        "\n",
        "~~ 기호로 취소선을 표현 가능하다."
      ]
    },
    {
      "cell_type": "markdown",
      "metadata": {
        "id": "V6rMbgsuO8L3"
      },
      "source": [
        "---\n",
        "> 인용문 1입니다.\n",
        "---\n",
        "\n",
        "'>' 기호로 인용문을 표현 가능하다."
      ]
    }
  ],
  "metadata": {
    "colab": {
      "provenance": []
    },
    "kernelspec": {
      "display_name": "Python 3",
      "name": "python3"
    },
    "language_info": {
      "name": "python"
    }
  },
  "nbformat": 4,
  "nbformat_minor": 0
}
