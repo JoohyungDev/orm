{
  "nbformat": 4,
  "nbformat_minor": 0,
  "metadata": {
    "colab": {
      "provenance": []
    },
    "kernelspec": {
      "name": "python3",
      "display_name": "Python 3"
    },
    "language_info": {
      "name": "python"
    }
  },
  "cells": [
    {
      "cell_type": "code",
      "execution_count": null,
      "metadata": {
        "colab": {
          "base_uri": "https://localhost:8080/"
        },
        "id": "1Carr0y_W9zF",
        "outputId": "4458dac5-84eb-4752-b5bf-eb53a5d590b6"
      },
      "outputs": [
        {
          "output_type": "execute_result",
          "data": {
            "text/plain": [
              "True"
            ]
          },
          "metadata": {},
          "execution_count": 1
        }
      ],
      "source": [
        "#1번\n",
        "a = 100\n",
        "print((a > 100) and (a < 200))\n",
        "print((a > 100) or (a < 200))\n",
        "print((a >= 100) and (a <= 200))\n",
        "print((a >= 100) or (a <= 200))"
      ]
    },
    {
      "cell_type": "code",
      "source": [
        "# 2번\n",
        "b = 25\n",
        "(b % 2 == 0) and (b % 5 == 0)"
      ],
      "metadata": {
        "id": "8pgHz_xOXPj0"
      },
      "execution_count": null,
      "outputs": []
    },
    {
      "cell_type": "code",
      "source": [
        "# 3번\n",
        "c = 1000\n",
        "result = 1000 // 100\n",
        "print(f\"결과값은 {result}입니다.\")\n",
        "# 결과값은 10입니다."
      ],
      "metadata": {
        "colab": {
          "base_uri": "https://localhost:8080/"
        },
        "id": "jIQlb9QRXTN1",
        "outputId": "e39b9bae-fce7-442a-c329-d9778d5f2710"
      },
      "execution_count": null,
      "outputs": [
        {
          "output_type": "stream",
          "name": "stdout",
          "text": [
            "결과값은 10입니다.\n"
          ]
        }
      ]
    },
    {
      "cell_type": "code",
      "source": [
        "# 4번\n",
        "cost = int(input(\"금액을 입력해주세요:\"))\n",
        "\n",
        "charge_5000 = cost // 5000\n",
        "charge_1000 = (cost % 5000) // 1000\n",
        "charge_500 = ((cost % 5000) % 1000) // 500\n",
        "charge_100 = (((cost % 5000) % 1000) % 500) // 100\n",
        "\n",
        "print(f\"5000원짜리 {charge_5000}장, 1000원짜리 {charge_1000}장, 500원짜리 {charge_500}장, 100원짜리 {charge_100}장\")"
      ],
      "metadata": {
        "colab": {
          "base_uri": "https://localhost:8080/"
        },
        "id": "3LZ-3zVEXhXx",
        "outputId": "d84669d6-d3a0-4ddd-baaf-89c7f04c576e"
      },
      "execution_count": null,
      "outputs": [
        {
          "output_type": "stream",
          "name": "stdout",
          "text": [
            "금액을 입력해주세요:9980\n",
            "5000원짜리 1장, 1000원짜리 4장, 500원짜리 1장, 100원짜리 4장\n"
          ]
        }
      ]
    },
    {
      "cell_type": "markdown",
      "source": [
        "# 실습 2"
      ],
      "metadata": {
        "id": "Ru-S7jx-eqvn"
      }
    },
    {
      "cell_type": "code",
      "source": [
        "original_price = float(input(\"원가를 입력해주세요 : \"))\n",
        "discount_rate = float(input(\"할인율을 입력해주세요 : \"))\n",
        "\n",
        "# 할인된 가격 계산\n",
        "discounted_rate = original_price - (original_price * discount_rate / 100)\n",
        "\n",
        "# 결과\n",
        "print(\"할인된 가격은\", discounted_rate, \"원 입니다.\")"
      ],
      "metadata": {
        "colab": {
          "base_uri": "https://localhost:8080/"
        },
        "id": "wnFz0NF5es87",
        "outputId": "6f9ebc8b-855a-41a0-ce07-70128acf7215"
      },
      "execution_count": null,
      "outputs": [
        {
          "output_type": "stream",
          "name": "stdout",
          "text": [
            "원가를 입력해주세요: 500\n",
            "할인율을 입력해주세요: 10\n",
            "할인된 가격은 450.0 원 입니다.\n"
          ]
        }
      ]
    },
    {
      "cell_type": "markdown",
      "source": [
        "# 실습 3"
      ],
      "metadata": {
        "id": "4fIVKBt1guZr"
      }
    },
    {
      "cell_type": "code",
      "source": [
        "name = input(\"사용자 이름 : \")\n",
        "age = int(input(\"사용자 나이 : \"))\n",
        "\n",
        "# 다음 해의 나이\n",
        "next_year_age = age + 1\n",
        "\n",
        "# 문자열 길이 계산\n",
        "len_name = len(name)\n",
        "len_age = len(str(age))\n",
        "\n",
        "# 성인 여부 판단\n",
        "is_adult = age >= 18\n",
        "\n",
        "# 결과 출력\n",
        "print(f\"다음 해의 나이 : {next_year_age}, 이름의 길이 : {len_name}, 성인 여부 : {is_adult}\")"
      ],
      "metadata": {
        "colab": {
          "base_uri": "https://localhost:8080/"
        },
        "id": "fSukd6lZgvrz",
        "outputId": "8ec17c5a-cd9a-4d87-ba75-4f24fa9ce759"
      },
      "execution_count": null,
      "outputs": [
        {
          "output_type": "stream",
          "name": "stdout",
          "text": [
            "사용자 이름 : 박주형\n",
            "사용자 나이 : 24\n",
            "다음 해의 나이 : 25, 이름의 길이 : 3, 성인 여부 : True\n"
          ]
        }
      ]
    }
  ]
}