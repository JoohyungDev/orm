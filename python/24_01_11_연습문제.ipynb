{
  "nbformat": 4,
  "nbformat_minor": 0,
  "metadata": {
    "colab": {
      "provenance": []
    },
    "kernelspec": {
      "name": "python3",
      "display_name": "Python 3"
    },
    "language_info": {
      "name": "python"
    }
  },
  "cells": [
    {
      "cell_type": "markdown",
      "source": [
        "1. 다음 숫자 중 5보다 크고, 20보다 작으면서 짝수인 수를 모두 더하는 코드를 완성 해주세요. 오늘 배운 filter 사용은 필수 입니다."
      ],
      "metadata": {
        "id": "MrSPKws8fyXC"
      }
    },
    {
      "cell_type": "code",
      "source": [
        "number = [1, 5, 7, 4, 3, 22, 23, 15, 26, 17, 3]\n",
        "def solution(data):\n",
        "    return sum(filter(lambda x:5 < x < 20 and x % 2 == 0, data))\n",
        "\n",
        "solution(number)"
      ],
      "metadata": {
        "id": "f9EqlqXRgGi8"
      },
      "execution_count": null,
      "outputs": []
    },
    {
      "cell_type": "markdown",
      "source": [
        "2. 다음에 정보가 담겨져 있는 것을 Class로 만들어주세요. 메서드로는 '할인' 메서드를 만들어주세요. 예를 들어 아래 책을 10% 할인한다고 하면 4500원이 됩니다. 책.할인(10) == 4500의 형태로 만들어주시면 됩니다."
      ],
      "metadata": {
        "id": "PgQpaFCogHor"
      }
    },
    {
      "cell_type": "code",
      "source": [
        "{\n",
        "    '책제목': 'hello world python',\n",
        "    '책 내용 요약': 'hello world...',\n",
        "    '저자': '이호준',\n",
        "    '발행일': '2024-01-11',\n",
        "    '가격': 5000\n",
        "}"
      ],
      "metadata": {
        "id": "MP8FGAm6gJft"
      },
      "execution_count": null,
      "outputs": []
    },
    {
      "cell_type": "code",
      "source": [
        "class 책:\n",
        "    def __init__(self, name, summary, author, pub_date, price):\n",
        "        self.name = name\n",
        "        self.summary = summary\n",
        "        self.author = author\n",
        "        self.pub_data = pub_date\n",
        "        self.price = price\n",
        "\n",
        "    def 할인(self, percent):\n",
        "        self.price *= 1- (percent * 0.01)\n",
        "        return int(self.price)\n",
        "\n",
        "책1 = 책('hello world python', 'hello world...', '이호준', '2024-01-11', 5000)\n",
        "책1.할인(10)"
      ],
      "metadata": {
        "id": "nMjHfajGgK5D"
      },
      "execution_count": null,
      "outputs": []
    },
    {
      "cell_type": "markdown",
      "source": [
        " 3.1. 라이캣은 연말 출시할 게임의 게임 난이도를 조절하는 업무를 담당하게 되었습니다. 우선 능력치가 비정상적으로 높은 캐릭터들의 리스트를 뽑고자 합니다. 캐릭터 이름, 공격력, 방어력, 체력, 마력이 리스트로 ['Licat', 98, 30, 21, 60]와 같이 주어졌을 때 모든 능력치의 합이 350 이상이 되는 캐릭터의 이름을 출력하는 solution함수를 완성해주세요."
      ],
      "metadata": {
        "id": "8NX4JHwhgL-E"
      }
    },
    {
      "cell_type": "code",
      "source": [
        "def solution(data):\n",
        "    filtered_data = list(filter(lambda x:(x[1]+x[2]+x[3]+x[4])>=350, \\\n",
        "                                data))\n",
        "    sorted_data = sorted(filtered_data)\n",
        "    return [i[0] for i in sorted_data]"
      ],
      "metadata": {
        "id": "iv_MIKxfgOHF"
      },
      "execution_count": null,
      "outputs": []
    },
    {
      "cell_type": "markdown",
      "source": [
        "3.2. 일주일 동안의 최고 기온이 기록된 데이터가 주어집니다. 이 데이터에서 가장 높은 온도를 기록한 상위 3일을 찾아 'YY-MM-DD: 온도' 형식으로 반환하는 코드를 작성해주세요. 데이터는 'YYYY-MM-DD' 형식의 날짜와 해당 날짜의 최고 온도(섭씨)로 구성됩니다."
      ],
      "metadata": {
        "id": "yKqLTFafgQSv"
      }
    },
    {
      "cell_type": "code",
      "source": [
        "def solution(data):\n",
        "    sorted_data = sorted(data.items(), key=lambda x:x[1], reverse=True)\n",
        "    # sorted_data[:3] = [('2024-01-06', 21), ('2024-01-04', 20), ('2024-01-05', 19)]\n",
        "    return [f'{k[2:]}: {v}' for k, v in sorted_data[:3]]"
      ],
      "metadata": {
        "id": "SUlyOe09gS8F"
      },
      "execution_count": null,
      "outputs": []
    }
  ]
}