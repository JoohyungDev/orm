{
  "nbformat": 4,
  "nbformat_minor": 0,
  "metadata": {
    "colab": {
      "provenance": []
    },
    "kernelspec": {
      "name": "python3",
      "display_name": "Python 3"
    },
    "language_info": {
      "name": "python"
    }
  },
  "cells": [
    {
      "cell_type": "markdown",
      "source": [
        "- 멤버 연산은 어떤 값이 목록 안에 있는지 확인해주는 기능\n",
        "- in과 not in으로 확인 가능"
      ],
      "metadata": {
        "id": "B7zOB3VzWlW3"
      }
    },
    {
      "cell_type": "code",
      "source": [
        "fruits = [\"사과\", \"바나나\", \"포도\"]\n",
        "\n",
        "print(\"사과\" in fruits)  # True, 사과가 목록에 있기 때문이에요.\n",
        "print(\"오렌지\" not in fruits)  # True, 오렌지는 목록에 없기 때문이에요."
      ],
      "metadata": {
        "id": "8EOBMgzaWuAL"
      },
      "execution_count": null,
      "outputs": []
    },
    {
      "cell_type": "code",
      "source": [
        "a = [1, 2, 3, 4]\n",
        "b = [1, 2, 3, 4]\n",
        "c = 'hello world'\n",
        "\n",
        "print(1 in a) # 출력: True\n",
        "print(0 not in a) # 출력: True\n",
        "print([2] in b) # 출력: False\n",
        "print([1, 2] in b) # 출력: False\n",
        "print('h' in c) # 출력: True\n",
        "print('hello ' in c) # 출력: True"
      ],
      "metadata": {
        "id": "b2KtHd69W2Xc"
      },
      "execution_count": null,
      "outputs": []
    },
    {
      "cell_type": "code",
      "source": [
        "a = {'key1': 'value1', 'key2': 'value2'} #딕셔너리\n",
        "b = {10, 10, 20}\n",
        "10 in b # 출력: True\n",
        "{10} in b # 출력: False, 주의\n",
        "{10, 20} in b # 출력: False, 주의\n",
        "\n",
        "'key1' in a # 출력: True\n",
        "'value1' in a # 출력: False\n",
        "('key1', 'key2') in a # 출력: False\n",
        "# {'key1':'value1'} in a # error"
      ],
      "metadata": {
        "id": "JmpTdvj6W4fo"
      },
      "execution_count": null,
      "outputs": []
    },
    {
      "cell_type": "markdown",
      "source": [
        "- 이처럼 set에서는 요소만, dict에서는 key값만 확인할 수 있습니다. 다만 일부 메서드를 사용하여 요소의 존재 여부를 파악할 수 있습니다."
      ],
      "metadata": {
        "id": "tqMpsk0lW7Hk"
      }
    },
    {
      "cell_type": "code",
      "source": [
        "'value1' in a.values()"
      ],
      "metadata": {
        "id": "zpZyp7IvW9ta"
      },
      "execution_count": null,
      "outputs": []
    },
    {
      "cell_type": "markdown",
      "source": [
        "- in 연산자는 집합이나 dict에서 좀 더 높은 속도를 발휘합니다."
      ],
      "metadata": {
        "id": "_beKZrO3XE1m"
      }
    }
  ]
}