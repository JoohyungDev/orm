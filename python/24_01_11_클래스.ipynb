{
  "nbformat": 4,
  "nbformat_minor": 0,
  "metadata": {
    "colab": {
      "provenance": [],
      "toc_visible": true
    },
    "kernelspec": {
      "name": "python3",
      "display_name": "Python 3"
    },
    "language_info": {
      "name": "python"
    }
  },
  "cells": [
    {
      "cell_type": "markdown",
      "source": [
        "# 함수의 이름은 변수다"
      ],
      "metadata": {
        "id": "J2YBht3-CiCw"
      }
    },
    {
      "cell_type": "code",
      "execution_count": 7,
      "metadata": {
        "id": "DAg6jemHtyDO"
      },
      "outputs": [],
      "source": [
        "def hello():\n",
        "    '''\n",
        "    DocString\n",
        "    주석은 여기에 답니다\n",
        "    '''\n",
        "    pass"
      ]
    },
    {
      "cell_type": "code",
      "source": [
        "print(type(hello))  # 함수도 class입니다?!"
      ],
      "metadata": {
        "colab": {
          "base_uri": "https://localhost:8080/"
        },
        "id": "rxsjXnqs5fY0",
        "outputId": "0f964ffd-289d-4a6b-8918-8078cf623932"
      },
      "execution_count": 8,
      "outputs": [
        {
          "output_type": "stream",
          "name": "stdout",
          "text": [
            "<class 'function'>\n"
          ]
        }
      ]
    },
    {
      "cell_type": "code",
      "source": [
        "a = 10\n",
        "# a는 무엇이죠?\n",
        "# a는 int에 인스턴스"
      ],
      "metadata": {
        "id": "EcO2Qnd958_l"
      },
      "execution_count": 3,
      "outputs": []
    },
    {
      "cell_type": "code",
      "source": [
        "l = [a, a, a]\n",
        "l[2]"
      ],
      "metadata": {
        "colab": {
          "base_uri": "https://localhost:8080/"
        },
        "id": "-3WJxEsq6RzE",
        "outputId": "a0cf8493-486a-4845-d0c4-dff4044ee525"
      },
      "execution_count": 9,
      "outputs": [
        {
          "output_type": "execute_result",
          "data": {
            "text/plain": [
              "10"
            ]
          },
          "metadata": {},
          "execution_count": 9
        }
      ]
    },
    {
      "cell_type": "code",
      "source": [
        "print(\"hello world\") # build-in function"
      ],
      "metadata": {
        "id": "7rs3qXDx6Yts"
      },
      "execution_count": null,
      "outputs": []
    },
    {
      "cell_type": "code",
      "source": [
        "l = [print, print, print]\n",
        "l[2]('hello world')"
      ],
      "metadata": {
        "colab": {
          "base_uri": "https://localhost:8080/"
        },
        "id": "d1WvZkQt6cdt",
        "outputId": "e705e535-b476-40f5-b2b6-b1cbd46af1b0"
      },
      "execution_count": 5,
      "outputs": [
        {
          "output_type": "stream",
          "name": "stdout",
          "text": [
            "hello world\n"
          ]
        }
      ]
    },
    {
      "cell_type": "code",
      "source": [
        "hojun = print   # 함수 이름은 변수 취급이 가능하다.\n",
        "hojun('hello world')"
      ],
      "metadata": {
        "colab": {
          "base_uri": "https://localhost:8080/"
        },
        "id": "2eTPY9JA6iWV",
        "outputId": "e7246c8c-44a0-49b0-a0de-8dfe0f360be7"
      },
      "execution_count": 6,
      "outputs": [
        {
          "output_type": "stream",
          "name": "stdout",
          "text": [
            "hello world\n"
          ]
        }
      ]
    },
    {
      "cell_type": "code",
      "source": [
        "id(hojun), id(print)"
      ],
      "metadata": {
        "colab": {
          "base_uri": "https://localhost:8080/"
        },
        "id": "q1Sehj3P6mD1",
        "outputId": "ed25d205-3842-4c63-fd42-8cccd077e270"
      },
      "execution_count": 10,
      "outputs": [
        {
          "output_type": "execute_result",
          "data": {
            "text/plain": [
              "(133597653243184, 133597653243184)"
            ]
          },
          "metadata": {},
          "execution_count": 10
        }
      ]
    },
    {
      "cell_type": "code",
      "source": [
        "print = 10"
      ],
      "metadata": {
        "id": "QrxgzrDQ68S0"
      },
      "execution_count": 11,
      "outputs": []
    },
    {
      "cell_type": "code",
      "source": [
        "print"
      ],
      "metadata": {
        "colab": {
          "base_uri": "https://localhost:8080/"
        },
        "id": "jvKCfWKt7CgD",
        "outputId": "98bb707c-4148-4999-c30f-4ca155f1be34"
      },
      "execution_count": 12,
      "outputs": [
        {
          "output_type": "execute_result",
          "data": {
            "text/plain": [
              "10"
            ]
          },
          "metadata": {},
          "execution_count": 12
        }
      ]
    },
    {
      "cell_type": "code",
      "source": [
        "print('hello world')"
      ],
      "metadata": {
        "id": "p-2rNJZu7DLr"
      },
      "execution_count": null,
      "outputs": []
    },
    {
      "cell_type": "code",
      "source": [
        "hojun('hello')"
      ],
      "metadata": {
        "colab": {
          "base_uri": "https://localhost:8080/"
        },
        "id": "IksmVsmm7Egj",
        "outputId": "603f644e-c621-49f0-95ee-fd5c96c8205d"
      },
      "execution_count": 14,
      "outputs": [
        {
          "output_type": "stream",
          "name": "stdout",
          "text": [
            "hello\n"
          ]
        }
      ]
    },
    {
      "cell_type": "code",
      "source": [
        "# 잘못 선언했을 경우.. 세션 다시 시작해야함"
      ],
      "metadata": {
        "id": "mFLUzz4c7GJr"
      },
      "execution_count": null,
      "outputs": []
    },
    {
      "cell_type": "code",
      "source": [
        "print = hojun"
      ],
      "metadata": {
        "id": "yjS8kOQ07SQS"
      },
      "execution_count": 15,
      "outputs": []
    },
    {
      "cell_type": "code",
      "source": [
        "id(print)"
      ],
      "metadata": {
        "colab": {
          "base_uri": "https://localhost:8080/"
        },
        "id": "CJ0gZKOi7Tgt",
        "outputId": "0fc2d64c-9596-4e1d-f8a5-9026303452cc"
      },
      "execution_count": 16,
      "outputs": [
        {
          "output_type": "execute_result",
          "data": {
            "text/plain": [
              "133597653243184"
            ]
          },
          "metadata": {},
          "execution_count": 16
        }
      ]
    },
    {
      "cell_type": "code",
      "source": [
        "print('hello world')    # print는 변수 이름일 뿐이다. 실은 코드를 가르키고 있따."
      ],
      "metadata": {
        "colab": {
          "base_uri": "https://localhost:8080/"
        },
        "id": "uzu5UP6H7Ui3",
        "outputId": "6dbf3610-2497-4da7-9ebb-b3c2fb3f0b55"
      },
      "execution_count": 17,
      "outputs": [
        {
          "output_type": "stream",
          "name": "stdout",
          "text": [
            "hello world\n"
          ]
        }
      ]
    },
    {
      "cell_type": "markdown",
      "source": [
        "# lambda의 응용"
      ],
      "metadata": {
        "id": "cgB0SnWsCm31"
      }
    },
    {
      "cell_type": "markdown",
      "source": [
        "## Top3 - 1. map에서 사용!"
      ],
      "metadata": {
        "id": "1SEmdnc-IRsX"
      }
    },
    {
      "cell_type": "code",
      "source": [
        "add = lambda x, y: x+y"
      ],
      "metadata": {
        "id": "6AgAKNbX7V9U"
      },
      "execution_count": null,
      "outputs": []
    },
    {
      "cell_type": "code",
      "source": [
        "# 코드가 이해가 안된다 => 이해할려고 노력하는 것 보다는\n",
        "# 예제를 30개 정도 만들어 보는것을 권합니다.\n",
        "# Django 어렵다? 30개 만들어보기\n",
        "# lambda 어려우면 30개 만들어보세요. 30개가 어려우면 50개\n",
        "# lambda x: x ** 2\n",
        "# lambda x, y: x + y ...\n",
        "\n",
        "# lambda + 3항 연산자 많이 사용합니다.\n",
        "x = 10\n",
        "y = True if x % 2 == 0 else False\n",
        "\n",
        "y"
      ],
      "metadata": {
        "colab": {
          "base_uri": "https://localhost:8080/"
        },
        "id": "-jOo3cNe8F9l",
        "outputId": "e8cb4fc8-caec-4b94-d2fe-7d2935bc9a29"
      },
      "execution_count": 18,
      "outputs": [
        {
          "output_type": "execute_result",
          "data": {
            "text/plain": [
              "True"
            ]
          },
          "metadata": {},
          "execution_count": 18
        }
      ]
    },
    {
      "cell_type": "code",
      "source": [
        "# 재사용 할 것이면 이렇게\n",
        "def 제곱(x):\n",
        "    return x ** 2\n",
        "\n",
        "list(map(제곱, [1, 2, 3, 4]))"
      ],
      "metadata": {
        "colab": {
          "base_uri": "https://localhost:8080/"
        },
        "id": "tWZCBfiX9alQ",
        "outputId": "485439dd-afd7-4e8d-aa38-dbc70dac5bc8"
      },
      "execution_count": 19,
      "outputs": [
        {
          "output_type": "execute_result",
          "data": {
            "text/plain": [
              "[1, 4, 9, 16]"
            ]
          },
          "metadata": {},
          "execution_count": 19
        }
      ]
    },
    {
      "cell_type": "code",
      "source": [
        "# 한줄 삭제하는 명령어 뭐더라?\n",
        "# shift + del\n",
        "# 재사용 하지 않을 것이라면 lambda로\n",
        "# lambda가 실무에서 좀 더 많이 사용한다.\n",
        "# 수식이 복잡해지면 재사용과 별개로 lambda로 했을 경우 가독성이 떨어지는 경우도 발생합니다.\n",
        "# 이럴 때에는 함수로 빼기도 합니다.\n",
        "\n",
        "list(map(lambda x: x**2, [1, 2, 3, 4]))"
      ],
      "metadata": {
        "colab": {
          "base_uri": "https://localhost:8080/"
        },
        "id": "8G80ovyz96ls",
        "outputId": "7febcdd1-9e7b-4d95-879e-fc405b247e3e"
      },
      "execution_count": 20,
      "outputs": [
        {
          "output_type": "execute_result",
          "data": {
            "text/plain": [
              "[1, 4, 9, 16]"
            ]
          },
          "metadata": {},
          "execution_count": 20
        }
      ]
    },
    {
      "cell_type": "code",
      "source": [
        "list(map(lambda x: True if x % 2 == 0 else False, [1, 2, 3, 4]))    # 마스킹"
      ],
      "metadata": {
        "colab": {
          "base_uri": "https://localhost:8080/"
        },
        "id": "YyVY1nQ6-B19",
        "outputId": "64705e0c-eac6-4308-eac2-414580a1b060"
      },
      "execution_count": 21,
      "outputs": [
        {
          "output_type": "execute_result",
          "data": {
            "text/plain": [
              "[False, True, False, True]"
            ]
          },
          "metadata": {},
          "execution_count": 21
        }
      ]
    },
    {
      "cell_type": "code",
      "source": [
        "# 알고리즘 문제에서 점과 점사이의 거리 같은 경우\n",
        "# 처음 True값과 마지막 True 사이의 거리를 구하면 그게 점과 점 사이의 거리가 된다!\n",
        "# 얼마나 효율적인지만 봐주세요\n",
        "# [True, False, False, False, True]\n",
        "# 에라토스테네스의 체(얼마나 마스킹이 유용한지 알 수 있음) => 소수\n"
      ],
      "metadata": {
        "id": "JLJq-pS_-6Yk"
      },
      "execution_count": null,
      "outputs": []
    },
    {
      "cell_type": "markdown",
      "source": [
        "## Top3 - 2. filter에서 사용!"
      ],
      "metadata": {
        "id": "FzmTg-wlIalB"
      }
    },
    {
      "cell_type": "code",
      "source": [
        "# filter는 True 인것만 출력합니다.\n",
        "list(filter(lambda x:x % 2 == 0, range(100)))"
      ],
      "metadata": {
        "id": "b55wHxBfFgOY"
      },
      "execution_count": null,
      "outputs": []
    },
    {
      "cell_type": "code",
      "source": [
        "list(filter(lambda x:x > 3, range(100)))"
      ],
      "metadata": {
        "id": "M_bRjR4SFtfp"
      },
      "execution_count": null,
      "outputs": []
    },
    {
      "cell_type": "code",
      "source": [
        "list(filter(lambda x:x > 50 and x < 80, range(100)))"
      ],
      "metadata": {
        "id": "tRknr6XqGOfq"
      },
      "execution_count": null,
      "outputs": []
    },
    {
      "cell_type": "code",
      "source": [
        "list(filter(lambda x: True if x % 3 == 0 or x % 5 == 0 else False, range(100)))    # 마스킹"
      ],
      "metadata": {
        "id": "Y9ov-_nBGelB"
      },
      "execution_count": null,
      "outputs": []
    },
    {
      "cell_type": "code",
      "source": [
        "list(filter(lambda x:x % 2, range(100)))    # 홀수를?!\n",
        "# x == 0일때 => lambda x: x % 2 => 0 => False로 평가\n",
        "# x == 1일때 => lambda x: x % 2 => 1 => True로 평가\n",
        "# x == 2일때 => lambda x: x % 2 => 0\n",
        "# x == 3일때 => lambda x: x % 2 => 1"
      ],
      "metadata": {
        "id": "7-jJ1GAZG486"
      },
      "execution_count": null,
      "outputs": []
    },
    {
      "cell_type": "code",
      "source": [
        "test = lambda i:i % 2 == 0\n",
        "[test(i) for i in range(10)]"
      ],
      "metadata": {
        "colab": {
          "base_uri": "https://localhost:8080/"
        },
        "id": "rW2fcMG5Kl9g",
        "outputId": "0c2f6a5b-cd5b-4302-9d1e-960b3c849267"
      },
      "execution_count": 34,
      "outputs": [
        {
          "output_type": "execute_result",
          "data": {
            "text/plain": [
              "[True, False, True, False, True, False, True, False, True, False]"
            ]
          },
          "metadata": {},
          "execution_count": 34
        }
      ]
    },
    {
      "cell_type": "markdown",
      "source": [
        "## Top3 - 3. sorted에서 사용!"
      ],
      "metadata": {
        "id": "Wqi9QVelIe_s"
      }
    },
    {
      "cell_type": "code",
      "source": [
        "l = [10, 20, 5, 4, 22, 32, 5, 9, 11]\n",
        "l.sort()    # sort를 자주 사용하지는 않습니다. 원본을 변경시키기 때문에\n",
        "l"
      ],
      "metadata": {
        "colab": {
          "base_uri": "https://localhost:8080/"
        },
        "id": "5zhpHiEoHUX5",
        "outputId": "2ebe5022-c322-4716-9d11-0294005fa0da"
      },
      "execution_count": 31,
      "outputs": [
        {
          "output_type": "execute_result",
          "data": {
            "text/plain": [
              "[4, 5, 5, 9, 10, 11, 20, 22, 32]"
            ]
          },
          "metadata": {},
          "execution_count": 31
        }
      ]
    },
    {
      "cell_type": "code",
      "source": [
        "l = [10, 20, 5, 4, 22, 32, 5, 9, 11]\n",
        "sorted(l)   # sorted의 return 값이 정렬된 값이죠\n",
        "ㅣ  # l은 그대로입니다! 그래서 많이 사용"
      ],
      "metadata": {
        "colab": {
          "base_uri": "https://localhost:8080/"
        },
        "id": "y07LrW1BIyah",
        "outputId": "829d22f4-5ece-4513-fe40-014d2d35803d"
      },
      "execution_count": 33,
      "outputs": [
        {
          "output_type": "execute_result",
          "data": {
            "text/plain": [
              "[10, 10, 10]"
            ]
          },
          "metadata": {},
          "execution_count": 33
        }
      ]
    },
    {
      "cell_type": "code",
      "source": [
        "sorted() # key, reverse 옵션을 정말 정말 많이 사용합니다!\n",
        "# 알고리즘 문제에서 단골 문제이고, sorted 문제는 1문제는 거의 출제된다고 보시면 됩니다.\n",
        "# 연봉 3500선까지는 level2까지만 해도 된다.\n",
        "# 최댓값\n",
        "# 최솟값\n",
        "# https://codingdojang.com/scode/408?answer_mode=hide 이것도 최솟값!\n",
        "# https://school.programmers.co.kr/learn/courses/30/lessons/120835 이것도 정렬 문제입니다!"
      ],
      "metadata": {
        "id": "7HVRZ8DMI1GR"
      },
      "execution_count": null,
      "outputs": []
    },
    {
      "cell_type": "code",
      "source": [
        "# 아래와 같은 형식으로 반별 점수가 주어진다고 하겠습니다.\n",
        "\n",
        "반별점수 = [\n",
        "    ['이름', '국어', '영어', '수학'],\n",
        "    ['이름', '국어', '영어', '수학'],\n",
        "    ['이름', '국어', '영어', '수학'],\n",
        "    ['이름', '국어', '영어', '수학'],\n",
        "]"
      ],
      "metadata": {
        "id": "dMspAjC3KjP2"
      },
      "execution_count": 35,
      "outputs": []
    },
    {
      "cell_type": "code",
      "source": [
        "반별점수 = [\n",
        "    ['홍길동', 30, 55, 22],\n",
        "    ['홍춘향', 55, 60, 73],\n",
        "    ['이철수', 32, 65, 68],\n",
        "    ['이호준', 92, 11, 95],\n",
        "]"
      ],
      "metadata": {
        "id": "OvdaSWoGLkDu"
      },
      "execution_count": 36,
      "outputs": []
    },
    {
      "cell_type": "code",
      "source": [
        "sorted(반별점수)    # 값이나 0번쨰 값 기준으로 정렬"
      ],
      "metadata": {
        "colab": {
          "base_uri": "https://localhost:8080/"
        },
        "id": "-WFISmTpLobs",
        "outputId": "826607f6-3232-4339-ce4f-f709fe7e1e30"
      },
      "execution_count": 37,
      "outputs": [
        {
          "output_type": "execute_result",
          "data": {
            "text/plain": [
              "[['이철수', 32, 65, 68],\n",
              " ['이호준', 92, 11, 95],\n",
              " ['홍길동', 30, 55, 22],\n",
              " ['홍춘향', 55, 60, 73]]"
            ]
          },
          "metadata": {},
          "execution_count": 37
        }
      ]
    },
    {
      "cell_type": "code",
      "source": [
        "def 함수(x):\n",
        "    return x[3]\n",
        "\n",
        "sorted(반별점수, key=함수)  # 가장 중요한 것은 이 key함수의 return 값대로 정렬한다는 것입니다!\n",
        "# sorted(반별점수, key=lambda x: x[3])"
      ],
      "metadata": {
        "colab": {
          "base_uri": "https://localhost:8080/"
        },
        "id": "Z-Kt2CGrMNCh",
        "outputId": "10c070dd-c051-43f7-c29f-11cc640679c8"
      },
      "execution_count": 39,
      "outputs": [
        {
          "output_type": "execute_result",
          "data": {
            "text/plain": [
              "[['홍길동', 30, 55, 22],\n",
              " ['이철수', 32, 65, 68],\n",
              " ['홍춘향', 55, 60, 73],\n",
              " ['이호준', 92, 11, 95]]"
            ]
          },
          "metadata": {},
          "execution_count": 39
        }
      ]
    },
    {
      "cell_type": "code",
      "source": [
        "# [['홍길동', 30, 55, 22] => 68,\n",
        "# ['홍춘향', 55, 60, 73] => 95,\n",
        "# ['이철수', 32, 65, 68] => 22, # 맨 앞으로 보내야겠네?\n",
        "# ['이호준', 92, 11, 95]] => 72"
      ],
      "metadata": {
        "id": "9JE3QBVYMj8Z"
      },
      "execution_count": null,
      "outputs": []
    },
    {
      "cell_type": "code",
      "source": [
        "# 영어 점수대로 출력해주세요\n",
        "sorted(반별점수, key=lambda x: x[2])"
      ],
      "metadata": {
        "colab": {
          "base_uri": "https://localhost:8080/"
        },
        "id": "A2nOKqYbNj6t",
        "outputId": "a5d39fbf-8bef-4306-9548-ae56e7637eb3"
      },
      "execution_count": 40,
      "outputs": [
        {
          "output_type": "execute_result",
          "data": {
            "text/plain": [
              "[['이호준', 92, 11, 95],\n",
              " ['홍길동', 30, 55, 22],\n",
              " ['홍춘향', 55, 60, 73],\n",
              " ['이철수', 32, 65, 68]]"
            ]
          },
          "metadata": {},
          "execution_count": 40
        }
      ]
    },
    {
      "cell_type": "code",
      "source": [
        "반별점수 = [['홍길동', 30, 55, 22],\n",
        " ['이철수', 32, 65, 68],\n",
        " ['홍춘향', 55, 60, 73],\n",
        " ['이호준', 92, 11, 95]]\n",
        "\n",
        "# 문제: 국, 영, 수 평균 점수대로 출력해주세요!\n",
        "# 정답:\n",
        "sorted(반별점수, key=lambda x: x[1] + x[2] + x[3]) # 나눌 필요 없습니다.\n",
        "sorted(반별점수, key=lambda x: x[1] + x[2] + x[3], reverse=True)\n",
        "# 내림차순으로 정렬합니다!\n",
        "# 평균 점수가 높은게 앞으로 옵니다."
      ],
      "metadata": {
        "colab": {
          "base_uri": "https://localhost:8080/"
        },
        "id": "-eXR9JEgQw7u",
        "outputId": "97c9310f-7bc2-416a-df17-3bbb189c928a"
      },
      "execution_count": 42,
      "outputs": [
        {
          "output_type": "execute_result",
          "data": {
            "text/plain": [
              "[['이호준', 92, 11, 95],\n",
              " ['홍춘향', 55, 60, 73],\n",
              " ['이철수', 32, 65, 68],\n",
              " ['홍길동', 30, 55, 22]]"
            ]
          },
          "metadata": {},
          "execution_count": 42
        }
      ]
    },
    {
      "cell_type": "code",
      "source": [
        "# 문제가 살짝 어려워집니다.\n",
        "# 동점자인 경우 수학점수를 우선순위로 두겠습니다!!!?\n",
        "반별점수 = [\n",
        "    ['홍길동', 50, 50, 50],\n",
        "    ['이철수', 45, 50, 55],\n",
        "    ['홍춘향', 60, 35, 75],\n",
        "    ['이호준', 92, 11, 95]\n",
        "]\n",
        "\n",
        "sorted(반별점수, key=lambda x: x[1] + x[2] + x[3], reverse=True) # 철수가 수학 점수가 높은데 뒤에 있네요?\n",
        "# 제 의도는 수학 점수가 높으니 앞에 두겠다는 얘기입니다.\n",
        "\n",
        "# 1\n",
        "# sorted(반별점수, key=lambda x: x[1] + x[2] + x[3], reverse=True)\n",
        "# 반별점수 = [\n",
        "#     ['홍길동', 50, 50, 50] => 50,\n",
        "#     ['이철수', 45, 50, 55] => 50,\n",
        "#     ['홍춘향', 60, 35, 75] => ??,\n",
        "#     ['이호준', 92, 11, 95] => ??\n",
        "# ]\n",
        "\n",
        "# 2\n",
        "# sorted(반별점수, key=lambda x: (x[1] + x[2] + x[3], x[3]), reverse=True)\n",
        "# 반별점수 = [\n",
        "#     ['홍길동', 50, 50, 50] => (50, 50),\n",
        "#     ['이철수', 45, 50, 55] => (50, 55),\n",
        "#     ['홍춘향', 60, 35, 75] => ??,\n",
        "#     ['이호준', 92, 11, 95] => ??\n",
        "# ]\n",
        "\n",
        "sorted(반별점수, key=lambda x: (x[1] + x[2] + x[3], x[3]), reverse=True) # 철수랑 길동이 바뀌었습니다!"
      ],
      "metadata": {
        "colab": {
          "base_uri": "https://localhost:8080/"
        },
        "id": "tAbDGm2nRM6J",
        "outputId": "7147efed-7bda-4e7f-a118-5ebf83966a2e"
      },
      "execution_count": 43,
      "outputs": [
        {
          "output_type": "execute_result",
          "data": {
            "text/plain": [
              "[['이호준', 92, 11, 95],\n",
              " ['홍춘향', 60, 35, 75],\n",
              " ['홍길동', 50, 50, 50],\n",
              " ['이철수', 45, 50, 55]]"
            ]
          },
          "metadata": {},
          "execution_count": 43
        }
      ]
    },
    {
      "cell_type": "code",
      "source": [
        "우편번호 = [\n",
        "    {\n",
        "        '주소': '경기도 용인시',\n",
        "        '우편번호': 321\n",
        "    },\n",
        "    {\n",
        "        '주소': '경기도 수원시',\n",
        "        '우편번호': 355\n",
        "    },\n",
        "    {\n",
        "        '주소': '제주특별자치도 제주시',\n",
        "        '우편번호': 333\n",
        "    }\n",
        "]\n",
        "\n",
        "# sorted(우편번호) #error, 비교를 할 수 없다!?\n",
        "sorted(우편번호, key=lambda x: x['우편번호'])\n",
        "\n",
        "# 우편번호 = [\n",
        "#     {\n",
        "#         '주소': '경기도 용인시',\n",
        "#         '우편번호': 321\n",
        "#     }, => 321\n",
        "#     {\n",
        "#         '주소': '경기도 수원시',\n",
        "#         '우편번호': 355\n",
        "#     }, => 355\n",
        "#     {\n",
        "#         '주소': '제주특별자치도 제주시',\n",
        "#         '우편번호': 333\n",
        "#     } => 333\n",
        "# ]"
      ],
      "metadata": {
        "colab": {
          "base_uri": "https://localhost:8080/"
        },
        "id": "tnYwKJ1ATJmG",
        "outputId": "af2550db-33fd-42dc-e208-1d6f988f4f4b"
      },
      "execution_count": 47,
      "outputs": [
        {
          "output_type": "execute_result",
          "data": {
            "text/plain": [
              "[{'주소': '경기도 용인시', '우편번호': 321},\n",
              " {'주소': '제주특별자치도 제주시', '우편번호': 333},\n",
              " {'주소': '경기도 수원시', '우편번호': 355}]"
            ]
          },
          "metadata": {},
          "execution_count": 47
        }
      ]
    },
    {
      "cell_type": "code",
      "source": [
        "# 다음 입사문제\n",
        "# 직선에 있는 점의 좌표입니다.\n",
        "# 점과 점 사이가 가장 짧은 점의 쌍을 출력하세요\n",
        "\n",
        "# 입력값 : s = [1, 3, 4, 8, 13, 17, 20]\n",
        "# 출력값 : (3, 4)\n",
        "\n",
        "s = [1, 3, 4, 8, 13, 17, 20]\n",
        "s[1:]"
      ],
      "metadata": {
        "colab": {
          "base_uri": "https://localhost:8080/"
        },
        "id": "q41pMBSNVQ-I",
        "outputId": "7644f47e-26ca-4187-ff8e-7c1a92495e79"
      },
      "execution_count": 57,
      "outputs": [
        {
          "output_type": "execute_result",
          "data": {
            "text/plain": [
              "[3, 4, 8, 13, 17, 20]"
            ]
          },
          "metadata": {},
          "execution_count": 57
        }
      ]
    },
    {
      "cell_type": "code",
      "source": [
        "list(zip(s, s[1:]))"
      ],
      "metadata": {
        "colab": {
          "base_uri": "https://localhost:8080/"
        },
        "id": "xCWCK9jHWCIG",
        "outputId": "5d6f9703-47c0-4910-be66-2f87fba999fd"
      },
      "execution_count": 50,
      "outputs": [
        {
          "output_type": "execute_result",
          "data": {
            "text/plain": [
              "[(1, 3), (3, 4), (4, 8), (8, 13), (13, 17), (17, 20)]"
            ]
          },
          "metadata": {},
          "execution_count": 50
        }
      ]
    },
    {
      "cell_type": "code",
      "source": [
        "x = list(zip(s, s[1:]))\n",
        "x"
      ],
      "metadata": {
        "colab": {
          "base_uri": "https://localhost:8080/"
        },
        "id": "n42DwQDSX-el",
        "outputId": "f0d39661-0666-4c28-86c7-2fb46a241e74"
      },
      "execution_count": 58,
      "outputs": [
        {
          "output_type": "execute_result",
          "data": {
            "text/plain": [
              "[(1, 3), (3, 4), (4, 8), (8, 13), (13, 17), (17, 20)]"
            ]
          },
          "metadata": {},
          "execution_count": 58
        }
      ]
    },
    {
      "cell_type": "code",
      "source": [
        "sorted(x, key=lambda x: x[1] - x[0])\n",
        "# sorted(x, key=lambda x: x[1] - x[0])[0]"
      ],
      "metadata": {
        "colab": {
          "base_uri": "https://localhost:8080/"
        },
        "id": "JO7QSv2OYHjK",
        "outputId": "90eeeecc-669e-4768-ee7b-a4cba80a86d6"
      },
      "execution_count": 62,
      "outputs": [
        {
          "output_type": "execute_result",
          "data": {
            "text/plain": [
              "[(3, 4), (1, 3), (17, 20), (4, 8), (13, 17), (8, 13)]"
            ]
          },
          "metadata": {},
          "execution_count": 62
        }
      ]
    },
    {
      "cell_type": "code",
      "source": [
        "# 이해를 하진 말고, 이해 되는 사람만 이해하기\n",
        "# 강사님이 자주 사용하는 코드\n",
        "\n",
        "list(zip('hello', 'world'))"
      ],
      "metadata": {
        "colab": {
          "base_uri": "https://localhost:8080/"
        },
        "id": "wvXHyybjWIkt",
        "outputId": "e849b06f-4977-4b2b-dce8-6deaac2e8b26"
      },
      "execution_count": 52,
      "outputs": [
        {
          "output_type": "execute_result",
          "data": {
            "text/plain": [
              "[('h', 'w'), ('e', 'o'), ('l', 'r'), ('l', 'l'), ('o', 'd')]"
            ]
          },
          "metadata": {},
          "execution_count": 52
        }
      ]
    },
    {
      "cell_type": "code",
      "source": [
        "# 자주 사용하는 코드x\n",
        "list(enumerate(zip('hello', 'world')))"
      ],
      "metadata": {
        "colab": {
          "base_uri": "https://localhost:8080/"
        },
        "id": "8jTChvlGWXxg",
        "outputId": "32d96b25-daee-4dca-8d74-f2309f2db752"
      },
      "execution_count": 53,
      "outputs": [
        {
          "output_type": "execute_result",
          "data": {
            "text/plain": [
              "[(0, ('h', 'w')),\n",
              " (1, ('e', 'o')),\n",
              " (2, ('l', 'r')),\n",
              " (3, ('l', 'l')),\n",
              " (4, ('o', 'd'))]"
            ]
          },
          "metadata": {},
          "execution_count": 53
        }
      ]
    },
    {
      "cell_type": "code",
      "source": [
        "# 제너레이터를 만듭니다.\n",
        "# 문법이 너무 어려워서 지금은 pass\n",
        "# 강사님이 자주 사용하는 코드\n",
        "\n",
        "def gen():\n",
        "    i = 1\n",
        "    while True:\n",
        "        yield i\n",
        "        i += 1\n",
        "\n",
        "list(zip(gen(), 'hello', 'world'))"
      ],
      "metadata": {
        "colab": {
          "base_uri": "https://localhost:8080/"
        },
        "id": "IpbjsRW8Wu-n",
        "outputId": "b468dcc8-2394-4659-f189-ae4b1a462402"
      },
      "execution_count": 54,
      "outputs": [
        {
          "output_type": "execute_result",
          "data": {
            "text/plain": [
              "[(1, 'h', 'w'), (2, 'e', 'o'), (3, 'l', 'r'), (4, 'l', 'l'), (5, 'o', 'd')]"
            ]
          },
          "metadata": {},
          "execution_count": 54
        }
      ]
    },
    {
      "cell_type": "markdown",
      "source": [
        "# built_in function중 자주 사용하는 것"
      ],
      "metadata": {
        "id": "kRJ0YQR-lYLj"
      }
    },
    {
      "cell_type": "code",
      "source": [
        "chr(65) # 별표 반개"
      ],
      "metadata": {
        "colab": {
          "base_uri": "https://localhost:8080/",
          "height": 35
        },
        "id": "c4M6dzrLZ-J_",
        "outputId": "772d0adb-48cd-4011-834e-c675f73fc3f7"
      },
      "execution_count": 63,
      "outputs": [
        {
          "output_type": "execute_result",
          "data": {
            "text/plain": [
              "'A'"
            ],
            "application/vnd.google.colaboratory.intrinsic+json": {
              "type": "string"
            }
          },
          "metadata": {},
          "execution_count": 63
        }
      ]
    },
    {
      "cell_type": "code",
      "source": [
        "ord('A')\n",
        "# 41인데 왜 65지? -> 16진법\n",
        "# 4 * 16^1 + 4 * 16^0 = 65"
      ],
      "metadata": {
        "colab": {
          "base_uri": "https://localhost:8080/"
        },
        "id": "l9ZpTJr6aATA",
        "outputId": "8dfdeaa2-3b9a-49bb-a265-c7f9e3676496"
      },
      "execution_count": 64,
      "outputs": [
        {
          "output_type": "execute_result",
          "data": {
            "text/plain": [
              "65"
            ]
          },
          "metadata": {},
          "execution_count": 64
        }
      ]
    },
    {
      "cell_type": "code",
      "source": [
        "sum([10, 20, 30])\n",
        "sum([10, 20, 30], 100)\n",
        "sum([[1, 2, 3], [4, 5, 6]], [])"
      ],
      "metadata": {
        "colab": {
          "base_uri": "https://localhost:8080/"
        },
        "id": "JSu6goxlaBYU",
        "outputId": "066bf809-fae5-41d5-88e9-00634073eaf0"
      },
      "execution_count": 65,
      "outputs": [
        {
          "output_type": "execute_result",
          "data": {
            "text/plain": [
              "[1, 2, 3, 4, 5, 6]"
            ]
          },
          "metadata": {},
          "execution_count": 65
        }
      ]
    },
    {
      "cell_type": "code",
      "source": [
        "sum([[1, 2, 3], [4, 5, 6]], [])\n",
        "\n",
        "# [] + [1, 2, 3] == [1, 2, 3]\n",
        "# [1, 2, 3] + [4, 5, 6] == [1, 2, 3, 4, 5, 6]"
      ],
      "metadata": {
        "colab": {
          "base_uri": "https://localhost:8080/"
        },
        "id": "eamhvY4PaZS2",
        "outputId": "08c1894b-bde3-49c3-9a6f-f69aff800206"
      },
      "execution_count": 66,
      "outputs": [
        {
          "output_type": "execute_result",
          "data": {
            "text/plain": [
              "[1, 2, 3, 4, 5, 6]"
            ]
          },
          "metadata": {},
          "execution_count": 66
        }
      ]
    },
    {
      "cell_type": "code",
      "source": [
        "# 어디까지 이해하고 어디까지 암기해야할까?\n",
        "# 책 => 이런 내용이 안나온다. 실무에서 빈도가 많은지에 대해 나오지 않습니다.\n",
        "# 암기해야 할 것들 암기하고, 버릴 것 버리면서 부지런히 가면\n",
        "# 충분히 4 ~ 5개월 안에 원하는 수준 가능합니다."
      ],
      "metadata": {
        "id": "T-zFTf0LeDdH"
      },
      "execution_count": null,
      "outputs": []
    },
    {
      "cell_type": "code",
      "source": [
        "a = 10\n",
        "print(a)    # a.__str__\n",
        "a   # a.__repr__\n",
        "repr(a) # a.__repr__"
      ],
      "metadata": {
        "colab": {
          "base_uri": "https://localhost:8080/",
          "height": 54
        },
        "id": "Rct04Q3bee01",
        "outputId": "c00d506b-b70b-4343-c041-806b9ab56cf3"
      },
      "execution_count": 68,
      "outputs": [
        {
          "output_type": "stream",
          "name": "stdout",
          "text": [
            "10\n"
          ]
        },
        {
          "output_type": "execute_result",
          "data": {
            "text/plain": [
              "'10'"
            ],
            "application/vnd.google.colaboratory.intrinsic+json": {
              "type": "string"
            }
          },
          "metadata": {},
          "execution_count": 68
        }
      ]
    },
    {
      "cell_type": "code",
      "source": [
        "# 실제 Django에서 사용하는 코드\n",
        "\n",
        "class Notice:\n",
        "    '''\n",
        "    게시물 클래스\n",
        "    '''\n",
        "    def __init__(self, title, contents):\n",
        "        self.title = title\n",
        "        self.contents = contents\n",
        "\n",
        "    def __str__(self):\n",
        "        return self.title\n",
        "\n",
        "    def __repr__(self):\n",
        "        '''\n",
        "        repr이라는 값은 제가 임의로 만든 값이 아닙니다!\n",
        "        정해져 있는 이름입니다.\n",
        "        '''\n",
        "        return f'{self.title}, {self.contents}'\n",
        "\n",
        "    def __len__(self):\n",
        "        '''\n",
        "        repr이라는 값은 제가 임의로 만든 값이 아닙니다!\n",
        "        정해져 있는 이름입니다.\n",
        "        '''\n",
        "        # return 100\n",
        "        return len(self.title + self.contents)\n",
        "\n",
        "게시물1 = Notice('파이썬 이렇게 어려운줄 몰랐다!', '내가 알던 파이썬이 아니야....')\n",
        "게시물2 = Notice('Django는 이렇게 재미있을 줄 몰랐다!', '파이썬을 잘 못해서 내가 할 수 있을까 생각이 들었는데...')\n",
        "\n",
        "len(게시물1)\n",
        "print(게시물1)  # 파이썬 이렇게 어려운줄 몰랐다!, 로그로 출력할 때\n",
        "게시물1 # 파이썬 이렇게 어려운줄 몰랐다!, 내가 알던 파이썬이 아니야....\n",
        "repr(게시물1)   # 그 자료형을 대표하는 문자열 취급"
      ],
      "metadata": {
        "colab": {
          "base_uri": "https://localhost:8080/"
        },
        "id": "5epFTUz1eq2E",
        "outputId": "940ccefd-27bf-428e-be43-b2ba5dc9b514"
      },
      "execution_count": 78,
      "outputs": [
        {
          "output_type": "execute_result",
          "data": {
            "text/plain": [
              "35"
            ]
          },
          "metadata": {},
          "execution_count": 78
        }
      ]
    },
    {
      "cell_type": "code",
      "source": [],
      "metadata": {
        "id": "eGOlkVLujybd"
      },
      "execution_count": null,
      "outputs": []
    },
    {
      "cell_type": "code",
      "source": [
        "# 현업에서 3.6 이상을 사용하면 참 다행입니다.\n",
        "# 예를 들어 서비스를 만든지 조금 오래된 'Y기업' 등 다른 기업들은\n",
        "# Django를 2.x, 1.x\n",
        "# 실무에 가셨을 때 2.x 어느정도 알고 있어야 한다.\n",
        "# match같은 문법은 아직 사용 불가. 2~3년 뒤에는 사용할 수 있을것"
      ],
      "metadata": {
        "id": "4Y3cmZRKhS_Z"
      },
      "execution_count": null,
      "outputs": []
    },
    {
      "cell_type": "code",
      "source": [
        "type(range(10)) # range라는 타입입니다."
      ],
      "metadata": {
        "colab": {
          "base_uri": "https://localhost:8080/"
        },
        "id": "ptOUwKiKgHaF",
        "outputId": "7f7bbc59-f3f8-4ca8-a8c8-4ce2bb370ce2"
      },
      "execution_count": 72,
      "outputs": [
        {
          "output_type": "execute_result",
          "data": {
            "text/plain": [
              "range"
            ]
          },
          "metadata": {},
          "execution_count": 72
        }
      ]
    },
    {
      "cell_type": "code",
      "source": [
        "# 2.x버전\n",
        "# range(10) => [0, 1, 2, 3, 4, 5, 6, 7, 8, 9]\n",
        "# type(range(10)) => <type 'list'>\n",
        "\n",
        "# 문제: range(10000000000000) => 메모리를 100000000000 갯수만큼 한 번에 생성을 해야합니다.\n",
        "# 이것을 개선하자는 얘기가 끊임없이 나왔습니다.\n",
        "# 2.x에서 나온 것이 xrange()입니다. 이것은 특이하게 현재값과 다음값만을 가지고 있어요.\n",
        "# 메모리 공간은 2칸(실제로는 더 잡아먹습니다.)이 되서 효율적이게 바뀐것입니다.\n",
        "# 현재값, 다음값\n",
        "\n",
        "# 3.x에서 range(_)\n",
        "# class range로 바뀌게 된 것입니다.\n",
        "# for i in range(1000): # 1000개의 메모리를 할당하는 것이 아닙니다.\n",
        "#   pass"
      ],
      "metadata": {
        "id": "NDJwTIj_g_S0"
      },
      "execution_count": 73,
      "outputs": []
    },
    {
      "cell_type": "code",
      "source": [
        "list(range(1000))   # 메모리 큰 부하를 줍니다"
      ],
      "metadata": {
        "id": "fFUXaUxUjUND"
      },
      "execution_count": null,
      "outputs": []
    },
    {
      "cell_type": "code",
      "source": [
        "sum(range(1000))"
      ],
      "metadata": {
        "colab": {
          "base_uri": "https://localhost:8080/"
        },
        "id": "coL1XKeajYsw",
        "outputId": "f5d68804-47a9-4a7c-84ca-35876de375d6"
      },
      "execution_count": 75,
      "outputs": [
        {
          "output_type": "execute_result",
          "data": {
            "text/plain": [
              "499500"
            ]
          },
          "metadata": {},
          "execution_count": 75
        }
      ]
    },
    {
      "cell_type": "code",
      "source": [
        "sum(list(range(1000)))  # 메모리가 1000개 할당 되었다가 더해야 하니 비효율적인 코드입니다."
      ],
      "metadata": {
        "colab": {
          "base_uri": "https://localhost:8080/"
        },
        "id": "APlFov_SjbPL",
        "outputId": "ddd677bf-b61a-4ead-b4fa-cee79f51c895"
      },
      "execution_count": 76,
      "outputs": [
        {
          "output_type": "execute_result",
          "data": {
            "text/plain": [
              "499500"
            ]
          },
          "metadata": {},
          "execution_count": 76
        }
      ]
    },
    {
      "cell_type": "code",
      "source": [
        "values = ['A', 'B', 'C', 'D']\n",
        "print(list(enumerate(values)))\n",
        "print(list(enumerate(values, 1))) # 시작값 넣는 것 많이 사용합니다. 기억해두세요."
      ],
      "metadata": {
        "id": "Ni6GgEWTjgtk"
      },
      "execution_count": null,
      "outputs": []
    },
    {
      "cell_type": "code",
      "source": [
        "list(reversed([1, 2, 3, 4, 5]))"
      ],
      "metadata": {
        "colab": {
          "base_uri": "https://localhost:8080/"
        },
        "id": "XK-w1HO_kmMu",
        "outputId": "5169b0dd-275e-4333-92f4-13f81774db8c"
      },
      "execution_count": 79,
      "outputs": [
        {
          "output_type": "execute_result",
          "data": {
            "text/plain": [
              "[5, 4, 3, 2, 1]"
            ]
          },
          "metadata": {},
          "execution_count": 79
        }
      ]
    },
    {
      "cell_type": "code",
      "source": [
        "sorted([1, 2, 3, 4, 5])\n",
        "# 왜 sorted만 일반 자료형으로 주나요?\n",
        "# reversed나 map이나 이런건 모두 메모리 주소를 가리키는데!?\n",
        "# 정답: (추후에 심화 과정에서 강의합니다.) 메모리의 효율성 때문입니다.\n",
        "# sorted만 비효율을 감수하고 사용자가 보기 편한 자료형으로 반환합니다."
      ],
      "metadata": {
        "colab": {
          "base_uri": "https://localhost:8080/"
        },
        "id": "uys2iCyNktVK",
        "outputId": "39f69b92-b290-4609-8056-70d11599e029"
      },
      "execution_count": 80,
      "outputs": [
        {
          "output_type": "execute_result",
          "data": {
            "text/plain": [
              "[1, 2, 3, 4, 5]"
            ]
          },
          "metadata": {},
          "execution_count": 80
        }
      ]
    },
    {
      "cell_type": "markdown",
      "source": [
        "# match\n",
        "\n",
        "* 3.10버전에서 나온 문법이기에 현업에서 거의 사용 x\n",
        "* 예를 들어 속도가 매우 빨라야 하는 프로젝트를 하게\n",
        "되었습니다. 그렇다면 python 최신 버전을 사용할텐데,\n",
        "그러면 match 문법을 사용할 수는 있습니다. 다만 권고하기\n",
        "어렵습니다. match 문법이 동료들이 익숙하지 않기 때문입니다.\n",
        "* 2024년에는 중요도가 별표 0.5개 정도 되고\n",
        "* 2 ~ 3년 후에는 중요도가 3 ~ 4개 정도로 올라갈 것으로\n",
        "보입니다."
      ],
      "metadata": {
        "id": "L3PFfDMvkzpi"
      }
    },
    {
      "cell_type": "code",
      "source": [
        "# 제가 반대하는 이유\n",
        "# 타 언어에 비해서 불편한 점\n",
        "요일 = 3\n",
        "match 요일:\n",
        "    case 0:\n",
        "        print('일요일')\n",
        "    case 1:\n",
        "        print('월요일')\n",
        "    case 2:\n",
        "        print('화요일')\n",
        "    case 3:\n",
        "        print('수요일')\n",
        "    case 4:\n",
        "        print('목요일')\n",
        "    case 5:\n",
        "        print('금요일')\n",
        "    case 6:\n",
        "        print('토요일')\n"
      ],
      "metadata": {
        "id": "dLHvmWlDmENy"
      },
      "execution_count": null,
      "outputs": []
    },
    {
      "cell_type": "code",
      "source": [
        "# 요일 = 4\n",
        "# match 요일:\n",
        "#     case 0:\n",
        "#         print('일요일')\n",
        "#     case 1:\n",
        "#         print('월요일')\n",
        "#     case 2:\n",
        "#         print('화요일')\n",
        "#     case 3:   # 다른 언어에서는 이 문법이 가능합니다.\n",
        "#     case 4:\n",
        "#         print('목요일')\n",
        "#     case 5:\n",
        "#         print('금요일')\n",
        "#     case 6:\n",
        "#         print('토요일')"
      ],
      "metadata": {
        "id": "r_ujphwOn_Fr"
      },
      "execution_count": null,
      "outputs": []
    },
    {
      "cell_type": "code",
      "source": [
        "요일 = 100\n",
        "match 요일:\n",
        "    case 0:\n",
        "        print('일요일')\n",
        "    case 1:\n",
        "        print('월요일')\n",
        "    case 2:\n",
        "        print('화요일')\n",
        "    case 3:\n",
        "        print('수요일')\n",
        "    case 4:\n",
        "        print('목요일')\n",
        "    case 5:\n",
        "        print('금요일')\n",
        "    case 6:\n",
        "        print('토요일')\n",
        "    case _:\n",
        "        print('요일없음')\n"
      ],
      "metadata": {
        "colab": {
          "base_uri": "https://localhost:8080/"
        },
        "id": "rDy1BsXnoMkU",
        "outputId": "267c6497-cfa9-4177-9d1b-8735f06a6dc9"
      },
      "execution_count": 81,
      "outputs": [
        {
          "output_type": "stream",
          "name": "stdout",
          "text": [
            "요일없음\n"
          ]
        }
      ]
    },
    {
      "cell_type": "code",
      "source": [
        "text = '1'\n",
        "match text:\n",
        "    case '1' | '2':\n",
        "        print('1, 2')\n",
        "    case _:\n",
        "        print('No Match')"
      ],
      "metadata": {
        "id": "WILqbpuPoit8"
      },
      "execution_count": null,
      "outputs": []
    },
    {
      "cell_type": "code",
      "source": [
        "# 여러분들은 오히려 이런 코드보다 아래 코드를 더 많이 만나게 되실겁니다.\n",
        "def 요일반환(요일):\n",
        "    return {\n",
        "        0: '일요일',\n",
        "        1: '월요일',\n",
        "        2: '화요일',\n",
        "        3: '수요일',\n",
        "    }.get(요일, '요일없음')\n",
        "\n",
        "요일반환(2)\n",
        "요일반환(100)"
      ],
      "metadata": {
        "id": "m1ivhzlGolBJ"
      },
      "execution_count": null,
      "outputs": []
    },
    {
      "cell_type": "markdown",
      "source": [
        "# class\n",
        "\n",
        "* class 이론을 여러권 + ChatGPT + 유튜브를 보시는 것 보다는\n",
        "* 여러개를 만들어보세요. ChatGPT에게 여러개의 클래스를\n",
        "추천받고, ChatGPT에게 짜달라서 해서 그것을 타이핑 해보시는\n",
        "것도 많은 도움이 될겁니다.\n",
        "* 결론 : 많은 것을 만들어 보셔야 합니다."
      ],
      "metadata": {
        "id": "JpoC7Htv8IRF"
      }
    },
    {
      "cell_type": "markdown",
      "source": [
        "* class 클래스이름 => 인스턴스\n",
        "* class Post => 게시물1, 게시물2, 게시물3...\n",
        "* class Dot => 점1, 점2, 점3...\n",
        "* class Matrix => 행렬1, 행렬2, 행렬3...\n",
        "* class User => 유저1, 유저2, 유저3...\n",
        "* class Cart(장바구니) => Cart1, Cart2, Cart3...\n",
        "* class comment(댓글) => 댓글1, 댓글2, 댓글3\n",
        "* Character => Licat(주인공), Lion(빌런), Mob1(몬스터)\n",
        "* class Product => 상품1, 상품2, 상품3...\n",
        "* class Class_ => 강의1, 강의2, 강의3...\n",
        "* class Teacher => 강사1, 강사2, 강사3"
      ],
      "metadata": {
        "id": "gL6H1leB8JOI"
      }
    },
    {
      "cell_type": "code",
      "source": [
        "# 0번: 기초 상식\n",
        "# 0.0 __init__ 매직메서드는 없어도 되나요?\n",
        "# 실제로 이런 코드를 짜실 일이 생깁니다.\n",
        "class 우편번호:\n",
        "    제주도 = 100\n",
        "    서울시 = 101\n",
        "    경기도 = 102\n",
        "    전라남도 = 103\n",
        "\n",
        "우편번호.제주도\n",
        "# 왜 이걸 딕셔너리로 만들지 않고 class로 만들었나요?\n",
        "# 재사용성 + 확장성\n",
        "\n",
        "# 0.1 클래스 꼭 사용해야 하나요?\n",
        "# 일부 자료형에서는 클래스는 꼭 사용해야 합니다.\n",
        "\n",
        "# 아래와 같이 저장한다고 해서 문제가 생기는가?\n",
        "# 데이터의 양(속도), 확장성, 다양성, 자료의 형태\n",
        "# 기본 클래스(list, tuple, dict(속도 개선이 많이 되었음에도), set)는 매우 느립니다.\n",
        "\n",
        "# 제목: python 기초\n",
        "# 저자: 이호준\n",
        "\n",
        "{'제목': 'python 기초', '저자': '이호준'}\n",
        "\n",
        "# 제목: html 기초\n",
        "# 저자: 한재현\n",
        "\n",
        "{'제목': 'html 기초', '저자': '한재현'}\n",
        "\n",
        "[{'제목': 'python 기초', '저자': '이호준'}, {'제목': 'html 기초', '저자': '한재현'}]"
      ],
      "metadata": {
        "colab": {
          "base_uri": "https://localhost:8080/"
        },
        "id": "CyhxfQO48w-j",
        "outputId": "4e5f4819-020a-456d-e218-b65d35455b66"
      },
      "execution_count": 85,
      "outputs": [
        {
          "output_type": "execute_result",
          "data": {
            "text/plain": [
              "{'제목': 'html 기초', '저자': '한재현'}"
            ]
          },
          "metadata": {},
          "execution_count": 85
        }
      ]
    },
    {
      "cell_type": "code",
      "source": [
        "# keep\n",
        "from datetime import datetime\n",
        "\n",
        "datetime.now()"
      ],
      "metadata": {
        "id": "h6Q8Hx8WDUgG"
      },
      "execution_count": null,
      "outputs": []
    },
    {
      "cell_type": "markdown",
      "source": [
        "## Post"
      ],
      "metadata": {
        "id": "SZuikmMLNfS3"
      }
    },
    {
      "cell_type": "code",
      "source": [
        "# 1번\n",
        "# 클래스를 설계하실 때\n",
        "# 첫 번째로 - 모든 인스턴스에서 공유해야할 변수(클래스 변수)나 메서드 설정\n",
        "# 두 번째로 - 인스턴스 고유의 영역\n",
        "# in_crerate_at(스네이크 표기법) - 파이썬 권고사항\n",
        "# inCreatedAt(카멜 표기법) - 파이썬에서는 잘 사용하지 않습니다.(JavaScript에서는 많이 사용합니다.)\n",
        "# InCreatedAt(파스칼 표기법) - 파이썬 클래스\n",
        "\n",
        "class Post:\n",
        "    def __init__(\n",
        "            self,\n",
        "            in_title='',\n",
        "            in_contents='',\n",
        "            in_count=0,\n",
        "            in_crerate_at='',\n",
        "            in_updated_at='',\n",
        "            in_author=''\n",
        "        ):\n",
        "        self.title = in_title\n",
        "        self.contents = in_contents\n",
        "        self.count = in_count\n",
        "        self.created_at = in_crerate_at\n",
        "        self.updated_at = in_updated_at\n",
        "        self.author = in_author\n",
        "\n",
        "    def __str__(self):\n",
        "        return self.title\n",
        "\n",
        "    def __repr__(self): # str 매지메서드를 선언하면 repr도 같이 나오고 일반적으론 동일하게 한다.\n",
        "        return self.title\n",
        "\n",
        "    def __add__(self, next):\n",
        "        # return self.count + next.count  # 게시물 1의 카운트 + 게시물 2의 카운트\n",
        "        return self.title+next.title\n",
        "\n",
        "    def __eq__(self, next):\n",
        "        return self.title == next.title\n",
        "\n",
        "    def update(self, in_contents):\n",
        "        '''\n",
        "        in_ 실무에서 쓰는 접두사가 아닙니다!\n",
        "        '''\n",
        "        self.contents = in_contents\n",
        "        return '게시물 수정에 성공했습니다! 200'    # return값은 print()해야만 출력\n",
        "\n",
        "게시물1 = Post(\n",
        "    '파이썬은 참 깊군요!',\n",
        "    '오늘은 파이썬 클래스를 배웠는데 너무 어렵기도 하고, 신기했습니다.',\n",
        "    0,\n",
        "    '2024-01-11',\n",
        "    '2024-01-11',\n",
        "    '이호준'\n",
        "    )\n",
        "\n",
        "게시물2 = Post('2', '22',0,'2024-01-11','2024-01-11','이호준')\n",
        "\n",
        "print(게시물1)\n",
        "print(게시물1.title)\n",
        "print(게시물1 + 게시물2)    # +연산이 나오면 앞(게시물 1)의 __add__가 실행됩니다.\n",
        "게시물1.update('hello world')\n",
        "게시물1.contents\n",
        "\n",
        "게시물1 == 게시물2  # eq 매직메서드로 정의했기에 title끼리만 비교함"
      ],
      "metadata": {
        "colab": {
          "base_uri": "https://localhost:8080/"
        },
        "id": "DyNBvcrrApH0",
        "outputId": "09c920ee-a994-4aff-d72e-7e3056efc4f1"
      },
      "execution_count": 100,
      "outputs": [
        {
          "output_type": "stream",
          "name": "stdout",
          "text": [
            "파이썬은 참 깊군요!\n",
            "파이썬은 참 깊군요!\n",
            "파이썬은 참 깊군요!2\n"
          ]
        },
        {
          "output_type": "execute_result",
          "data": {
            "text/plain": [
              "False"
            ]
          },
          "metadata": {},
          "execution_count": 100
        }
      ]
    },
    {
      "cell_type": "code",
      "source": [
        "[1, 2, 3] == [1, 2, 3]"
      ],
      "metadata": {
        "colab": {
          "base_uri": "https://localhost:8080/"
        },
        "id": "TNVBLFwIMgOU",
        "outputId": "42509928-ef7e-46c7-c756-66147aed6191"
      },
      "execution_count": 98,
      "outputs": [
        {
          "output_type": "execute_result",
          "data": {
            "text/plain": [
              "True"
            ]
          },
          "metadata": {},
          "execution_count": 98
        }
      ]
    },
    {
      "cell_type": "code",
      "source": [
        "[1, 2, 3] is [1, 2, 3]"
      ],
      "metadata": {
        "colab": {
          "base_uri": "https://localhost:8080/"
        },
        "id": "dLdEG5DmM6mm",
        "outputId": "22fa01be-95dd-40fc-b693-9f48c9eedc6d"
      },
      "execution_count": 99,
      "outputs": [
        {
          "output_type": "execute_result",
          "data": {
            "text/plain": [
              "False"
            ]
          },
          "metadata": {},
          "execution_count": 99
        }
      ]
    },
    {
      "cell_type": "code",
      "source": [
        "l = [10, 20, 30]\n",
        "len(dir(l))"
      ],
      "metadata": {
        "colab": {
          "base_uri": "https://localhost:8080/"
        },
        "id": "ER6eAj-kKLGr",
        "outputId": "842af540-b19a-45fe-e089-4e6a38934761"
      },
      "execution_count": 93,
      "outputs": [
        {
          "output_type": "execute_result",
          "data": {
            "text/plain": [
              "47"
            ]
          },
          "metadata": {},
          "execution_count": 93
        }
      ]
    },
    {
      "cell_type": "code",
      "source": [
        "len(dir(게시물2))"
      ],
      "metadata": {
        "colab": {
          "base_uri": "https://localhost:8080/"
        },
        "id": "o07WgWOKLSVa",
        "outputId": "96024a6d-d5c8-42c8-9ebb-4d52381467f4"
      },
      "execution_count": 96,
      "outputs": [
        {
          "output_type": "execute_result",
          "data": {
            "text/plain": [
              "36"
            ]
          },
          "metadata": {},
          "execution_count": 96
        }
      ]
    },
    {
      "cell_type": "markdown",
      "source": [
        "## Dot"
      ],
      "metadata": {
        "id": "hquurp25NhhW"
      }
    },
    {
      "cell_type": "code",
      "source": [
        "class Dot:\n",
        "    def __init__(self, x, y):\n",
        "        self.x = x\n",
        "        self.y = y\n",
        "\n",
        "    def __add__(self, next):\n",
        "        return (self.x + next.x, self.y + next.y)\n",
        "\n",
        "    def __mul__(self, next):\n",
        "                return (self.x * next.x, self.y * next.y)\n",
        "\n",
        "    def distance(self, next):\n",
        "        dx = self.x - next.x\n",
        "        dy = self.y - next.y\n",
        "        return (dx**2 + dy**2) ** 0.5   # root는 **0.5로 많이 사용합니다.\n",
        "\n",
        "dot1 = Dot(20, 10)\n",
        "dot2 = Dot(30, 5)\n",
        "\n",
        "dot1 + dot2\n",
        "dot1.distance(dot2)"
      ],
      "metadata": {
        "colab": {
          "base_uri": "https://localhost:8080/"
        },
        "id": "pzWGKM5CNiAf",
        "outputId": "060bd31e-c2c8-43f6-ee9b-1f41b51bf9cb"
      },
      "execution_count": 104,
      "outputs": [
        {
          "output_type": "execute_result",
          "data": {
            "text/plain": [
              "11.180339887498949"
            ]
          },
          "metadata": {},
          "execution_count": 104
        }
      ]
    },
    {
      "cell_type": "markdown",
      "source": [
        "## Character"
      ],
      "metadata": {
        "id": "B6VxRMbHPug4"
      }
    },
    {
      "cell_type": "code",
      "source": [
        "class Character:\n",
        "    def __init__(self, name, skill, hp, mp, power, x):\n",
        "        self.name = name\n",
        "        self.skill = skill\n",
        "        self.hp = hp\n",
        "        self.mp = mp\n",
        "        self.power = power\n",
        "        self.x = x\n",
        "\n",
        "    def move(self):\n",
        "        self.x += 100\n",
        "\n",
        "    def attack(self, next):\n",
        "        next.hp -= self.power\n",
        "\n",
        "주인공1 =\n"
      ],
      "metadata": {
        "id": "_SNtF3QVQGuz"
      },
      "execution_count": null,
      "outputs": []
    }
  ]
}