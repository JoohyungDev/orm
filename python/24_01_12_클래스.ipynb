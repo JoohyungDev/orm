{
  "cells": [
    {
      "cell_type": "code",
      "execution_count": null,
      "metadata": {
        "colab": {
          "base_uri": "https://localhost:8080/"
        },
        "id": "QpJoZskxaLqM",
        "outputId": "2d63aa5d-5b7d-41b2-c6c3-fe7322020fc0"
      },
      "outputs": [
        {
          "data": {
            "text/plain": [
              "30"
            ]
          },
          "execution_count": 1,
          "metadata": {},
          "output_type": "execute_result"
        }
      ],
      "source": [
        "# 이런식으로 사용도 가능하다\n",
        "l = [lambda x, y: x + y, lambda x, y: x - y, lambda x, y: x / y, lambda x, y: x * y]\n",
        "l[0](10,20)"
      ]
    },
    {
      "cell_type": "code",
      "execution_count": null,
      "metadata": {
        "colab": {
          "base_uri": "https://localhost:8080/"
        },
        "id": "nKzx3E4AcJK0",
        "outputId": "feee7242-f22a-407e-c705-b043b432e902"
      },
      "outputs": [
        {
          "data": {
            "text/plain": [
              "[1, 11, 100, 77]"
            ]
          },
          "execution_count": 2,
          "metadata": {},
          "output_type": "execute_result"
        }
      ],
      "source": [
        "# map 추가 정리\n",
        "list(map(int, ['1', '11', 100, '77']))"
      ]
    },
    {
      "cell_type": "code",
      "execution_count": null,
      "metadata": {
        "colab": {
          "base_uri": "https://localhost:8080/"
        },
        "id": "vobQv5Q-eRzl",
        "outputId": "e0d8ba0e-300e-4740-8c47-13871b6c13c8"
      },
      "outputs": [
        {
          "data": {
            "text/plain": [
              "[False,\n",
              " False,\n",
              " True,\n",
              " False,\n",
              " False,\n",
              " False,\n",
              " False,\n",
              " False,\n",
              " True,\n",
              " False,\n",
              " False,\n",
              " False,\n",
              " True,\n",
              " False]"
            ]
          },
          "execution_count": 5,
          "metadata": {},
          "output_type": "execute_result"
        }
      ],
      "source": [
        "list(map(str.isdigit, 'he1llo w2orl3d'))"
      ]
    },
    {
      "cell_type": "code",
      "execution_count": null,
      "metadata": {
        "colab": {
          "base_uri": "https://localhost:8080/"
        },
        "id": "PLaYLVX3edCb",
        "outputId": "91f04c79-9b07-497b-ca5a-df93ddf422ce"
      },
      "outputs": [
        {
          "data": {
            "text/plain": [
              "['1', '11', '100', '77']"
            ]
          },
          "execution_count": 6,
          "metadata": {},
          "output_type": "execute_result"
        }
      ],
      "source": [
        "list(map(str, ['1', '11', 100, '77']))"
      ]
    },
    {
      "cell_type": "code",
      "execution_count": null,
      "metadata": {
        "colab": {
          "base_uri": "https://localhost:8080/"
        },
        "id": "43PiClRuetQM",
        "outputId": "f105d6ca-1cfa-4160-9e37-8c99d8ea9403"
      },
      "outputs": [
        {
          "data": {
            "text/plain": [
              "['1', '2', '3']"
            ]
          },
          "execution_count": 7,
          "metadata": {},
          "output_type": "execute_result"
        }
      ],
      "source": [
        "list(filter(str.isdigit, 'he1llo w2orl3d'))"
      ]
    },
    {
      "cell_type": "code",
      "execution_count": null,
      "metadata": {
        "colab": {
          "base_uri": "https://localhost:8080/"
        },
        "id": "fxWgR8P9e2Ge",
        "outputId": "6ed19d0f-8499-4aca-b05a-90c0ffcc7dbf"
      },
      "outputs": [
        {
          "data": {
            "text/plain": [
              "['월요일', '금요일', '토요일', '수요일', '목요일']"
            ]
          },
          "execution_count": 9,
          "metadata": {},
          "output_type": "execute_result"
        }
      ],
      "source": [
        "# 난이도가 있는 것을 해보겠습니다(복습x, 중요도는 있어서 가능하면 한번 해보세요)\n",
        "요일 = {\n",
        "    0: '일요일',\n",
        "    1: '월요일',\n",
        "    2: '화요일',\n",
        "    3: '수요일',\n",
        "    4: '목요일',\n",
        "    5: '금요일',\n",
        "    6: '토요일',\n",
        "    }\n",
        "\n",
        "def 함수(x):\n",
        "    return 요일.get(x, '요일없음')\n",
        "\n",
        "list(map(함수, [1, 5, 6, 3, 4]))"
      ]
    },
    {
      "cell_type": "markdown",
      "metadata": {
        "id": "nxEunOeUgJB_"
      },
      "source": [
        "# 클래스 2번째 시간\n"
      ]
    },
    {
      "cell_type": "markdown",
      "metadata": {
        "id": "I5DnDNi7geyU"
      },
      "source": [
        "* class 클래스이름 => 인스턴스\n",
        "* class Post => 게시물1, 게시물2, 게시물3...\n",
        "* class Dot => 점1, 점2, 점3...\n",
        "* class Character => Licat(주인공), Lion(빌런), Mob1(몬스터)\n",
        "* class Matrix => 행렬1, 행렬2, 행렬3...\n",
        "* class User => 유저1, 유저2, 유저3...\n",
        "* class Cart(장바구니) => Cart1, Cart2, Cart3...\n",
        "* class Commnet(댓글) => 댓글1, 댓글2, 댓글3...\n",
        "* class Product => 상품1, 상품2, 상품3...\n",
        "* class Class_ => 강의1, 강의2, 강의3...\n",
        "* class Teacher => 강사1, 강사2, 강사3..."
      ]
    },
    {
      "cell_type": "markdown",
      "metadata": {
        "id": "ptadrZhfwk90"
      },
      "source": [
        "## Character"
      ]
    },
    {
      "cell_type": "code",
      "execution_count": null,
      "metadata": {
        "colab": {
          "base_uri": "https://localhost:8080/"
        },
        "id": "iw4TltWpnfYR",
        "outputId": "3b66f3ae-798b-42e1-ba1e-eca0a983da26"
      },
      "outputs": [
        {
          "data": {
            "text/plain": [
              "2"
            ]
          },
          "execution_count": 62,
          "metadata": {},
          "output_type": "execute_result"
        }
      ],
      "source": [
        "class Character:\n",
        "\n",
        "    character_count = 0\n",
        "\n",
        "    def __init__(self, name, skill, hp, mp, power, x):\n",
        "        self.name = name\n",
        "        self.skill = skill\n",
        "        self.hp = hp\n",
        "        self.mp = mp\n",
        "        self.power = power\n",
        "        self.x = x\n",
        "        Character.character_count_increase()    # 예를 들어 한 화면에 몹이 100개 이상 나오지 못한다.\n",
        "\n",
        "    @classmethod    # 클래스의 어떤 변수를 변경할때 선언\n",
        "    def character_count_increase(cls):\n",
        "        '''\n",
        "        캐릭터가 100개 이상 생성되면 경고 메시지 출력\n",
        "        cls는 class입니다. self는 instance입니다.\n",
        "        2개가 다릅니다!\n",
        "        '''\n",
        "        cls.character_count += 1\n",
        "\n",
        "    def move(self):\n",
        "        self.x += 100\n",
        "\n",
        "    def attack(self, next):\n",
        "        next.hp -= self.power\n",
        "\n",
        "\n",
        "주인공1 = Character('licat', '질풍검', 100, 100, 10, 10)\n",
        "몹1 = Character('licat', '질풍검', 100, 100, 10, 10)\n",
        "\n",
        "주인공1.attack(몹1)\n",
        "몹1.hp\n",
        "\n",
        "몹1.character_count"
      ]
    },
    {
      "cell_type": "code",
      "execution_count": null,
      "metadata": {
        "colab": {
          "base_uri": "https://localhost:8080/"
        },
        "id": "ml50Wo-Jwx-v",
        "outputId": "c7b0ba96-864e-44aa-f87a-37d2daa8499b"
      },
      "outputs": [
        {
          "name": "stdout",
          "output_type": "stream",
          "text": [
            "수리합니다!\n",
            "[{'name': '엑스칼리버', 'power': 1000}]\n"
          ]
        }
      ],
      "source": [
        "# 상속 맛보기\n",
        "class Character:\n",
        "    def __init__(self, name, skill, hp, mp, power, defence):\n",
        "        self.name = name\n",
        "        self.skill = skill\n",
        "        self.hp = hp\n",
        "        self.mp = mp\n",
        "        self.power = power\n",
        "        self.defence = defence\n",
        "\n",
        "    def attack(self, next):\n",
        "        next.hp -= self.power\n",
        "\n",
        "class Item:\n",
        "    엑스칼리버 = {'name': '엑스칼리버', 'power': 1000}\n",
        "    가죽갑옷 = {'name': '가죽갑옷', 'defence': 10}\n",
        "    철갑옷 = {'name': '철갑옷', 'defence': 100}\n",
        "    HP물약 = {'name': 'HP물약', 'hp': 10}\n",
        "    MP물약 = {'name': 'MP물약', 'mp': 10}\n",
        "\n",
        "    def repair(self):\n",
        "        print('수리합니다!')\n",
        "\n",
        "class Hero(Character, Item):\n",
        "    def __init__(self, name, skill, hp, mp, power, defence, level=1):\n",
        "        # self.name = name # 이렇게 일일이 하지 않고, 아래와 같이 하면 됩니다.\n",
        "        super().__init__(name, skill, hp, mp, power, defence)   # super()는 상속받을 때 사용. self 사용 안함\n",
        "        self.level = level\n",
        "        self.item = []\n",
        "\n",
        "    def add_item(self, item):\n",
        "        self.item.append(item)\n",
        "        self.power += item.get('power', 0)\n",
        "        self.defence += item.get('defence', 0)\n",
        "        self.hp += item.get('hp', 0)\n",
        "        self.mp += item.get('mp', 0)\n",
        "\n",
        "    def show_item(self):\n",
        "        print(self.item)\n",
        "\n",
        "class Mob(Character):\n",
        "    pass\n",
        "\n",
        "\n",
        "# 주인공은 아이템이 있는데!?, 몹은 아이템이 없어요.\n",
        "# 주인공은 Lv이 있는데!?, 몹은 Lv이 없어요.\n",
        "# 몹은 Drop하는 아이템이 있는데!?, 주인공은 없어요.\n",
        "주인공1 = Hero('licat', '질풍검', 100, 100, 10, 0, 1)\n",
        "몹1 = Mob('licat', '질풍검', 100, 100, 10, 0)\n",
        "\n",
        "주인공1.attack(몹1)\n",
        "몹1.hp\n",
        "\n",
        "주인공1.add_item(Item.엑스칼리버)\n",
        "주인공1.repair()\n",
        "주인공1.show_item()\n"
      ]
    },
    {
      "cell_type": "markdown",
      "metadata": {
        "id": "lvODiB2CwiyC"
      },
      "source": [
        "## Matrix"
      ]
    },
    {
      "cell_type": "code",
      "execution_count": null,
      "metadata": {
        "colab": {
          "base_uri": "https://localhost:8080/"
        },
        "id": "JKxCNxzkhuw1",
        "outputId": "ac08e585-8ebf-4e7f-8fbb-3951eb74f34a"
      },
      "outputs": [
        {
          "data": {
            "text/plain": [
              "[2, 4, 6]"
            ]
          },
          "execution_count": 2,
          "metadata": {},
          "output_type": "execute_result"
        }
      ],
      "source": [
        "# 행렬 1번 예제(비추천)\n",
        "class Matrix:\n",
        "    def __init__(self, value):\n",
        "        self.value = value\n",
        "\n",
        "    def __add__(self, next):    # 수학연산에선 next, equal같은 경우는 other을 쓴다고 한다.\n",
        "        result = []\n",
        "        for i in range(len(self.value)):\n",
        "            result.append(self.value[i] + next.value[i])\n",
        "        return result\n",
        "\n",
        "a = Matrix([1, 2, 3])\n",
        "b = Matrix([1, 2, 3])\n",
        "\n",
        "a + b"
      ]
    },
    {
      "cell_type": "code",
      "execution_count": null,
      "metadata": {
        "id": "Pw7eWXUAiVtr"
      },
      "outputs": [],
      "source": [
        "# [1, 2, 3] + [1, 2, 3] == [1, 2, 3, 1, 2, 3]\n",
        "# [1, 2, 3] + [1, 2, 3] == [2, 4, 6] # 우리가 원하는 형태"
      ]
    },
    {
      "cell_type": "code",
      "execution_count": null,
      "metadata": {
        "colab": {
          "base_uri": "https://localhost:8080/"
        },
        "id": "1OMUBSPqkO37",
        "outputId": "961ee5fc-080e-41c2-d0fd-0e63521ad6ab"
      },
      "outputs": [
        {
          "name": "stdout",
          "output_type": "stream",
          "text": [
            "[3, 6, 9]\n"
          ]
        }
      ],
      "source": [
        "# 행렬 2번 예제(추천)\n",
        "class Matrix:\n",
        "    def __init__(self, value):\n",
        "        self.value = value\n",
        "\n",
        "    def __add__(self, next):    # 수학연산에선 next, equal같은 경우는 other을 쓴다고 한다.\n",
        "        result = []\n",
        "        for i, _ in enumerate(self.value):\n",
        "            result.append(self.value[i] + next.value[i])\n",
        "        return result\n",
        "\n",
        "    def __mul__(self, next):\n",
        "        for i, _ in enumerate(self.value):\n",
        "            self.value[i] *= next\n",
        "        return self.value\n",
        "\n",
        "    def __str__(self):\n",
        "        return str(self.value)\n",
        "\n",
        "    def __repr__(self):\n",
        "        return str(self.value)\n",
        "\n",
        "a = Matrix([1, 2, 3])\n",
        "b = Matrix([1, 2, 3])\n",
        "\n",
        "a * 3\n",
        "print(a)    # <__main__.Matrix object at 0x7c1b6a973b20> 라고 나오는 것을 str메서드로 a의 행렬이 나오도록 했음.\n",
        "\n",
        "# 파이썬에서 사용하지 않는 변수는 _로 할당합니다."
      ]
    },
    {
      "cell_type": "code",
      "execution_count": null,
      "metadata": {
        "id": "BTkeWfCvknlF"
      },
      "outputs": [],
      "source": [
        "# [1, 2, 3] * 3 == [1, 2, 3, 1, 2, 3, 1, 2, 3]\n",
        "# [1, 2, 3] * 3 == [3, 6, 9]    # 우리가 원하는 상태"
      ]
    },
    {
      "cell_type": "code",
      "execution_count": null,
      "metadata": {
        "colab": {
          "base_uri": "https://localhost:8080/",
          "height": 203
        },
        "id": "3IVogf-npc7x",
        "outputId": "4e95bcd5-0caf-4420-8491-d06f072e50cf"
      },
      "outputs": [
        {
          "ename": "TypeError",
          "evalue": "'A' object is not iterable",
          "output_type": "error",
          "traceback": [
            "\u001b[0;31m---------------------------------------------------------------------------\u001b[0m",
            "\u001b[0;31mTypeError\u001b[0m                                 Traceback (most recent call last)",
            "\u001b[0;32m<ipython-input-68-c324de4f8f18>\u001b[0m in \u001b[0;36m<cell line: 1>\u001b[0;34m()\u001b[0m\n\u001b[0;32m----> 1\u001b[0;31m \u001b[0;32mfor\u001b[0m \u001b[0mi\u001b[0m \u001b[0;32min\u001b[0m \u001b[0ma\u001b[0m\u001b[0;34m:\u001b[0m\u001b[0;34m\u001b[0m\u001b[0;34m\u001b[0m\u001b[0m\n\u001b[0m\u001b[1;32m      2\u001b[0m     \u001b[0mprint\u001b[0m\u001b[0;34m(\u001b[0m\u001b[0mi\u001b[0m\u001b[0;34m)\u001b[0m\u001b[0;34m\u001b[0m\u001b[0;34m\u001b[0m\u001b[0m\n",
            "\u001b[0;31mTypeError\u001b[0m: 'A' object is not iterable"
          ]
        }
      ],
      "source": [
        "for i in a:\n",
        "    print(i)"
      ]
    },
    {
      "cell_type": "code",
      "execution_count": null,
      "metadata": {
        "colab": {
          "base_uri": "https://localhost:8080/"
        },
        "id": "--VWmWT5vNTk",
        "outputId": "7ce0d329-952a-4003-ad1d-f1906be47478"
      },
      "outputs": [
        {
          "name": "stdout",
          "output_type": "stream",
          "text": [
            "1\n",
            "2\n",
            "3\n"
          ]
        }
      ],
      "source": [
        "# 행렬 2번 예제 심화과정. 지금 당장 만들기는 힘들어요\n",
        "# 나중에 다시 할겁니다\n",
        "class Matrix:\n",
        "    def __init__(self, value):\n",
        "        self.index = 0\n",
        "        self.value = value\n",
        "\n",
        "    def __add__(self, next):\n",
        "        result = []\n",
        "        for i, _ in enumerate(self.value):\n",
        "            result.append(self.value[i] + next.value[i])\n",
        "        return result\n",
        "\n",
        "    def __mul__(self, next):\n",
        "        for i, _ in enumerate(self.value):\n",
        "            self.value[i] *= next\n",
        "        return self.value\n",
        "\n",
        "    def __str__(self):\n",
        "        return str(self.value)\n",
        "\n",
        "    def __repr__(self):\n",
        "        return str(self.value)\n",
        "\n",
        "    def __iter__(self):\n",
        "        return self\n",
        "\n",
        "    def __next__(self):\n",
        "        if self.index >= len(self.value):\n",
        "            raise StopIteration\n",
        "        idx = self.index\n",
        "        self.index += 1\n",
        "        return self.value[idx]\n",
        "\n",
        "a = Matrix([1, 2, 3])\n",
        "\n",
        "for i in a:\n",
        "    print(i)"
      ]
    },
    {
      "cell_type": "markdown",
      "metadata": {
        "id": "hDRSL6OGp-Xr"
      },
      "source": [
        "# 이터레이터"
      ]
    },
    {
      "cell_type": "code",
      "execution_count": null,
      "metadata": {
        "colab": {
          "base_uri": "https://localhost:8080/"
        },
        "id": "kF6_z0U7p_nn",
        "outputId": "866a328c-3cc3-4ffe-842d-5fc97aef47e0"
      },
      "outputs": [
        {
          "name": "stdout",
          "output_type": "stream",
          "text": [
            "0\n",
            "1\n",
            "2\n",
            "3\n",
            "4\n",
            "0\n",
            "1\n",
            "2\n",
            "3\n",
            "4\n"
          ]
        }
      ],
      "source": [
        "# 한 번 더 호출?!\n",
        "# 왜 0, 1, 2, 3, 4가 2번 출력되지 않는가?\n",
        "class MyIterator:\n",
        "    def __init__(self, stop):\n",
        "        self.currentValue = 0\n",
        "        self.stop = stop    # 5\n",
        "\n",
        "    def __iter__(self): # for문을 처음만나면 iter메서드가 가장 먼저 실행됨, 이후에는 실행 x\n",
        "        self.currentValue = 0\n",
        "        return self     # 변수를 초기화 시키려면 iter메서드에서 해야한다!\n",
        "\n",
        "    def __next__(self): # iter 다음 next메서드가 실행됨\n",
        "        if self.currentValue >= self.stop:\n",
        "            raise StopIteration # 예외처리로 이것 때문에 for문이 멈춤\n",
        "        result = self.currentValue  # result = 0, 1, 2, 3,...\n",
        "        self.currentValue += 1\n",
        "        return result\n",
        "\n",
        "my_iterator = MyIterator(5)\n",
        "\n",
        "for i in my_iterator:\n",
        "    print(i)\n",
        "\n",
        "for i in my_iterator:\n",
        "    print(i)"
      ]
    },
    {
      "cell_type": "code",
      "execution_count": null,
      "metadata": {
        "colab": {
          "base_uri": "https://localhost:8080/"
        },
        "id": "TCWeZtrQsMuj",
        "outputId": "93a8ae11-6aef-4273-ee8b-19020b997f6c"
      },
      "outputs": [
        {
          "name": "stdout",
          "output_type": "stream",
          "text": [
            "1\n",
            "4\n",
            "9\n",
            "16\n"
          ]
        }
      ],
      "source": [
        "# 이거 한 번만 출력됩니다!\n",
        "# 위와 같은 원리입니다.\n",
        "# for 돌 때마다 초기화를 해주지 않습니다.\n",
        "a = map(lambda x:x**2, [1, 2, 3, 4])\n",
        "\n",
        "for i in a:\n",
        "    print(i)\n",
        "\n",
        "for i in a:\n",
        "    print(i)\n"
      ]
    },
    {
      "cell_type": "code",
      "execution_count": null,
      "metadata": {
        "colab": {
          "base_uri": "https://localhost:8080/"
        },
        "id": "2DFoliy6sVDe",
        "outputId": "5e4828e8-3c5f-4eac-cfe2-1c2a1d7b3e2a"
      },
      "outputs": [
        {
          "data": {
            "text/plain": [
              "0"
            ]
          },
          "execution_count": 14,
          "metadata": {},
          "output_type": "execute_result"
        }
      ],
      "source": [
        "a, b, c = range(3)\n",
        "a"
      ]
    },
    {
      "cell_type": "code",
      "execution_count": null,
      "metadata": {
        "colab": {
          "base_uri": "https://localhost:8080/"
        },
        "id": "AGnIdO57tk1n",
        "outputId": "982a19e6-e230-4d14-d6aa-6e93d4b747a0"
      },
      "outputs": [
        {
          "name": "stdout",
          "output_type": "stream",
          "text": [
            "[(1, 'a'), (2, 'b'), (3, 'c')]\n",
            "[]\n"
          ]
        }
      ],
      "source": [
        "a = [1, 2, 3]\n",
        "b = ['a', 'b', 'c']\n",
        "\n",
        "z = zip(a, b)\n",
        "print(list(z)) # [(1, 'a'), (2, 'b'), (3, 'c')]\n",
        "\n",
        "# zip 객체는 한 번 사용되었으므로 빈 리스트가 반환됩니다.\n",
        "print(list(z)) # []"
      ]
    },
    {
      "cell_type": "code",
      "execution_count": null,
      "metadata": {
        "colab": {
          "base_uri": "https://localhost:8080/"
        },
        "id": "ZJO9FeWlv8_7",
        "outputId": "0b7e36b8-e860-42f9-cc79-0d170480e4a9"
      },
      "outputs": [
        {
          "name": "stdout",
          "output_type": "stream",
          "text": [
            "(1, 'a')\n",
            "(2, 'b')\n",
            "(3, 'c')\n"
          ]
        }
      ],
      "source": [
        "li = [1, 2, 3]\n",
        "st = ['a', 'b', 'c']\n",
        "z = zip(li, st)\n",
        "\n",
        "for i in z:\n",
        "    print(i)\n",
        "\n",
        "for i in z:\n",
        "    print(i)"
      ]
    },
    {
      "cell_type": "code",
      "execution_count": null,
      "metadata": {
        "colab": {
          "base_uri": "https://localhost:8080/",
          "height": 221
        },
        "id": "nnYVaUHAwFtC",
        "outputId": "22190a5b-67be-4dbe-8349-907b33022b80"
      },
      "outputs": [
        {
          "ename": "StopIteration",
          "evalue": "",
          "output_type": "error",
          "traceback": [
            "\u001b[0;31m---------------------------------------------------------------------------\u001b[0m",
            "\u001b[0;31mStopIteration\u001b[0m                             Traceback (most recent call last)",
            "\u001b[0;32m<ipython-input-18-d995584c6cbe>\u001b[0m in \u001b[0;36m<cell line: 8>\u001b[0;34m()\u001b[0m\n\u001b[1;32m      6\u001b[0m \u001b[0mnext\u001b[0m\u001b[0;34m(\u001b[0m\u001b[0mi\u001b[0m\u001b[0;34m)\u001b[0m\u001b[0;34m\u001b[0m\u001b[0;34m\u001b[0m\u001b[0m\n\u001b[1;32m      7\u001b[0m \u001b[0mnext\u001b[0m\u001b[0;34m(\u001b[0m\u001b[0mi\u001b[0m\u001b[0;34m)\u001b[0m\u001b[0;34m\u001b[0m\u001b[0;34m\u001b[0m\u001b[0m\n\u001b[0;32m----> 8\u001b[0;31m \u001b[0mnext\u001b[0m\u001b[0;34m(\u001b[0m\u001b[0mi\u001b[0m\u001b[0;34m)\u001b[0m \u001b[0;31m# StopIteration\u001b[0m\u001b[0;34m\u001b[0m\u001b[0;34m\u001b[0m\u001b[0m\n\u001b[0m",
            "\u001b[0;31mStopIteration\u001b[0m: "
          ]
        }
      ],
      "source": [
        "# 어떤 경우에서든 for를 돌때 초기화가 안된다면 반복해서 다시 돌지 않습니다.\n",
        "li = [1, 2, 3]\n",
        "st = ['a', 'b', 'c']\n",
        "i = iter(zip(li, st))   # __iter__\n",
        "next(i) # __next__\n",
        "next(i)\n",
        "next(i)\n",
        "next(i) # StopIteration\n",
        "\n",
        "# 대표적으로 zip, map, reversed, filter 가 동일하게 작동되며\n",
        "# `sorted`는 재순회 할 수 있습니다."
      ]
    },
    {
      "cell_type": "markdown",
      "metadata": {
        "id": "D5h9UMXWHIII"
      },
      "source": [
        "## 클래스 이론"
      ]
    },
    {
      "cell_type": "code",
      "execution_count": null,
      "metadata": {
        "colab": {
          "base_uri": "https://localhost:8080/"
        },
        "id": "WxHkqOG9HJRv",
        "outputId": "a7489bbf-bf1b-4668-d284-c4ff2cd00426"
      },
      "outputs": [
        {
          "name": "stdout",
          "output_type": "stream",
          "text": [
            "300\n",
            "출발하였습니다.\n"
          ]
        }
      ],
      "source": [
        "# 상속\n",
        "# 클래스 끼리는 2줄 공백을 준다.\n",
        "class Car(object):\n",
        "    maxSpeed = 300\n",
        "    maxPeople = 5\n",
        "\n",
        "    def move(self):\n",
        "        print('출발하였습니다.')\n",
        "\n",
        "    def stop(self):\n",
        "        print('멈췄습니다.')\n",
        "\n",
        "\n",
        "class HybridCar(Car):   # Car를 상속합니다.\n",
        "    battery = 1000\n",
        "    batteryKM = 300\n",
        "\n",
        "\n",
        "class ElectricCar(HybridCar):\n",
        "    battery = 2000\n",
        "    batteryKM = 600\n",
        "\n",
        "\n",
        "modelx = HybridCar()\n",
        "print(modelx.maxSpeed)  # maxSpeed가 modelx에 없는데요?\n",
        "modelx.move()"
      ]
    },
    {
      "cell_type": "markdown",
      "metadata": {
        "id": "ZnzksETgIcCK"
      },
      "source": [
        "## 다중 상속"
      ]
    },
    {
      "cell_type": "code",
      "execution_count": null,
      "metadata": {
        "id": "zyytAy-pHxMJ"
      },
      "outputs": [],
      "source": [
        "class A:\n",
        "    def method(self):\n",
        "        print(\"A method\")\n",
        "\n",
        "class B(A):\n",
        "    def method(self):\n",
        "        print(\"B method\")\n",
        "\n",
        "class C(A):\n",
        "    def method(self):\n",
        "        print(\"C method\")\n",
        "\n",
        "class D(B, C):\n",
        "    pass\n",
        "\n",
        "obj = D()\n",
        "print(D.mro()) # 출력: [<class '__main__.D'>, <class '__main__.B'>, <class '__main__.C'>, <class '__main__.A'>, <class 'object'>]\n",
        "obj.method()  # 출력: B method"
      ]
    },
    {
      "cell_type": "code",
      "execution_count": null,
      "metadata": {
        "colab": {
          "base_uri": "https://localhost:8080/"
        },
        "id": "AiUlYZ1yIjJ1",
        "outputId": "e203ea8a-cd64-4bf0-b4ae-fd4fbc938343"
      },
      "outputs": [
        {
          "name": "stdout",
          "output_type": "stream",
          "text": [
            "helllo world A\n",
            "hello world B\n",
            "helllo world A\n"
          ]
        }
      ],
      "source": [
        "# 부모의 메서드를 재구현 : 메서드 오버라이딩\n",
        "\n",
        "class A:\n",
        "    def hello(self):\n",
        "        print('helllo world A')\n",
        "\n",
        "\n",
        "class B(A):\n",
        "    def hello(self):\n",
        "        print('hello world B')\n",
        "\n",
        "\n",
        "class C(A):\n",
        "    pass\n",
        "\n",
        "\n",
        "a = A()\n",
        "b = B()\n",
        "c = C()\n",
        "\n",
        "a.hello()\n",
        "b.hello()\n",
        "c.hello()"
      ]
    },
    {
      "cell_type": "code",
      "execution_count": null,
      "metadata": {
        "colab": {
          "base_uri": "https://localhost:8080/",
          "height": 239
        },
        "id": "nOmN0S78Imv5",
        "outputId": "70d4ee45-b03a-41bc-89bb-3e9b7f8f1043"
      },
      "outputs": [
        {
          "ename": "TypeError",
          "evalue": "A.hello() missing 1 required positional argument: 'b'",
          "output_type": "error",
          "traceback": [
            "\u001b[0;31m---------------------------------------------------------------------------\u001b[0m",
            "\u001b[0;31mTypeError\u001b[0m                                 Traceback (most recent call last)",
            "\u001b[0;32m<ipython-input-28-edfb5798ae7b>\u001b[0m in \u001b[0;36m<cell line: 12>\u001b[0;34m()\u001b[0m\n\u001b[1;32m     10\u001b[0m \u001b[0;34m\u001b[0m\u001b[0m\n\u001b[1;32m     11\u001b[0m \u001b[0ma\u001b[0m \u001b[0;34m=\u001b[0m \u001b[0mA\u001b[0m\u001b[0;34m(\u001b[0m\u001b[0;34m)\u001b[0m\u001b[0;34m\u001b[0m\u001b[0;34m\u001b[0m\u001b[0m\n\u001b[0;32m---> 12\u001b[0;31m \u001b[0mprint\u001b[0m\u001b[0;34m(\u001b[0m\u001b[0ma\u001b[0m\u001b[0;34m.\u001b[0m\u001b[0mhello\u001b[0m\u001b[0;34m(\u001b[0m\u001b[0;36m10\u001b[0m\u001b[0;34m)\u001b[0m\u001b[0;34m)\u001b[0m\u001b[0;34m\u001b[0m\u001b[0;34m\u001b[0m\u001b[0m\n\u001b[0m\u001b[1;32m     13\u001b[0m \u001b[0mprint\u001b[0m\u001b[0;34m(\u001b[0m\u001b[0ma\u001b[0m\u001b[0;34m.\u001b[0m\u001b[0mhello\u001b[0m\u001b[0;34m(\u001b[0m\u001b[0;36m10\u001b[0m\u001b[0;34m,\u001b[0m \u001b[0;36m20\u001b[0m\u001b[0;34m)\u001b[0m\u001b[0;34m)\u001b[0m\u001b[0;34m\u001b[0m\u001b[0;34m\u001b[0m\u001b[0m\n",
            "\u001b[0;31mTypeError\u001b[0m: A.hello() missing 1 required positional argument: 'b'"
          ]
        }
      ],
      "source": [
        "# 파이썬은 오버로딩이 없습니다!! 그럼에도 오버로딩이 무엇인지 설명은 해드립니다.\n",
        "# 자주나오는 용어이니까.. 이해할 필요는 없습니다.\n",
        "\n",
        "class A:\n",
        "    def hello(self, a):\n",
        "        return a ** 2\n",
        "\n",
        "    def hello(self, a, b):\n",
        "        return a + b\n",
        "\n",
        "a = A()\n",
        "print(a.hello(10))  # JAVA는 이렇게 아규먼트의 갯수에 따라 호출되는 함수를 다르게 할 수 있습니다.\n",
        "print(a.hello(10, 20))"
      ]
    },
    {
      "cell_type": "code",
      "execution_count": null,
      "metadata": {
        "id": "jIq2p04AKzSm"
      },
      "outputs": [],
      "source": [
        "# 클래스 대안 자료 형태\n",
        "# 딕셔너리\n",
        "hero = {\n",
        "    'name': 'Jun',\n",
        "    'hp': 100,\n",
        "    'mp': 100,\n",
        "    'power': 30,\n",
        "    'drop_rate': 0,\n",
        "    'attack': lambda: f'{hero[\"power\"]}에 파워로 공격하였습니다.',\n",
        "}\n",
        "\n",
        "print(hero['hp'])\n",
        "print(hero['attack']())  # 출력: 30에 파워로 공격하였습니다."
      ]
    },
    {
      "cell_type": "code",
      "execution_count": null,
      "metadata": {
        "id": "DYYG1Y_tK-cM"
      },
      "outputs": [],
      "source": [
        "# 클래스 대안 자료 형태\n",
        "# 클로저\n",
        "# JavaScript에서 간혹 사용\n",
        "# Python에서는 사용 안하는게 맞을듯\n",
        "\n",
        "def create_chracter(name, hp, mp, power):\n",
        "    data = {\n",
        "        'name': name,\n",
        "        'hp': hp,\n",
        "        'mp': mp,\n",
        "        'power': power,\n",
        "    }\n",
        "\n",
        "    def get_data(key):\n",
        "        return data[key]\n",
        "\n",
        "    def attack():\n",
        "        return f'{get_data(\"power\")}에 파워로 공격하였습니다.'\n",
        "\n",
        "    return {'attack': attack}\n",
        "\n",
        "hero = create_chracter('Jun', 100, 100, 30)\n",
        "print(hero['attack']())  # 출력: 30에 파워로 공격하였습니다."
      ]
    },
    {
      "cell_type": "markdown",
      "metadata": {
        "id": "cUUxP8MRMdKX"
      },
      "source": [
        "## 메직메서드\n",
        "### 2.1. **생성자와 소멸자**\n",
        "\n",
        "- `__init__(self, ...)`: 객체가 생성될 때 호출되는 생성자 메서드.\n",
        "\n",
        "### 2.2. **문자열 표현**\n",
        "\n",
        "- `__str__(self)`: `str()` 함수 출력 결과와 같습니다. 이는 print로 출력되는 결과와도 동일합니다. 이 출력은 \"공식적이지 않은\" 또는 \"좋게 보이는\" 문자열 표현을 반환합니다. 객체의 공식적인 표현은 repr입니다.\n",
        "- `__repr__(self)`: `repr()` 함수에 출력 결과와 같습니다. 객체의 \"공식적인\" 문자열 표현을 반환합니다.\n",
        "\n",
        "### 2.3. **산술 연산**\n",
        "\n",
        "- `__add__(self, other)`: 덧셈 연산\n",
        "- `__mul__(self, other)`: 곱셈 연산\n",
        "\n",
        "### 2.4. **비교 연산**\n",
        "\n",
        "- `__eq__(self, other)`: 동등 연산 (==)\n",
        "- `__ne__(self, other)`: 부등 연산 (!=)\n",
        "- `__lt__(self, other)`: \"작다\" 연산 (<)\n",
        "- `__le__(self, other)`: \"작거나 같다\" 연산 (<=)\n",
        "- `__gt__(self, other)`: \"크다\" 연산 (>)\n",
        "- `__ge__(self, other)`: \"크거나 같다\" 연산 (>=)\n",
        "\n",
        "### 2.5. **컨테이너 타입 연산**\n",
        "\n",
        "- `__len__(self)`: `len()` 함수의 출력 결과와 같습니다.\n",
        "- `__getitem__(self, key)`: 인덱싱 연산 (obj[key])의 출력 결과와 같습니다.\n",
        "\n",
        "### 2.6. **호출 가능 객체**\n",
        "\n",
        "- `__call__(self, ...)`: 객체를 함수처럼 호출할 때 사용됩니다."
      ]
    },
    {
      "cell_type": "code",
      "execution_count": null,
      "metadata": {
        "colab": {
          "base_uri": "https://localhost:8080/"
        },
        "id": "y3UwEkMmM2aX",
        "outputId": "64954c14-38ab-494a-847c-d15b32015e06"
      },
      "outputs": [
        {
          "name": "stdout",
          "output_type": "stream",
          "text": [
            "현재 count 값: 10\n",
            "현재 count 값: 20\n",
            "현재 count 값: 30\n"
          ]
        },
        {
          "data": {
            "text/plain": [
              "50"
            ]
          },
          "execution_count": 8,
          "metadata": {},
          "output_type": "execute_result"
        }
      ],
      "source": [
        "class Counter:\n",
        "    def __init__(self):\n",
        "        self.count = 0\n",
        "\n",
        "    def __call__(self):\n",
        "        self.count += 10\n",
        "        print(f'현재 count 값: {self.count}')\n",
        "\n",
        "    def __getitem__(self, key):\n",
        "        return key*10\n",
        "\n",
        "# 객체 생성\n",
        "counter = Counter()\n",
        "\n",
        "# 객체를 직접 호출합니다. 이때 __call__ 메서드가 실행됩니다.\n",
        "counter()  # 출력: 현재 count 값: 10\n",
        "counter()  # 출력: 현재 count 값: 20\n",
        "counter()  # 출력: 현재 count 값: 30\n",
        "\n",
        "counter[5] # 출력: 4"
      ]
    },
    {
      "cell_type": "markdown",
      "metadata": {
        "id": "d3tjnx8BNfZF"
      },
      "source": [
        "## 서비스 만들 때 실제 필요한 매서드\n",
        "__init__(self, ...): 객체가 생성될 때 호출되는 생성자 메서드.\n",
        "\n",
        "__str__(self): str() 함수 출력 결과와 같습니다. 이는 print로 출력되는 결과와도 동일합니다. 이 출력은 \"공식적이지 않은\" 또는 \"좋게 보이는\" 문자열 표현을 반환합니다. 객체의 공식적인 표현은 repr입니다.\n",
        "\n",
        "__repr__(self): repr() 함수에 출력 결과와 같습니다. 객체의 \"공식적인\" 문자열 표현을 반환합니다.\n",
        "\n",
        "__eq__(self, other): 동등 연산 (==)\n",
        "\n",
        "__len__(self): len() 함수의 출력 결과와 같습니다."
      ]
    },
    {
      "cell_type": "markdown",
      "metadata": {
        "id": "cI0sQpGvNzPK"
      },
      "source": [
        "## 분위기 환기 (크롤링 후 클래스에 저장하는 미션)"
      ]
    },
    {
      "cell_type": "code",
      "execution_count": 9,
      "metadata": {
        "id": "w4o7_Gk7Q1hh"
      },
      "outputs": [],
      "source": [
        "import requests # 통신을 해서 서버에서 제공해주는 값을 가져올 수 있습니다.\n",
        "from bs4 import BeautifulSoup   # 가져온 값을 '파싱'(태그별로 나눠준다) 해주는 모듈입니다.\n",
        "\n",
        "response = requests.get('https://paullab.co.kr/bookservice/')\n",
        "soup = BeautifulSoup(response.text, 'html.parser')"
      ]
    },
    {
      "cell_type": "code",
      "execution_count": 11,
      "metadata": {
        "id": "0NYcUIWnUFO8"
      },
      "outputs": [],
      "source": [
        "book_name = soup.select('.book_name')\n",
        "book_info = soup.select('.book_info')"
      ]
    },
    {
      "cell_type": "code",
      "execution_count": null,
      "metadata": {
        "colab": {
          "base_uri": "https://localhost:8080/",
          "height": 35
        },
        "id": "olvdiUVrV7x_",
        "outputId": "c53b6f58-6d89-4761-b6bd-3721636f01d6"
      },
      "outputs": [
        {
          "data": {
            "application/vnd.google.colaboratory.intrinsic+json": {
              "type": "string"
            },
            "text/plain": [
              "'메모혁신 Notion(노션) 활용 가이드'"
            ]
          },
          "execution_count": 34,
          "metadata": {},
          "output_type": "execute_result"
        }
      ],
      "source": [
        "book_name[0].text"
      ]
    },
    {
      "cell_type": "code",
      "execution_count": null,
      "metadata": {
        "colab": {
          "base_uri": "https://localhost:8080/"
        },
        "id": "HKDSBZRCV9kc",
        "outputId": "125c9a32-d824-4ea7-925d-e7006081937f"
      },
      "outputs": [
        {
          "name": "stdout",
          "output_type": "stream",
          "text": [
            "메모혁신 Notion(노션) 활용 가이드\n",
            "<p class=\"book_info\" style=\"margin-bottom: 0;\">가격: 7,000원</p>\n",
            "<p class=\"book_info\" style=\"margin-bottom: 0;\">저자: 이호준, 이준호, 김혜원, 김유진, 차경림, 김진, 현지연, 정승한</p>\n",
            "<p class=\"book_info\" style=\"margin-bottom: 0;\">Notion의 기본 사용 방법부터 Notion을 활용한 홈페이지 제작 방법까지 다양하게 다루고 있으며 특히 개발자가 원하는 Notion의 활용 방법을 다루고 있습니다.</p>\n"
          ]
        }
      ],
      "source": [
        "print(book_name[0].text)\n",
        "print(book_info[0])\n",
        "print(book_info[1])\n",
        "print(book_info[2])"
      ]
    },
    {
      "cell_type": "code",
      "execution_count": null,
      "metadata": {
        "colab": {
          "base_uri": "https://localhost:8080/",
          "height": 35
        },
        "id": "SMNweseiWIDw",
        "outputId": "54de24b1-03d2-496e-f62c-75f0a871f060"
      },
      "outputs": [
        {
          "data": {
            "application/vnd.google.colaboratory.intrinsic+json": {
              "type": "string"
            },
            "text/plain": [
              "'가격: 7,000원'"
            ]
          },
          "execution_count": 48,
          "metadata": {},
          "output_type": "execute_result"
        }
      ],
      "source": [
        "books = []\n",
        "for i, _ in enumerate(book_name):\n",
        "    books.append({\n",
        "        '제목': book_name[i].text,\n",
        "        '가격': book_info[(i*3)].text,\n",
        "        '저자': book_info[(i*3)+1].text,\n",
        "        '설명': book_info[(i*3)+2].text,\n",
        "    })\n",
        "\n",
        "books\n",
        "books[0]['가격'] # books[0].price\n",
        "\n",
        "# 마음에 안드는 포인트들\n",
        "# 1. 가격이 int형이 아니다!\n",
        "# 2. 가격, 저자가 한 번 더 들어있다!\n",
        "# 3. 공백도 들어가 있다!"
      ]
    },
    {
      "cell_type": "code",
      "execution_count": 14,
      "metadata": {
        "colab": {
          "base_uri": "https://localhost:8080/"
        },
        "id": "7WwaRS3VXL9q",
        "outputId": "7ca8a68d-cc6d-4fd5-fd72-5c5ea578e3c1"
      },
      "outputs": [
        {
          "data": {
            "text/plain": [
              "[메모혁신 Notion(노션) 활용 가이드,\n",
              " 이력서 작성 가이드,\n",
              " 제주코딩베이스캠프 Code Festival: Python 100제 1부,\n",
              " 튜토리얼로 배우는 HTML&CSS,\n",
              " 코딩도장 튜토리얼로 배우는 Python 1편 object,\n",
              " 코딩도장 튜토리얼로 배우는 python 2편 제어문,\n",
              " 코딩도장 튜토리얼로 배우는 Python 문제풀이,\n",
              " 타노스의 건틀릿 알고리즘 With Python,\n",
              " xlsxwriter 튜토리얼로 배우는 Python 엑셀 프로그래밍,\n",
              " 러플 튜토리얼로 배우는 Python,\n",
              " 인공지능을 활용한 업무자동화 With Google Developers Group JEJU]"
            ]
          },
          "execution_count": 14,
          "metadata": {},
          "output_type": "execute_result"
        }
      ],
      "source": [
        "# 마음에 안드는 포인트들\n",
        "# 1. 가격이 int형이 아니다!\n",
        "# 2. 가격, 저자가 한 번 더 들어있다!\n",
        "# 3. 공백도 들어가 있다!\n",
        "\n",
        "books = []\n",
        "class Book:\n",
        "    def __init__(self, name='', price=0, author='', info=''):\n",
        "        self.name = name\n",
        "        if price.replace('가격: ', '').replace('원', '').replace(',', '') == '무료':\n",
        "            self.price = 0\n",
        "        else:\n",
        "            self.price = int(price.replace('가격: ', '').replace('원', '').replace(',', ''))\n",
        "        self.author = author\n",
        "        self.info = info\n",
        "\n",
        "    def __str__(self):\n",
        "        return self.name\n",
        "\n",
        "    def __repr__(self):\n",
        "        return self.name\n",
        "\n",
        "for i, _ in enumerate(book_name):\n",
        "    books.append(Book(\n",
        "        book_name[i].text,\n",
        "        book_info[(i*3)].text,\n",
        "        book_info[(i*3)+1].text,\n",
        "        book_info[(i*3)+2].text\n",
        "    ))\n",
        "\n",
        "books\n",
        "# books[0].name\n",
        "# books[0].price"
      ]
    },
    {
      "cell_type": "code",
      "execution_count": null,
      "metadata": {
        "id": "b9NyYgWmZ48K"
      },
      "outputs": [],
      "source": [
        "import requests # 통신을 해서 서버에서 제공해주는 값을 가져올 수 있습니다.\n",
        "from bs4 import BeautifulSoup   # 가져온 값을 '파싱'(태그별로 나눠준다) 해주는 모듈입니다.\n",
        "\n",
        "response = requests.get('https://search.naver.com/search.naver?sm=tab_hty.top&where=nexearch&query=%EC%B5%9C%EC%8B%A0%EC%98%81%ED%99%94&oquery=%EC%98%81%ED%99%94%EC%88%9C%EC%9C%84&tqi=ijvlhwqo15Vsse4HJcRssssst3s-484455')\n",
        "soup = BeautifulSoup(response.text, 'html.parser')"
      ]
    },
    {
      "cell_type": "code",
      "execution_count": null,
      "metadata": {
        "id": "7xvORHd9bfhj"
      },
      "outputs": [],
      "source": [
        "soup"
      ]
    },
    {
      "cell_type": "code",
      "execution_count": null,
      "metadata": {
        "colab": {
          "base_uri": "https://localhost:8080/",
          "height": 35
        },
        "id": "T9Qc9qAXbghx",
        "outputId": "4158810b-8f4b-40f6-c474-7d2cae108ae4"
      },
      "outputs": [
        {
          "data": {
            "application/vnd.google.colaboratory.intrinsic+json": {
              "type": "string"
            },
            "text/plain": [
              "'인투 더 월드'"
            ]
          },
          "execution_count": 55,
          "metadata": {},
          "output_type": "execute_result"
        }
      ],
      "source": [
        "soup.select('.this_text')[0].text"
      ]
    },
    {
      "cell_type": "code",
      "execution_count": null,
      "metadata": {
        "colab": {
          "base_uri": "https://localhost:8080/"
        },
        "id": "UnC7aOezbmhT",
        "outputId": "aa865294-1b34-4848-af2e-7e1b5aff78d7"
      },
      "outputs": [
        {
          "name": "stdout",
          "output_type": "stream",
          "text": [
            "1 인투 더 월드\n",
            "2 외계+인 2부\n",
            "3 위시\n",
            "4 노량: 죽음의 바다\n",
            "5 서울의 봄\n",
            "6 신차원! 짱구는 못말려 더 무비 초능력 대결전 ~날아라 수제김밥~\n",
            "7 길위에 김대중\n",
            "8 립세의 사계\n",
            "9 새로고침\n"
          ]
        }
      ],
      "source": [
        "for i, j in enumerate(soup.select('.this_text'), 1):\n",
        "    print(i, j.text)"
      ]
    },
    {
      "cell_type": "code",
      "execution_count": 55,
      "metadata": {
        "colab": {
          "base_uri": "https://localhost:8080/"
        },
        "id": "8rYEOi4Z2eZw",
        "outputId": "0636b6e9-d98c-4142-83f1-b8f33c2520f1"
      },
      "outputs": [
        {
          "name": "stdout",
          "output_type": "stream",
          "text": [
            "이호준, 이준호, 김혜원, 김유진, 차경림, 김진, 현지연, 정승한\n",
            "7000\n",
            "<class 'int'>\n",
            "5달러입니다\n",
            "10% 할인된 가격은 6300원입니다\n",
            "0% 할인된 가격은 7000원입니다\n"
          ]
        }
      ],
      "source": [
        "# 오늘 진행한 책 크롤링 코드를 이용하여 다음 요구사항을 만족하는 코드를 작성해주세요.\n",
        "# 1. 모든 텍스트는 앞, 뒤 공백이 제거된 텍스트여야 합니다.\n",
        "# 2. 가격은 int 형이어야 합니다.\n",
        "# 3. 저자는 앞에 '저자: '가 없어야 합니다.\n",
        "# 4. 가격을 달러로 바꿔주는 메서드를 작성해주세요.\n",
        "# 5. 할인 메서드를 작성해주세요. 할인율이 들어가면 변경되어야 합니다.\n",
        "# 5.1 object.discount(10) => 10프로 할인된 가격을 반환합니다.\n",
        "# 5.2 object.discount(0) => 0프로 할인된 가격을 반환합니다.\n",
        "\n",
        "import requests # 통신을 해서 서버에서 제공해주는 값을 가져올 수 있습니다.\n",
        "from bs4 import BeautifulSoup   # 가져온 값을 '파싱'(태그별로 나눠준다) 해주는 모듈입니다.\n",
        "\n",
        "response = requests.get('https://paullab.co.kr/bookservice/')\n",
        "soup = BeautifulSoup(response.text, 'html.parser')\n",
        "\n",
        "book_name = soup.select('.book_name')\n",
        "book_info = soup.select('.book_info')\n",
        "\n",
        "books = []\n",
        "class Book:\n",
        "    def __init__(self, name='', price=0, author='', info=''):\n",
        "        self.name = name.strip()\n",
        "        if price.replace('가격: ', '').replace('원', '').replace(',', '') == '무료':\n",
        "            self.price = 0\n",
        "        else:\n",
        "            self.price = int(price.replace('가격: ', '').replace('원', '').replace(',', ''))\n",
        "        self.author = author.replace('저자: ', '')\n",
        "        self.info = info.strip()\n",
        "\n",
        "    def __str__(self):\n",
        "        return self.name\n",
        "\n",
        "    def __repr__(self):\n",
        "        return self.name\n",
        "\n",
        "    def dollar(self):\n",
        "        self.dollar_price = int(self.price / 1313.5)\n",
        "        return f'{self.dollar_price}달러입니다'\n",
        "\n",
        "    def discount(self, rate):\n",
        "        self.discount_price = int((self.price * (1 - rate * 0.01)) )\n",
        "        return f'{rate}% 할인된 가격은 {self.discount_price}원입니다'\n",
        "\n",
        "for i, _ in enumerate(book_name):\n",
        "    books.append(Book(\n",
        "        book_name[i].text,\n",
        "        book_info[(i*3)].text,\n",
        "        book_info[(i*3)+1].text,\n",
        "        book_info[(i*3)+2].text\n",
        "    ))\n",
        "\n",
        "print(books[0].author)\n",
        "print(books[0].price)\n",
        "print(type(books[0].price))\n",
        "print(books[0].dollar())\n",
        "print(books[0].discount(10))\n",
        "print(books[0].discount(0))"
      ]
    },
    {
      "cell_type": "code",
      "execution_count": null,
      "metadata": {
        "id": "Exe4hY4oCBzV"
      },
      "outputs": [],
      "source": [
        "dir(Book)"
      ]
    }
  ],
  "metadata": {
    "colab": {
      "provenance": []
    },
    "kernelspec": {
      "display_name": "Python 3",
      "name": "python3"
    },
    "language_info": {
      "name": "python"
    }
  },
  "nbformat": 4,
  "nbformat_minor": 0
}
