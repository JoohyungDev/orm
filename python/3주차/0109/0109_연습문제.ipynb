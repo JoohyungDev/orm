{
  "nbformat": 4,
  "nbformat_minor": 0,
  "metadata": {
    "colab": {
      "provenance": []
    },
    "kernelspec": {
      "name": "python3",
      "display_name": "Python 3"
    },
    "language_info": {
      "name": "python"
    }
  },
  "cells": [
    {
      "cell_type": "markdown",
      "source": [
        "# 1. 주어진 코드는 고등어의 재고를 표시하는 간단한 예제입니다.\n"
      ],
      "metadata": {
        "id": "0WfeTYEcCYkh"
      }
    },
    {
      "cell_type": "code",
      "source": [
        "# 그럼 이 코드를 사용하여 다음과 같은 문제를 만들어보겠습니다.\n",
        "\n",
        "# 연습문제 1. 고등어 가게에서 고등어가 팔리고 있는 상황을 파이썬 프로그램으로 작성하려고 합니다.\n",
        "# 아래의 코드를 완성하여, 5마리의 고등어부터 1마리의 고등어까지 재고를 표시하고,\n",
        "# 마지막에는 ‘고등어 다 팔렸습니다.’라는 메시지가 출력되도록 하세요.\n",
        "\n",
        "# 출력\n",
        "고등어 5개 남았습니다.\n",
        "고등어 4개 남았습니다.\n",
        "고등어 3개 남았습니다.\n",
        "고등어 2개 남았습니다.\n",
        "고등어 1개 남았습니다.\n",
        "고등어 다 팔렸습니다."
      ],
      "metadata": {
        "id": "CNw8NfxRCiu2"
      },
      "execution_count": null,
      "outputs": []
    },
    {
      "cell_type": "code",
      "source": [
        "# 정답\n",
        "for i in range(5, 0, -1):\n",
        "    print('고등어 ', i, ' 개 남았습니다.')\n",
        "else:\n",
        "    print('고등어 다 팔렸습니다.')"
      ],
      "metadata": {
        "id": "CIFnUIMxCkjB"
      },
      "execution_count": null,
      "outputs": []
    },
    {
      "cell_type": "markdown",
      "source": [
        "# 2. 고등어 가게에서 고등어가 팔리고 있는 상황을 파이썬 프로그램으로 작성하려고 합니다. 아래의 코드를 완성하여, 5마리의 고등어부터 1마리의 고등어까지 재고를 표시하세요."
      ],
      "metadata": {
        "id": "0C9HYVd1ClfX"
      }
    },
    {
      "cell_type": "code",
      "source": [
        "# 출력\n",
        "고등어 5개 남았습니다.\n",
        "고등어 4개 남았습니다.\n",
        "고등어 3개 남았습니다.\n",
        "고등어 2개 남았습니다.\n",
        "고등어 1개 남았습니다."
      ],
      "metadata": {
        "id": "7NHHgMSSCt81"
      },
      "execution_count": null,
      "outputs": []
    },
    {
      "cell_type": "code",
      "source": [
        "# 정답\n",
        "for i in range(5, 0, -1):\n",
        "    print('고등어 ', i, ' 개 남았습니다.')\n",
        "    if i == 1:\n",
        "        break\n",
        "else:\n",
        "    print('고등어 다 팔렸습니다.')"
      ],
      "metadata": {
        "id": "olyAMOCoCxn4"
      },
      "execution_count": null,
      "outputs": []
    },
    {
      "cell_type": "markdown",
      "source": [
        "# 3. 여기에서 '모의 회원 데이터'를 가져와서 나이의 평균과 성별의 구성비를 구하는 문제를 풀어보도록 하겠습니다. 회원의 데이터를 얻기 위한 generate code는 아래와 같습니다."
      ],
      "metadata": {
        "id": "1pK0lhFlCyqj"
      }
    },
    {
      "cell_type": "code",
      "source": [
        "[\n",
        "  '{{repeat(5, 7)}}',\n",
        "  {\n",
        "    _id: '{{objectId()}}',\n",
        "    age: '{{integer(20, 40)}}',\n",
        "    eyeColor: '{{random(\"blue\", \"brown\", \"green\")}}',\n",
        "    name: '{{firstName()}} {{surname()}}',\n",
        "    gender: '{{gender()}}'\n",
        "  }\n",
        "]"
      ],
      "metadata": {
        "id": "HZq14tFCC2Pk"
      },
      "execution_count": null,
      "outputs": []
    },
    {
      "cell_type": "code",
      "source": [
        "# 생성된 code는 아래와 같음\n",
        "[\n",
        "  {\n",
        "    \"_id\": \"6019fd4354979ca26b8f91dc\",\n",
        "    \"age\": 26,\n",
        "    \"eyeColor\": \"green\",\n",
        "    \"name\": \"Bender Allen\",\n",
        "    \"gender\": \"male\"\n",
        "  },\n",
        "  {\n",
        "    \"_id\": \"6019fd43db2951868889a0b4\",\n",
        "    \"age\": 27,\n",
        "    \"eyeColor\": \"blue\",\n",
        "    \"name\": \"Jacobs Golden\",\n",
        "    \"gender\": \"male\"\n",
        "  },\n",
        "  {\n",
        "    \"_id\": \"6019fd438c0bf8e775c28536\",\n",
        "    \"age\": 27,\n",
        "    \"eyeColor\": \"brown\",\n",
        "    \"name\": \"Grimes Oneal\",\n",
        "    \"gender\": \"male\"\n",
        "  },\n",
        "  {\n",
        "    \"_id\": \"6019fd43b68a7fd8b081ab26\",\n",
        "    \"age\": 40,\n",
        "    \"eyeColor\": \"blue\",\n",
        "    \"name\": \"Melissa Joyce\",\n",
        "    \"gender\": \"female\"\n",
        "  },\n",
        "  {\n",
        "    \"_id\": \"6019fd436c1edc4757aabb9d\",\n",
        "    \"age\": 32,\n",
        "    \"eyeColor\": \"blue\",\n",
        "    \"name\": \"Malone Bush\",\n",
        "    \"gender\": \"male\"\n",
        "  },\n",
        "  {\n",
        "    \"_id\": \"6019fd438eaf753918f55226\",\n",
        "    \"age\": 34,\n",
        "    \"eyeColor\": \"green\",\n",
        "    \"name\": \"Davenport Hyde\",\n",
        "    \"gender\": \"male\"\n",
        "  },\n",
        "  {\n",
        "    \"_id\": \"6019fd43c35929ff95004109\",\n",
        "    \"age\": 20,\n",
        "    \"eyeColor\": \"blue\",\n",
        "    \"name\": \"Shauna Blevins\",\n",
        "    \"gender\": \"female\"\n",
        "  }\n",
        "]"
      ],
      "metadata": {
        "id": "ncgLz0W5C3w0"
      },
      "execution_count": null,
      "outputs": []
    },
    {
      "cell_type": "code",
      "source": [
        "# 문제\n",
        "# 1. 회원들의 age 평균을 구해주세요.\n",
        "import json\n",
        "\n",
        "# JSON 파일 열기\n",
        "with open('파일명.json', 'r') as f:\n",
        "    data = json.load(f)\n",
        "\n",
        "total_age = 0\n",
        "\n",
        "# 'age' 값 가져오기\n",
        "for member in data:\n",
        "\ttotal_age += member[age]\n",
        "\n",
        "avg_age = total_age / len(data)\n",
        "print(f'회원들의 age 평균 : {avg_age}')"
      ],
      "metadata": {
        "id": "z7iR_rwTC96Q"
      },
      "execution_count": null,
      "outputs": []
    },
    {
      "cell_type": "code",
      "source": [
        "# 2. 회원들의 남녀 성비를 구해주세요.\n",
        "male_count = 0\n",
        "female_count = 0\n",
        "\n",
        "for member in data:\n",
        "\tif member[gender] == 'male':\n",
        "\t\tmale_count += 1\n",
        "\telse:\n",
        "\t\tfemale_count += 1\n",
        "\n",
        "male_rate = male_count / len(data)\n",
        "female_rate = female_count / len(data)\n",
        "\n",
        "print(f'남자는 {male_rate}%, 여자는 {female_rate}% 입니다')\n",
        "\n",
        "--------------------------------------------------------------------------------------\n",
        "<예제 정답>\n",
        "num_male = 0\n",
        "num_female = 0\n",
        "for member in data:\n",
        "    if member['gender'] == 'male':\n",
        "        num_male += 1\n",
        "    else:\n",
        "        num_female += 1\n",
        "\n",
        "gender_ratio = {\n",
        "    'male': num_male / len(data),\n",
        "    'female': num_female / len(data)\n",
        "}\n",
        "print('회원들의 남녀 성비:')\n",
        "for gender, ratio in gender_ratio.items():\n",
        "    print(f'{gender}: {ratio}')"
      ],
      "metadata": {
        "id": "IdCvMDR8C_S4"
      },
      "execution_count": null,
      "outputs": []
    },
    {
      "cell_type": "code",
      "source": [
        "# 추가미션\n",
        "# matplotlib을 검색해서 pie 그래프로 남녀 성비를 출력하세요.\n",
        "import matplotlib.pyplot as plt\n",
        "\n",
        "# 데이터 준비\n",
        "labels = ['Male', 'Female']\n",
        "sizes = [male_count, female_count]\n",
        "colors = ['blue', 'red']\n",
        "\n",
        "# 파이 차트 그리기\n",
        "# sizes = 각 파이조각의 크기를 결정\n",
        "# labels = 각 파이조각의 라벨\n",
        "# colors = 각 파이 조각의 색상\n",
        "# autopct = 백분율 형식 지정(1.1f는 소수 첫째짜리까지 표시)\n",
        "plt.pie(sizes, labels=labels, colors=colors, autopct='%1.1f%%')    # 그래프 속성 정의\n",
        "plt.axis('equal')    # 원형 유지\n",
        "plt.show()    # 그래프 그리기"
      ],
      "metadata": {
        "id": "Ws3lfNXnDA8y"
      },
      "execution_count": null,
      "outputs": []
    }
  ]
}