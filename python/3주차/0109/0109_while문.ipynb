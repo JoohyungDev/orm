{
  "nbformat": 4,
  "nbformat_minor": 0,
  "metadata": {
    "colab": {
      "provenance": []
    },
    "kernelspec": {
      "name": "python3",
      "display_name": "Python 3"
    },
    "language_info": {
      "name": "python"
    }
  },
  "cells": [
    {
      "cell_type": "markdown",
      "source": [
        "# while 문"
      ],
      "metadata": {
        "id": "fpZw3WLKvdoK"
      }
    },
    {
      "cell_type": "code",
      "source": [
        "while 구문:\n",
        "    pass    # 수행할 문장"
      ],
      "metadata": {
        "id": "5DqyXp8JwF4N"
      },
      "execution_count": null,
      "outputs": []
    },
    {
      "cell_type": "code",
      "source": [
        "# while 기초\n",
        "a = 1\n",
        "\n",
        "while a < 10:\n",
        "    print(a)\n",
        "    a += 1\n",
        "\n",
        "# for문 기초\n",
        "for i in range(1,10):\n",
        "    print(i)"
      ],
      "metadata": {
        "colab": {
          "base_uri": "https://localhost:8080/"
        },
        "id": "zJsHVe5jwJ-4",
        "outputId": "945d665e-1241-493d-ed1d-49b8226a440a"
      },
      "execution_count": 2,
      "outputs": [
        {
          "output_type": "stream",
          "name": "stdout",
          "text": [
            "1\n",
            "2\n",
            "3\n",
            "4\n",
            "5\n",
            "6\n",
            "7\n",
            "8\n",
            "9\n",
            "1\n",
            "2\n",
            "3\n",
            "4\n",
            "5\n",
            "6\n",
            "7\n",
            "8\n",
            "9\n"
          ]
        }
      ]
    },
    {
      "cell_type": "markdown",
      "source": [
        "# 프로그램 1. 스무고개 숫자맞추기"
      ],
      "metadata": {
        "id": "MQryjNc1wrRf"
      }
    },
    {
      "cell_type": "markdown",
      "source": [
        "# 1.1 숫자를 입력 받기\n",
        "\n",
        "* input을 활용해서 숫자를 입력 받으세요!\n",
        "* 20번 안에 숫자를 맞춰야 하는 게임"
      ],
      "metadata": {
        "id": "VVKLP6iS0fDs"
      }
    },
    {
      "cell_type": "code",
      "source": [
        "# 우리가 입력할 값\n",
        "number = int(input('숫자를 입력하세요~ (1에서 100사이)'))"
      ],
      "metadata": {
        "colab": {
          "base_uri": "https://localhost:8080/"
        },
        "id": "BoO9nM6X0j40",
        "outputId": "b0fe5caf-230f-47e1-98c0-729d2c809d5b"
      },
      "execution_count": 3,
      "outputs": [
        {
          "name": "stdout",
          "output_type": "stream",
          "text": [
            "숫자를 입력하세요~ (1에서 100사이)100\n"
          ]
        }
      ]
    },
    {
      "cell_type": "code",
      "source": [
        "print(number)\n",
        "print(type(number))"
      ],
      "metadata": {
        "colab": {
          "base_uri": "https://localhost:8080/"
        },
        "id": "OR-qaJPv0vYM",
        "outputId": "50c90ff4-a269-4744-eebd-2abe4b6739fe"
      },
      "execution_count": 4,
      "outputs": [
        {
          "output_type": "stream",
          "name": "stdout",
          "text": [
            "100\n",
            "<class 'int'>\n"
          ]
        }
      ]
    },
    {
      "cell_type": "code",
      "source": [
        "# 우리가 맞춰야할 숫자!\n",
        "import random\n",
        "\n",
        "secret_number = random.randrange(1, 101)\n",
        "print(secret_number)"
      ],
      "metadata": {
        "colab": {
          "base_uri": "https://localhost:8080/"
        },
        "id": "BxIVLVMn0yls",
        "outputId": "edfa2248-845d-4673-ded8-9eea73d5e84d"
      },
      "execution_count": 11,
      "outputs": [
        {
          "output_type": "stream",
          "name": "stdout",
          "text": [
            "65\n"
          ]
        }
      ]
    },
    {
      "cell_type": "code",
      "source": [
        "# 정답을 위한 Step 1\n",
        "# if문을 사용해서 같으면 정답, 틀리면 틀렸습니다. 라고 출력해보기!\n",
        "if number == secret_number:\n",
        "    print(\"정답\")\n",
        "else:\n",
        "    print(\"틀렸습니다\")"
      ],
      "metadata": {
        "colab": {
          "base_uri": "https://localhost:8080/"
        },
        "id": "eLSw-2y51Sq4",
        "outputId": "78dac114-6706-4399-d54e-c8558b585577"
      },
      "execution_count": 7,
      "outputs": [
        {
          "output_type": "stream",
          "name": "stdout",
          "text": [
            "틀렸습니다\n"
          ]
        }
      ]
    },
    {
      "cell_type": "code",
      "source": [
        "# step 1을 구현했으나..\n",
        "# 최대 100번까지 맞춰야한다.\n",
        "# input을 계속 입력해야 한다.\n",
        "# 힌트가 없다.\n",
        "\n",
        "# step 2 -> 20번을 반복하는 기능을 구현! for문\n",
        "import random\n",
        "\n",
        "secret_number = random.randrange(1, 101)    # 고정값\n",
        "\n",
        "for _ in range(20):\n",
        "    number = int(input('숫자를 입력하세요~ (1에서 100사이)'))\n",
        "\n",
        "    if number == secret_number:\n",
        "        print(\"정답\")\n",
        "        break\n",
        "    else:\n",
        "        print(\"틀렸습니다\")"
      ],
      "metadata": {
        "colab": {
          "base_uri": "https://localhost:8080/"
        },
        "id": "D4wZ5j7O2AtB",
        "outputId": "ff9a6900-6fb5-454b-93ad-a4310585eb14"
      },
      "execution_count": 14,
      "outputs": [
        {
          "output_type": "stream",
          "name": "stdout",
          "text": [
            "숫자를 입력하세요~ (1에서 100사이)65\n",
            "정답\n"
          ]
        }
      ]
    },
    {
      "cell_type": "code",
      "source": [
        "# step 3 왜틀렸는지? up/down 힌트를 주면 좋을 것 같음\n",
        "import random\n",
        "\n",
        "secret_number = random.randrange(1, 101)    # 고정값\n",
        "print(secret_number)\n",
        "\n",
        "for _ in range(20):\n",
        "    number = int(input('숫자를 입력하세요~ (1에서 100사이)'))\n",
        "\n",
        "    if number == secret_number:\n",
        "        print(\"정답\")\n",
        "        break\n",
        "    elif number > secret_number:\n",
        "        print(\"정답은 더 작은 숫자입니다\")\n",
        "    else:\n",
        "        print(\"정답은 더 큰 숫자입니다\")"
      ],
      "metadata": {
        "colab": {
          "base_uri": "https://localhost:8080/"
        },
        "id": "Cv3Jr8nE3FmF",
        "outputId": "8189ef08-8206-46f0-89fa-64033c84098e"
      },
      "execution_count": 15,
      "outputs": [
        {
          "output_type": "stream",
          "name": "stdout",
          "text": [
            "81\n",
            "숫자를 입력하세요~ (1에서 100사이)50\n",
            "틀렸습니다\n",
            "정답은 더 큰 숫자입니다\n",
            "숫자를 입력하세요~ (1에서 100사이)71\n",
            "틀렸습니다\n",
            "정답은 더 큰 숫자입니다\n",
            "숫자를 입력하세요~ (1에서 100사이)82\n",
            "틀렸습니다\n",
            "정답은 더 작은 숫자입니다\n",
            "숫자를 입력하세요~ (1에서 100사이)81\n",
            "정답\n"
          ]
        }
      ]
    },
    {
      "cell_type": "markdown",
      "source": [
        "# step 4\n",
        "import random\n",
        "\n",
        "secret_number = random.randrange(1, 101)    # 고정값\n",
        "print(secret_number)\n",
        "\n",
        "for _ in range(20):\n",
        "    number = int(input('숫자를 입력하세요~ (1에서 100사이)'))\n",
        "\n",
        "    if number == secret_number:\n",
        "        print(\"정답\")\n",
        "        break\n",
        "    elif number > secret_number:\n",
        "        print(\"정답은 더 작은 숫자입니다\")\n",
        "    else:\n",
        "        print(\"정답은 더 큰 숫자입니다\")"
      ],
      "metadata": {
        "id": "lGKWJwsp5v40"
      }
    },
    {
      "cell_type": "markdown",
      "source": [
        "# 가위바위보"
      ],
      "metadata": {
        "id": "Tpo-WH-56-ac"
      }
    },
    {
      "cell_type": "code",
      "source": [
        "import random\n",
        "\n",
        "# 나의 가위바위보 입력\n",
        "my_choice = input(\"가위, 바위, 보중에 선택 : \")\n",
        "# choice에 사용할 변수 choice_list\n",
        "choice_list = [\"가위\", \"바위\", \"보\"]\n",
        "# 컴퓨터가 낸 가위바위보 = com_choice\n",
        "com_choice = random.choice(choice_list)\n",
        "# 승패요건\n",
        "print(f\"나는 {my_choice}이고 컴퓨터는 {com_choice}\")\n",
        "\n",
        "if my_choice == com_choice:\n",
        "    print(\"비겼습니다\")\n",
        "elif my_choice == \"가위\" and com_choice == \"바위\" or \\\n",
        "    my_choice == \"바위\" and com_choice == \"보\" or \\\n",
        "    my_choice == \"보\" and com_choice == \"가위\":\n",
        "    print(\"컴퓨터가 이겼습니다\")\n",
        "else:\n",
        "    print(\"내가 이겼다 컴퓨터야\")"
      ],
      "metadata": {
        "colab": {
          "base_uri": "https://localhost:8080/"
        },
        "id": "yiychwzu7elN",
        "outputId": "3f73aa67-3887-4c0c-b77c-cf6a4acab76c"
      },
      "execution_count": 34,
      "outputs": [
        {
          "output_type": "stream",
          "name": "stdout",
          "text": [
            "가위, 바위, 보중에 선택 : 가위\n",
            "나는 가위이고 컴퓨터는 보\n",
            "내가 이겼다 컴퓨터야\n"
          ]
        }
      ]
    }
  ]
}