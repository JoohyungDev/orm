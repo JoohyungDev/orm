{
  "nbformat": 4,
  "nbformat_minor": 0,
  "metadata": {
    "colab": {
      "provenance": []
    },
    "kernelspec": {
      "name": "python3",
      "display_name": "Python 3"
    },
    "language_info": {
      "name": "python"
    }
  },
  "cells": [
    {
      "cell_type": "code",
      "execution_count": 4,
      "metadata": {
        "colab": {
          "base_uri": "https://localhost:8080/"
        },
        "id": "J8W5yitNhl1c",
        "outputId": "4762bc2a-bb20-444e-cd6a-a466088ecb04"
      },
      "outputs": [
        {
          "output_type": "stream",
          "name": "stdout",
          "text": [
            "True\n"
          ]
        }
      ],
      "source": [
        "# if문 기본 구조\n",
        "\n",
        "# if 다음에 조건이 참인 경우에만 코드블록이 실행된다.\n",
        "\n",
        "x = 2   # 비교할 대상\n",
        "\n",
        "if x > 1:   # 비교 식 -> 비교식이 참일 경우에 하단의 print문이 실행\n",
        "    print('True') # 출력: True"
      ]
    },
    {
      "cell_type": "code",
      "source": [
        "if 1:\n",
        "    print('hello')"
      ],
      "metadata": {
        "colab": {
          "base_uri": "https://localhost:8080/"
        },
        "id": "AAmhpMIJpem6",
        "outputId": "b6ed3eb0-047f-4a63-be5d-584d02906ac5"
      },
      "execution_count": 5,
      "outputs": [
        {
          "output_type": "stream",
          "name": "stdout",
          "text": [
            "hello\n"
          ]
        }
      ]
    },
    {
      "cell_type": "code",
      "source": [
        "if 10 and [1, 2, 3]: # True나 False가 아니라 단락평가에 의해 [1, 2, 3]\n",
        "    print('hello')"
      ],
      "metadata": {
        "colab": {
          "base_uri": "https://localhost:8080/"
        },
        "id": "uI9q_-a3qjz3",
        "outputId": "99a4d6e8-87f1-44b9-c67d-273cf6ad9773"
      },
      "execution_count": 6,
      "outputs": [
        {
          "output_type": "stream",
          "name": "stdout",
          "text": [
            "hello\n"
          ]
        }
      ]
    },
    {
      "cell_type": "markdown",
      "source": [
        "위 코드는 단락평가에 의해 if문 뒤에 조건이 [1, 2, 3]이 됩니다. 파이썬에서 리스트 값이 있는 것은 True로 평가되기 때문에 조건이 참이되어 'hello'가 출력됩니다."
      ],
      "metadata": {
        "id": "HA0tz_16qmeG"
      }
    },
    {
      "cell_type": "code",
      "source": [
        "# if문 안에 있는 코드블럭과 바깥에 있는 코드블록\n",
        "if -1: # 정수를 바꿔서도 실습해보세요\n",
        "    print('hello')\n",
        "print('end')"
      ],
      "metadata": {
        "colab": {
          "base_uri": "https://localhost:8080/"
        },
        "id": "DNoM4BfDqnYC",
        "outputId": "c6e1ee9c-e738-40b9-815b-64fd89a096c3"
      },
      "execution_count": 7,
      "outputs": [
        {
          "output_type": "stream",
          "name": "stdout",
          "text": [
            "hello\n",
            "end\n"
          ]
        }
      ]
    },
    {
      "cell_type": "markdown",
      "source": [
        "`-1`은 어떻게 될까요? 0이 아닌 모든 정수형은 `True`로 인식을 하게 되어 hello와 end가 모두 출력이 되게 됩니다. 여기서는 띄어쓰기 4칸까지가 if문에 범위인 것을 알려드리기 위해 `'end'`를 함께 표시하였습니다."
      ],
      "metadata": {
        "id": "ucTi3BlnqrrZ"
      }
    },
    {
      "cell_type": "code",
      "source": [
        "if not '':\n",
        "    print('hello')\n",
        "print('end')\n",
        "\n",
        "if None: # None은 False로 처리됩니다.\n",
        "    print('hello')\n",
        "print('end')\n",
        "\n",
        "if not None:\n",
        "    print('hello')\n",
        "print('end')"
      ],
      "metadata": {
        "colab": {
          "base_uri": "https://localhost:8080/"
        },
        "id": "EMuVKMZjqtsT",
        "outputId": "d6b0d323-9df0-46cf-f2b1-6ccfebb064e2"
      },
      "execution_count": 9,
      "outputs": [
        {
          "output_type": "stream",
          "name": "stdout",
          "text": [
            "hello\n",
            "end\n",
            "end\n",
            "hello\n",
            "end\n"
          ]
        }
      ]
    },
    {
      "cell_type": "code",
      "source": [
        "# 성능에 영향을 끼칩니다!\n",
        "# 잘 걸릴만한 것을 앞에 두어 최대한 뒤에가 실행되지 않도록\n",
        "def f():\n",
        "    return True\n",
        "\n",
        "def ff():\n",
        "    x = 100 / 0 # error\n",
        "    return 'hello'  # 실행되지 않았으면 하는 함수\n",
        "\n",
        "if f() or ff():\n",
        "    print('hello') # 출력: hello"
      ],
      "metadata": {
        "colab": {
          "base_uri": "https://localhost:8080/"
        },
        "id": "MTzCmI2vsFHi",
        "outputId": "5df831cb-d37f-4bac-f6b6-edac4e59b745"
      },
      "execution_count": 10,
      "outputs": [
        {
          "output_type": "stream",
          "name": "stdout",
          "text": [
            "hello\n"
          ]
        }
      ]
    },
    {
      "cell_type": "code",
      "source": [
        "# 삼항 연산자\n",
        "# x if 조건 else y"
      ],
      "metadata": {
        "id": "X0IK3smzy7-Y"
      },
      "execution_count": 11,
      "outputs": []
    },
    {
      "cell_type": "code",
      "source": [
        "x = 5\n",
        "y = 10\n",
        "result = 'x가 더 큽니다' if x > y else 'y와 같거나 y가 더 큽니다.'\n",
        "print(result) # 출력: 'y와 같거나 y가 더 큽니다.'"
      ],
      "metadata": {
        "colab": {
          "base_uri": "https://localhost:8080/"
        },
        "id": "hJiH2TQHzD9l",
        "outputId": "0644561c-f771-4987-ad69-c1dccbbeffcb"
      },
      "execution_count": 13,
      "outputs": [
        {
          "output_type": "stream",
          "name": "stdout",
          "text": [
            "y와 같거나 y가 더 큽니다.\n"
          ]
        }
      ]
    },
    {
      "cell_type": "markdown",
      "source": [
        "# 람다함수\n",
        "\n",
        "* 익명함수-한줄로 표현 / 임시 함수 만들때 사용"
      ],
      "metadata": {
        "id": "VUa30y-R0SLa"
      }
    },
    {
      "cell_type": "code",
      "source": [
        "my_function = lambda x: 'Even' if x % 2 == 0 else 'Odd'"
      ],
      "metadata": {
        "id": "ypLPjhqlzReV"
      },
      "execution_count": 14,
      "outputs": []
    },
    {
      "cell_type": "markdown",
      "source": [
        "# 중첩 조건문"
      ],
      "metadata": {
        "id": "s3QwyM041rQV"
      }
    },
    {
      "cell_type": "code",
      "source": [
        "# if, else문의 기본구조\n",
        "if 조건문: # 조건문을 확인해서 만약 '참'이면 if 문 다음에 문장들은 수행합니다.\n",
        "    pass\n",
        "\t  # 수행할 문장 1 - 참일 경우 실행\n",
        "else: # if문의 조건이 거짓이면 else 문이 실행됩니다.\n",
        "    pass\n",
        "\t  # 수행할 문장 2 - 문장 1이 거짓인 경우 실행"
      ],
      "metadata": {
        "id": "soT4Mnsc1sYX"
      },
      "execution_count": null,
      "outputs": []
    },
    {
      "cell_type": "code",
      "source": [
        "x = 3\n",
        "y = 1\n",
        "\n",
        "if x > y:\n",
        "    print('첫번째 값이 더 큽니다.')\n",
        "else:\n",
        "    print('두번째 값이 더 크거나 같습니다.')"
      ],
      "metadata": {
        "colab": {
          "base_uri": "https://localhost:8080/"
        },
        "id": "FdMWdvlS2S6g",
        "outputId": "e54d18b8-7e72-4476-bce7-1b51b0f6b3af"
      },
      "execution_count": 16,
      "outputs": [
        {
          "output_type": "stream",
          "name": "stdout",
          "text": [
            "첫번째 값이 더 큽니다.\n"
          ]
        }
      ]
    },
    {
      "cell_type": "code",
      "source": [
        "# if, elif, else문의 기본구조\n",
        "# 조건이 늘어나면 elif만 추가하면 된다. if else는 그대로\n",
        "# elif에는 조건식이 필요하다. 단 다른 조건과 겹치지 않게!\n",
        "\n",
        "if 조건문: # 조건문을 확인해서 만약 '참'이면 if 문 다음에 문장들은 수행합니다.\n",
        "\t  # 수행할 문장 1\n",
        "    pass\n",
        "elif: # if문의 조건이 '참'이 아니라면 elif 문의 조건문이 참이라면 수행한다.\n",
        "\t  # 수행할 문장 2\n",
        "    pass\n",
        "else: # 위 모든 if문, elif문의 조건이 '참'이 아니라면 수행합니다.\n",
        "\t  # 수행할 문장 3\n",
        "    pass"
      ],
      "metadata": {
        "id": "9YSziqgu3C8j"
      },
      "execution_count": null,
      "outputs": []
    },
    {
      "cell_type": "code",
      "source": [
        "# 성적입력 프로그램 - 기본\n",
        "score = int(input(\"성적을 입력하세요 (0-100): \"))\n",
        "\n",
        "if score >= 90: # 90점 이상일때\n",
        "    print(\"A\")\n",
        "elif 90 > score >= 80:  # 80점 이상 90점 미만일때\n",
        "    print(\"B\")\n",
        "elif 80 > score >= 70:  # 70점 이상 80미만\n",
        "    print(\"C\")\n",
        "elif 70 > score >= 60:  # 60이상 70미만\n",
        "    print(\"D\")\n",
        "else:   # 60미만\n",
        "    print(\"F\")"
      ],
      "metadata": {
        "colab": {
          "base_uri": "https://localhost:8080/"
        },
        "id": "m2uwfbXI381M",
        "outputId": "5488633a-32b4-4734-d5d0-6cf6296a591f"
      },
      "execution_count": 17,
      "outputs": [
        {
          "output_type": "stream",
          "name": "stdout",
          "text": [
            "성적을 입력하세요 (0-100): 75\n",
            "C\n"
          ]
        }
      ]
    },
    {
      "cell_type": "code",
      "source": [
        "score = 81\n",
        "money = 0\n",
        "\n",
        "if score >= 90:\n",
        "    money += 1000000\n",
        "elif score >= 80:\n",
        "    money += 100000\n",
        "elif score >= 70:\n",
        "    money += 10000\n",
        "elif score >= 60:\n",
        "    money += 1000\n",
        "else:\n",
        "    money = 0\n",
        "print(money) # 출력: 100000"
      ],
      "metadata": {
        "colab": {
          "base_uri": "https://localhost:8080/"
        },
        "id": "RKOdgt3z6NzG",
        "outputId": "4e837243-91bd-496e-8aa4-05495a38201d"
      },
      "execution_count": 18,
      "outputs": [
        {
          "output_type": "stream",
          "name": "stdout",
          "text": [
            "100000\n"
          ]
        }
      ]
    },
    {
      "cell_type": "code",
      "source": [
        "# 매번 if문에 걸리기 때문에 용돈을 111,000원 받게 됩니다.\n",
        "# 또한 매번 if 뒤에 조건을 검사하니 코드의 성능도 떨어집니다.\n",
        "# 아래처럼 작성되었을 때 첫번째 사용했던 예제와 결과도 같고, 의도한 바대로 용돈도 10만원을 받지만, 성능은 떨어집니다.\n",
        "score = 81\n",
        "money = 0\n",
        "\n",
        "if score >= 90:\n",
        "    money += 1000000\n",
        "if 90 > score >= 80:\n",
        "    money += 100000\n",
        "if 80 > score >= 70:\n",
        "    money += 10000\n",
        "if 70 > score >= 60:\n",
        "    money += 1000\n",
        "else:\n",
        "    print(\"용돈은\")\n",
        "print(money)"
      ],
      "metadata": {
        "colab": {
          "base_uri": "https://localhost:8080/"
        },
        "id": "o3Ragzw9_Aq8",
        "outputId": "43e0cc48-ed20-4954-f9c4-a91e9eccf227"
      },
      "execution_count": 21,
      "outputs": [
        {
          "output_type": "stream",
          "name": "stdout",
          "text": [
            "용돈은\n",
            "100000\n"
          ]
        }
      ]
    },
    {
      "cell_type": "code",
      "source": [
        "# if를 중첩해서 사용하기\n",
        "movie = {\n",
        "    '영화': '레미제라블',\n",
        "    '장르': '드라마',\n",
        "    '서비스': '디즈니',\n",
        "    '비용': 15000,\n",
        "    '평점': 4.9\n",
        "}\n",
        "\n",
        "if movie['장르'] == '드라마':\n",
        "    if movie['서비스'] == '디즈니' or movie['서비스'] == '넷플릭스':\n",
        "        if movie['평점'] >= 4.5:\n",
        "            if movie['비용'] <= 20000:\n",
        "                print('영화시청') # 출력: 영화시청"
      ],
      "metadata": {
        "colab": {
          "base_uri": "https://localhost:8080/"
        },
        "id": "GiVqsq6XAmoZ",
        "outputId": "1ffc480a-39c6-4167-ef5a-96ee520d0d5d"
      },
      "execution_count": 24,
      "outputs": [
        {
          "output_type": "stream",
          "name": "stdout",
          "text": [
            "영화시청\n"
          ]
        }
      ]
    },
    {
      "cell_type": "code",
      "source": [],
      "metadata": {
        "id": "hgdnlqqYBU43"
      },
      "execution_count": null,
      "outputs": []
    }
  ]
}