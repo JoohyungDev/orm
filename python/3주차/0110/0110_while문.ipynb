{
  "nbformat": 4,
  "nbformat_minor": 0,
  "metadata": {
    "colab": {
      "provenance": []
    },
    "kernelspec": {
      "name": "python3",
      "display_name": "Python 3"
    },
    "language_info": {
      "name": "python"
    }
  },
  "cells": [
    {
      "cell_type": "code",
      "execution_count": 1,
      "metadata": {
        "colab": {
          "base_uri": "https://localhost:8080/"
        },
        "id": "T7GG-Gxcrxq0",
        "outputId": "c4fcf8b5-9111-4813-ae75-963d41d64896"
      },
      "outputs": [
        {
          "output_type": "stream",
          "name": "stdout",
          "text": [
            "1\n",
            "2\n",
            "3\n",
            "4\n",
            "5\n",
            "6\n",
            "7\n",
            "8\n",
            "9\n"
          ]
        }
      ],
      "source": [
        "a = 1\n",
        "\n",
        "while a < 10 :\n",
        "\tprint(a)\n",
        "\ta += 1"
      ]
    },
    {
      "cell_type": "code",
      "source": [
        "# step1 : a -> 1 지정\n",
        "# step2 : while (a = 1) < 10 -> True -> while 조건문 실행\n",
        "# step3 : print(a) -> a = 1 -> 1이 출력\n",
        "# step4 : a += 1 -> a -> 2\n",
        "# step2-1 : a -> 2 step2, 3, 4가 계속 반복\n",
        "# step10-1 : a -> 10\n",
        "# step10-2 : a = 10 < 10 -> False -> whie 조건문 미실행, 조건문 완료"
      ],
      "metadata": {
        "id": "VUUsLg-evhCI"
      },
      "execution_count": 2,
      "outputs": []
    },
    {
      "cell_type": "code",
      "source": [
        "# colab에서도 작동되지만 가능하면 .py파일로 작성해서 실행해보세요.\n",
        "import os\n",
        "\n",
        "while True:\n",
        "    userinput = input('>')\n",
        "    if userinput == 'pwd':\n",
        "        # print('현재 위치 출력')\n",
        "        # print('\\\\'.join(__file__.split('\\\\')[:-1]))\n",
        "        print(os.getcwd())\n",
        "    elif userinput == 'dir' or userinput == 'ls':\n",
        "        # print('현재 폴더에 폴더와 파일명 출력')\n",
        "        print(os.listdir(os.getcwd()))\n",
        "    elif userinput == 'exit':\n",
        "        print('안녕히가세요.')\n",
        "        break"
      ],
      "metadata": {
        "colab": {
          "base_uri": "https://localhost:8080/"
        },
        "id": "jcUVVvEhwEWj",
        "outputId": "5be6e9b4-d231-4764-fd28-9708a893919d"
      },
      "execution_count": 4,
      "outputs": [
        {
          "output_type": "stream",
          "name": "stdout",
          "text": [
            ">pwd\n",
            "/content\n",
            ">dir\n",
            "['.config', 'sample_data']\n",
            ">ls\n",
            "['.config', 'sample_data']\n",
            ">exit\n",
            "안녕히가세요.\n"
          ]
        }
      ]
    },
    {
      "cell_type": "code",
      "source": [
        "for i in range(10):\n",
        "    print(i)"
      ],
      "metadata": {
        "colab": {
          "base_uri": "https://localhost:8080/"
        },
        "id": "UGp7wbgqzydd",
        "outputId": "190606ea-3dfe-4b76-8fbc-b58391354e89"
      },
      "execution_count": 5,
      "outputs": [
        {
          "output_type": "stream",
          "name": "stdout",
          "text": [
            "0\n",
            "1\n",
            "2\n",
            "3\n",
            "4\n",
            "5\n",
            "6\n",
            "7\n",
            "8\n",
            "9\n"
          ]
        }
      ]
    },
    {
      "cell_type": "code",
      "source": [
        "for i in range(10):\n",
        "    if i == 5:\n",
        "        break\n",
        "    print(i)"
      ],
      "metadata": {
        "colab": {
          "base_uri": "https://localhost:8080/"
        },
        "id": "Ofolj1ik0awI",
        "outputId": "6d003811-8254-47e5-a2f0-4a58fa671b6f"
      },
      "execution_count": 8,
      "outputs": [
        {
          "output_type": "stream",
          "name": "stdout",
          "text": [
            "0\n",
            "1\n",
            "2\n",
            "3\n",
            "4\n"
          ]
        }
      ]
    },
    {
      "cell_type": "code",
      "source": [
        "for i in range(10):\n",
        "    if i % 2 == 0:\n",
        "        continue\n",
        "    print(i)"
      ],
      "metadata": {
        "colab": {
          "base_uri": "https://localhost:8080/"
        },
        "id": "G2Xd109Gz3EA",
        "outputId": "62159679-0ef7-4771-e5e0-4557e9e48a9c"
      },
      "execution_count": 7,
      "outputs": [
        {
          "output_type": "stream",
          "name": "stdout",
          "text": [
            "1\n",
            "3\n",
            "5\n",
            "7\n",
            "9\n"
          ]
        }
      ]
    },
    {
      "cell_type": "code",
      "source": [
        "import random\n",
        "\n",
        "answer = random.randint(1, 1000)\n",
        "while True:\n",
        "    userinput = int(input('숫자를 입력해주세요.'))\n",
        "    if userinput > answer:\n",
        "        print('Down')\n",
        "\n",
        "    elif userinput < answer:\n",
        "        print('Up')\n",
        "    else:\n",
        "        print('축하합니다! 맞추셨어요!')\n",
        "        break\n",
        ""
      ],
      "metadata": {
        "id": "koYznKVnz9UQ"
      },
      "execution_count": null,
      "outputs": []
    },
    {
      "cell_type": "code",
      "source": [
        "# 중첩 While문\n",
        "# While문에서 종료되는 값이 중요!\n",
        "while i < 10 :\n",
        "    while j < 10:\n",
        "        print(f'{i} X {j} = {i * j}')\n",
        "\n",
        "i = 2\n",
        "while i < 10 :\n",
        "    j = 1\n",
        "    while j < 10:\n",
        "        print(f'{i} X {j} = {i * j}')\n",
        "        j += 1\n",
        "    i += 1\n",
        "\n",
        "#중첩 for문\n",
        "for i in range(2, 10):  # 2부터 9까지 반복 (10은 포함되지 않음)\n",
        "    for j in range(1, 10):  # 1부터 9까지 반복 (10은 포함되지 않음)\n",
        "        print(f'{i} X {j} = {i * j}')"
      ],
      "metadata": {
        "id": "pzrJvDnB8RBB"
      },
      "execution_count": null,
      "outputs": []
    },
    {
      "cell_type": "code",
      "source": [],
      "metadata": {
        "id": "0UWsXETf8so-"
      },
      "execution_count": null,
      "outputs": []
    }
  ]
}