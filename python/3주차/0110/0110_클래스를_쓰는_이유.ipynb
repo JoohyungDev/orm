{
  "nbformat": 4,
  "nbformat_minor": 0,
  "metadata": {
    "colab": {
      "provenance": []
    },
    "kernelspec": {
      "name": "python3",
      "display_name": "Python 3"
    },
    "language_info": {
      "name": "python"
    }
  },
  "cells": [
    {
      "cell_type": "markdown",
      "source": [
        "- 기본 자료형보다 속도에서 이점(리스트에서 탐색과 트리구조에서 탐색을 생각해보자)\n",
        "\n",
        "- 한번 선언한 클래스를 재사용 가능"
      ],
      "metadata": {
        "id": "ArVqP2-dA1Vt"
      }
    }
  ]
}