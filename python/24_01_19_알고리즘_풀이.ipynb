{
  "nbformat": 4,
  "nbformat_minor": 0,
  "metadata": {
    "colab": {
      "provenance": [],
      "toc_visible": true
    },
    "kernelspec": {
      "name": "python3",
      "display_name": "Python 3"
    },
    "language_info": {
      "name": "python"
    }
  },
  "cells": [
    {
      "cell_type": "markdown",
      "source": [
        "## 기본 역량 문제 풀이 20문제(프로그래머스 10 + pyalgo 10)"
      ],
      "metadata": {
        "id": "vu_HAjXtAZkg"
      }
    },
    {
      "cell_type": "code",
      "source": [
        "def solution(data):\n",
        "    return\n",
        "\n",
        "solution()"
      ],
      "metadata": {
        "id": "f7ZZZteKLvR9"
      },
      "execution_count": null,
      "outputs": []
    },
    {
      "cell_type": "code",
      "source": [
        "# 코딩 인터뷰 완전분석\n",
        "# 듣기\n",
        "# 예제\n",
        "# 무식하게 풀기(V)\n",
        "# 최적화\n",
        "# 검토하기\n",
        "# 구현하기\n",
        "# 테스트"
      ],
      "metadata": {
        "id": "QKMckFY2L3-m"
      },
      "execution_count": null,
      "outputs": []
    },
    {
      "cell_type": "markdown",
      "source": [
        "## 짝수, 홀수 찾기\n",
        "링크 : https://school.programmers.co.kr/learn/courses/30/lessons/120824"
      ],
      "metadata": {
        "id": "OkNIPzZbSZc6"
      }
    },
    {
      "cell_type": "code",
      "source": [
        "def solution(data):\n",
        "    홀수 = [i % 2 != 0 for i in data]\n",
        "    짝수 = [i % 2 == 0 for i in data]\n",
        "    print(홀수, 짝수)\n",
        "    return data\n",
        "\n",
        "solution([1, 2, 3, 4, 5])"
      ],
      "metadata": {
        "id": "ecc-I6XoMSWD"
      },
      "execution_count": null,
      "outputs": []
    },
    {
      "cell_type": "code",
      "source": [
        "def solution(data):\n",
        "    홀수 = [i % 2 != 0 for i in data]\n",
        "    짝수 = [i % 2 == 0 for i in data]\n",
        "    # print(홀수, 짝수)\n",
        "    return [sum(짝수), sum(홀수)]"
      ],
      "metadata": {
        "id": "en67WcSTP6VD"
      },
      "execution_count": null,
      "outputs": []
    },
    {
      "cell_type": "code",
      "source": [
        "def solution(num_list):\n",
        "    answer = [0, 0]\n",
        "    for i in num_list:\n",
        "        answer[i % 2] += 1\n",
        "    return answer"
      ],
      "metadata": {
        "id": "cZPVwUr7Qpam"
      },
      "execution_count": null,
      "outputs": []
    },
    {
      "cell_type": "code",
      "source": [
        "# 좋은 풀이는 아닙니다.\n",
        "# data의 가변 최대치를 봅니다.\n",
        "def solution(data):\n",
        "    짝수 = [i % 2 == 0 for i in data]\n",
        "    return [sum(짝수), len(data) - sum(짝수)] # sum이 순회합니다."
      ],
      "metadata": {
        "id": "CnizQeEZRYN2"
      },
      "execution_count": null,
      "outputs": []
    },
    {
      "cell_type": "markdown",
      "source": [
        "## 머쓱이보다 키 큰 사람\n",
        "링크 : https://school.programmers.co.kr/learn/courses/30/lessons/120585"
      ],
      "metadata": {
        "id": "-xFY8IujSkBb"
      }
    },
    {
      "cell_type": "code",
      "source": [
        "def solution(array, height):\n",
        "    pass\n",
        "\n",
        "solution([149, 180, 192, 170], 167)"
      ],
      "metadata": {
        "id": "cyFttSIdTLVS"
      },
      "execution_count": null,
      "outputs": []
    },
    {
      "cell_type": "code",
      "source": [
        "# 이렇게 언패킹 해서 사용할 수 있는 것들은 언패킹!\n",
        "# 가독성이 좋아진다!\n",
        "def solution(data):\n",
        "    array, height = data\n",
        "    pass\n",
        "\n",
        "solution([[149, 180, 192, 170], 167])"
      ],
      "metadata": {
        "id": "x9WKxE4CSrAv"
      },
      "execution_count": null,
      "outputs": []
    },
    {
      "cell_type": "code",
      "source": [
        "def solution(array, height):\n",
        "    count = 0\n",
        "    for i in array:\n",
        "        if i > height:\n",
        "            count += 1\n",
        "    return count"
      ],
      "metadata": {
        "id": "9dNeEZs6TXP0"
      },
      "execution_count": null,
      "outputs": []
    },
    {
      "cell_type": "code",
      "source": [
        "# filter는 len가 없다\n",
        "def solution(array, height):\n",
        "    return list(filter(lambda x: x> height, array))\n",
        "\n",
        "solution([149, 180, 192, 170], 167)\n",
        "# 왜 filter에는 len이 없을까?\n",
        "# filter는 순회 돌기 전까지 실행이 되지 않은 함수\n",
        "# for와 같이 순회를 돌아야 그제서야 각 원소 별로 접근하기 때문\n",
        "# 주문만 하고 아직 제조되지 않은 커피\n",
        "# 커피를 달라고 소리쳐야(순회, 형변환) 그때야 제조가 됨"
      ],
      "metadata": {
        "id": "DifFapnQTuaT"
      },
      "execution_count": null,
      "outputs": []
    },
    {
      "cell_type": "code",
      "source": [
        "def solution(array, height):\n",
        "    return sum(map(lambda x: x > height, array))\n",
        "\n",
        "solution([149, 180, 192, 170], 167)"
      ],
      "metadata": {
        "colab": {
          "base_uri": "https://localhost:8080/"
        },
        "id": "KIMbw0a1UxSO",
        "outputId": "2f7d69ea-263e-479a-9365-e262603d00c1"
      },
      "execution_count": 1,
      "outputs": [
        {
          "output_type": "execute_result",
          "data": {
            "text/plain": [
              "3"
            ]
          },
          "metadata": {},
          "execution_count": 1
        }
      ]
    },
    {
      "cell_type": "code",
      "source": [
        "def solution(array, height):\n",
        "    return sum(i > height for i in array)\n",
        "\n",
        "solution([149, 180, 192, 170], 167)"
      ],
      "metadata": {
        "colab": {
          "base_uri": "https://localhost:8080/"
        },
        "id": "aty-5-wzVTVp",
        "outputId": "687f03b3-f150-459d-889b-2f0fbf11171c"
      },
      "execution_count": 2,
      "outputs": [
        {
          "output_type": "execute_result",
          "data": {
            "text/plain": [
              "3"
            ]
          },
          "metadata": {},
          "execution_count": 2
        }
      ]
    },
    {
      "cell_type": "markdown",
      "source": [
        "## 숨어있는 숫자의 덧셈\n",
        "링크: https://school.programmers.co.kr/learn/courses/30/lessons/120851"
      ],
      "metadata": {
        "id": "pgbx4wYYViEE"
      }
    },
    {
      "cell_type": "code",
      "source": [
        "# 오답, 그러나 이렇게도 많이 사용한다.\n",
        "def solution(my_string):\n",
        "    count = 0\n",
        "    for i in my_string:\n",
        "        if i.isdigit():\n",
        "            count += 1\n",
        "\n",
        "solution(\"aAb1B2cC34oOp\")"
      ],
      "metadata": {
        "id": "UfyW8nPAWuKW"
      },
      "execution_count": null,
      "outputs": []
    },
    {
      "cell_type": "code",
      "source": [
        "def solution(my_string):\n",
        "    result = 0\n",
        "    for i in my_string:\n",
        "        if i.isdigit():\n",
        "            result += int(i)\n",
        "\n",
        "    return result\n",
        "\n",
        "solution(\"aAb1B2cC34oOp\")"
      ],
      "metadata": {
        "id": "7B8SZnHaV_uB"
      },
      "execution_count": null,
      "outputs": []
    },
    {
      "cell_type": "code",
      "source": [
        "# isdigit에 () 가 있고 없고의 차이는 무엇인가요?\n",
        "def 함수(x):\n",
        "    return x.isdigit()\n",
        "\n",
        "def solution(my_string):\n",
        "    return list(filter(함수, my_string))\n",
        "\n",
        "solution(\"aAb1B2cC34oOp\")"
      ],
      "metadata": {
        "id": "jCTuDIEtWMiI"
      },
      "execution_count": null,
      "outputs": []
    },
    {
      "cell_type": "code",
      "source": [
        "# 효율적이진 않지만, 문법 복습차원에서\n",
        "def solution(my_string):\n",
        "    return sum(map(int,(filter(str.isdigit, my_string))))\n",
        "\n",
        "solution(\"aAb1B2cC34oOp\")"
      ],
      "metadata": {
        "id": "ofMIeEvDY-qE"
      },
      "execution_count": null,
      "outputs": []
    },
    {
      "cell_type": "code",
      "source": [
        "# 효율적이진 않지만, 문법 복습차원에서\n",
        "def solution(my_string):\n",
        "    return sum(map(lambda x: int(x) if x.isdigit() else False, my_string))\n",
        "\n",
        "solution(\"aAb1B2cC34oOp\")"
      ],
      "metadata": {
        "id": "_nUMo7zaZIq9"
      },
      "execution_count": null,
      "outputs": []
    },
    {
      "cell_type": "code",
      "source": [
        "# r은 raw 날것의 라는 뜻이 있다.\n",
        "# 실무에서 자주쓰는 용어임\n",
        "# raw data를 전달해줘 => 가공하지 않은 순수 데이터\n",
        "\n",
        "r'hello\\nworld' # \\n 이스케이프 문자"
      ],
      "metadata": {
        "id": "THMt7x0kZUx6"
      },
      "execution_count": null,
      "outputs": []
    },
    {
      "cell_type": "code",
      "source": [
        "import re\n",
        "\n",
        "def solution(s):\n",
        "    return sum(map(int, re.findall(r'[0-9]', s)))\n",
        "\n",
        "solution('aAb1B2cC34oOp')"
      ],
      "metadata": {
        "colab": {
          "base_uri": "https://localhost:8080/"
        },
        "id": "QYyiDOzwdTbl",
        "outputId": "7e82c565-63ab-4f20-b7e0-573a7b47ef93"
      },
      "execution_count": 8,
      "outputs": [
        {
          "output_type": "execute_result",
          "data": {
            "text/plain": [
              "10"
            ]
          },
          "metadata": {},
          "execution_count": 8
        }
      ]
    },
    {
      "cell_type": "code",
      "source": [
        "import re\n",
        "\n",
        "def solution(s):\n",
        "    return sum(map(int, (re.sub(r'[a-zA-Z]', '', s))))\n",
        "\n",
        "solution('aAb1B2cC34oOp')"
      ],
      "metadata": {
        "id": "HGOMLUWMdqAb"
      },
      "execution_count": null,
      "outputs": []
    },
    {
      "cell_type": "markdown",
      "source": [
        "## 암호해독\n",
        "링크: https://school.programmers.co.kr/learn/courses/30/lessons/120892"
      ],
      "metadata": {
        "id": "KmZbOUcnehEB"
      }
    },
    {
      "cell_type": "code",
      "source": [
        "def solution(cipher, code):\n",
        "    return cipher[code-1::code]\n",
        "\n",
        "solution(\"dfjardstddetckdaccccdegk\", 4)"
      ],
      "metadata": {
        "id": "CCJDDS9KemYX"
      },
      "execution_count": null,
      "outputs": []
    },
    {
      "cell_type": "code",
      "source": [
        "def solution(cipher, code):\n",
        "    count = 1\n",
        "    for i in cipher:\n",
        "        if count == code:\n",
        "            print(i)\n",
        "            count = 0\n",
        "        count += 1\n",
        "\n",
        "solution(\"dfjardstddetckdaccccdegk\", 4)"
      ],
      "metadata": {
        "id": "DovIDOc4fP86"
      },
      "execution_count": null,
      "outputs": []
    },
    {
      "cell_type": "code",
      "source": [
        "def solution(cipher, code):\n",
        "    count = 1\n",
        "    for i, j in enumerate(cipher, 1):\n",
        "        if i % code == 0:\n",
        "            print(j)\n",
        "\n",
        "solution(\"dfjardstddetckdaccccdegk\", 4)"
      ],
      "metadata": {
        "id": "Ky3wnNY0g29i"
      },
      "execution_count": null,
      "outputs": []
    },
    {
      "cell_type": "markdown",
      "source": [
        "## 369게임\n",
        "링크: https://school.programmers.co.kr/learn/courses/30/lessons/120891"
      ],
      "metadata": {
        "id": "GQIHwtGci_6L"
      }
    },
    {
      "cell_type": "code",
      "source": [
        "def solution(order):\n",
        "    order = str(order)\n",
        "    return order.count('3') + order.count('6') + order.count('9')"
      ],
      "metadata": {
        "id": "0Lnwo-AujKzO"
      },
      "execution_count": null,
      "outputs": []
    },
    {
      "cell_type": "code",
      "source": [
        "import re\n",
        "\n",
        "def solution(order):\n",
        "    order = str(order)\n",
        "    return len(list(re.findall(r'[369]', order)))"
      ],
      "metadata": {
        "id": "Tn_7b14njp7m"
      },
      "execution_count": null,
      "outputs": []
    },
    {
      "cell_type": "markdown",
      "source": [
        "## 중복문자 제거\n",
        "링크: https://school.programmers.co.kr/learn/courses/30/lessons/120888\n"
      ],
      "metadata": {
        "id": "P617U7VGke1N"
      }
    },
    {
      "cell_type": "code",
      "source": [
        "set(\"people\") # 중복 제거 완료, 그러나 순서를 보장하지 않음!"
      ],
      "metadata": {
        "colab": {
          "base_uri": "https://localhost:8080/"
        },
        "id": "nqdxVu52khmf",
        "outputId": "311677fd-3e99-4b78-ad62-f4397b8c58a2"
      },
      "execution_count": 3,
      "outputs": [
        {
          "output_type": "execute_result",
          "data": {
            "text/plain": [
              "{'e', 'l', 'o', 'p'}"
            ]
          },
          "metadata": {},
          "execution_count": 3
        }
      ]
    },
    {
      "cell_type": "code",
      "source": [
        "def solution(s):\n",
        "    answer = ''\n",
        "    for i in s:\n",
        "        if i not in answer:\n",
        "            answer += i\n",
        "    return answer"
      ],
      "metadata": {
        "id": "fCe0W9JYlIff"
      },
      "execution_count": null,
      "outputs": []
    },
    {
      "cell_type": "code",
      "source": [
        "def solution(my_string):\n",
        "    return ''.join(dict.fromkeys(my_string))\n",
        "\n",
        "solution('people')"
      ],
      "metadata": {
        "id": "y8EWiEiilwHK"
      },
      "execution_count": null,
      "outputs": []
    },
    {
      "cell_type": "markdown",
      "source": [
        "## A로 B 만들기\n",
        "링크: https://school.programmers.co.kr/learn/courses/30/lessons/120886"
      ],
      "metadata": {
        "id": "z8jgfPHFm-0K"
      }
    },
    {
      "cell_type": "code",
      "source": [
        "import collections\n",
        "\n",
        "\n",
        "# collections.Counter(\"olleh\") == collections.Counter(\"hello\")\n",
        "# collections.Counter(\"olleh\") == collections.Counter(\"hhhhhhhhhello\")\n",
        "collections.Counter(\"olleh\")"
      ],
      "metadata": {
        "id": "UCpJ-CShnCbF"
      },
      "execution_count": null,
      "outputs": []
    },
    {
      "cell_type": "code",
      "source": [
        "def solution(before, after):\n",
        "    a = list(after)\n",
        "    for i in before:\n",
        "        if i in a:\n",
        "            a.remove(i)\n",
        "        else:\n",
        "            return 0\n",
        "    if a:\n",
        "        return 0\n",
        "    return 1\n",
        "\n",
        "solution(\"olleh\", \"hello\")"
      ],
      "metadata": {
        "id": "kt1aRv7QwbLG"
      },
      "execution_count": null,
      "outputs": []
    },
    {
      "cell_type": "code",
      "source": [
        "# if문은 많으면 많을수록 좋다!(예외처리)"
      ],
      "metadata": {
        "id": "W3zQJkzCyMQi"
      },
      "execution_count": null,
      "outputs": []
    },
    {
      "cell_type": "code",
      "source": [
        "# 회문\n",
        "\n",
        "# 'hello' => 'elloh' => 'llohe'\n",
        "# 'hello' => 'ohell' => 'lohel'\n",
        "# collections.deque를 사용해서 풀면 쉽게 풀림\n",
        "\n",
        "# 문제1 'hello'를 앞뒤로 이동시켜 'llohe'를 만들 수 있나?\n",
        "# 'hellohello'\n",
        "\n",
        "# 문제2 몇칸 이동했나?\n",
        "# 'hellohello'.index('llohe')"
      ],
      "metadata": {
        "id": "KKYvJKmrxkam"
      },
      "execution_count": null,
      "outputs": []
    },
    {
      "cell_type": "markdown",
      "source": [
        "## 저주의 숫자 3\n",
        "링크 : https://school.programmers.co.kr/learn/courses/30/lessons/120871"
      ],
      "metadata": {
        "id": "Rqy7VMXAyTy6"
      }
    },
    {
      "cell_type": "code",
      "source": [
        "# 십진수    3숫자마을\n",
        "# 1         1\n",
        "# 2         2\n",
        "# 3         4\n",
        "# 4         5\n",
        "# 5         7\n",
        "# 6         8\n",
        "# 7         10\n",
        "# 8         11\n",
        "# 9         14\n",
        "# 10        16"
      ],
      "metadata": {
        "id": "tv5ZQPL9yoPZ"
      },
      "execution_count": null,
      "outputs": []
    },
    {
      "cell_type": "code",
      "source": [
        "# [True, True, False]..."
      ],
      "metadata": {
        "id": "2eEL8Vew0guU"
      },
      "execution_count": null,
      "outputs": []
    },
    {
      "cell_type": "code",
      "source": [
        "# filter('3이 들어간 숫자 없애기', filter('3의 배수 없애기', [1, 2, 3, 4, 5, 6, 7, 8, 9, 10]))"
      ],
      "metadata": {
        "id": "sysuWm2t0itb"
      },
      "execution_count": null,
      "outputs": []
    },
    {
      "cell_type": "code",
      "source": [
        "list(filter(lambda x: (x % 3 != 0) and ('3' not in str(x)), range(100)))[15-1]"
      ],
      "metadata": {
        "id": "SM7RaXdQ0jy1"
      },
      "execution_count": null,
      "outputs": []
    },
    {
      "cell_type": "code",
      "source": [
        "def solution(num):\n",
        "    return list(filter(lambda x: (x % 3 != 0) and ('3' not in str(x)), range(1000)))[num-1]"
      ],
      "metadata": {
        "id": "WlNqiTQO0lT_"
      },
      "execution_count": null,
      "outputs": []
    },
    {
      "cell_type": "code",
      "source": [
        "solution = lambda n:[i for i in range(10000) if i % 3 != 0 and '3' not in str(i)][n-1]"
      ],
      "metadata": {
        "id": "3AA4yU2h0pN8"
      },
      "execution_count": null,
      "outputs": []
    },
    {
      "cell_type": "markdown",
      "source": [
        "## 진료 순서 정하기\n",
        "링크 : https://school.programmers.co.kr/learn/courses/30/lessons/120835"
      ],
      "metadata": {
        "id": "Lf07eafI1jPM"
      }
    },
    {
      "cell_type": "code",
      "source": [
        "# emergency     result\n",
        "# [3, 76, 24]   [3, 1, 2]\n",
        "\n",
        "def solution(emergency):\n",
        "    pass\n",
        "\n",
        "\n",
        "solution([3, 76, 24] )"
      ],
      "metadata": {
        "id": "x_WJMzBEIBHK"
      },
      "execution_count": 1,
      "outputs": []
    },
    {
      "cell_type": "code",
      "source": [
        "data = ['제주', '경기', '전주'] # ['064', '031', '063']\n",
        "data2 = {\n",
        "    '제주': '064',\n",
        "    '경기': '031',\n",
        "    '전주': '063'\n",
        "}\n",
        "\n",
        "[data2[i] for i in data]"
      ],
      "metadata": {
        "id": "O_4q9I0CIjMK"
      },
      "execution_count": null,
      "outputs": []
    },
    {
      "cell_type": "code",
      "source": [
        "# 좋은 문제입니다.\n",
        "emergency = [3, 76, 24]\n",
        "\n",
        "sorted_emergency = sorted(emergency, reverse=True)\n",
        "sorted_emergency\n",
        "\n",
        "# 원하는 결과값 [3, 1, 2]\n",
        "[sorted_emergency.index(i) + 1 for i in emergency]"
      ],
      "metadata": {
        "id": "KR_3IlzRLKmP"
      },
      "execution_count": null,
      "outputs": []
    },
    {
      "cell_type": "code",
      "source": [
        "# emergency     result\n",
        "# [3, 76, 24]   [3, 1, 2]\n",
        "\n",
        "def solution(emergency):\n",
        "    sorted_emergency = sorted(emergency, reverse=True)\n",
        "    return [sorted_emergency.index(i) + 1 for i in emergency]\n",
        "\n",
        "\n",
        "solution([3, 76, 24])"
      ],
      "metadata": {
        "id": "31e_LyWdLIM0"
      },
      "execution_count": null,
      "outputs": []
    },
    {
      "cell_type": "markdown",
      "source": [
        "## 가까운 수\n",
        "링크: https://school.programmers.co.kr/learn/courses/30/lessons/120890"
      ],
      "metadata": {
        "id": "hXB4UTsCLhqb"
      }
    },
    {
      "cell_type": "code",
      "source": [
        "# [3, 10, 28, 30, 12] => [17, 10, 8, 10, 8]\n",
        "# [3, 10, 28, 30, 12] => [(17, 3), (10, 10), (8, 28), (10, 30), (8, 12)]\n",
        "# 원하는 숫자: 20\n",
        "# result: 28\n",
        "\n",
        "array = [3, 10, 28, 30, 12]\n",
        "n = 20\n",
        "\n",
        "28 - 20 == 8\n",
        "12 - 20 == -8\n",
        "\n",
        "20 - 28 == -8\n",
        "20 - 12 == 8\n",
        "\n",
        "sorted(array, key=lambda x:(abs(x-n), x))[0]\n",
        "sorted(array, key=lambda x:(abs(x-n), n-x))[0] # 팁, n-x이거나 x-n 2개 중에 하나입니다."
      ],
      "metadata": {
        "id": "FScZLIqGLkvm"
      },
      "execution_count": null,
      "outputs": []
    },
    {
      "cell_type": "markdown",
      "source": [
        "## k의 개수\n",
        "\n",
        "링크: https://school.programmers.co.kr/learn/courses/30/lessons/120887"
      ],
      "metadata": {
        "id": "s85FyiSAQKlk"
      }
    },
    {
      "cell_type": "code",
      "source": [
        "# i    j    k\n",
        "# 1    13    1\n",
        "\n",
        "i = 1\n",
        "j = 13\n",
        "k = 1\n",
        "\n",
        "str(list(range(i, j+1)))\n",
        "'[1, 2, 3]'.count(',')"
      ],
      "metadata": {
        "colab": {
          "base_uri": "https://localhost:8080/"
        },
        "id": "mKfIISeRQkPe",
        "outputId": "aadb6d6b-e98f-4f3e-cde6-7de55b341b34"
      },
      "execution_count": 9,
      "outputs": [
        {
          "output_type": "execute_result",
          "data": {
            "text/plain": [
              "2"
            ]
          },
          "metadata": {},
          "execution_count": 9
        }
      ]
    },
    {
      "cell_type": "code",
      "source": [
        "i = 1\n",
        "j = 13\n",
        "k = 1\n",
        "\n",
        "count = 0\n",
        "for temp in range(i, j):\n",
        "    count += str(temp).count(str(k))\n",
        "\n",
        "count"
      ],
      "metadata": {
        "colab": {
          "base_uri": "https://localhost:8080/"
        },
        "id": "-Fm9lp8oVIwC",
        "outputId": "63175d85-fe6f-4803-8b5a-007dcf861beb"
      },
      "execution_count": 10,
      "outputs": [
        {
          "output_type": "execute_result",
          "data": {
            "text/plain": [
              "5"
            ]
          },
          "metadata": {},
          "execution_count": 10
        }
      ]
    },
    {
      "cell_type": "code",
      "source": [
        "a = 10\n",
        "b = 20\n",
        "\n",
        "# swap\n",
        "\n",
        "temp = a\n",
        "a = b\n",
        "b = temp\n",
        "\n",
        "# python에서 사용하는 swap\n",
        "\n",
        "a = 10\n",
        "b = 20\n",
        "a, b = b, a\n",
        "a, b"
      ],
      "metadata": {
        "id": "W4VU9jVEUin8"
      },
      "execution_count": null,
      "outputs": []
    },
    {
      "cell_type": "code",
      "source": [
        "def solution(i, j, k):\n",
        "    return str(list(range(i, j+1))).count(str(k))"
      ],
      "metadata": {
        "id": "tjX77zruUrgY"
      },
      "execution_count": null,
      "outputs": []
    },
    {
      "cell_type": "markdown",
      "source": [
        "## 직접 출제 문제"
      ],
      "metadata": {
        "id": "KnF1QAeSWUJq"
      }
    },
    {
      "cell_type": "code",
      "source": [
        "# 각 선분이 있는 곳에 총 길이 합을 구하라\n",
        "# [[0, 5], [3, 5], [7, 10]]\n",
        "\n",
        "선 = [False] * 10\n",
        "선"
      ],
      "metadata": {
        "id": "73usXWc6WW2V"
      },
      "execution_count": null,
      "outputs": []
    },
    {
      "cell_type": "code",
      "source": [
        "for i in range(0, 5):\n",
        "    선[i] = True\n",
        "\n",
        "선"
      ],
      "metadata": {
        "id": "k3hsg1YHXawJ"
      },
      "execution_count": null,
      "outputs": []
    },
    {
      "cell_type": "code",
      "source": [
        "for i in range(3, 5):\n",
        "    선[i] = True\n",
        "\n",
        "선"
      ],
      "metadata": {
        "id": "X0zjmlGDXcgi"
      },
      "execution_count": null,
      "outputs": []
    },
    {
      "cell_type": "code",
      "source": [
        "for i in range(7, 10):\n",
        "    선[i] = True\n",
        "\n",
        "선"
      ],
      "metadata": {
        "id": "ZSB4jwHkXdiw"
      },
      "execution_count": null,
      "outputs": []
    },
    {
      "cell_type": "code",
      "source": [
        "sum(선)"
      ],
      "metadata": {
        "id": "zIh3md-0Xg_M"
      },
      "execution_count": null,
      "outputs": []
    },
    {
      "cell_type": "code",
      "source": [
        "a = 10;b = 10\n",
        "a, b"
      ],
      "metadata": {
        "colab": {
          "base_uri": "https://localhost:8080/"
        },
        "id": "sUNV60BxYj0T",
        "outputId": "10e8a697-0842-4001-aefd-59f1d84cafa8"
      },
      "execution_count": 3,
      "outputs": [
        {
          "output_type": "execute_result",
          "data": {
            "text/plain": [
              "(10, 10)"
            ]
          },
          "metadata": {},
          "execution_count": 3
        }
      ]
    },
    {
      "cell_type": "code",
      "source": [
        "# 에라토스테스트의 체 => 소수판별 => 이것을 알고리즘 문제로 내는 것은 저는 반대\n",
        "소수 = [True] * 120\n",
        "소수[0] = 소수[1] = False\n",
        "\n",
        "for i in range(4, 120, 2):\n",
        "    print(i)\n",
        "\n",
        "for i in range(6, 120, 3):\n",
        "    print(i)\n",
        "\n",
        "# for i in range(4, 120, 4):  # 2의 배수에 속하기에 할 필요가 없음\n",
        "#     print(i)\n",
        "\n",
        "# https://nahwasa.com/entry/%EC%97%90%EB%9D%BC%ED%86%A0%EC%8A%A4%ED%85%8C%EB%84%A4%EC%8A%A4%EC%9D%98-%EC%B2%B4-%ED%98%B9%EC%9D%80-%EC%86%8C%EC%88%98%ED%8C%90%EC%A0%95-%EC%8B%9C-%EC%A0%9C%EA%B3%B1%EA%B7%BC-%EA%B9%8C%EC%A7%80%EB%A7%8C-%ED%99%95%EC%9D%B8%ED%95%98%EB%A9%B4-%EB%90%98%EB%8A%94-%EC%9D%B4%EC%9C%A0"
      ],
      "metadata": {
        "id": "Rb3w-J6vYC0_"
      },
      "execution_count": null,
      "outputs": []
    },
    {
      "cell_type": "code",
      "source": [
        "16\n",
        "\n",
        "# 곱해지는 각 자연수중 하나는 무조건\n",
        "# 제곱근과 같거나 작아야하는거니까\n",
        "\n",
        "# 4 * 4\n",
        "# 2 * 8\n",
        "\n",
        "# 2, 3, 4\n",
        "\n",
        "# 2, 4, 6, 8, 10, 12\n",
        "# 3, 6, 9, 12\n",
        "# ---\n",
        "# 5, 10, 15"
      ],
      "metadata": {
        "id": "y_TeYTy8aDdP"
      },
      "execution_count": null,
      "outputs": []
    },
    {
      "cell_type": "code",
      "source": [
        "for 소수, 판별 in enumerate(소수):\n",
        "    if 판별:\n",
        "        print(소수)"
      ],
      "metadata": {
        "id": "wUP4dVNhbWNL"
      },
      "execution_count": null,
      "outputs": []
    },
    {
      "cell_type": "markdown",
      "source": [
        "## 행렬 연산"
      ],
      "metadata": {
        "id": "AOrE1k2zbYCk"
      }
    },
    {
      "cell_type": "code",
      "source": [
        "# 행렬의 연산과 같은 것은 np를 사용하시면 쉽고 빠르게 풀 수 있습니다.\n",
        "import numpy as np\n",
        "\n",
        "x = np.array([1, 2, 3])\n",
        "x * 2"
      ],
      "metadata": {
        "colab": {
          "base_uri": "https://localhost:8080/"
        },
        "id": "IuV6-SOOcPlD",
        "outputId": "f2bbc850-f48b-45cb-ed34-2e71488168ca"
      },
      "execution_count": 6,
      "outputs": [
        {
          "output_type": "execute_result",
          "data": {
            "text/plain": [
              "array([2, 4, 6])"
            ]
          },
          "metadata": {},
          "execution_count": 6
        }
      ]
    },
    {
      "cell_type": "code",
      "source": [
        "s = [[1, 3, 5], [7, 9, 11], [13, 15, 17]]\n",
        "s = np.array(s)\n",
        "cols, rows = np.where(s == 7)\n",
        "cols"
      ],
      "metadata": {
        "colab": {
          "base_uri": "https://localhost:8080/"
        },
        "id": "jaWGXYCxcVgE",
        "outputId": "c93b23b5-0936-4c5f-803c-87ca9724cc48"
      },
      "execution_count": 7,
      "outputs": [
        {
          "output_type": "execute_result",
          "data": {
            "text/plain": [
              "(array([1]), array([0]))"
            ]
          },
          "metadata": {},
          "execution_count": 7
        }
      ]
    },
    {
      "cell_type": "code",
      "source": [
        "# 지뢰찾기\n",
        "x = [[0, 1, 0, 0],\n",
        "     [0, 1, 0, 0],\n",
        "     [0, 0, 0, 1]]\n",
        "\n",
        "x = np.array(x)\n",
        "np.where(x == 1)"
      ],
      "metadata": {
        "colab": {
          "base_uri": "https://localhost:8080/"
        },
        "id": "i-UIRxuXdhBJ",
        "outputId": "3ed1da6b-06bd-494f-e61a-4fcc976151e2"
      },
      "execution_count": 12,
      "outputs": [
        {
          "output_type": "execute_result",
          "data": {
            "text/plain": [
              "(array([0, 1, 2]), array([1, 1, 3]))"
            ]
          },
          "metadata": {},
          "execution_count": 12
        }
      ]
    },
    {
      "cell_type": "code",
      "source": [
        "x = [[0, 1, 0, 0],\n",
        "     [0, 1, 0, 0],\n",
        "     [0, 0, 0, 1]]\n",
        "\n",
        "s = 0\n",
        "for i in x:\n",
        "    s += i.count(1)\n",
        "\n",
        "s"
      ],
      "metadata": {
        "colab": {
          "base_uri": "https://localhost:8080/"
        },
        "id": "uBmR97cqdh8L",
        "outputId": "5ab1bc69-aa41-4e18-87f6-7b0d6e604f85"
      },
      "execution_count": 13,
      "outputs": [
        {
          "output_type": "execute_result",
          "data": {
            "text/plain": [
              "3"
            ]
          },
          "metadata": {},
          "execution_count": 13
        }
      ]
    },
    {
      "cell_type": "code",
      "source": [
        "# 지뢰찾기\n",
        "x = [[0, 1, 0, 0],\n",
        "     [0, 1, 0, 0],\n",
        "     [0, 0, 0, 1]]\n",
        "\n",
        "x = np.array(x)\n",
        "np.where(x == 1)"
      ],
      "metadata": {
        "id": "85L-1pppdmeh"
      },
      "execution_count": null,
      "outputs": []
    },
    {
      "cell_type": "markdown",
      "source": [
        "## 연습문제"
      ],
      "metadata": {
        "id": "7Oi0lqOceYza"
      }
    },
    {
      "cell_type": "markdown",
      "source": [
        " ### 게임 밸런스 조절\n",
        " 링크 : https://100.pyalgo.co.kr/?page=10#"
      ],
      "metadata": {
        "id": "f8j3eLznkrh2"
      }
    },
    {
      "cell_type": "code",
      "source": [
        "def solution(data):\n",
        "    filtered_list = list(filter(lambda x: x[1]+x[2]+x[3]+x[4] >= 350, data))\n",
        "    sorted_list = sorted([i[0] for i in filtered_list])\n",
        "    return sorted_list"
      ],
      "metadata": {
        "id": "roBzeB-RktOj"
      },
      "execution_count": null,
      "outputs": []
    },
    {
      "cell_type": "markdown",
      "source": [
        "### 우편 번호 정렬\n",
        "링크 : https://100.pyalgo.co.kr/?page=12"
      ],
      "metadata": {
        "id": "xS6LaCGwlAYL"
      }
    },
    {
      "cell_type": "code",
      "source": [
        "def solution(data):\n",
        "    address, post = data[0], data[1]\n",
        "    sorted_list = sorted(address, key=lambda x:post[x.split()[1]])\n",
        "    return sorted_list"
      ],
      "metadata": {
        "id": "cgB3jATSlAqh"
      },
      "execution_count": null,
      "outputs": []
    },
    {
      "cell_type": "markdown",
      "source": [
        "### 도서관 책 연도별 정렬\n",
        "링크 : https://100.pyalgo.co.kr/?page=13#"
      ],
      "metadata": {
        "id": "WSWOSYSDpwuj"
      }
    },
    {
      "cell_type": "code",
      "source": [
        "def solution(data):\n",
        "    title, sub_year = data[0], data[1]\n",
        "    sorted_list = sorted(title, key=lambda x:pub_year[x])\n",
        "    return sorted_list"
      ],
      "metadata": {
        "id": "VoJ2l2_Fp1jT"
      },
      "execution_count": null,
      "outputs": []
    }
  ]
}