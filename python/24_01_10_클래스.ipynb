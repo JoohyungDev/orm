{
  "nbformat": 4,
  "nbformat_minor": 0,
  "metadata": {
    "colab": {
      "provenance": []
    },
    "kernelspec": {
      "name": "python3",
      "display_name": "Python 3"
    },
    "language_info": {
      "name": "python"
    }
  },
  "cells": [
    {
      "cell_type": "markdown",
      "source": [
        "# 클래스 = 붕어빵 틀 / 생산품 = 붕어빵"
      ],
      "metadata": {
        "id": "86B1Lr02VJI3"
      }
    },
    {
      "cell_type": "markdown",
      "source": [
        "[위니브에서 개발한 게임](\"https://weniv.github.io/game-with-phaser/\")"
      ],
      "metadata": {
        "id": "Ku6nVKrDVst9"
      }
    },
    {
      "cell_type": "markdown",
      "source": [
        "이 게임에는 주인공, 몹, 빌런이 있습니다. 이 주인공, 몹, 빌런에게는 모두 같은 데이터가 필요합니다. 체력과 마력, 공격력, 방어력같은 데이터 입니다. 또 같은 기능도 필요합니다. 공격을 하는 기능, 움직이는 기능, 아이템을 드랍하는 기능 등이요.\n",
        "이러한 것을 아래와 같이 구현할 수 있습니다."
      ],
      "metadata": {
        "id": "ir6CB5UJWmcT"
      }
    },
    {
      "cell_type": "code",
      "source": [
        "class Character:\n",
        "    def __init__(hp, mp, power, drop_rate...(생략)):\n",
        "        self.hp = hp\n",
        "        self.mp = mp\n",
        "        ...(생략)\n",
        "\n",
        "    def move(self):\n",
        "        ...(생략)\n",
        "\n",
        "    def attack(self):\n",
        "        ...(생략)\n",
        "\n",
        "hero = Character(100, 100, 100, 0, ...(생략))\n",
        "mob1 = Character(30, 30, 30, 0.8, ...(생략))\n",
        "mob2 = Character(50, 50, 50, 0.5, ...(생략))\n",
        "mob3 = Character(70, 70, 70, 0.3, ...(생략))\n",
        "villain = Character(100, 100, 90, 0.1, ...(생략))"
      ],
      "metadata": {
        "id": "MaWzXAShWU0W"
      },
      "execution_count": null,
      "outputs": []
    },
    {
      "cell_type": "code",
      "source": [
        "# 단순화 시키긴 했으나 실제 아래와 같이 만듭니다.\n",
        "class 게시물설계도:\n",
        "    _id = int()\n",
        "    title = str()\n",
        "    contents = str()\n",
        "    author = str()\n",
        "    create_time = str()\n",
        "    update_time = str()\n",
        "    view_count = int()\n",
        "    last_connect_location = str()\n",
        "    last_connect_time = str()\n",
        "\n",
        "게시물1 = 게시물설계도()\n",
        "게시물2 = 게시물설계도()"
      ],
      "metadata": {
        "id": "um-y0UOQXSS7"
      },
      "execution_count": null,
      "outputs": []
    },
    {
      "cell_type": "markdown",
      "source": [
        "# 인스턴스 만들어보기"
      ],
      "metadata": {
        "id": "DvyPm5qiXKNr"
      }
    },
    {
      "cell_type": "code",
      "source": [
        "# 고정된 값을 가지는 클래스 -> 함수랑 다른 점이 없는 클래스\n",
        "class Car: # 차에 설계 도면 또는 차 공장, 클래스 1. 클래스는 대문자로 이름을 설정해야 한다.\n",
        "    max_speed = 300 # 멤버 또는 애트리뷰트\n",
        "    max_people = 5\n",
        "    car_gear = ['P', 'D', 'R', 'N']\n",
        "\n",
        "    def start(self): # 메서드\n",
        "        print('차가 출발합니다!')\n",
        "\n",
        "    def stop(self):\n",
        "        print('차가 멈췄습니다!')\n",
        "\n",
        "# 공장에서 생산된 자동차 modelx, y, s, 인스턴스\n",
        "modelx = Car() # 인스턴스 = 클래스()\n",
        "modely = Car()\n",
        "models = Car()\n",
        "\n",
        "# 클래스의 장점 -> 클래스 안에 있는 함수의 기능을 가져올 수 있다.\n",
        "print(models.car_gear[1])   # 도서관에서 책 찾는것처럼 문학 -> 한국문학\n",
        "# self는 무시된다. 함수를 가져올 때는 꼭 () 입력한다.\n",
        "models.start()\n",
        "models.stop()\n",
        "\n",
        "# Car.max_speed # modelx에 속도를 보고 싶으면 modelx.max_speed를 찍어야 합니다.\n",
        "# 초기 설계는 300으로 찍혀 있지만, 고객이 아래와 같이 자동차 튜닝을 했을 수도 있으니까요.\n",
        "\n",
        "models.max_speed = 500\n",
        "\n",
        "print(models.max_speed)\n",
        "print(models.max_speed)"
      ],
      "metadata": {
        "colab": {
          "base_uri": "https://localhost:8080/"
        },
        "id": "4qeD6lgCXPO8",
        "outputId": "c9f613af-80de-49e9-d5ac-c8306f7e1254"
      },
      "execution_count": 3,
      "outputs": [
        {
          "output_type": "stream",
          "name": "stdout",
          "text": [
            "D\n",
            "차가 출발합니다!\n",
            "차가 멈췄습니다!\n",
            "500\n",
            "500\n"
          ]
        }
      ]
    },
    {
      "cell_type": "markdown",
      "source": [
        "# 자료형의 정체"
      ],
      "metadata": {
        "id": "goYyo62mYzEk"
      }
    },
    {
      "cell_type": "code",
      "source": [
        "class Car:\n",
        "    max_speed = 300\n",
        "    max_people = 5\n",
        "    car_gear = ['P', 'D', 'R', 'N']\n",
        "\n",
        "    def __init__(self, name): # 클래스로 인스턴스를 만들 때 호출!\n",
        "        self.name = name\n",
        "\n",
        "    def start(self):\n",
        "        print('차가 출발합니다!')\n",
        "\n",
        "    def stop(self):\n",
        "        print('차가 멈췄습니다!')\n",
        "\n",
        "modelx = Car('Tesla Model X') # x = int(3) 여기서 넣었던 'Tesla Model X'이 __init__ 메직메서드에서 처리!\n",
        "modelx.name"
      ],
      "metadata": {
        "colab": {
          "base_uri": "https://localhost:8080/",
          "height": 35
        },
        "id": "dPU9cDixbf1G",
        "outputId": "01d29337-1391-44f5-d44a-f77ed68e1c77"
      },
      "execution_count": null,
      "outputs": [
        {
          "output_type": "execute_result",
          "data": {
            "text/plain": [
              "'Tesla Model X'"
            ],
            "application/vnd.google.colaboratory.intrinsic+json": {
              "type": "string"
            }
          },
          "metadata": {},
          "execution_count": 6
        }
      ]
    },
    {
      "cell_type": "code",
      "source": [
        "class Car:\n",
        "    def __init__(self, name, CEO): # 클래스에서 __init__은 붕어빵 틀 중에서 가장 기본 틀!\n",
        "        self.name = name           # self는 인수로 전달받지도 전달하지도 않음 -> Car 클래스 그 자체\n",
        "        self.CEO = CEO             # 위에 꼭 self를 붙여야 self를 사용해서 self.name처럼 사용할 수 있음\n",
        "\n",
        "modelx = Car('Tesla Model X', '일론 머스크') # __init__과 self로 구현된 값은 클래스 할당시 입력자료를 넣을 수 있다.\n",
        "print(modelx.name)                        # 입력을 받을때는 파라미터를 설정해야한다.(name, CEO처럼)\n",
        "print(modelx.CEO)                         # 그러면 modelx처럼 name과 CEO의 데이터를 불러올수 있다."
      ],
      "metadata": {
        "colab": {
          "base_uri": "https://localhost:8080/"
        },
        "id": "LrE5qMezegvk",
        "outputId": "987fd670-0a70-40bd-8d06-83596cb38aa4"
      },
      "execution_count": null,
      "outputs": [
        {
          "output_type": "stream",
          "name": "stdout",
          "text": [
            "Tesla Model X\n",
            "일론 머스크\n"
          ]
        }
      ]
    },
    {
      "cell_type": "code",
      "source": [],
      "metadata": {
        "id": "deEJ6QoWegq-"
      },
      "execution_count": null,
      "outputs": []
    }
  ]
}