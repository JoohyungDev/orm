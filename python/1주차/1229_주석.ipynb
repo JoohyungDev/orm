{
  "nbformat": 4,
  "nbformat_minor": 0,
  "metadata": {
    "colab": {
      "provenance": []
    },
    "kernelspec": {
      "name": "python3",
      "display_name": "Python 3"
    },
    "language_info": {
      "name": "python"
    }
  },
  "cells": [
    {
      "cell_type": "code",
      "execution_count": null,
      "metadata": {
        "colab": {
          "base_uri": "https://localhost:8080/"
        },
        "id": "b5DfgyURCroP",
        "outputId": "454a844a-3039-4ad4-eeb0-0b249d61c0b2"
      },
      "outputs": [
        {
          "output_type": "stream",
          "name": "stdout",
          "text": [
            "Hello, World 1!\n",
            "Hello, World 2!\n"
          ]
        }
      ],
      "source": [
        "# 이것은 주석입니다.\n",
        "print('Hello, World 1!') # 이것도 주석입니다.\n",
        "print('Hello, World 2!')"
      ]
    },
    {
      "cell_type": "code",
      "source": [
        "'''\n",
        "여러줄 주석이요\n",
        "'''"
      ],
      "metadata": {
        "id": "nzCPZWcUFZ4I"
      },
      "execution_count": null,
      "outputs": []
    },
    {
      "cell_type": "markdown",
      "source": [
        "'#'과 '''을 이용하여 한줄 주석과 여러줄 주석이 가능하다."
      ],
      "metadata": {
        "id": "9gSXbx7GlO5O"
      }
    }
  ]
}