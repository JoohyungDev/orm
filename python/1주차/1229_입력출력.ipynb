{
  "nbformat": 4,
  "nbformat_minor": 0,
  "metadata": {
    "colab": {
      "provenance": []
    },
    "kernelspec": {
      "name": "python3",
      "display_name": "Python 3"
    },
    "language_info": {
      "name": "python"
    }
  },
  "cells": [
    {
      "cell_type": "markdown",
      "source": [
        "# 1. 입력함수 input"
      ],
      "metadata": {
        "id": "tNtSmVx6kFza"
      }
    },
    {
      "cell_type": "code",
      "execution_count": 2,
      "metadata": {
        "colab": {
          "base_uri": "https://localhost:8080/",
          "height": 54
        },
        "id": "ZoNr5VscLwL-",
        "outputId": "2594833b-0c9b-4aa1-8935-c1e4111e34b9"
      },
      "outputs": [
        {
          "name": "stdout",
          "output_type": "stream",
          "text": [
            "입력해주세요hello world\n"
          ]
        },
        {
          "output_type": "execute_result",
          "data": {
            "text/plain": [
              "'hello world'"
            ],
            "application/vnd.google.colaboratory.intrinsic+json": {
              "type": "string"
            }
          },
          "metadata": {},
          "execution_count": 2
        }
      ],
      "source": [
        "input('입력해주세요')"
      ]
    },
    {
      "cell_type": "code",
      "source": [
        "int(input('입력해주세요'))"
      ],
      "metadata": {
        "colab": {
          "base_uri": "https://localhost:8080/"
        },
        "id": "hkoFt9B8L9GB",
        "outputId": "826f33bc-8a6d-4a2e-8745-9407d373a213"
      },
      "execution_count": 3,
      "outputs": [
        {
          "name": "stdout",
          "output_type": "stream",
          "text": [
            "입력해주세요10\n"
          ]
        },
        {
          "output_type": "execute_result",
          "data": {
            "text/plain": [
              "10"
            ]
          },
          "metadata": {},
          "execution_count": 3
        }
      ]
    },
    {
      "cell_type": "code",
      "source": [
        "name = input(\"이름 입력\")"
      ],
      "metadata": {
        "colab": {
          "base_uri": "https://localhost:8080/"
        },
        "id": "aRfx0IhTMH1D",
        "outputId": "0de1ac73-1e8c-43f9-92c5-6faedd8bf773"
      },
      "execution_count": 4,
      "outputs": [
        {
          "name": "stdout",
          "output_type": "stream",
          "text": [
            "이름 입력박주형\n"
          ]
        }
      ]
    },
    {
      "cell_type": "code",
      "source": [
        "print('hello, ' + name + \"!\")"
      ],
      "metadata": {
        "colab": {
          "base_uri": "https://localhost:8080/"
        },
        "id": "fSD3zHVVMieq",
        "outputId": "789ece24-b984-4f2d-f6e4-cec8e59af529"
      },
      "execution_count": 5,
      "outputs": [
        {
          "output_type": "stream",
          "name": "stdout",
          "text": [
            "hello, 박주형!\n"
          ]
        }
      ]
    },
    {
      "cell_type": "code",
      "source": [
        "a = int(input(\"첫번째 숫자 입력\"))\n",
        "b = int(input(\"두번째 숫자 입력\"))\n",
        "\n",
        "print(\"a + b = \", a+b, \" 입니다\")"
      ],
      "metadata": {
        "colab": {
          "base_uri": "https://localhost:8080/"
        },
        "id": "7Aq9fi20M2lx",
        "outputId": "36914668-2ace-4119-ec13-b86c5fad13b5"
      },
      "execution_count": 7,
      "outputs": [
        {
          "output_type": "stream",
          "name": "stdout",
          "text": [
            "첫번째 숫자 입력1\n",
            "두번째 숫자 입력2\n",
            "a + b =  3  입니다\n"
          ]
        }
      ]
    },
    {
      "cell_type": "markdown",
      "source": [
        "# 2. 출력함수 Print"
      ],
      "metadata": {
        "id": "ggSSSOKfkOvx"
      }
    },
    {
      "cell_type": "code",
      "source": [
        "'출력합니다'\n",
        "'출력합니다.'"
      ],
      "metadata": {
        "colab": {
          "base_uri": "https://localhost:8080/",
          "height": 36
        },
        "id": "ffSooo9DPjkR",
        "outputId": "e025be58-c6d6-478e-f35d-42c1c074b6e5"
      },
      "execution_count": 8,
      "outputs": [
        {
          "output_type": "execute_result",
          "data": {
            "text/plain": [
              "'출력합니다.'"
            ],
            "application/vnd.google.colaboratory.intrinsic+json": {
              "type": "string"
            }
          },
          "metadata": {},
          "execution_count": 8
        }
      ]
    },
    {
      "cell_type": "code",
      "source": [
        "print(\"hello\", \"world\", \"!\")"
      ],
      "metadata": {
        "colab": {
          "base_uri": "https://localhost:8080/"
        },
        "id": "oeAvx5txPogY",
        "outputId": "c872a71c-766b-4d95-8b14-276c4999a792"
      },
      "execution_count": 9,
      "outputs": [
        {
          "output_type": "stream",
          "name": "stdout",
          "text": [
            "hello world !\n"
          ]
        }
      ]
    },
    {
      "cell_type": "code",
      "source": [
        "print(\"hello\", \"world\", \"!\", sep = \"-\")"
      ],
      "metadata": {
        "colab": {
          "base_uri": "https://localhost:8080/"
        },
        "id": "7pGRqXG1PvMc",
        "outputId": "f95174f5-5736-45a7-80aa-b816fea3ca78"
      },
      "execution_count": 11,
      "outputs": [
        {
          "output_type": "stream",
          "name": "stdout",
          "text": [
            "hello-world-!\n"
          ]
        }
      ]
    },
    {
      "cell_type": "code",
      "source": [
        "print(\"hello\", \"world\", \"!\", sep = \"-\", end= \"!!!\")"
      ],
      "metadata": {
        "colab": {
          "base_uri": "https://localhost:8080/"
        },
        "id": "o_p87L4NP8ep",
        "outputId": "edbfd861-d117-44ae-a343-f89da33405a6"
      },
      "execution_count": 12,
      "outputs": [
        {
          "output_type": "stream",
          "name": "stdout",
          "text": [
            "hello-world-!!!!"
          ]
        }
      ]
    },
    {
      "cell_type": "code",
      "source": [
        "a = None"
      ],
      "metadata": {
        "id": "84LXOYvLQG6o"
      },
      "execution_count": 13,
      "outputs": []
    },
    {
      "cell_type": "code",
      "source": [
        "print(a)"
      ],
      "metadata": {
        "colab": {
          "base_uri": "https://localhost:8080/"
        },
        "id": "MaLzELCxUEcY",
        "outputId": "42a8494b-5225-4bd3-bde1-6f7d3a4bad12"
      },
      "execution_count": 14,
      "outputs": [
        {
          "output_type": "stream",
          "name": "stdout",
          "text": [
            "None\n"
          ]
        }
      ]
    },
    {
      "cell_type": "markdown",
      "source": [
        "## print 문에는 다양한 옵션을 줄 수 있다.\n",
        "sep에 구분자를 넣으면 단어와 단어 사이에 해당 구분자를 삽입해서 출력해주며\n",
        "end에 문자를 넣으면 마지막에 해당 문자를 포함해 출력해준다.\n",
        "end의 기본값은 \\n으로 줄바꿈을 나타낸다."
      ],
      "metadata": {
        "id": "cUeSM3uJkVxW"
      }
    }
  ]
}