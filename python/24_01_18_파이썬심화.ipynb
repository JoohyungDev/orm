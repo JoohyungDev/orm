{
  "nbformat": 4,
  "nbformat_minor": 0,
  "metadata": {
    "colab": {
      "provenance": []
    },
    "kernelspec": {
      "name": "python3",
      "display_name": "Python 3"
    },
    "language_info": {
      "name": "python"
    }
  },
  "cells": [
    {
      "cell_type": "markdown",
      "source": [
        "# 파이썬 버전별 변경 사항"
      ],
      "metadata": {
        "id": "q3o7yb0V_qi9"
      }
    },
    {
      "cell_type": "markdown",
      "source": [
        "* Python 3.5: async await\n",
        "* Python 3.6: Dict에 순서, f-string, 타입힌트\n",
        "* Python 3.7: dataclasses\n",
        "* Python 3.8: 왈러스 연산자(:=)\n",
        "* Python 3.9: 딕셔너리 결합 연산자(|)\n",
        "* Python 3.10: match"
      ],
      "metadata": {
        "id": "yFWnQqta_eHM"
      }
    },
    {
      "cell_type": "code",
      "execution_count": null,
      "metadata": {
        "id": "1h3tu9eM4cZ3"
      },
      "outputs": [],
      "source": [
        "# id, name, email이 각각 3번씩 반복\n",
        "# -> 이러한 현상을  보일러 플레이트(boiler-plate)라 함\n",
        "# -> print를 해도 필드값이 보이지 않아 불편\n",
        "class User:\n",
        "    def __init__(self, id, name, email):\n",
        "        self.id = id\n",
        "        self.name = name\n",
        "        self.email = email"
      ]
    },
    {
      "cell_type": "code",
      "source": [
        "# 실무에서 사용하는 사례를 못봄\n",
        "# 정말 좋은 기능인데 복습 x..\n",
        "\n",
        "from dataclasses import dataclass\n",
        "\n",
        "@dataclass\n",
        "class User:\n",
        "    id: int\n",
        "    name: str\n",
        "    email : str\n",
        "\n",
        "user = User(123, 'hojun', 'hojun@gmail')\n",
        "user"
      ],
      "metadata": {
        "id": "mHNssgfy_RAl"
      },
      "execution_count": null,
      "outputs": []
    },
    {
      "cell_type": "markdown",
      "source": [
        "# 파일 입출력"
      ],
      "metadata": {
        "id": "iVxLFuPlAPKM"
      }
    },
    {
      "cell_type": "code",
      "source": [
        "# open(파일이름, 파일모드)\n",
        "f = open('python.txt', 'w') # 파일모드 : r, w, a, r+,\n",
        "f.close()"
      ],
      "metadata": {
        "id": "pWIYzGvQAQRu"
      },
      "execution_count": null,
      "outputs": []
    },
    {
      "cell_type": "code",
      "source": [
        "# 파일은 열었으면 꼭 닫을 것\n",
        "# 닫지 않으면 메모리가 살아있음!!\n",
        "f = open('python.txt', 'w') # 파일모드 : r, w, a, r+,\n",
        "f.write('hello world')\n",
        "f.close()"
      ],
      "metadata": {
        "id": "LApeYU2oAsV2"
      },
      "execution_count": null,
      "outputs": []
    },
    {
      "cell_type": "code",
      "source": [
        "# close()를 깜빡하기 때문에 위의 문법보단 이렇게\n",
        "with open('test.txt', 'w') as f:\n",
        "    f.write('hello world!')"
      ],
      "metadata": {
        "id": "yNYcCl0uBCT_"
      },
      "execution_count": null,
      "outputs": []
    },
    {
      "cell_type": "code",
      "source": [
        "for i in range(10):\n",
        "    with open(f'test{i}.txt', 'w') as f:\n",
        "        f.write('hello world!')"
      ],
      "metadata": {
        "id": "5-GA-isWBI58"
      },
      "execution_count": null,
      "outputs": []
    },
    {
      "cell_type": "code",
      "source": [
        "db_data = [\n",
        "  {\n",
        "    \"_id\": \"7f5440ab-7e2f-4a42-Be13-89987fa65b32\",\n",
        "    \"index\": \"1\",\n",
        "    \"name\": \"등윤상\",\n",
        "    \"email\": \"user-qe89s09@ut.io\",\n",
        "    \"phone\": \"010-3542-7711\",\n",
        "    \"country\": \"키리바시\",\n",
        "    \"address\": \"방학로 74-9\",\n",
        "    \"job\": \"일러스트레이터\"\n",
        "  },\n",
        "  {\n",
        "    \"_id\": \"b4f7ade0-38bb-4e6f-B94a-18af1426eb30\",\n",
        "    \"index\": \"2\",\n",
        "    \"name\": \"노동규\",\n",
        "    \"email\": \"user-nyr5mqw@ornare.com\",\n",
        "    \"phone\": \"010-9743-6320\",\n",
        "    \"country\": \"베냉\",\n",
        "    \"address\": \"남부순환로 54-6\",\n",
        "    \"job\": \"애완동물미용사\"\n",
        "  },\n",
        "  {\n",
        "    \"_id\": \"5d788255-8d5e-4f03-B446-dbac6a147e37\",\n",
        "    \"index\": \"3\",\n",
        "    \"name\": \"경진아\",\n",
        "    \"email\": \"user-n7pey4v@Etiam.biz\",\n",
        "    \"phone\": \"010-4049-8718\",\n",
        "    \"country\": \"아르메니아\",\n",
        "    \"address\": \"강남대로 87-5\",\n",
        "    \"job\": \"플로리스트\"\n",
        "  },\n",
        "  {\n",
        "    \"_id\": \"083efce4-17ed-4e9f-Ad7c-f9aa0ac6cb79\",\n",
        "    \"index\": \"4\",\n",
        "    \"name\": \"복소유\",\n",
        "    \"email\": \"user-ohaz2is@nibh.biz\",\n",
        "    \"phone\": \"010-3400-5945\",\n",
        "    \"country\": \"페루\",\n",
        "    \"address\": \"양산로 78-1\",\n",
        "    \"job\": \"응급구조사\"\n",
        "  },\n",
        "  {\n",
        "    \"_id\": \"d54ce0fa-c025-4af6-Cd9a-b9d10aa8be5a\",\n",
        "    \"index\": \"5\",\n",
        "    \"name\": \"화예빈\",\n",
        "    \"email\": \"user-mnkpdlp@vel.net\",\n",
        "    \"phone\": \"010-3120-8720\",\n",
        "    \"country\": \"허드 및 맥도널드 제도\",\n",
        "    \"address\": \"한남대로 6-2\",\n",
        "    \"job\": \"전문의사\"\n",
        "  }\n",
        "]"
      ],
      "metadata": {
        "id": "FxPZ8ZmvBpgx"
      },
      "execution_count": null,
      "outputs": []
    },
    {
      "cell_type": "code",
      "source": [
        "# 미션 1\n",
        "# 각각의 회원 이름_info.txt로 각각 정보 정리\n",
        "\n",
        "# 미션 2\n",
        "# 엑셀로 각각 정보 정리\n",
        "\n",
        "# 미션 3\n",
        "# html로 table로 정리하기 => table 클릭하면 정렬되게 하기(JS를 배우셨으면 했을텐데ㅜㅜ 나중에 해보세요.)"
      ],
      "metadata": {
        "id": "KTZPpkvFBvIE"
      },
      "execution_count": null,
      "outputs": []
    },
    {
      "cell_type": "code",
      "source": [
        "# 미션 1\n",
        "# 각각의 회원 이름_info.txt로 각각 정보 정리\n",
        "list(map(lambda x: x['name'], db_data))\n",
        "\n",
        "for i, name in enumerate(map(lambda x: x['name'], db_data)):\n",
        "    with open(f'{name}_info.txt', 'w') as f:\n",
        "        f.write(str(db_data[i]))"
      ],
      "metadata": {
        "id": "buQjtQrZDQwg"
      },
      "execution_count": null,
      "outputs": []
    },
    {
      "cell_type": "code",
      "source": [
        "# 미션 2\n",
        "# 엑셀로 각각 정보 정리\n",
        "# \"_id\": \"d54ce0fa-c025-4af6-Cd9a-b9d10aa8be5a\",\n",
        "# \"index\": \"5\",\n",
        "# \"name\": \"화예빈\",\n",
        "# \"email\": \"user-mnkpdlp@vel.net\",\n",
        "# \"phone\": \"010-3120-8720\",\n",
        "# \"country\": \"허드 및 맥도널드 제도\",\n",
        "# \"address\": \"한남대로 6-2\",\n",
        "# \"job\": \"전문의사\"\n",
        "with open('data.csv', 'w') as f:\n",
        "    s = '아이디,인덱스,이름,이메일,휴대폰,나라,주소,직업\\n'\n",
        "    for i in db_data:\n",
        "        s += f'{i[\"_id\"]},{i[\"index\"]},{i[\"name\"]},{i[\"email\"]},{i[\"phone\"]},{i[\"country\"]},{i[\"address\"]},{i[\"job\"]}\\n'\n",
        "    f.write(s)"
      ],
      "metadata": {
        "id": "ZlW16u6ZH3kb"
      },
      "execution_count": null,
      "outputs": []
    },
    {
      "cell_type": "code",
      "source": [
        "# 부록\n",
        "# 엑셀라이터\n",
        "# 복습x"
      ],
      "metadata": {
        "id": "9RyIRITRJEv0"
      },
      "execution_count": null,
      "outputs": []
    },
    {
      "cell_type": "code",
      "source": [
        "!pip install xlsxwriter"
      ],
      "metadata": {
        "id": "s7ho9TzYJOxV"
      },
      "execution_count": null,
      "outputs": []
    },
    {
      "cell_type": "code",
      "source": [
        "# 워크북(엑셀파일 1개)\n",
        "# 워크시트(sheet라고 아래 여러개의 sheet을 만들 수 있음)\n",
        "# 셀(네모 칸 하나)"
      ],
      "metadata": {
        "id": "xP_j6-BEJqtn"
      },
      "execution_count": null,
      "outputs": []
    },
    {
      "cell_type": "code",
      "source": [
        "import xlsxwriter\n",
        "\n",
        "workbook = xlsxwriter.Workbook('hello.xlsx')\n",
        "worksheet = workbook.add_worksheet('test')\n",
        "\n",
        "worksheet.write('A1', 'A')\n",
        "worksheet.write('B1', 'B')\n",
        "worksheet.write('C1', 'C')\n",
        "worksheet.write('A2', 'D')\n",
        "worksheet.write('B2', 'E')\n",
        "worksheet.write('C2', 'F')\n",
        "\n",
        "workbook.close()"
      ],
      "metadata": {
        "id": "bSgAtG7oKLCx"
      },
      "execution_count": null,
      "outputs": []
    },
    {
      "cell_type": "code",
      "source": [
        "import xlsxwriter\n",
        "\n",
        "workbook = xlsxwriter.Workbook('hello.xlsx')\n",
        "worksheet = workbook.add_worksheet('test')\n",
        "\n",
        "worksheet.write('A1', 'A')\n",
        "worksheet.write('B1', 'B')\n",
        "worksheet.write('C1', 'C')\n",
        "worksheet.write('A2', 'D')\n",
        "worksheet.write('B2', 'E')\n",
        "worksheet.write('C2', 'F')\n",
        "\n",
        "worksheet.write(2, 0, 'hello')\n",
        "worksheet.write(2, 1, 'world')\n",
        "worksheet.write(2, 2, 'hojun')\n",
        "\n",
        "workbook.close()"
      ],
      "metadata": {
        "id": "ZoOOj6wDMisq"
      },
      "execution_count": null,
      "outputs": []
    },
    {
      "cell_type": "code",
      "source": [
        "import xlsxwriter\n",
        "\n",
        "workbook = xlsxwriter.Workbook('hello.xlsx')\n",
        "worksheet = workbook.add_worksheet('test')\n",
        "\n",
        "철수 = [10, 20, 30]\n",
        "영희 = [40, 50, 60]\n",
        "\n",
        "worksheet.write('A1', '국')\n",
        "worksheet.write('B1', '영')\n",
        "worksheet.write('C1', '수')\n",
        "worksheet.write('A2', 철수[0])\n",
        "worksheet.write('B2', 철수[1])\n",
        "worksheet.write('C2', 철수[2])\n",
        "worksheet.write('A3', 영희[0])\n",
        "worksheet.write('B3', 영희[1])\n",
        "worksheet.write('C3', 영희[2])\n",
        "\n",
        "for i in zip('ABC', 철수, 영희):\n",
        "    worksheet.write(f'{i[0]}4', i[1] + i[2])\n",
        "\n",
        "workbook.close()"
      ],
      "metadata": {
        "id": "15Lp5cHSMla8"
      },
      "execution_count": null,
      "outputs": []
    },
    {
      "cell_type": "code",
      "source": [
        "for i in zip('ABC', 철수, 영희):\n",
        "    print(f'{i[0]}4', i[1] + i[2])"
      ],
      "metadata": {
        "colab": {
          "base_uri": "https://localhost:8080/"
        },
        "id": "8r6riYzCMpwt",
        "outputId": "8a76f50c-d576-4a0f-d4d4-17b197e836a8"
      },
      "execution_count": null,
      "outputs": [
        {
          "output_type": "stream",
          "name": "stdout",
          "text": [
            "A4 50\n",
            "B4 70\n",
            "C4 90\n"
          ]
        }
      ]
    },
    {
      "cell_type": "code",
      "source": [
        "import xlsxwriter\n",
        "\n",
        "workbook = xlsxwriter.Workbook('hello.xlsx')\n",
        "worksheet = workbook.add_worksheet('test')\n",
        "\n",
        "철수 = [10, 20, 30]\n",
        "영희 = [40, 50, 60]\n",
        "\n",
        "worksheet.write('A1', '국')\n",
        "worksheet.write('B1', '영')\n",
        "worksheet.write('C1', '수')\n",
        "worksheet.write('A2', 철수[0])\n",
        "worksheet.write('B2', 철수[1])\n",
        "worksheet.write('C2', 철수[2])\n",
        "worksheet.write('A3', 영희[0])\n",
        "worksheet.write('B3', 영희[1])\n",
        "worksheet.write('C3', 영희[2])\n",
        "\n",
        "for i in zip('ABC', 철수, 영희):\n",
        "    worksheet.write(f'{i[0]}4', i[1] + i[2])\n",
        "\n",
        "# D1에 평균 텍스트 삽입\n",
        "worksheet.write('D1', '평균')\n",
        "# 수식 삽입\n",
        "worksheet.write('D2', '=SUM(A2:C2)/3')\n",
        "worksheet.write('D3', '=SUM(A3:C3)/3')\n",
        "\n",
        "workbook.close()"
      ],
      "metadata": {
        "id": "WAesW1d_Mso5"
      },
      "execution_count": null,
      "outputs": []
    },
    {
      "cell_type": "code",
      "source": [
        "# 크롤링\n",
        "# 웹크롤링 -> 엑셀\n",
        "# 한글파일 크롤링 -> 엑셀\n",
        "# PDF 크롤링 -> 엑셀\n",
        "\n",
        "# 파일 형식 변환\n",
        "# CSV => xlsx\n",
        "# JSON => xlsx\n",
        "\n",
        "# 매크로\n",
        "# 매크로 작동 로직 => 엑셀"
      ],
      "metadata": {
        "id": "Vw1a1lyzNwi3"
      },
      "execution_count": null,
      "outputs": []
    },
    {
      "cell_type": "code",
      "source": [
        "# 미션 3\n",
        "# html로 table로 정리하기\n",
        "db_data = [\n",
        "  {\n",
        "    \"_id\": \"7f5440ab-7e2f-4a42-Be13-89987fa65b32\",\n",
        "    \"index\": \"1\",\n",
        "    \"name\": \"등윤상\",\n",
        "    \"email\": \"user-qe89s09@ut.io\",\n",
        "    \"phone\": \"010-3542-7711\",\n",
        "    \"country\": \"키리바시\",\n",
        "    \"address\": \"방학로 74-9\",\n",
        "    \"job\": \"일러스트레이터\"\n",
        "  },\n",
        "  {\n",
        "    \"_id\": \"b4f7ade0-38bb-4e6f-B94a-18af1426eb30\",\n",
        "    \"index\": \"2\",\n",
        "    \"name\": \"노동규\",\n",
        "    \"email\": \"user-nyr5mqw@ornare.com\",\n",
        "    \"phone\": \"010-9743-6320\",\n",
        "    \"country\": \"베냉\",\n",
        "    \"address\": \"남부순환로 54-6\",\n",
        "    \"job\": \"애완동물미용사\"\n",
        "  },\n",
        "  {\n",
        "    \"_id\": \"5d788255-8d5e-4f03-B446-dbac6a147e37\",\n",
        "    \"index\": \"3\",\n",
        "    \"name\": \"경진아\",\n",
        "    \"email\": \"user-n7pey4v@Etiam.biz\",\n",
        "    \"phone\": \"010-4049-8718\",\n",
        "    \"country\": \"아르메니아\",\n",
        "    \"address\": \"강남대로 87-5\",\n",
        "    \"job\": \"플로리스트\"\n",
        "  },\n",
        "  {\n",
        "    \"_id\": \"083efce4-17ed-4e9f-Ad7c-f9aa0ac6cb79\",\n",
        "    \"index\": \"4\",\n",
        "    \"name\": \"복소유\",\n",
        "    \"email\": \"user-ohaz2is@nibh.biz\",\n",
        "    \"phone\": \"010-3400-5945\",\n",
        "    \"country\": \"페루\",\n",
        "    \"address\": \"양산로 78-1\",\n",
        "    \"job\": \"응급구조사\"\n",
        "  },\n",
        "  {\n",
        "    \"_id\": \"d54ce0fa-c025-4af6-Cd9a-b9d10aa8be5a\",\n",
        "    \"index\": \"5\",\n",
        "    \"name\": \"화예빈\",\n",
        "    \"email\": \"user-mnkpdlp@vel.net\",\n",
        "    \"phone\": \"010-3120-8720\",\n",
        "    \"country\": \"허드 및 맥도널드 제도\",\n",
        "    \"address\": \"한남대로 6-2\",\n",
        "    \"job\": \"전문의사\"\n",
        "  }\n",
        "]"
      ],
      "metadata": {
        "id": "AYWu99QIOd8c"
      },
      "execution_count": null,
      "outputs": []
    },
    {
      "cell_type": "code",
      "source": [
        "s = '''\n",
        "<style>\n",
        "    table {\n",
        "        border-collapse: collapse;\n",
        "        width: 100%;\n",
        "        border: 1px solid black;\n",
        "    }\n",
        "    tr, td, th {\n",
        "        border: 1px solid black;\n",
        "    }\n",
        "</style>\n",
        "<table>\n",
        "    <tr>\n",
        "        <th>아이디</th>\n",
        "        <th>인덱스</th>\n",
        "        <th>이름</th>\n",
        "        <th>이메일</th>\n",
        "        <th>휴대폰</th>\n",
        "        <th>나라</th>\n",
        "        <th>주소</th>\n",
        "        <th>직업</th>\n",
        "    </tr>\n",
        "    <tr>\n",
        "        <td>hojun</td>\n",
        "        <td>hojun</td>\n",
        "        <td>hojun</td>\n",
        "        <td>hojun</td>\n",
        "        <td>hojun</td>\n",
        "        <td>hojun</td>\n",
        "        <td>hojun</td>\n",
        "        <td>hojun</td>\n",
        "    </tr>\n",
        "</table>\n",
        "'''"
      ],
      "metadata": {
        "id": "10KRrnEvOrG2"
      },
      "execution_count": null,
      "outputs": []
    },
    {
      "cell_type": "code",
      "source": [
        "s = '''\n",
        "<style>\n",
        "    table {\n",
        "        border-collapse: collapse;\n",
        "        width: 100%;\n",
        "        border: 1px solid black;\n",
        "    }\n",
        "    tr, td, th {\n",
        "        border: 1px solid black;\n",
        "    }\n",
        "</style>\n",
        "<table>\n",
        "    <tr>\n",
        "        <th>아이디</th>\n",
        "        <th>인덱스</th>\n",
        "        <th>이름</th>\n",
        "        <th>이메일</th>\n",
        "        <th>휴대폰</th>\n",
        "        <th>나라</th>\n",
        "        <th>주소</th>\n",
        "        <th>직업</th>\n",
        "    </tr>\n",
        "'''\n",
        "s += f'''\n",
        "<tr>\n",
        "        <td>{db_data[0][\"_id\"]}</td>\n",
        "        <td>{db_data[0][\"index\"]}</td>\n",
        "        <td>{db_data[0][\"name\"]}</td>\n",
        "        <td>{db_data[0][\"email\"]}</td>\n",
        "        <td>{db_data[0][\"phone\"]}</td>\n",
        "        <td>{db_data[0][\"country\"]}</td>\n",
        "        <td>{db_data[0][\"address\"]}</td>\n",
        "        <td>{db_data[0][\"job\"]}</td>\n",
        "    </tr>\n",
        "</table>'''\n",
        "s"
      ],
      "metadata": {
        "id": "pNBcjNRbPtna"
      },
      "execution_count": null,
      "outputs": []
    },
    {
      "cell_type": "code",
      "source": [
        "s = '''\n",
        "<style>\n",
        "    table {\n",
        "        border-collapse: collapse;\n",
        "        width: 100%;\n",
        "        border: 1px solid black;\n",
        "    }\n",
        "    tr, td, th {\n",
        "        border: 1px solid black;\n",
        "    }\n",
        "</style>\n",
        "<table>\n",
        "    <tr>\n",
        "        <th>아이디</th>\n",
        "        <th>인덱스</th>\n",
        "        <th>이름</th>\n",
        "        <th>이메일</th>\n",
        "        <th>휴대폰</th>\n",
        "        <th>나라</th>\n",
        "        <th>주소</th>\n",
        "        <th>직업</th>\n",
        "    </tr>\n",
        "'''\n",
        "\n",
        "for item in db_data:\n",
        "    s += f'''\n",
        "        <tr>\n",
        "                <td>{item[\"_id\"]}</td>\n",
        "                <td>{item[\"index\"]}</td>\n",
        "                <td>{item[\"name\"]}</td>\n",
        "                <td>{item[\"email\"]}</td>\n",
        "                <td>{item[\"phone\"]}</td>\n",
        "                <td>{item[\"country\"]}</td>\n",
        "                <td>{item[\"address\"]}</td>\n",
        "                <td>{item[\"job\"]}</td>\n",
        "        </tr>\n",
        "        '''\n",
        "\n",
        "s += '</table>'\n",
        "\n",
        "with open('test.html', 'w') as f:\n",
        "    f.write(s)"
      ],
      "metadata": {
        "id": "DYexbqMIT1yn"
      },
      "execution_count": null,
      "outputs": []
    },
    {
      "cell_type": "code",
      "source": [
        "# 1. 제가 권하는 복습 방법: algo문제 푸는 것(프로그래머스(Lv0), 100pyalgo(Lv0 ~ 2))\n",
        "# 2. 이론을 복습하길 원하시는 분: 인프런 영상 드린 파이썬 부트캠프 (타이핑 치지 않고 1번, 타이핑 치고 1번)"
      ],
      "metadata": {
        "id": "7OSk0GS3WirA"
      },
      "execution_count": null,
      "outputs": []
    },
    {
      "cell_type": "code",
      "source": [
        "f = open('test.html', 'r')\n",
        "data = f.read()\n",
        "print(data)\n",
        "f.close()"
      ],
      "metadata": {
        "id": "88-Puy56WyqF"
      },
      "execution_count": null,
      "outputs": []
    },
    {
      "cell_type": "markdown",
      "source": [
        "# 비트연산"
      ],
      "metadata": {
        "id": "oQJM3cKiYGGK"
      }
    },
    {
      "cell_type": "code",
      "source": [
        "# 실무에서 비트연산을 하는 경우가 거의 없다.\n",
        "# 알고리즘 테스트에서 CS지식 정도를 테스트 하는 용도로 간혹 출제가 된다.\n",
        "# 진법: 수학 기초 상식\n",
        "\n",
        "# 10진법\n",
        "# 1542 == 1 * (10**3) + 5 * (10**2) + 4 * (10**1) + 2 * (10**0)\n",
        "# 0123456789 10\n",
        "\n",
        "# 16진법\n",
        "# 1542 == 1 * (16**3) + 5 * (16**2) + 4 * (16**1) + 2 * (16**0)\n",
        "# 0123456789abcdef 10\n",
        "\n",
        "# 8진법\n",
        "# 1542 == 1 * (8**3) + 5 * (8**2) + 4 * (8**1) + 2 * (8**0)\n",
        "# 01234567 10\n",
        "\n",
        "# 01 10"
      ],
      "metadata": {
        "id": "FPbaHZFSYG6Z"
      },
      "execution_count": null,
      "outputs": []
    },
    {
      "cell_type": "code",
      "source": [
        "# 진법 변환 팁\n",
        "# 10진 == 2진\n",
        "# 1 == 1\n",
        "# 2 == 10\n",
        "# 4 == 100\n",
        "# 8 == 1000\n",
        "# 16 == 10000\n",
        "# 32 == 100000\n",
        "\n",
        "# 9는? 8 = 1 => 1000 + 1 => 1001\n",
        "# 15는? 16 - 1 => 10000 - 1 => 1111"
      ],
      "metadata": {
        "id": "1JI62nu3ZMhM"
      },
      "execution_count": null,
      "outputs": []
    },
    {
      "cell_type": "code",
      "source": [
        "# 3 & 9\n",
        "# and연산은 곱하기\n",
        "\n",
        "# 0011\n",
        "# 1001\n",
        "# ----\n",
        "# 0001"
      ],
      "metadata": {
        "id": "i5Vf-32-Z59F"
      },
      "execution_count": null,
      "outputs": []
    },
    {
      "cell_type": "code",
      "source": [
        "# 3 | 9\n",
        "# or연산은 더하기\n",
        "\n",
        "# 0011\n",
        "# 1001\n",
        "# ----\n",
        "# 1011 => 11"
      ],
      "metadata": {
        "id": "M63D91mTar6d"
      },
      "execution_count": null,
      "outputs": []
    },
    {
      "cell_type": "code",
      "source": [
        "# 복습 xxx\n",
        "# 8개의 비트(bit)를 숫자로 사용할 수 있다.\n",
        "# 8개 비트 사용하면 1개를 부호 비트\n",
        "# 00000000\n",
        "# 00000001 == 1\n",
        "# 11111110 == -1\n",
        "# 11111111 + 1 => 00000000(우리가 원하는 값)"
      ],
      "metadata": {
        "id": "bNofh5TeaXlz"
      },
      "execution_count": null,
      "outputs": []
    },
    {
      "cell_type": "code",
      "source": [
        "bin(31) # 2진법 변환  '0b11111'\n",
        "oct(31) # 8진법 변환  '0o37'\n",
        "hex(31) # 16진법 변환 '0x1f'\n",
        "\n",
        "int('0b11111', 2) # 2진수를 10진수로 변환\n",
        "int('11111', 2) # 2진수를 10진수로 변환"
      ],
      "metadata": {
        "id": "NOz3z4F_hlfz"
      },
      "execution_count": null,
      "outputs": []
    },
    {
      "cell_type": "markdown",
      "source": [
        "# f-string"
      ],
      "metadata": {
        "id": "a-ZRBLlojNhY"
      }
    },
    {
      "cell_type": "code",
      "source": [
        "# print에 들어가는 문자열 만들기\n",
        "\n",
        "name = '이호준'\n",
        "age = 10\n",
        "\n",
        "'제 이름은 %s이고 제 나이는 %d입니다.'%(name, age) # % 용법\n",
        "'제 이름은 {}이고 제 나이는 {}입니다'.format(name, age) # format 용법(이 문법도 아직 많이 사용한다.)\n",
        "f'제 이름은 {name}이고 제 나이는 {age}입니다' # f-string 용법(권고)"
      ],
      "metadata": {
        "id": "L0aWI061h68l"
      },
      "execution_count": null,
      "outputs": []
    },
    {
      "cell_type": "code",
      "source": [
        "# print문안에 수식을 많이 넣지 말자. 되도록 밖으로 빼자"
      ],
      "metadata": {
        "id": "gTsdfCUVjXID"
      },
      "execution_count": null,
      "outputs": []
    },
    {
      "cell_type": "code",
      "source": [
        "삼 = '짝'*3\n",
        "칠 = '짝'*7\n",
        "print('삼삼칠 박수 :  {0}!!! {0}!!! {1}!!! '.format(삼,칠))\n",
        "print(f'삼삼칠 박수 :  {삼}!!! {삼}!!! {칠}!!! ')"
      ],
      "metadata": {
        "colab": {
          "base_uri": "https://localhost:8080/"
        },
        "id": "V0XPpyM2js6A",
        "outputId": "cbce5c1b-2a63-472e-a900-e93607922ddf"
      },
      "execution_count": null,
      "outputs": [
        {
          "output_type": "stream",
          "name": "stdout",
          "text": [
            "삼삼칠 박수 :  짝짝짝!!! 짝짝짝!!! 짝짝짝짝짝짝짝!!! \n",
            "삼삼칠 박수 :  짝짝짝!!! 짝짝짝!!! 짝짝짝짝짝짝짝!!! \n"
          ]
        }
      ]
    },
    {
      "cell_type": "code",
      "source": [
        "one_length = 5.343123123\n",
        "\n",
        "print(f'{one_length} 입니다.')\n",
        "print(f'{one_length:.1f} 입니다.')"
      ],
      "metadata": {
        "colab": {
          "base_uri": "https://localhost:8080/"
        },
        "id": "qhNAPLHPkNMD",
        "outputId": "b80a94eb-de3b-473e-b97e-99002e3854de"
      },
      "execution_count": null,
      "outputs": [
        {
          "output_type": "stream",
          "name": "stdout",
          "text": [
            "5.343123123 입니다.\n",
            "5.3 입니다.\n"
          ]
        }
      ]
    },
    {
      "cell_type": "code",
      "source": [
        "one_length = 5.343123123\n",
        "\n",
        "print(f'{one_length} 입니다.')\n",
        "print(f'{one_length:.1f} 입니다.')\n",
        "print('{0:.2f}'.format(one_length))\n",
        "print('{:.2f}'.format(one_length))"
      ],
      "metadata": {
        "id": "aGchCOAAkjIv"
      },
      "execution_count": null,
      "outputs": []
    },
    {
      "cell_type": "code",
      "source": [
        "# log 출력할 때 가운데 정렬(^)은 많이 사용\n",
        "# 복습은 가운데 정렬만!\n",
        "age = 100\n",
        "print('당신의 나이는 [{:^15}]세'.format(22))\n",
        "print(f'당신의 나이는 [{age:^15}]세')\n",
        "print(f'당신의 나이는 [{age:>15}]세')\n",
        "print(f'당신의 나이는 [{age:=^15}]세')"
      ],
      "metadata": {
        "colab": {
          "base_uri": "https://localhost:8080/"
        },
        "id": "fPW2cnvUkqIa",
        "outputId": "a9618e0b-51b9-470e-f277-1e75f290ee1c"
      },
      "execution_count": null,
      "outputs": [
        {
          "output_type": "stream",
          "name": "stdout",
          "text": [
            "당신의 나이는 [      22       ]세\n",
            "당신의 나이는 [      100      ]세\n",
            "당신의 나이는 [            100]세\n",
            "당신의 나이는 [======100======]세\n"
          ]
        }
      ]
    },
    {
      "cell_type": "code",
      "source": [
        "# 출력에 중괄호를 넣고싶다면 중괄호 2개\n",
        "print(f\"My set is {{1, 2, 3}}.\")  # 출력: My set is {1, 2, 3}."
      ],
      "metadata": {
        "colab": {
          "base_uri": "https://localhost:8080/"
        },
        "id": "8hl49BVUlwj0",
        "outputId": "0ea6f769-72e4-4a13-d5b7-b1f5349bf7e3"
      },
      "execution_count": null,
      "outputs": [
        {
          "output_type": "stream",
          "name": "stdout",
          "text": [
            "My set is {1, 2, 3}.\n"
          ]
        }
      ]
    },
    {
      "cell_type": "code",
      "source": [
        "# 중괄호 3개를 사용하면 변수까지 출력할 수 있다.\n",
        "x = 10\n",
        "print(f\"My set is {{{x}}}.\")  # 출력: My set is {10}.\n",
        "print(f\"My set is {{{{x}}}}.\")"
      ],
      "metadata": {
        "colab": {
          "base_uri": "https://localhost:8080/"
        },
        "id": "MP-oMOzkmUFH",
        "outputId": "121993fb-5a64-4311-ffb0-b151692e1db5"
      },
      "execution_count": null,
      "outputs": [
        {
          "output_type": "stream",
          "name": "stdout",
          "text": [
            "My set is {10}.\n",
            "My set is {{x}}.\n"
          ]
        }
      ]
    },
    {
      "cell_type": "markdown",
      "source": [
        "# 컴프리헨션"
      ],
      "metadata": {
        "id": "VjChEfiNmq_C"
      }
    },
    {
      "cell_type": "code",
      "source": [
        "even_squares_set = {x**2 for x in range(10) if x % 2 == 0}\n",
        "even_squares_set"
      ],
      "metadata": {
        "colab": {
          "base_uri": "https://localhost:8080/"
        },
        "id": "N-AE0smum0xf",
        "outputId": "ad87ab0c-aeed-4e36-ef77-127c139959bd"
      },
      "execution_count": null,
      "outputs": [
        {
          "output_type": "execute_result",
          "data": {
            "text/plain": [
              "{0, 4, 16, 36, 64}"
            ]
          },
          "metadata": {},
          "execution_count": 24
        }
      ]
    },
    {
      "cell_type": "code",
      "source": [
        "# 리스트 컴프리헨션은 c로 구현되어 있어 for문만 쓰는거보다 훨씬 빠르다\n",
        "even_squares_gen = [x**2 for x in range(10) if x % 2 == 0]\n",
        "even_squares_gen"
      ],
      "metadata": {
        "colab": {
          "base_uri": "https://localhost:8080/"
        },
        "id": "vLTbdcjxnDbb",
        "outputId": "be663784-f07e-48f8-e0a6-7da8a9b579fe"
      },
      "execution_count": null,
      "outputs": [
        {
          "output_type": "execute_result",
          "data": {
            "text/plain": [
              "[0, 4, 16, 36, 64]"
            ]
          },
          "metadata": {},
          "execution_count": 26
        }
      ]
    },
    {
      "cell_type": "markdown",
      "source": [
        "# 동기, 비동기"
      ],
      "metadata": {
        "id": "Ku-Eed6MnN4H"
      }
    },
    {
      "cell_type": "markdown",
      "source": [
        "## 동기 프로그래밍 : 순차적으로 실행\n",
        "\n"
      ],
      "metadata": {
        "id": "eGhyrv7Kn24I"
      }
    },
    {
      "cell_type": "markdown",
      "source": [
        "![이미지](https://paullabworkspace.notion.site/image/https%3A%2F%2Fs3-us-west-2.amazonaws.com%2Fsecure.notion-static.com%2F873d5d16-a7bd-4bf4-ba95-cfd17d3b040a%2Fcoffee.png?table=block&id=6c50bc3c-6f8d-49c4-9b8f-a12f49b6ba4f&spaceId=579fe283-28aa-489d-ae65-d683304becfc&width=1150&userId=&cache=v2)"
      ],
      "metadata": {
        "id": "uPZHttnwo0Q5"
      }
    },
    {
      "cell_type": "markdown",
      "source": [
        "위의 예제에서 볼 수 있듯이 손님1을 처리하고, 손님2를 처리하고 손님3을 처리하는 것을 말한다.\n",
        "\n",
        "즉, 특정 작업이 완료될 때까지 프로그램이 기다리는 방식"
      ],
      "metadata": {
        "id": "Byk3kuQgo7BI"
      }
    },
    {
      "cell_type": "code",
      "source": [
        "import time\n",
        "\n",
        "def job(number):\n",
        "    print(f\"Job {number} started\")\n",
        "    time.sleep(1)  # 매우 오래 걸리는 작업, 일반 sleep은 CPU를 쉬게 합니다.\n",
        "    print(f\"Job {number} completed\")\n",
        "\n",
        "job(1)\n",
        "job(2)\n",
        "job(3)"
      ],
      "metadata": {
        "colab": {
          "base_uri": "https://localhost:8080/"
        },
        "id": "baoaGcnqp3hX",
        "outputId": "62b16f8b-f2e4-445d-9976-ebdf0a2acff2"
      },
      "execution_count": null,
      "outputs": [
        {
          "output_type": "stream",
          "name": "stdout",
          "text": [
            "Job 1 started\n",
            "Job 1 completed\n",
            "Job 2 started\n",
            "Job 2 completed\n",
            "Job 3 started\n",
            "Job 3 completed\n"
          ]
        }
      ]
    },
    {
      "cell_type": "markdown",
      "source": [
        "## 비동기 프로그래밍"
      ],
      "metadata": {
        "id": "kq__cmRros6g"
      }
    },
    {
      "cell_type": "markdown",
      "source": [
        "동시에 여러 작업을 진행할 수 있다. 이때, 이벤트 루프와 콜백 함수 등을 활용하여 작업을 관리한다.\n",
        "\n",
        "코랩에서는 안됨!"
      ],
      "metadata": {
        "id": "Kmzym1BJpC-O"
      }
    },
    {
      "cell_type": "markdown",
      "source": [
        "파이썬에서 비동기가 가능하다 정도로만 보고 넘어가도 된다고 했다."
      ],
      "metadata": {
        "id": "vKekosf0sy4y"
      }
    },
    {
      "cell_type": "code",
      "source": [
        "!pip install nest_asyncio"
      ],
      "metadata": {
        "colab": {
          "base_uri": "https://localhost:8080/"
        },
        "id": "oBVOL527rDsr",
        "outputId": "5c837153-ed83-4ada-bd06-4f635e33430e"
      },
      "execution_count": null,
      "outputs": [
        {
          "output_type": "stream",
          "name": "stdout",
          "text": [
            "Requirement already satisfied: nest_asyncio in /usr/local/lib/python3.10/dist-packages (1.5.8)\n"
          ]
        }
      ]
    },
    {
      "cell_type": "code",
      "source": [
        "# 기본 코드\n",
        "import asyncio\n",
        "\n",
        "async def job(number):\n",
        "    print(f\"Job {number} started\")\n",
        "    await asyncio.sleep(1)  # 매우 오래 걸리는 작업, cpu를 쉬게 하는 역할\n",
        "    print(f\"Job {number} completed\")\n",
        "\n",
        "asyncio.run(job(1))\n",
        "asyncio.run(job(2))\n",
        "asyncio.run(job(3))"
      ],
      "metadata": {
        "id": "5FZXUlwrqHfK"
      },
      "execution_count": null,
      "outputs": []
    },
    {
      "cell_type": "code",
      "source": [
        "# colab에서 작동하는 코드\n",
        "# 기본 base는 colab에서 작동하지 않음\n",
        "import asyncio\n",
        "\n",
        "async def job(number):\n",
        "    print(f\"Job {number} started\")\n",
        "    await asyncio.sleep(1) # 매우 오래 걸리는 작업, asyncio.sleep은 비동기 처리를 할 수 있도록 한다.(다른 작업이 가능하도록)\n",
        "    print(f\"Job {number} completed\")\n",
        "\n",
        "async def main():\n",
        "    await asyncio.gather(job(1), job(2), job(3)) # await asyncio.wait([job(1), job(2), job(3)])\n",
        "\n",
        "asyncio.run(main())\n",
        "print('hello world')"
      ],
      "metadata": {
        "id": "-s-GrustpWrM"
      },
      "execution_count": null,
      "outputs": []
    },
    {
      "cell_type": "markdown",
      "source": [
        "함수에 async라는 키워드를 붙이면 비동기 함수(코루틴)가 된다."
      ],
      "metadata": {
        "id": "jIdB7w4wqsNl"
      }
    },
    {
      "cell_type": "code",
      "source": [
        "async def job():\n",
        "    print('job')\n",
        "\n",
        "print(job) # <function job at 0x7fc8cb38ef80>\n",
        "job() # <coroutine object job at 0x7fc8cb32bc30>, print('job')이 실행되진 않음"
      ],
      "metadata": {
        "id": "pz-SV2OIq2nm"
      },
      "execution_count": null,
      "outputs": []
    },
    {
      "cell_type": "code",
      "source": [
        "async def job():\n",
        "    print('job')\n",
        "\n",
        "async def main():\n",
        "    return await job()\n",
        "\n",
        "print(main) # <coroutine object main at 0x7fc8cb22bf40>\n",
        "print(await main()) # None"
      ],
      "metadata": {
        "id": "GFg-tC9FsKyD"
      },
      "execution_count": null,
      "outputs": []
    },
    {
      "cell_type": "markdown",
      "source": [
        "## 정규표현식"
      ],
      "metadata": {
        "id": "7Xl5VHjV9QEt"
      }
    },
    {
      "cell_type": "code",
      "source": [
        "# 별 2개\n",
        "# 유효성 검증(validator), 문자열 처리, 코딩 테스트(1문제 필수)"
      ],
      "metadata": {
        "id": "GLFOVZu29SUB"
      },
      "execution_count": null,
      "outputs": []
    },
    {
      "cell_type": "code",
      "source": [
        "# https://regexr.com/5nvc2\n",
        "# 1번 일반 문자열 패턴\n",
        "# hello world\n",
        "# Hello\n",
        "# ^hello\n",
        "# hello$\n",
        "# ^hello$\n",
        "# .\n",
        "# .....\n",
        "# h[eao]llo\n",
        "# .[eao]llo\n",
        "# ^h[eao]llo$\n",
        "# h[a-zA-Z0-9]llo\n",
        "# h[a-zA-Z]llo\n",
        "# 010-[0-9][0-9][0-9][0-9]-[0-9][0-9][0-9][0-9]\n",
        "# 010.[0-9][0-9][0-9][0-9].[0-9][0-9][0-9][0-9]\n",
        "# 010[- .][0-9][0-9][0-9][0-9][- .][0-9][0-9][0-9][0-9]\n",
        "# [^a-zA-Z0-9]: 나머지 문자열을 찾음 # ^는 대괄호 안에서는 '부정'\n",
        "# _* : 앞에 있는 문자가 0개 ~ N개\n",
        "# _+ : 앞에 있는 문자가 1개 ~ N개\n",
        "# _? : 앞에 있는 문자가 0개 ~ 1개\n",
        "# 010[- .]?[0-9][0-9][0-9][0-9][- .]?[0-9][0-9][0-9][0-9]\n",
        "\n",
        "# {3} : 3개\n",
        "# {3,} : 3개 이상\n",
        "# {1,3} : 1개 ~ 3개\n",
        "# 010[- .]?[0-9]{4}[- .]?[0-9]{4}\n",
        "\n",
        "# _* : 앞에 있는 문자가 0개 ~ N개 ({0,})\n",
        "# _+ : 앞에 있는 문자가 1개 ~ N개({1,})\n",
        "# _? : 앞에 있는 문자가 0개 ~ 1개 ({0,1})\n",
        "\n",
        "# /[0-9]{3}[-.* ][0-9]{4}[-.* ][0-9]{4}/gm\n",
        "\n",
        "# 전화번호\n",
        "# /[0-9a-zA-Z]{2,3}[-.* ][0-9]{3,4}[-.* ][0-9]{4}/gm\n",
        "# /[0-9]{2,3}[-.* ][0-9]{3,4}[-.* ][0-9]{4}/gm\n",
        "\n",
        "# 이메일\n",
        "# /[0-9a-zA-Z]+@[0-9a-zA-Z]+.[a-zA-Z]+/gm\n",
        "# ^[a-zA-Z0-9+-_.]+@[a-zA-Z0-9-]+\\.[a-zA-Z0-9-.]+$\n",
        "# .....@----....\n",
        "\n",
        "\n",
        "# /\\w/gm : 워드 # 많이 사용\n",
        "# /\\w{5} /gm : 5개의 글자와 스페이스 하나\n",
        "# /\\W/gm : not 워드 # 많이 사용\n",
        "# /\\d/gm : 숫자 # 많이 사용\n",
        "# /\\D/gm : not 숫자\n",
        "# /\\s/gm : 스페이스\n",
        "# /\\S/gm : not 스페이스\n",
        "\n",
        "# ^\\d{3}[- .]?\\d{3,4}[- .]?\\d{4}$\n",
        "\n",
        "# /\\[.*]/gm : 대괄호([]) 안에 감싸여진 문자열\n",
        "# /\\(.*\\)/gm : 소괄호 안에 감싸여진 문자열\n",
        "# /\\\\.*\\//gm : 이미 사용되고 있는 특수문자로 감싸여진 문자열\n",
        "# /-.*-/gm : 이스케이프 문자를 사용할 필요가 없는 경우\n",
        "# /\\^\\^/gm : 이스케이프 문자가 필요한 경우\n",
        "# /:\\)/gm : 이스케이프 문자가 필요한 경우\n",
        "\n",
        "# \\[.*]\n",
        "# \\[.*\\], \\[.*\\]"
      ],
      "metadata": {
        "id": "bjOE2FizBUV0"
      },
      "execution_count": null,
      "outputs": []
    },
    {
      "cell_type": "code",
      "source": [
        "# 사용되는 패턴\n",
        "# 1\n",
        "p = re.compile(r'([0-9]|10)([SDT])([\\*\\#]?)')\n",
        "p.findall('1S2D*3T')\n",
        "\n",
        "# 2\n",
        "re.findall(r'([0-9]|10)([SDT])([\\*\\#]?)', '1S2D*3T')\n",
        "\n",
        "# 자주 사용하는 메서드\n",
        "# sub() : 매치된 부분을 치환 (str에 replace와 같은 역활)  # 가장 많이 사용\n",
        "# findall() : 매치된 부분 모두 리스트 반환"
      ],
      "metadata": {
        "id": "2mMPqtaFHxXs"
      },
      "execution_count": null,
      "outputs": []
    },
    {
      "cell_type": "markdown",
      "source": [
        "## findall"
      ],
      "metadata": {
        "id": "cZUAo053P1du"
      }
    },
    {
      "cell_type": "code",
      "source": [
        "import re\n",
        "\n",
        "list(re.findall(r'([0-9]|10)([SDT])([\\*\\#]?)', '1S2D*3T'))"
      ],
      "metadata": {
        "id": "SLy1LxiaKnBI"
      },
      "execution_count": null,
      "outputs": []
    },
    {
      "cell_type": "markdown",
      "source": [
        "## sub"
      ],
      "metadata": {
        "id": "z-jf_R_JP3EV"
      }
    },
    {
      "cell_type": "code",
      "source": [
        "def solution(my_string):\n",
        "    return my_string.replace('a', '').replace('e', '').replace('i', '').replace('o', '').replace('u', '')\n",
        "\n",
        "def solution(my_string):\n",
        "    string = 'aeiou'\n",
        "    for i in string:\n",
        "        my_string = my_string.replace(i, '')\n",
        "    return my_string"
      ],
      "metadata": {
        "id": "2VbsN6uLQzm9"
      },
      "execution_count": null,
      "outputs": []
    },
    {
      "cell_type": "code",
      "source": [
        "import re\n",
        "\n",
        "def solution(my_string):\n",
        "    return re.sub(r\"[aeiou]\", \"\", my_string)"
      ],
      "metadata": {
        "id": "9GbjmaYmQ1MK"
      },
      "execution_count": null,
      "outputs": []
    },
    {
      "cell_type": "code",
      "source": [
        "# 복습 X\n",
        "# dir(\"nice to meet you\")\n",
        "s = \"nice to meet you\"\n",
        "ch = s.maketrans(\"aeiou\", \"!!!!!\");\n",
        "\n",
        "print(s.translate(ch));"
      ],
      "metadata": {
        "id": "ep8goGQgP3tb"
      },
      "execution_count": null,
      "outputs": []
    },
    {
      "cell_type": "code",
      "source": [
        "# 문제: 아래 문자열에서 모든 문자를 제거하고 숫자만 모두 더해주세요.\n",
        "'hello1928ljwlie123slie21e1j3'"
      ],
      "metadata": {
        "id": "diT38QaDRHaX"
      },
      "execution_count": null,
      "outputs": []
    },
    {
      "cell_type": "code",
      "source": [
        "import re\n",
        "\n",
        "def solution(my_string):\n",
        "    return re.sub(r\"[a-zA-Z]\", \"\", my_string)\n",
        "\n",
        "solution('hello1928ljwlie123slie21e1j3')"
      ],
      "metadata": {
        "colab": {
          "base_uri": "https://localhost:8080/",
          "height": 35
        },
        "id": "p6Jn50L9RK5Y",
        "outputId": "87212d35-e08c-43ea-ffe4-299028338b7b"
      },
      "execution_count": null,
      "outputs": [
        {
          "output_type": "execute_result",
          "data": {
            "text/plain": [
              "'19281232113'"
            ],
            "application/vnd.google.colaboratory.intrinsic+json": {
              "type": "string"
            }
          },
          "metadata": {},
          "execution_count": 1
        }
      ]
    },
    {
      "cell_type": "code",
      "source": [
        "# 복습 X\n",
        "import re\n",
        "\n",
        "def solution(my_string):\n",
        "    return sum(map(int, list(re.sub(r\"[a-zA-Z]\", \"\", my_string))))\n",
        "\n",
        "solution('hello1928ljwlie123slie21e1j3')"
      ],
      "metadata": {
        "colab": {
          "base_uri": "https://localhost:8080/"
        },
        "id": "KIIPWOhdRflE",
        "outputId": "d1bfd10b-6384-4790-9df5-1a4c91f80589"
      },
      "execution_count": null,
      "outputs": [
        {
          "output_type": "execute_result",
          "data": {
            "text/plain": [
              "33"
            ]
          },
          "metadata": {},
          "execution_count": 2
        }
      ]
    },
    {
      "cell_type": "code",
      "source": [
        "list(re.findall(r'[0-9]', 'hello1928ljwlie123slie21e1j3'))\n",
        "list(re.findall(r'[0-9]+', 'hello1928ljwlie123slie21e1j3'))"
      ],
      "metadata": {
        "colab": {
          "base_uri": "https://localhost:8080/"
        },
        "id": "gWD3oiUJSYvZ",
        "outputId": "eedecd49-3640-47b4-b085-1538122af9d0"
      },
      "execution_count": null,
      "outputs": [
        {
          "output_type": "execute_result",
          "data": {
            "text/plain": [
              "['1928', '123', '21', '1', '3']"
            ]
          },
          "metadata": {},
          "execution_count": 3
        }
      ]
    },
    {
      "cell_type": "code",
      "source": [
        "import re\n",
        "\n",
        "my_string = \"aAb1B2cC34oOp\"\n",
        "re.sub('[^1-9]', '', my_string)"
      ],
      "metadata": {
        "colab": {
          "base_uri": "https://localhost:8080/",
          "height": 35
        },
        "id": "knvlaZHXUH1K",
        "outputId": "4b98c558-749d-4f26-de99-9b692fa6f7c9"
      },
      "execution_count": null,
      "outputs": [
        {
          "output_type": "execute_result",
          "data": {
            "text/plain": [
              "'1234'"
            ],
            "application/vnd.google.colaboratory.intrinsic+json": {
              "type": "string"
            }
          },
          "metadata": {},
          "execution_count": 4
        }
      ]
    },
    {
      "cell_type": "code",
      "source": [
        "# 복습 X\n",
        "import re\n",
        "\n",
        "print(re.sub(r'([0-9]{3})-([0-9]{4})-([0-9]{4})', r'\\1!\\2!\\3', '010-5000-3000'))\n",
        "print(re.sub(r'([0-9]{3})-([0-9]{4})-([0-9]{4})', r'\\1/\\2/\\3', '010-5000-3000'))\n",
        "print(re.sub(r'([0-9]{3})-([0-9]{4})-([0-9]{4})', r'[\\1][\\2][\\3]', '010-5000-3000'))\n",
        "print(re.sub(r'([0-9]{3})-([0-9]{4})-([0-9]{4})', r'[\\1]-[\\2]-[\\3]', '010-5000-3000'))\n",
        "print(re.sub(r'([0-9]{3})-([0-9]{4})-([0-9]{4})', r'지역번호: \\1 전화번호: \\2\\3', '010-5000-3000'))"
      ],
      "metadata": {
        "id": "FRZ7iSLgUczT"
      },
      "execution_count": null,
      "outputs": []
    },
    {
      "cell_type": "code",
      "source": [
        "# 복습 XXX\n",
        "# 시니어 때에는 이런 문법을 사용할 일이 종종 생김\n",
        "import re\n",
        "\n",
        "print(re.sub(r'(?P<one>[0-9]{3})-(?P<two>[0-9]{4})-(?P<three>[0-9]{4})', r'\\g<one>!!\\g<two>!!\\g<three>', '010-5000-3000'))"
      ],
      "metadata": {
        "colab": {
          "base_uri": "https://localhost:8080/"
        },
        "id": "ZIycg1wAYOWf",
        "outputId": "a8fb24f7-88c1-4704-eab3-75d8527572fc"
      },
      "execution_count": null,
      "outputs": [
        {
          "output_type": "stream",
          "name": "stdout",
          "text": [
            "010!!5000!!3000\n"
          ]
        }
      ]
    },
    {
      "cell_type": "code",
      "source": [
        "import re\n",
        "\n",
        "text = '''# This is a h1\n",
        "## This is a h2\n",
        "### This is a h3\n",
        "#### This is a h4\n",
        "##### This is a h5\n",
        "###### This is a h6\n",
        "\n",
        "* This is a bulleted list\n",
        "  * This is a nested bulleted list\n",
        "\n",
        "**This is bold text**\n",
        "\n",
        "_This is italic text_\n",
        "\n",
        "~~This text is strikethrough~~\n",
        "'''\n",
        "\n",
        "def markdown_to_html(markdown):\n",
        "    html = re.sub(r'### (.*)', r'\\1', markdown)\n",
        "    html = re.sub(r'## (.*)', r'\\1', html)\n",
        "    html = re.sub(r'# (.*)', r'\\1', html)\n",
        "    html = re.sub(r'`(.*)`', r'\\1', html)\n",
        "    html = re.sub(r'\\*\\*(.*)\\*\\*', r'\\1', html)\n",
        "    html = re.sub(r'_(.*)_', r'\\1', html)\n",
        "    html = re.sub(r'~~(.*)~~', r'\\1', html)\n",
        "    html = re.sub(r'^(>+) (.*)', r'\\1\\2', html)\n",
        "    # html = re.sub(r'^\\* (.*)', r'\\1', html, flags=re.M+re.S)\n",
        "    return html\n",
        "\n",
        "print(markdown_to_html(text))"
      ],
      "metadata": {
        "id": "ZiyIe_HDZq_4"
      },
      "execution_count": null,
      "outputs": []
    },
    {
      "cell_type": "markdown",
      "source": [
        "# 연습문제\n"
      ],
      "metadata": {
        "id": "MXPLTLu70Rjn"
      }
    },
    {
      "cell_type": "markdown",
      "source": [
        "## 문제 1. 문제: 주어진 문자열에서 모든 이메일 주소를 user@weniv.co.kr으로 변경하시오.(sub사용)"
      ],
      "metadata": {
        "id": "b-F0MpJE0WN5"
      }
    },
    {
      "cell_type": "code",
      "source": [
        "# 예시 입력: \"저의 이메일 주소는 kim123@gmail.com입니다. 친구의 이메일 주소는 lee456@gmail.com입니다.\"\n",
        "# 예시 출력: \"저의 이메일 주소는 user@weniv.co.kr입니다. 친구의 이메일 주소는 user@weniv.co.kr입니다.\""
      ],
      "metadata": {
        "id": "KWpnek0e0cIx"
      },
      "execution_count": null,
      "outputs": []
    },
    {
      "cell_type": "code",
      "source": [
        "import re\n",
        "\n",
        "text =  \"저의 이메일 주소는 kim123@gmail.com입니다. 친구의 이메일 주소는 lee456@gmail.com입니다.\"\n",
        "\n",
        "my_text = re.sub(r'[A-Za-z0-9._%+-]+@[A-Za-z0-9.-]+\\.[A-Z|a-z]{2,}','user@weniv.co.kr', text)\n",
        "my_text"
      ],
      "metadata": {
        "id": "gJRGjhOK0jr7",
        "colab": {
          "base_uri": "https://localhost:8080/",
          "height": 35
        },
        "outputId": "70274401-c9a4-4272-8cee-e6c1eeb8278c"
      },
      "execution_count": 6,
      "outputs": [
        {
          "output_type": "execute_result",
          "data": {
            "text/plain": [
              "'저의 이메일 주소는 user@weniv.co.kr입니다. 친구의 이메일 주소는 user@weniv.co.kr입니다.'"
            ],
            "application/vnd.google.colaboratory.intrinsic+json": {
              "type": "string"
            }
          },
          "metadata": {},
          "execution_count": 6
        }
      ]
    },
    {
      "cell_type": "markdown",
      "source": [
        "## 2. 주어진 HTML 문자열에서 모든 HTML 태그를 제거하고 텍스트만 남기시오.\n"
      ],
      "metadata": {
        "id": "9osLxrY0GAr7"
      }
    },
    {
      "cell_type": "code",
      "source": [
        "# 예시 입력: \"<p>이것은 <b>예시</b> 문장입니다.</p>\"\n",
        "# 예시 출력: \"이것은 예시 문장입니다.\""
      ],
      "metadata": {
        "id": "jHyHrecBGEp-"
      },
      "execution_count": null,
      "outputs": []
    },
    {
      "cell_type": "code",
      "source": [
        "import re\n",
        "\n",
        "text = \"<p>이것은 <b>예시</b> 문장입니다.</p>\"\n",
        "\n",
        "my_text = re.sub(r'<[^>]+>','', text)\n",
        "my_text"
      ],
      "metadata": {
        "colab": {
          "base_uri": "https://localhost:8080/",
          "height": 35
        },
        "id": "BGFvxQzjGGk7",
        "outputId": "88dae61a-f863-4a54-8e21-3f29fac68c78"
      },
      "execution_count": 62,
      "outputs": [
        {
          "output_type": "execute_result",
          "data": {
            "text/plain": [
              "'이것은 예시 문장입니다.'"
            ],
            "application/vnd.google.colaboratory.intrinsic+json": {
              "type": "string"
            }
          },
          "metadata": {},
          "execution_count": 62
        }
      ]
    }
  ]
}