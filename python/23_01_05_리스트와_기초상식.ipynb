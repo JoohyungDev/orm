{
  "nbformat": 4,
  "nbformat_minor": 0,
  "metadata": {
    "colab": {
      "provenance": []
    },
    "kernelspec": {
      "name": "python3",
      "display_name": "Python 3"
    },
    "language_info": {
      "name": "python"
    }
  },
  "cells": [
    {
      "cell_type": "markdown",
      "source": [
        "# 파이썬 기본 상식"
      ],
      "metadata": {
        "id": "u6j30FGBKree"
      }
    },
    {
      "cell_type": "code",
      "source": [
        "a = 10\n",
        "b = a\n",
        "c = b\n",
        "\n",
        "print(c)\n",
        "\n",
        "a = 10\n",
        "b = a\n",
        "c = b\n",
        "a = 20\n",
        "print(c)\n",
        "\n",
        "a = 10\n",
        "b = a\n",
        "\n",
        "print(id(a))\n",
        "print(id(b))"
      ],
      "metadata": {
        "colab": {
          "base_uri": "https://localhost:8080/"
        },
        "id": "4XpEG4WHTe3X",
        "outputId": "175aa952-9a5f-4b25-cdc8-d101cb73d429"
      },
      "execution_count": null,
      "outputs": [
        {
          "output_type": "stream",
          "name": "stdout",
          "text": [
            "10\n",
            "10\n",
            "136921587155472\n",
            "136921587155472\n"
          ]
        }
      ]
    },
    {
      "cell_type": "code",
      "source": [
        "# -5부터 256은 같습니다.\n",
        "a = 10\n",
        "b = 10\n",
        "\n",
        "print(id(a))\n",
        "print(id(b))\n",
        "print(a is b)\n",
        "\n",
        "\n",
        "a = 257\n",
        "b = 257\n",
        "\n",
        "print(id(a))\n",
        "print(id(b))\n",
        "print(a is b)"
      ],
      "metadata": {
        "id": "x0pO1uQ3Th-e"
      },
      "execution_count": null,
      "outputs": []
    },
    {
      "cell_type": "code",
      "source": [
        "0.1 + 0.2 # 0.1이 2진수로 표현했을 때 무한소수"
      ],
      "metadata": {
        "colab": {
          "base_uri": "https://localhost:8080/"
        },
        "id": "tXlYNAt1KvCa",
        "outputId": "e31b09fe-16bb-459d-8d73-10f122f759ad"
      },
      "execution_count": null,
      "outputs": [
        {
          "output_type": "execute_result",
          "data": {
            "text/plain": [
              "0.30000000000000004"
            ]
          },
          "metadata": {},
          "execution_count": 1
        }
      ]
    },
    {
      "cell_type": "code",
      "source": [
        "# 회색 줄은 영문자 80자, 한글은 32자\n",
        "# PEP8, PEP20\n",
        "# 줄이 너무 길면 가독성이 떨어집니다.\n",
        "# Python 잘 하시는 분 보면 모든지 한 줄로 할려고 하는 분 만나는데\n",
        "# 이거 안좋은 습관입니다.\n",
        "\n",
        "print('hello worldhello worldhello worldhello worldhello worldhello worldhello worldhello world')\n",
        "\n",
        "# 해결책 1: 역슬러시 넣는 방법(저는 권고하지 않습니다!, 이스케이 문자랑 혼동될 수 있습니다.)\n",
        "print('hello worldhello worldhello worldhello worldhello worldhello worldhello \\\n",
        "worldhello world')\n",
        "print('hello world \\n hello world')\n",
        "\n",
        "# 해결책 2: 콤마를 찍지 않은 연결\n",
        "print('hello world' 'hello world')\n",
        "print('hello world'\n",
        "      'hello world')"
      ],
      "metadata": {
        "colab": {
          "base_uri": "https://localhost:8080/"
        },
        "id": "gbWdyB3eK0Ms",
        "outputId": "f62fe816-c066-4554-b55f-cebd202184a2"
      },
      "execution_count": null,
      "outputs": [
        {
          "output_type": "stream",
          "name": "stdout",
          "text": [
            "hello worldhello worldhello worldhello worldhello worldhello worldhello worldhello world\n",
            "hello worldhello worldhello worldhello worldhello worldhello worldhello worldhello world\n",
            "hello world \n",
            " hello world\n",
            "hello worldhello world\n",
            "hello worldhello world\n"
          ]
        }
      ]
    },
    {
      "cell_type": "code",
      "source": [
        "# 질문: 메서드 체인으로 길어지면 어떻게 하나요?\n",
        "# 답: 메서드 체인으로 80자 이상이면 이미 가독성에 문제가 있는 것입니다.\n",
        "# 메서드 체이닝을 3개 이상을 하길 권하지 않습니다.(가독성이 악화됩니다.)\n",
        "\n",
        "# 문제 있는 코드\n",
        "'hello world'.upper().split(' ').pop().lower() # 이렇게 코딩하시면 제가 Reject합니다.\n",
        "\n",
        "# 문제가 덜한 코드\n",
        "대문자 = 'hello world'.upper()\n",
        "잘린대문자 = 대문자.split(' ')\n",
        "\n",
        "# 허용함\n",
        "'hello world'.upper()\\\n",
        "    .split(' ')\\\n",
        "    .pop()\\\n",
        "    .lower()\n",
        "\n",
        "# 허용함\n",
        "'hello world'.upper()   .split(' ')   .pop()   .lower()\n",
        "\n",
        "# 허용하지 않음(\\n)\n",
        "# 'hello world'.upper()\n",
        "#     .split(' ')\n",
        "#     .pop()\n",
        "#     .lower()\n",
        "\n",
        "# 허용하지 않음(\\n)\n",
        "# 'hello world'.upper()\n",
        "# .split(' ')\n",
        "# .pop()\n",
        "# .lower()"
      ],
      "metadata": {
        "id": "zEIdH0BALnfq"
      },
      "execution_count": null,
      "outputs": []
    },
    {
      "cell_type": "code",
      "source": [
        "dir('hello world')  # 매서드, 매직메서드 ..."
      ],
      "metadata": {
        "id": "ftAU5EJAMn_T"
      },
      "execution_count": null,
      "outputs": []
    },
    {
      "cell_type": "code",
      "source": [
        "# 문제1: find와 index 차이\n",
        "# 실무에서 사용하는 코드: 둘다\n",
        "# find에서 값이 없으면 -1, index는 오류\n",
        "# -1이면 True로 취급해서 주의해야함(find)\n",
        "if 'hello world'.find('hi'):    # 실무에서 자주 나오는 오류\n",
        "    print('찾았다!')\n",
        "\n",
        "# 문제2 isdigit의 정체\n",
        "'123'.isdigit()\n",
        "'12h3'.isdigit()\n",
        "\n",
        "# 문제 3 replace가 어디까지 변환하는지?\n",
        "'hello world hello world'.replace('hello', 'hi')    # 모두 다 변환이 됨\n",
        "# replace는 정규표현식이 안됨 -> re.sub 사용해야 함\n",
        "\n",
        "# 문제 4 strip(공백제거)\n",
        "\n",
        "# 문제 5 zfill(앞에 0으로 채우기, 원하는 자릿수만큼, 시간이나 연도)"
      ],
      "metadata": {
        "colab": {
          "base_uri": "https://localhost:8080/",
          "height": 54
        },
        "id": "-QOrKN48M_o7",
        "outputId": "d3054df2-85e4-46c4-8cb1-1306dcbf62ff"
      },
      "execution_count": null,
      "outputs": [
        {
          "output_type": "stream",
          "name": "stdout",
          "text": [
            "찾았다!\n"
          ]
        },
        {
          "output_type": "execute_result",
          "data": {
            "text/plain": [
              "'hi world hi world'"
            ],
            "application/vnd.google.colaboratory.intrinsic+json": {
              "type": "string"
            }
          },
          "metadata": {},
          "execution_count": 7
        }
      ]
    },
    {
      "cell_type": "markdown",
      "source": [
        "# 3. 리스트\n",
        "* 변경이 가능한 자료형\n",
        "* 순서가 있는 자료형(시퀀스형 자료형, 인덱싱, 슬라이싱)"
      ],
      "metadata": {
        "id": "4TKIfj926u_n"
      }
    },
    {
      "cell_type": "code",
      "source": [
        "l = [10,20,30]\n",
        "\n",
        "# 라인 수가 길어졌을 때에는 이렇게 사용하시길 권합니다.\n",
        "# 권고 1\n",
        "ㅣ = [\n",
        "    10,\n",
        "     20,\n",
        "     30]    # 됩니다!\n",
        "\n",
        "# 권고2 (이렇게 실무에서 더 많이 사용함)\n",
        "l = [\n",
        "    10,\n",
        "    20,\n",
        "    30,\n",
        "]\n",
        "# 문제가 있습니다! 통신을 할 때에는 JSON이라는 형식을 사용하게 되는데\n",
        "# JSON은 마지막에 콤마를 허용하지 않는다!\n",
        "\n",
        "# why? 문제가 있는 2번이 더 많이 사용되나요?\n",
        "# 실무에서는 콤마를 버전업으로 인식하는 경우도 많고.\n",
        "# 콤마를 빼먹는 경우가 많다.\n",
        "# 편의성: Ctrl + C, Ctrl + V하기가 편함\n",
        "# 자동 변환 SW를 사용합니다. (python black formatter) => 권고!!!"
      ],
      "metadata": {
        "id": "7nGL0ksoCe0h"
      },
      "execution_count": null,
      "outputs": []
    },
    {
      "cell_type": "code",
      "source": [
        "s = 'hello world'\n",
        "s = s.replace('h', 'y')\n",
        "s"
      ],
      "metadata": {
        "colab": {
          "base_uri": "https://localhost:8080/",
          "height": 35
        },
        "id": "fpFNPFcCMhS-",
        "outputId": "ec1f9f7d-b789-43c2-debe-2cf5fafe0ce5"
      },
      "execution_count": null,
      "outputs": [
        {
          "output_type": "execute_result",
          "data": {
            "text/plain": [
              "'yello world'"
            ],
            "application/vnd.google.colaboratory.intrinsic+json": {
              "type": "string"
            }
          },
          "metadata": {},
          "execution_count": 11
        }
      ]
    },
    {
      "cell_type": "code",
      "source": [
        "l = [10, 20, 30]\n",
        "l[2] = 1000\n",
        "print(l)"
      ],
      "metadata": {
        "colab": {
          "base_uri": "https://localhost:8080/"
        },
        "id": "QlD9NmpUZU2t",
        "outputId": "f00da6f4-4148-4f90-910d-040e3e198df4"
      },
      "execution_count": null,
      "outputs": [
        {
          "output_type": "stream",
          "name": "stdout",
          "text": [
            "[10, 20, 1000]\n"
          ]
        }
      ]
    },
    {
      "cell_type": "code",
      "source": [
        " l = [10, 20, 30, 40, 50]\n",
        " l[-1]\n",
        " l[-2:] == l[3:]    # 마이너스 인덱싱, 마이너스 슬라이싱은 최종적으로 양수로 치환됩니다.\n",
        " # 변수명[stop]\n",
        " # 변수명[start:stop]\n",
        " # 변수명[start:stop:step]"
      ],
      "metadata": {
        "colab": {
          "base_uri": "https://localhost:8080/"
        },
        "id": "Z8SCTIidZYWG",
        "outputId": "475ade89-35bd-4162-eff8-04b840a57437"
      },
      "execution_count": null,
      "outputs": [
        {
          "output_type": "execute_result",
          "data": {
            "text/plain": [
              "True"
            ]
          },
          "metadata": {},
          "execution_count": 14
        }
      ]
    },
    {
      "cell_type": "code",
      "source": [
        "type(l), dir(l)\n",
        "# type은 검색 키워드, GPT 질문 키워드가 될 수 있음\n",
        "# dir은 대략적인 속성을 알 수 있음"
      ],
      "metadata": {
        "id": "R4V6_Gfma1uL"
      },
      "execution_count": null,
      "outputs": []
    },
    {
      "cell_type": "code",
      "source": [
        "# __add__가 있으니 더하기는 어디까지 될까? => 테스트\n",
        "# __mul__이 있으니 곱하기는 어디까지 될까? => 테스트\n",
        "\n",
        "l = [10, 20, 30]\n",
        "# l + 100 # 정수 더하기는 안됩니다\n",
        "l + [100]\n"
      ],
      "metadata": {
        "id": "hIlahJ51bqI8"
      },
      "execution_count": null,
      "outputs": []
    },
    {
      "cell_type": "code",
      "source": [
        "# 리스트의 곱하기는 매우 주의해야 합니다!\n",
        "# 곱하기가 2중으로 있을 때에는 리스트컴프리헨션 사용해주세요!\n",
        "l = [[1, 2, 3] * 3] * 2\n",
        "l[1][0] = 1000\n",
        "l"
      ],
      "metadata": {
        "colab": {
          "base_uri": "https://localhost:8080/"
        },
        "id": "b_j4DJ2-ccDh",
        "outputId": "944de349-88c7-471c-b653-f3ca092869b1"
      },
      "execution_count": null,
      "outputs": [
        {
          "output_type": "execute_result",
          "data": {
            "text/plain": [
              "[[1000, 2, 3, 1, 2, 3, 1, 2, 3], [1000, 2, 3, 1, 2, 3, 1, 2, 3]]"
            ]
          },
          "metadata": {},
          "execution_count": 16
        }
      ]
    },
    {
      "cell_type": "code",
      "source": [
        "l[1][1] = 10000\n",
        "l"
      ],
      "metadata": {
        "colab": {
          "base_uri": "https://localhost:8080/"
        },
        "id": "6S4pzLWscyKu",
        "outputId": "fb6b4e86-6d57-43c1-c8a1-a9a8fe8b26c8"
      },
      "execution_count": null,
      "outputs": [
        {
          "output_type": "execute_result",
          "data": {
            "text/plain": [
              "[[1000, 10000, 3, 1, 2, 3, 1, 2, 3], [1000, 10000, 3, 1, 2, 3, 1, 2, 3]]"
            ]
          },
          "metadata": {},
          "execution_count": 17
        }
      ]
    },
    {
      "cell_type": "code",
      "source": [
        "# 암기해주세요\n",
        "x = 10 # 스칼라\n",
        "x = [10] # 벡터\n",
        "x = [10, 20] # 벡터\n",
        "x = [[10, 20], [10, 20]]    # 메트릭스(행렬)\n",
        "x = [[[10, 20], [10, 20]], [[10, 20], [10, 20]]]    # 텐서(3차원 이상 행렬)"
      ],
      "metadata": {
        "id": "lEYn17C8c6h9"
      },
      "execution_count": null,
      "outputs": []
    },
    {
      "cell_type": "code",
      "source": [
        "x = [[1, 2], [3, 4], [5, 6]]\n",
        "x[1]\n",
        "x[1][1]"
      ],
      "metadata": {
        "colab": {
          "base_uri": "https://localhost:8080/"
        },
        "id": "H4ZRFTJGeNAt",
        "outputId": "029ddd53-6a5f-48c0-d3d5-0cdde3a5e87b"
      },
      "execution_count": null,
      "outputs": [
        {
          "output_type": "execute_result",
          "data": {
            "text/plain": [
              "4"
            ]
          },
          "metadata": {},
          "execution_count": 18
        }
      ]
    },
    {
      "cell_type": "code",
      "source": [
        "# 줄 왔다갔다 단축키 = alt + 화살표 위/아래"
      ],
      "metadata": {
        "id": "XpHJ63MwfISk"
      },
      "execution_count": null,
      "outputs": []
    },
    {
      "cell_type": "code",
      "source": [
        "# 여러줄 한번에 수정하는 법 = Ctrl + Alt + 화살표 위/아래"
      ],
      "metadata": {
        "id": "8Y5jo9uFfPoK"
      },
      "execution_count": null,
      "outputs": []
    },
    {
      "cell_type": "code",
      "source": [
        "x = [[1, 2], [3, 'hello world'], [5, 6]]\n",
        "print(x[1])\n",
        "print(x[1][1])\n",
        "print(x[1][1][6:])"
      ],
      "metadata": {
        "colab": {
          "base_uri": "https://localhost:8080/"
        },
        "id": "Vx6vcGVoe7LJ",
        "outputId": "722b5420-9239-4ec1-f465-f05b1dbfd2fc"
      },
      "execution_count": null,
      "outputs": [
        {
          "output_type": "stream",
          "name": "stdout",
          "text": [
            "[3, 'hello world']\n",
            "hello world\n",
            "world\n"
          ]
        }
      ]
    },
    {
      "cell_type": "code",
      "source": [
        "x = 10\n",
        "\n",
        "# 다르다는 것만 인지해주세요!\n",
        "print(x)    # __str__\n",
        "x   # __repr__"
      ],
      "metadata": {
        "colab": {
          "base_uri": "https://localhost:8080/"
        },
        "id": "LaWs7zOgfdjG",
        "outputId": "05951a7c-af30-4966-f403-2a8d35be0d9e"
      },
      "execution_count": null,
      "outputs": [
        {
          "output_type": "stream",
          "name": "stdout",
          "text": [
            "10\n"
          ]
        },
        {
          "output_type": "execute_result",
          "data": {
            "text/plain": [
              "10"
            ]
          },
          "metadata": {},
          "execution_count": 23
        }
      ]
    },
    {
      "cell_type": "code",
      "source": [
        "# Python > 자료형 > list > 메서드\n",
        "\n",
        "l = [10, 20, 30]\n",
        "dir(l)\n",
        "\n",
        "# Shift + Tab\n",
        "# Ctrl + [, Ctrl + ]"
      ],
      "metadata": {
        "id": "bHUDmN0AfpfL"
      },
      "execution_count": null,
      "outputs": []
    },
    {
      "cell_type": "code",
      "source": [
        "l.append(100)\n",
        "l"
      ],
      "metadata": {
        "colab": {
          "base_uri": "https://localhost:8080/"
        },
        "id": "-QU-nZzUgVsN",
        "outputId": "ef8ef1ea-0806-4deb-a957-5f61544cd8bb"
      },
      "execution_count": null,
      "outputs": [
        {
          "output_type": "execute_result",
          "data": {
            "text/plain": [
              "[10, 20, 30, 100]"
            ]
          },
          "metadata": {},
          "execution_count": 25
        }
      ]
    },
    {
      "cell_type": "code",
      "source": [
        "# 앞에다 넣는 방법 1\n",
        "l = [1000] + l\n",
        "\n",
        "# 앞에다 넣는 방법 2\n",
        "x = 10000\n",
        "l = [x] + l[:]\n",
        "\n",
        "# 앞에다 넣는 방법 3\n",
        "l.insert(0, 999)\n",
        "l"
      ],
      "metadata": {
        "colab": {
          "base_uri": "https://localhost:8080/"
        },
        "id": "dJiYoBkGgvhV",
        "outputId": "8256f0b5-f34d-447d-b331-7a2610c432df"
      },
      "execution_count": null,
      "outputs": [
        {
          "output_type": "execute_result",
          "data": {
            "text/plain": [
              "[1000, 10, 20, 30, 100]"
            ]
          },
          "metadata": {},
          "execution_count": 26
        }
      ]
    },
    {
      "cell_type": "code",
      "source": [
        "l = [10, 20, 30, 40]\n",
        "l.pop() # 뒤에서 값을 꺼내는 방법\n",
        "l"
      ],
      "metadata": {
        "colab": {
          "base_uri": "https://localhost:8080/"
        },
        "id": "vGaMCCCGhcs8",
        "outputId": "7adbf088-0a6f-4b83-d62c-b006257d153b"
      },
      "execution_count": null,
      "outputs": [
        {
          "output_type": "execute_result",
          "data": {
            "text/plain": [
              "[10, 20, 30]"
            ]
          },
          "metadata": {},
          "execution_count": 27
        }
      ]
    },
    {
      "cell_type": "code",
      "source": [
        "l = [10, 20, 30, 40]\n",
        "l.pop(0) # 앞에서 값을 꺼내는 방법\n",
        "l"
      ],
      "metadata": {
        "id": "_U9Fei4GklB7"
      },
      "execution_count": null,
      "outputs": []
    },
    {
      "cell_type": "code",
      "source": [
        "l = [10, 20, 30, 40]\n",
        "l[:-1]  # l = l[:-1]\n",
        "l[1:]   # l = l[1:]"
      ],
      "metadata": {
        "colab": {
          "base_uri": "https://localhost:8080/"
        },
        "id": "2ukRxkyPkw1U",
        "outputId": "a65b8a21-7212-4a9e-d1cb-8ea93c0bc656"
      },
      "execution_count": null,
      "outputs": [
        {
          "output_type": "execute_result",
          "data": {
            "text/plain": [
              "[20, 30, 40]"
            ]
          },
          "metadata": {},
          "execution_count": 28
        }
      ]
    },
    {
      "cell_type": "code",
      "source": [
        "l = [10, 20, 30, 40]\n",
        "l.index(20) # 리스트에서 find는 없음"
      ],
      "metadata": {
        "colab": {
          "base_uri": "https://localhost:8080/"
        },
        "id": "hhbpMD_TlB6E",
        "outputId": "e918a404-8eda-42db-86b8-8b2797bf11d8"
      },
      "execution_count": null,
      "outputs": [
        {
          "output_type": "execute_result",
          "data": {
            "text/plain": [
              "1"
            ]
          },
          "metadata": {},
          "execution_count": 29
        }
      ]
    },
    {
      "cell_type": "code",
      "source": [
        "# keep\n",
        "# index가 에러가 난다. error 없이 코드를 짜고 싶다.\n",
        "# 슬라이싱을 사용 => 슬라이싱은 index가 벗어나더라도 에러가 나지 않는다.\n",
        "\n",
        "l = [10, 20, 30, 40]\n",
        "l[100:101]"
      ],
      "metadata": {
        "colab": {
          "base_uri": "https://localhost:8080/"
        },
        "id": "c5wPL6xElP92",
        "outputId": "d097ee45-14d0-4fb2-a4e7-f18ff23e855a"
      },
      "execution_count": null,
      "outputs": [
        {
          "output_type": "execute_result",
          "data": {
            "text/plain": [
              "[]"
            ]
          },
          "metadata": {},
          "execution_count": 30
        }
      ]
    },
    {
      "cell_type": "code",
      "source": [
        "l = [10, 20, 30, 40]\n",
        "l.clear()\n",
        "l"
      ],
      "metadata": {
        "colab": {
          "base_uri": "https://localhost:8080/"
        },
        "id": "Dp25_CO_lg4c",
        "outputId": "be92ff97-c2a6-4010-fcd6-db416eea5fe7"
      },
      "execution_count": null,
      "outputs": [
        {
          "output_type": "execute_result",
          "data": {
            "text/plain": [
              "[]"
            ]
          },
          "metadata": {},
          "execution_count": 31
        }
      ]
    },
    {
      "cell_type": "code",
      "source": [
        "l = [10, 20, 30, 40]\n",
        "ll = l\n",
        "\n",
        "l[0] = 1000\n",
        "ll\n",
        "\n",
        "id(l), id(ll)\n",
        "l is ll"
      ],
      "metadata": {
        "colab": {
          "base_uri": "https://localhost:8080/"
        },
        "id": "6U3qTpOhlwiC",
        "outputId": "46fcfa3e-af79-4974-fd5c-e563273cf338"
      },
      "execution_count": null,
      "outputs": [
        {
          "output_type": "execute_result",
          "data": {
            "text/plain": [
              "True"
            ]
          },
          "metadata": {},
          "execution_count": 33
        }
      ]
    },
    {
      "cell_type": "code",
      "source": [
        "l = [10, 20, 30, 40]\n",
        "ll = l.copy()   # copy를 하면 두 리스트가 다른 값을 나타낸다\n",
        "\n",
        "l[0] = 1000\n",
        "l is ll"
      ],
      "metadata": {
        "colab": {
          "base_uri": "https://localhost:8080/"
        },
        "id": "4S13ASASmF56",
        "outputId": "1a0b27f2-2c51-4830-9b99-335a031cdce1"
      },
      "execution_count": null,
      "outputs": [
        {
          "output_type": "execute_result",
          "data": {
            "text/plain": [
              "False"
            ]
          },
          "metadata": {},
          "execution_count": 35
        }
      ]
    },
    {
      "cell_type": "code",
      "source": [
        "l = [10, 20, 30, 40]\n",
        "ll = l[:]   # copy를 하면 두 리스트가 다른 값을 나타낸다\n",
        "\n",
        "l[0] = 1000\n",
        "l is ll"
      ],
      "metadata": {
        "colab": {
          "base_uri": "https://localhost:8080/"
        },
        "id": "h3cuRjHDmYVD",
        "outputId": "bbad2026-ea7e-42b1-ad13-9c645f7c9087"
      },
      "execution_count": null,
      "outputs": [
        {
          "output_type": "execute_result",
          "data": {
            "text/plain": [
              "False"
            ]
          },
          "metadata": {},
          "execution_count": 36
        }
      ]
    },
    {
      "cell_type": "code",
      "source": [
        "l = [1, 1, 1, 2, 2, 2, 3, 3]\n",
        "l.count(1)"
      ],
      "metadata": {
        "colab": {
          "base_uri": "https://localhost:8080/"
        },
        "id": "qKaxi5-rm1XC",
        "outputId": "88591c44-9c2e-4200-e989-17d5b43e649f"
      },
      "execution_count": null,
      "outputs": [
        {
          "output_type": "execute_result",
          "data": {
            "text/plain": [
              "3"
            ]
          },
          "metadata": {},
          "execution_count": 37
        }
      ]
    },
    {
      "cell_type": "code",
      "source": [
        "l = ['1', '1', 1, 2, 2, 2, 3, 3]\n",
        "l.count(1)"
      ],
      "metadata": {
        "colab": {
          "base_uri": "https://localhost:8080/"
        },
        "id": "AQ_zpkPKnHFL",
        "outputId": "dd2f8a1a-b877-4250-b000-ba02645129d8"
      },
      "execution_count": null,
      "outputs": [
        {
          "output_type": "execute_result",
          "data": {
            "text/plain": [
              "1"
            ]
          },
          "metadata": {},
          "execution_count": 38
        }
      ]
    },
    {
      "cell_type": "code",
      "source": [
        "l = [10, 20, 30, 40]\n",
        "l.extend([50, 60])\n",
        "l"
      ],
      "metadata": {
        "colab": {
          "base_uri": "https://localhost:8080/"
        },
        "id": "-XbfxpY5nJZj",
        "outputId": "7845f2e6-ac32-49c1-dcd2-036f1438f393"
      },
      "execution_count": null,
      "outputs": [
        {
          "output_type": "execute_result",
          "data": {
            "text/plain": [
              "[10, 20, 30, 40, 50, 60]"
            ]
          },
          "metadata": {},
          "execution_count": 41
        }
      ]
    },
    {
      "cell_type": "code",
      "source": [
        "l = [10, 20, 30, 40]\n",
        "l.append([50, 60])  # 보통 이렇게 많이 사용됨\n",
        "l"
      ],
      "metadata": {
        "colab": {
          "base_uri": "https://localhost:8080/"
        },
        "id": "ReIup8gkpJwa",
        "outputId": "09afa289-dd51-4969-cc52-96152a8496e2"
      },
      "execution_count": null,
      "outputs": [
        {
          "output_type": "execute_result",
          "data": {
            "text/plain": [
              "[10, 20, 30, 40, [50, 60]]"
            ]
          },
          "metadata": {},
          "execution_count": 42
        }
      ]
    },
    {
      "cell_type": "code",
      "source": [
        "l = [10, 20, 30, 40]\n",
        "l.extend('hello')   # extend(보통리스트), extend(순회 가능한 객체)\n",
        "l"
      ],
      "metadata": {
        "id": "r8OBPCddpR2q"
      },
      "execution_count": null,
      "outputs": []
    },
    {
      "cell_type": "code",
      "source": [
        "l = [1, 1, 1, 1, 2, 2, 3, 3, 3]\n",
        "l.remove(1) # 맨 앞의 해당 요소를 제거\n",
        "l"
      ],
      "metadata": {
        "colab": {
          "base_uri": "https://localhost:8080/"
        },
        "id": "P1EleodwptZi",
        "outputId": "fc7660bb-fe0d-4ffb-86a2-0d64b8f65363"
      },
      "execution_count": null,
      "outputs": [
        {
          "output_type": "execute_result",
          "data": {
            "text/plain": [
              "[1, 1, 1, 2, 2, 3, 3, 3]"
            ]
          },
          "metadata": {},
          "execution_count": 43
        }
      ]
    },
    {
      "cell_type": "code",
      "source": [
        "# 보기만 하세요\n",
        "# 모든 요소를 filtering하고 싶을 때에는 remove가 아니라 filter라는 것을 사용\n",
        "# filter\n",
        "def f(x):\n",
        "    return x != 1\n",
        "\n",
        "l = [1, 1, 1, 1, 2, 2, 3, 3, 3]\n",
        "list(filter(f, l))"
      ],
      "metadata": {
        "colab": {
          "base_uri": "https://localhost:8080/"
        },
        "id": "hveeQTHtp7Uq",
        "outputId": "8d8f114f-5637-400b-e48a-55be71bd99a9"
      },
      "execution_count": null,
      "outputs": [
        {
          "output_type": "execute_result",
          "data": {
            "text/plain": [
              "[2, 2, 3, 3, 3]"
            ]
          },
          "metadata": {},
          "execution_count": 45
        }
      ]
    },
    {
      "cell_type": "code",
      "source": [
        "l = [1, 2, 3, 4, 9, 5, 6, 7]\n",
        "l.reverse()\n",
        "l   # 역 정렬은 아님    # 원본이 변함. (입력된 원본은 대부분 보존하려고 함)\n",
        "\n",
        "# 역순은 단순히 순서를 뒤집는 것이고\n",
        "# 역 정렬은 정렬의 역순입니다."
      ],
      "metadata": {
        "colab": {
          "base_uri": "https://localhost:8080/"
        },
        "id": "R9qs8lSsqyWZ",
        "outputId": "9651e903-e06c-43dd-d95f-a9706ea2e7d5"
      },
      "execution_count": null,
      "outputs": [
        {
          "output_type": "execute_result",
          "data": {
            "text/plain": [
              "[7, 6, 5, 9, 4, 3, 2, 1]"
            ]
          },
          "metadata": {},
          "execution_count": 47
        }
      ]
    },
    {
      "cell_type": "code",
      "source": [
        "l = [1, 2, 3, 4, 9, 5, 6, 7]\n",
        "list(reversed(l))   # reversed는 원본을 변경하지 않습니다."
      ],
      "metadata": {
        "colab": {
          "base_uri": "https://localhost:8080/"
        },
        "id": "S_a01ND3rG1x",
        "outputId": "a24eb699-aa7a-4f03-a714-d95a3a96d524"
      },
      "execution_count": null,
      "outputs": [
        {
          "output_type": "execute_result",
          "data": {
            "text/plain": [
              "[7, 6, 5, 9, 4, 3, 2, 1]"
            ]
          },
          "metadata": {},
          "execution_count": 48
        }
      ]
    },
    {
      "cell_type": "code",
      "source": [
        "l = [1, 2, 3, 4, 9, 5, 6, 7]\n",
        "l.sort()\n",
        "l.reverse()\n",
        "l   # 원본을 바꾸는 역정렬"
      ],
      "metadata": {
        "colab": {
          "base_uri": "https://localhost:8080/"
        },
        "id": "tRInYxCcrrZJ",
        "outputId": "5baf112a-d804-4ec7-8f2f-857e89269b70"
      },
      "execution_count": null,
      "outputs": [
        {
          "output_type": "execute_result",
          "data": {
            "text/plain": [
              "[9, 7, 6, 5, 4, 3, 2, 1]"
            ]
          },
          "metadata": {},
          "execution_count": 49
        }
      ]
    },
    {
      "cell_type": "code",
      "source": [
        "# sorted는 잊으셔도 됩니다. l.sort만 기억하세요.\n",
        "l = [1, 2, 3, 4, 9, 5, 6, 7]\n",
        "sorted(l) # sorted 원본을 변경하지 않습니다."
      ],
      "metadata": {
        "id": "ZcHqIlSTs3W7"
      },
      "execution_count": null,
      "outputs": []
    },
    {
      "cell_type": "code",
      "source": [
        "# sort, sorted, reverse, reversed\n",
        "# 옵션 값은 함수를 배워야 더 고급 문법이 가능함"
      ],
      "metadata": {
        "id": "IYGjgr0-tMzX"
      },
      "execution_count": null,
      "outputs": []
    },
    {
      "cell_type": "code",
      "source": [
        "# 어떻게 사용되는지만 체크! (뒤에서 다시 하겠습니다.)\n",
        "# 국어 점수가 가장 높은 순으로 정렬해주세요.\n",
        "# 국, 영, 수, 이름\n",
        "s = [[100, 87, 91, '이호준'], [56, 38, 89, '이준호'], [33, 86, 100, '홍길동']]\n",
        "\n",
        "def f(x):\n",
        "    return x[0]\n",
        "\n",
        "sorted(s, key=f)\n",
        "sorted(s, key=f, reverse=True)"
      ],
      "metadata": {
        "id": "O_UTo7Vqvj0X"
      },
      "execution_count": null,
      "outputs": []
    }
  ]
}