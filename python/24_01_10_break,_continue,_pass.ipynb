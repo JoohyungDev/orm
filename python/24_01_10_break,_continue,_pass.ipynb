{
  "nbformat": 4,
  "nbformat_minor": 0,
  "metadata": {
    "colab": {
      "provenance": []
    },
    "kernelspec": {
      "name": "python3",
      "display_name": "Python 3"
    },
    "language_info": {
      "name": "python"
    }
  },
  "cells": [
    {
      "cell_type": "markdown",
      "source": [
        "* break은 종료\n",
        "* continue는 바로 다음 반복실행"
      ],
      "metadata": {
        "id": "hWJKVywIBqJo"
      }
    },
    {
      "cell_type": "code",
      "execution_count": 1,
      "metadata": {
        "colab": {
          "base_uri": "https://localhost:8080/"
        },
        "id": "x8tGNM2j_St1",
        "outputId": "a7c459c0-c1c0-4d5b-b3a0-732c1267f9f4"
      },
      "outputs": [
        {
          "output_type": "stream",
          "name": "stdout",
          "text": [
            "0, 0\n",
            "0, 1\n",
            "0, 2\n"
          ]
        }
      ],
      "source": [
        "switch = 0\n",
        "for i in range(5):\n",
        "    if switch == 1:\n",
        "        break\n",
        "    for j in range(5):\n",
        "        if j == 3:\n",
        "            switch = 1\n",
        "            break\n",
        "        print(f'{i}, {j}')"
      ]
    },
    {
      "cell_type": "code",
      "source": [
        "# https://peps.python.org/pep-3136/\n",
        "\n",
        "try:\n",
        "    for i in range(2, 10):\n",
        "        for j in range(1, 10):\n",
        "            if j == 3:\n",
        "                raise StopIteration\n",
        "            print(f'{i} X {j} = {i*j}')\n",
        "except StopIteration:\n",
        "    print(\"Done\")"
      ],
      "metadata": {
        "colab": {
          "base_uri": "https://localhost:8080/"
        },
        "id": "VgwU2zhuAP3R",
        "outputId": "af929cd0-3ea3-4ffe-e6b0-0f58303f12f2"
      },
      "execution_count": 2,
      "outputs": [
        {
          "output_type": "stream",
          "name": "stdout",
          "text": [
            "2 X 1 = 2\n",
            "2 X 2 = 4\n",
            "Done\n"
          ]
        }
      ]
    }
  ]
}